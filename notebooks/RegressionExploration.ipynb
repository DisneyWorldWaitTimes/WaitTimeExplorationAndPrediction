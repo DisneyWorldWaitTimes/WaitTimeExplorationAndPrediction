{
 "cells": [
  {
   "cell_type": "code",
   "execution_count": 1,
   "metadata": {},
   "outputs": [],
   "source": [
    "import warnings\n",
    "warnings.filterwarnings('ignore')\n",
    "\n",
    "import importlib.util\n",
    "from sklearn.linear_model import Ridge, RidgeCV, BayesianRidge\n",
    "from sklearn.preprocessing import MinMaxScaler\n",
    "from sklearn.preprocessing import StandardScaler\n",
    "from sklearn.feature_selection import VarianceThreshold, SelectKBest, f_regression\n",
    "\n",
    "from sklearn.model_selection import cross_val_score, RandomizedSearchCV, RepeatedKFold, GridSearchCV\n",
    "\n",
    "from sklearn import metrics\n",
    "from sklearn.dummy import DummyRegressor\n",
    "\n",
    "from sklearn.ensemble import RandomForestRegressor\n",
    "\n",
    "import xgboost as xg\n",
    "\n",
    "\n",
    "import numpy as np\n",
    "import pandas as pd\n",
    "import pickle\n",
    "from collections import Counter\n",
    "\n",
    "import altair as alt\n",
    "from scipy.stats import skew\n",
    "from sklearn.feature_selection import SelectFromModel\n"
   ]
  },
  {
   "cell_type": "markdown",
   "metadata": {},
   "source": [
    "# Set Up\n",
    "\n",
    "Top 50 Features for one run of the Random Forest Regressor"
   ]
  },
  {
   "cell_type": "code",
   "execution_count": 2,
   "metadata": {
    "tags": []
   },
   "outputs": [],
   "source": [
    "top50 = ['HOUROFDAY', 'Age_of_ride_years', 'Age_of_ride_days', 'TL_rank',\n",
    "       'Ride_duration_min', \"Ride_name_walt disney's carousel of progress\",\n",
    "       'MKEMHCLOSE_HOUR', 'Temperature (C)', 'MKOPEN_HOUR', 'Wind Angle',\n",
    "       'CapacityLostWGT_MK', 'Wind Speed', 'WDW_TICKET_SEASON_none',\n",
    "       'Ride_name_prince charming regal carrousel', 'Cloud Height',\n",
    "       'CapacityLost_EP', 'CapacityLostWGT_EP', 'WDWMINTEMP', 'WDWMAXTEMP',\n",
    "       'WDWMEANTEMP', 'WEATHER_WDWLOW', 'Park_area_fantasyland',\n",
    "       'CapacityLost_MK',\n",
    "       'Ride_name_tomorrowland transit authority peoplemover', 'HOLIDAYPX',\n",
    "       'DAYOFYEAR', 'MKeventN_dah', 'MKEMHMORN', 'WEATHER_WDWHIGH',\n",
    "       'MKCLOSE_HOUR', 'DAYOFWEEK', 'Visibility Distance (M)',\n",
    "       'MKFIREN_happy hallowishes fireworks', 'MKHOURSEMH',\n",
    "       'Park_area_tomorrowland', 'YEAR', 'Ride_name_jungle cruise',\n",
    "       'MKFIREN_happily ever after', 'MKEMHOPEN_HOUR', 'MKHOURSEMHYEST',\n",
    "       'MKHOURS', 'Height_req_inches', 'inSession', 'MKHOURSEMHTOM',\n",
    "       'new_case', 'Ride_type_dark', 'MKFIRET1_HOUR',\n",
    "       'Cloud Quality Code_passed all quality control checks, data originate from an ncei data source',\n",
    "       'MKEMHEVE', 'Ride_type_small_drops']"
   ]
  },
  {
   "cell_type": "markdown",
   "metadata": {},
   "source": [
    "Time columns that need to be converted to integer hour:"
   ]
  },
  {
   "cell_type": "code",
   "execution_count": 3,
   "metadata": {
    "tags": []
   },
   "outputs": [],
   "source": [
    "parse_times = [\"MKOPEN\", \"MKCLOSE\", \"MKEMHOPEN\", \"MKEMHCLOSE\",\n",
    "               \"MKOPENYEST\", \"MKCLOSEYEST\", \"MKOPENTOM\",\n",
    "               \"MKCLOSETOM\",\"EPOPEN\", \"EPCLOSE\", \"EPEMHOPEN\",\n",
    "               \"EPEMHCLOSE\", \"EPOPENYEST\", \"EPCLOSEYEST\",\n",
    "               \"EPOPENTOM\", \"EPCLOSETOM\", \"HSOPEN\", \"HSCLOSE\",\n",
    "               \"HSEMHOPEN\", \"HSEMHCLOSE\", \"HSOPENYEST\", \"HSCLOSEYEST\",\n",
    "               \"HSOPENTOM\", \"HSCLOSETOM\", \"AKOPEN\", \"AKCLOSE\",\n",
    "               \"AKEMHOPEN\", \"AKOPENYEST\", \"AKCLOSEYEST\",\"AKEMHCLOSE\",\n",
    "               \"AKOPENTOM\", \"AKCLOSETOM\", \"MKPRDDT1\", \"MKPRDDT2\",\n",
    "               \"MKPRDNT1\", \"MKPRDNT2\", \"MKFIRET1\", \"MKFIRET2\",\n",
    "               \"EPFIRET1\", \"EPFIRET2\", \"HSPRDDT1\", \"HSFIRET1\",\n",
    "               \"HSFIRET2\", \"HSSHWNT1\", \"HSSHWNT2\", \"AKPRDDT1\",\n",
    "               \"AKPRDDT2\", \"AKSHWNT1\", \"AKSHWNT2\"]"
   ]
  },
  {
   "cell_type": "markdown",
   "metadata": {},
   "source": [
    "# Load posted wait time datasets"
   ]
  },
  {
   "cell_type": "code",
   "execution_count": 4,
   "metadata": {},
   "outputs": [],
   "source": [
    "# specify the module that needs to be\n",
    "# imported relative to the path of the\n",
    "# module\n",
    "spec = importlib.util.spec_from_file_location(\"loadTrainTestPostedWaitTimes\", \"../src/data/loadTrainTestData.py\")\n",
    "\n",
    "# creates a new module based on spec\n",
    "loadTrainPosted = importlib.util.module_from_spec(spec)\n",
    "\n",
    "# executes the module in its own namespace\n",
    "# when a module is imported or reloaded.\n",
    "spec.loader.exec_module(loadTrainPosted)\n",
    "\n",
    "X_train, X_test, y_train, y_test = loadTrainPosted.loadTrainTestPostedWaitTimes()"
   ]
  },
  {
   "cell_type": "markdown",
   "metadata": {},
   "source": [
    "### Convert key data points from date to integer"
   ]
  },
  {
   "cell_type": "code",
   "execution_count": 5,
   "metadata": {},
   "outputs": [],
   "source": [
    "X_train[\"MONTHOFYEAR\"] = X_train[\"date\"].dt.month.astype(\"Int8\")\n",
    "X_train[\"YEAR\"] = X_train[\"date\"].dt.year.astype(\"Int16\")\n",
    "X_train[\"DAYOFYEAR\"] = X_train[\"date\"].dt.dayofyear.astype(\"Int16\")\n",
    "X_train[\"HOUROFDAY\"] = X_train[\"datetime\"].dt.hour.astype(\"Int8\")\n",
    "\n",
    "X_test[\"MONTHOFYEAR\"] = X_test[\"date\"].dt.month.astype(\"Int8\")\n",
    "X_test[\"YEAR\"] = X_test[\"date\"].dt.year.astype(\"Int16\")\n",
    "X_test[\"DAYOFYEAR\"] = X_test[\"date\"].dt.dayofyear.astype(\"Int16\")\n",
    "X_test[\"HOUROFDAY\"] = X_test[\"datetime\"].dt.hour.astype(\"Int8\")"
   ]
  },
  {
   "cell_type": "markdown",
   "metadata": {},
   "source": [
    "### Sort by datetime before imputation (keeping y-values associated)"
   ]
  },
  {
   "cell_type": "code",
   "execution_count": 6,
   "metadata": {},
   "outputs": [],
   "source": [
    "train = pd.concat([X_train, y_train], axis=1).sort_values(['datetime'])\n",
    "test = pd.concat([X_test, y_test], axis=1).sort_values(['datetime'])"
   ]
  },
  {
   "cell_type": "code",
   "execution_count": 7,
   "metadata": {
    "tags": []
   },
   "outputs": [],
   "source": [
    "X_train_impute = train.drop(columns=[\"POSTED_WAIT\"])\n",
    "y_train = train[\"POSTED_WAIT\"]\n",
    "\n",
    "X_test_impute = test.drop(columns=[\"POSTED_WAIT\"])\n",
    "y_test = test[\"POSTED_WAIT\"]"
   ]
  },
  {
   "cell_type": "code",
   "execution_count": 8,
   "metadata": {},
   "outputs": [],
   "source": [
    "# del train, test"
   ]
  },
  {
   "cell_type": "markdown",
   "metadata": {},
   "source": [
    "### Many open/close times, parade times, etc. are in HH:MM format. \n",
    "\n",
    "Convert to integer hour & fill nulls with 99.\n",
    "\n",
    "This means that particulate event does not exist for that day. (e.g. Magic Kingdom doesn't have a second parade)"
   ]
  },
  {
   "cell_type": "code",
   "execution_count": 9,
   "metadata": {},
   "outputs": [],
   "source": [
    "for col in parse_times:\n",
    "    X_train_impute[col] =  X_train_impute[col].fillna(\"99\")\n",
    "    X_train_impute[f\"{col}_HOUR\"] = X_train_impute[col].apply(lambda x: x[:2] if x[0]!=0 else x[:1]).astype(int).astype(\"Int8\")\n",
    "    X_train_impute.drop(columns = col, inplace=True)"
   ]
  },
  {
   "cell_type": "code",
   "execution_count": 10,
   "metadata": {},
   "outputs": [],
   "source": [
    "for col in parse_times:\n",
    "    X_test_impute[col] =  X_test_impute[col].fillna(\"99\")\n",
    "    X_test_impute[f\"{col}_HOUR\"] = X_test_impute[col].apply(lambda x: x[:2] if x[0]!=0 else x[:1]).astype(int).astype(\"Int8\")\n",
    "    X_test_impute.drop(columns = col, inplace=True)"
   ]
  },
  {
   "cell_type": "markdown",
   "metadata": {},
   "source": [
    "### Data Imputation\n",
    "\n",
    "First impute by backfilling values. For any remaining nulls, impute the median."
   ]
  },
  {
   "cell_type": "code",
   "execution_count": 11,
   "metadata": {},
   "outputs": [
    {
     "name": "stdout",
     "output_type": "stream",
     "text": [
      "WDWMAXTEMP\n",
      "WDWMINTEMP\n",
      "WDWMEANTEMP\n",
      "inSession\n",
      "inSession_Enrollment\n",
      "inSession_wdw\n",
      "inSession_dlr\n",
      "inSession_sqrt_WDW\n",
      "inSession_sqrt_DLR\n",
      "inSession_California\n",
      "inSession_DC\n",
      "inSession_Central_FL\n",
      "inSession_Drive1_FL\n",
      "inSession_Drive2_FL\n",
      "inSession_Drive_CA\n",
      "inSession_Florida\n",
      "inSession_Mardi_Gras\n",
      "inSession_Midwest\n",
      "inSession_NY_NJ\n",
      "inSession_NY_NJ_PA\n",
      "inSession_New_England\n",
      "inSession_New_Jersey\n",
      "inSession_Nothwest\n",
      "INSESSION_PLANES\n",
      "inSession_SoCal\n",
      "inSession_Southwest\n"
     ]
    }
   ],
   "source": [
    "for col in X_train_impute.columns:\n",
    "    nulls = X_train_impute[col].isnull().sum()\n",
    "    \n",
    "    if nulls>0:\n",
    "        print(col)\n",
    "        X_train_impute[col].fillna(method ='bfill', inplace=True)\n",
    "    \n",
    "        if X_train_impute[col].isnull().sum()>0:\n",
    "            X_train_impute[col].fillna(X_train_impute[col].median(), inplace=True)"
   ]
  },
  {
   "cell_type": "code",
   "execution_count": 12,
   "metadata": {},
   "outputs": [
    {
     "name": "stdout",
     "output_type": "stream",
     "text": [
      "WDWMAXTEMP\n",
      "WDWMINTEMP\n",
      "WDWMEANTEMP\n",
      "inSession\n",
      "inSession_Enrollment\n",
      "inSession_wdw\n",
      "inSession_dlr\n",
      "inSession_sqrt_WDW\n",
      "inSession_sqrt_DLR\n",
      "inSession_California\n",
      "inSession_DC\n",
      "inSession_Central_FL\n",
      "inSession_Drive1_FL\n",
      "inSession_Drive2_FL\n",
      "inSession_Drive_CA\n",
      "inSession_Florida\n",
      "inSession_Mardi_Gras\n",
      "inSession_Midwest\n",
      "inSession_NY_NJ\n",
      "inSession_NY_NJ_PA\n",
      "inSession_New_England\n",
      "inSession_New_Jersey\n",
      "inSession_Nothwest\n",
      "INSESSION_PLANES\n",
      "inSession_SoCal\n",
      "inSession_Southwest\n"
     ]
    }
   ],
   "source": [
    "for col in X_test_impute.columns:\n",
    "    nulls = X_test_impute[col].isnull().sum()\n",
    "    \n",
    "    if nulls>0:\n",
    "        print(col)\n",
    "        X_test_impute[col]= X_test_impute[col].fillna(method ='bfill')\n",
    "        \n",
    "        if X_test_impute[col].isnull().sum()>0:\n",
    "            X_test_impute[col].fillna(X_test_impute[col].median(), inplace=True)"
   ]
  },
  {
   "cell_type": "markdown",
   "metadata": {},
   "source": [
    "### Drop Datetime columns - no longer needed"
   ]
  },
  {
   "cell_type": "code",
   "execution_count": 13,
   "metadata": {},
   "outputs": [],
   "source": [
    "X_train_encoded = X_train_impute.drop(columns=['date', 'datetime', 'Unnamed: 0'])\n",
    "X_test_encoded = X_test_impute.drop(columns=['date', 'datetime', 'Unnamed: 0'])"
   ]
  },
  {
   "cell_type": "code",
   "execution_count": 14,
   "metadata": {},
   "outputs": [],
   "source": [
    "del X_train_impute, X_test_impute"
   ]
  },
  {
   "cell_type": "markdown",
   "metadata": {},
   "source": [
    "### Use variance threshold to drop more boolean columns.\n",
    "\n",
    "These columns are more than 99.9% similar."
   ]
  },
  {
   "cell_type": "code",
   "execution_count": 15,
   "metadata": {},
   "outputs": [
    {
     "name": "stdout",
     "output_type": "stream",
     "text": [
      "DROPPING BOOL:  ['HOLIDAYN_ash|val', 'HOLIDAYN_chv|pas', 'HOLIDAYN_cmd|han', 'HOLIDAYN_col|suk', 'HOLIDAYN_hal|nvd', 'HOLIDAYN_njc|vet', 'MKeventN_dah|emm', 'HSeventN_wdwsotf', \"HSFIREN_disney's hollywood studios special july 4th fireworks presentation\", \"HSFIREN_new year's eve fireworks\", 'Wind Speed Quality_a', 'Wind Speed Quality_p', 'Wind Speed Quality_passed gross limits check if element is present', 'Cloud Quality Code_erroneous, data originate from an ncei data source', 'Cloud Determination Code_statistically derived', 'Visibiliy Quality Code_p', 'Visibility Variability Code_variable', 'Temperature Quality Code_suspect, data originate from an ncei data source']\n"
     ]
    }
   ],
   "source": [
    "X_dtype = X_train_encoded.select_dtypes(include=['bool']).reset_index(drop=True)\n",
    "\n",
    "var_thr = VarianceThreshold(threshold=0.001)  # Removing both constant and quasi-constant\n",
    "var_thr.fit(X_dtype)\n",
    "\n",
    "concol = [column for column in X_dtype.columns\n",
    "          if column not in X_dtype.columns[var_thr.get_support()]]\n",
    "\n",
    "\n",
    "del var_thr, X_dtype\n",
    "\n",
    "if \"Weather Type\" in concol:\n",
    "    concol.remove(\"Weather Type\")\n",
    "\n",
    "print(f\"DROPPING BOOL: \", concol)\n",
    "X_train_encoded.drop(concol, axis=1, inplace=True)\n",
    "X_test_encoded.drop(concol, axis=1, inplace=True)"
   ]
  },
  {
   "cell_type": "markdown",
   "metadata": {},
   "source": [
    "### Data Scaling & Transformation\n",
    "\n",
    "Log Transform skewed numeric columns & then apply StandardScaler to scale numeric columns."
   ]
  },
  {
   "cell_type": "code",
   "execution_count": 16,
   "metadata": {},
   "outputs": [],
   "source": [
    "scaler = MinMaxScaler()\n",
    "\n",
    "\n",
    "X_dtype_train = X_train_encoded.select_dtypes(include=[np.number]).reset_index(drop=True)\n",
    "num_cols = list(X_dtype_train.columns)\n",
    "\n",
    "X_dtype_test = X_test_encoded.select_dtypes(include=[np.number]).reset_index(drop=True)"
   ]
  },
  {
   "cell_type": "code",
   "execution_count": 17,
   "metadata": {
    "tags": []
   },
   "outputs": [
    {
     "name": "stdout",
     "output_type": "stream",
     "text": [
      "Ride_duration_min\n",
      "HOLIDAYPX\n",
      "HOLIDAYM\n",
      "WDWMAXTEMP\n",
      "inSession_SoCal\n",
      "CapacityLost_HS\n",
      "CapacityLost_AK\n",
      "CapacityLostWGT_HS\n",
      "CapacityLostWGT_AK\n",
      "MKPRDDAY\n",
      "MKFIREWK\n",
      "EPFIREWK\n",
      "new_case\n",
      "Wind Angle\n",
      "Wind Speed\n",
      "Cloud Height\n",
      "Visibility Distance (M)\n",
      "MKOPEN_HOUR\n",
      "MKCLOSE_HOUR\n",
      "MKOPENYEST_HOUR\n",
      "MKCLOSEYEST_HOUR\n",
      "MKOPENTOM_HOUR\n",
      "MKCLOSETOM_HOUR\n",
      "EPOPEN_HOUR\n",
      "EPCLOSE_HOUR\n",
      "EPEMHOPEN_HOUR\n",
      "EPEMHCLOSE_HOUR\n",
      "EPOPENYEST_HOUR\n",
      "EPCLOSEYEST_HOUR\n",
      "EPOPENTOM_HOUR\n",
      "EPCLOSETOM_HOUR\n",
      "HSOPEN_HOUR\n",
      "HSCLOSE_HOUR\n",
      "HSEMHOPEN_HOUR\n",
      "HSEMHCLOSE_HOUR\n",
      "HSOPENYEST_HOUR\n",
      "HSCLOSEYEST_HOUR\n",
      "HSOPENTOM_HOUR\n",
      "HSCLOSETOM_HOUR\n",
      "AKOPEN_HOUR\n",
      "AKCLOSE_HOUR\n",
      "AKOPENYEST_HOUR\n",
      "AKCLOSEYEST_HOUR\n",
      "AKOPENTOM_HOUR\n",
      "AKCLOSETOM_HOUR\n",
      "MKPRDDT1_HOUR\n",
      "MKPRDDT2_HOUR\n",
      "MKFIRET1_HOUR\n",
      "MKFIRET2_HOUR\n",
      "EPFIRET1_HOUR\n",
      "EPFIRET2_HOUR\n",
      "HSFIRET1_HOUR\n",
      "HSFIRET2_HOUR\n",
      "HSSHWNT1_HOUR\n"
     ]
    }
   ],
   "source": [
    "skewed_cols = []\n",
    "for col in X_dtype_train.columns:\n",
    "    skewness = abs(skew(list(X_dtype_train[col])))\n",
    "    if skewness > 1:\n",
    "        print(col)\n",
    "        X_dtype_train[f\"log_{col}\"] = np.log(X_dtype_train[col].astype(float).apply(lambda x: x+5))\n",
    "        X_dtype_test[f\"log_{col}\"] = np.log(X_dtype_test[col].astype(float).apply(lambda x: x+5))                                         \n",
    "        skewed_cols.append(col)\n",
    "\n",
    "X_dtype_train.drop(columns=skewed_cols, inplace=True)\n",
    "X_dtype_test.drop(columns=skewed_cols, inplace=True)"
   ]
  },
  {
   "cell_type": "code",
   "execution_count": 18,
   "metadata": {},
   "outputs": [],
   "source": [
    "scaler = MinMaxScaler()\n",
    "X_train_norm = scaler.fit_transform(X_dtype_train)\n",
    "X_test_norm = scaler.transform(X_dtype_test)\n",
    "\n",
    "X_train_encoded[num_cols] = X_train_norm\n",
    "X_test_encoded[num_cols] = X_test_norm"
   ]
  },
  {
   "cell_type": "code",
   "execution_count": null,
   "metadata": {},
   "outputs": [],
   "source": [
    "del X_train_norm, X_test_norm, X_dtype_train, X_dtype_test"
   ]
  },
  {
   "cell_type": "markdown",
   "metadata": {},
   "source": [
    "# Dummy Regression - Baseline"
   ]
  },
  {
   "cell_type": "code",
   "execution_count": 16,
   "metadata": {},
   "outputs": [],
   "source": [
    "lm_dummy_mean = DummyRegressor(strategy = 'mean').fit(X_train_encoded, y_train)\n",
    "y_predict_dummy_mean = lm_dummy_mean.predict(X_test_encoded)"
   ]
  },
  {
   "cell_type": "code",
   "execution_count": 17,
   "metadata": {},
   "outputs": [
    {
     "name": "stdout",
     "output_type": "stream",
     "text": [
      "DUMMY REGRESSOR - MEAN\n",
      "Mean Absolute Error (MAE): 162.50162595558666\n",
      "Mean Squared Error (MSE): 84570.05314900333\n",
      "Root Mean Squared Error (RMSE): 290.8093071911615\n"
     ]
    }
   ],
   "source": [
    "print(\"DUMMY REGRESSOR - MEAN\")\n",
    "\n",
    "print('Mean Absolute Error (MAE):', metrics.mean_absolute_error(y_test, y_predict_dummy_mean))\n",
    "print('Mean Squared Error (MSE):', metrics.mean_squared_error(y_test, y_predict_dummy_mean))\n",
    "print('Root Mean Squared Error (RMSE):', np.sqrt(metrics.mean_squared_error(y_test, y_predict_dummy_mean)))"
   ]
  },
  {
   "cell_type": "code",
   "execution_count": 18,
   "metadata": {},
   "outputs": [],
   "source": [
    "lm_dummy_median = DummyRegressor(strategy = 'median').fit(X_train_encoded, y_train)\n",
    "y_predict_dummy_median = lm_dummy_median.predict(X_test_encoded)"
   ]
  },
  {
   "cell_type": "code",
   "execution_count": 19,
   "metadata": {},
   "outputs": [
    {
     "name": "stdout",
     "output_type": "stream",
     "text": [
      "DUMMY REGRESSOR - MEDIAN\n",
      "Mean Absolute Error (MAE): 106.54793720058697\n",
      "Mean Squared Error (MSE): 91049.30566297466\n",
      "Root Mean Squared Error (RMSE): 301.7437748537236\n"
     ]
    }
   ],
   "source": [
    "print(\"DUMMY REGRESSOR - MEDIAN\")\n",
    "\n",
    "print('Mean Absolute Error (MAE):', metrics.mean_absolute_error(y_test, y_predict_dummy_median))\n",
    "print('Mean Squared Error (MSE):', metrics.mean_squared_error(y_test, y_predict_dummy_median))\n",
    "print('Root Mean Squared Error (RMSE):', np.sqrt(metrics.mean_squared_error(y_test, y_predict_dummy_median)))"
   ]
  },
  {
   "cell_type": "markdown",
   "metadata": {},
   "source": [
    "# Ridge Regression Grid Search on Alpha"
   ]
  },
  {
   "cell_type": "code",
   "execution_count": 34,
   "metadata": {},
   "outputs": [],
   "source": [
    "linRidge = RidgeCV(alphas=[1e-1, 1, 10], scoring='neg_mean_absolute_error').fit(X_train_encoded, y_train)"
   ]
  },
  {
   "cell_type": "code",
   "execution_count": 37,
   "metadata": {
    "tags": []
   },
   "outputs": [],
   "source": [
    "predLinRidge = linRidge.predict(X_test_encoded)"
   ]
  },
  {
   "cell_type": "code",
   "execution_count": 39,
   "metadata": {},
   "outputs": [
    {
     "name": "stdout",
     "output_type": "stream",
     "text": [
      "RIDGE REGRESSION GRID SEARCH: \n",
      "Mean Absolute Error (MAE): 141.44605525583378\n",
      "Mean Squared Error (MSE): 69929.3386858671\n",
      "Root Mean Squared Error (RMSE): 264.4415600579211\n"
     ]
    }
   ],
   "source": [
    "print(\"RIDGE REGRESSION GRID SEARCH: \")\n",
    "print('Mean Absolute Error (MAE):', metrics.mean_absolute_error(y_test, predLinRidge))\n",
    "print('Mean Squared Error (MSE):', metrics.mean_squared_error(y_test, predLinRidge))\n",
    "print('Root Mean Squared Error (RMSE):', np.sqrt(metrics.mean_squared_error(y_test, predLinRidge)))"
   ]
  },
  {
   "cell_type": "code",
   "execution_count": null,
   "metadata": {},
   "outputs": [],
   "source": [
    "del linRidge"
   ]
  },
  {
   "cell_type": "markdown",
   "metadata": {},
   "source": [
    "# Random Forest Regression\n",
    "\n",
    "Doing grid search manually because GCP throws TerminatedWorkerError and local throws memory error with GridSearchCV:"
   ]
  },
  {
   "cell_type": "code",
   "execution_count": null,
   "metadata": {},
   "outputs": [
    {
     "name": "stdout",
     "output_type": "stream",
     "text": [
      "STARTING 10, 10\n",
      "{'10_10': {'mae': 82.09963841166338, 'mse': 42038.141302517135, 'rmse': 205.03204945207258, 'r2': 0.5029192990046908}}\n",
      "Index(['Park_area_frontierland', 'Wind Speed Quality_a',\n",
      "       'MKPRDNN_main street electrical parade', 'inSession', 'HSOPENTOM',\n",
      "       'DAYOFYEAR', 'WDWeventN_probowl', 'HOLIDAYN_mgs',\n",
      "       'AKSHWNN_rivers of light', 'EPeventN_ephol', 'EPeventN_epfw',\n",
      "       'Ride_type_small_drops', 'Ride_type_slow', 'HSevent',\n",
      "       'CapacityLostWGT_EP', 'EPEMHEVE', 'Park_area_liberty square',\n",
      "       'WDWeventN_wdwdd|wdwhol', 'inSession_NY_NJ', 'Wind Speed Quality_p',\n",
      "       'Age_of_ride_years', 'Ride_name_dumbo the flying elephant', 'MKEMHMORN',\n",
      "       'WDWSEASON_thanksgiving', 'EPCLOSEYEST', 'WDWSEASON_christmas',\n",
      "       'EPEMHOPEN', 'MKCLOSETOM', 'MKHOURSYEST', 'Age_of_ride_days',\n",
      "       'MKeventN_mvmcp', 'INSESSION_PLANES', 'MKFIREN_happily ever after',\n",
      "       'MKOPENYEST', 'MKeventN_mnsshp', 'HOLIDAYN_lab',\n",
      "       'WDWSEASON_september low', 'WDWSEASON_memorial day', 'MKCLOSEYEST',\n",
      "       'WDWSEASON_columbus day', 'HSHOURSYEST', 'AKOPEN',\n",
      "       'MKFIREN_fantasy in the sky fireworks', 'EPHOURSYEST', 'MKOPENTOM',\n",
      "       'Age_interest_teens', 'Age_interest_adults', 'WDWSEASON_none',\n",
      "       'Height_req_inches', 'EPOPENYEST'],\n",
      "      dtype='object')\n",
      "STARTING 10, 50\n",
      "{'10_10': {'mae': 82.09963841166338, 'mse': 42038.141302517135, 'rmse': 205.03204945207258, 'r2': 0.5029192990046908}, '10_50': {'mae': 32.600568224788105, 'mse': 14949.694108509619, 'rmse': 122.26894171665026, 'r2': 0.8232270933758329}}\n",
      "Index(['HSEMHEVE', 'Ride_duration_min', 'Wind Speed Quality_p', 'EPEMHEVE',\n",
      "       'HSEMHEYEST', 'Ride_type_slow', 'inSession_New_England',\n",
      "       'MKPRDNN_main street electrical parade', 'MONTHOFYEAR',\n",
      "       'Age_interest_tweens', 'MKHOURSYEST', 'WDWSEASON_thanksgiving',\n",
      "       'inSession_NY_NJ_PA', 'EPCLOSEYEST', 'inSession',\n",
      "       'WDWeventN_wdwdd|wdwhol', 'MKCLOSETOM', 'inSession_NY_NJ',\n",
      "       'MKFIREN_disney's not so spooky spectacular', 'MKeventN_mvmcp',\n",
      "       'MKeventN_mnsshp', 'MKEMHCLOSE', 'MKFIREN_happily ever after',\n",
      "       'HOLIDAYN_lab', 'Age_of_ride_days', 'INSESSION_PLANES', 'HSOPENTOM',\n",
      "       'Age_of_ride_years', 'WDWSEASON_memorial day',\n",
      "       'WDWSEASON_september low', 'MKOPENYEST', 'WEEKOFYEAR', 'HSHOURSTOM',\n",
      "       'DAYOFYEAR', 'MKCLOSEYEST',\n",
      "       'MKFIREN_disney's celebrate america! - a fourth of july concert in the sky',\n",
      "       'WDWSEASON_columbus day', 'AKOPEN', 'MKPRDNN_none', 'HSHOURSYEST',\n",
      "       'MKPRDNN_mickey's \"boo-to-you\" halloween parade',\n",
      "       'MKFIREN_fantasy in the sky fireworks', 'EPEMHOPEN', 'EPHOURSYEST',\n",
      "       'MKOPENTOM', 'WDWSEASON_none', 'Age_interest_adults',\n",
      "       'Height_req_inches', 'Age_interest_teens', 'EPOPENYEST'],\n",
      "      dtype='object')\n",
      "STARTING 10, None\n",
      "{'10_10': {'mae': 82.09963841166338, 'mse': 42038.141302517135, 'rmse': 205.03204945207258, 'r2': 0.5029192990046908}, '10_50': {'mae': 32.600568224788105, 'mse': 14949.694108509619, 'rmse': 122.26894171665026, 'r2': 0.8232270933758329}, '10_None': {'mae': 32.55409125934913, 'mse': 14945.630929997233, 'rmse': 122.2523248449584, 'r2': 0.8232751384977299}}\n",
      "Index(['EPEMHETOM', 'Ride_duration_min', 'HSEMHEVE', 'Wind Speed Quality_p',\n",
      "       'Ride_name_dumbo the flying elephant', 'MKCLOSETOM', 'Ride_type_slow',\n",
      "       'inSession_New_England', 'HSEMHEYEST',\n",
      "       'MKPRDNN_main street electrical parade', 'inSession_NY_NJ_PA',\n",
      "       'Age_interest_tweens', 'WDWSEASON_thanksgiving', 'MONTHOFYEAR',\n",
      "       'EPCLOSEYEST', 'WDWeventN_wdwdd|wdwhol', 'inSession_NY_NJ',\n",
      "       'MKFIREN_disney's not so spooky spectacular', 'MKHOURSYEST',\n",
      "       'MKeventN_mvmcp', 'MKeventN_mnsshp', 'MKEMHCLOSE',\n",
      "       'MKFIREN_happily ever after', 'HOLIDAYN_lab', 'Age_of_ride_days',\n",
      "       'Age_of_ride_years', 'INSESSION_PLANES', 'HSOPENTOM',\n",
      "       'WDWSEASON_memorial day', 'WDWSEASON_september low', 'MKOPENYEST',\n",
      "       'WEEKOFYEAR', 'HSHOURSTOM', 'DAYOFYEAR', 'WDWSEASON_columbus day',\n",
      "       'MKFIREN_disney's celebrate america! - a fourth of july concert in the sky',\n",
      "       'MKCLOSEYEST', 'AKOPEN', 'MKPRDNN_none', 'HSHOURSYEST',\n",
      "       'MKPRDNN_mickey's \"boo-to-you\" halloween parade',\n",
      "       'MKFIREN_fantasy in the sky fireworks', 'EPEMHOPEN', 'EPHOURSYEST',\n",
      "       'MKOPENTOM', 'WDWSEASON_none', 'Height_req_inches',\n",
      "       'Age_interest_teens', 'Age_interest_adults', 'EPOPENYEST'],\n",
      "      dtype='object')\n",
      "STARTING 50, 10\n",
      "{'10_10': {'mae': 82.09963841166338, 'mse': 42038.141302517135, 'rmse': 205.03204945207258, 'r2': 0.5029192990046908}, '10_50': {'mae': 32.600568224788105, 'mse': 14949.694108509619, 'rmse': 122.26894171665026, 'r2': 0.8232270933758329}, '10_None': {'mae': 32.55409125934913, 'mse': 14945.630929997233, 'rmse': 122.2523248449584, 'r2': 0.8232751384977299}, '50_10': {'mae': 81.88772325605579, 'mse': 41776.845951844916, 'rmse': 204.3938500832276, 'r2': 0.5060089902244875}}\n",
      "Index(['Park_area_frontierland', 'Park_area_liberty square',\n",
      "       'WDWeventN_probowl', 'HSOPENTOM',\n",
      "       'MKPRDNN_main street electrical parade', 'HSEMHEYEST', 'DAYOFYEAR',\n",
      "       'HOLIDAYN_mgs', 'EPEMHEVE', 'inSession', 'EPevent', 'Ride_type_slow',\n",
      "       'CapacityLostWGT_EP', 'MKEMHCLOSE', 'Ride_type_small_drops',\n",
      "       'WDWeventN_wdwdd|wdwhol', 'Age_of_ride_years', 'EPeventN_ephol',\n",
      "       'Wind Speed Quality_p', 'inSession_NY_NJ', 'EPCLOSEYEST', 'MKEMHMORN',\n",
      "       'DAYOFWEEK', 'WDWSEASON_christmas',\n",
      "       'Ride_name_dumbo the flying elephant', 'WDWSEASON_thanksgiving',\n",
      "       'Age_of_ride_days', 'EPEMHOPEN', 'MKeventN_mvmcp', 'MKeventN_mnsshp',\n",
      "       'MKFIREN_happily ever after', 'INSESSION_PLANES', 'MKOPENYEST',\n",
      "       'HOLIDAYN_lab', 'WDWSEASON_september low', 'WDWSEASON_memorial day',\n",
      "       'MKCLOSEYEST', 'MKCLOSETOM', 'MKHOURSYEST', 'WDWSEASON_columbus day',\n",
      "       'AKOPEN', 'MKOPENTOM', 'MKFIREN_fantasy in the sky fireworks',\n",
      "       'EPHOURSYEST', 'WDWSEASON_none', 'Height_req_inches',\n",
      "       'Age_interest_adults', 'HSHOURSYEST', 'Age_interest_teens',\n",
      "       'EPOPENYEST'],\n",
      "      dtype='object')\n",
      "STARTING 50, 50\n",
      "{'10_10': {'mae': 82.09963841166338, 'mse': 42038.141302517135, 'rmse': 205.03204945207258, 'r2': 0.5029192990046908}, '10_50': {'mae': 32.600568224788105, 'mse': 14949.694108509619, 'rmse': 122.26894171665026, 'r2': 0.8232270933758329}, '10_None': {'mae': 32.55409125934913, 'mse': 14945.630929997233, 'rmse': 122.2523248449584, 'r2': 0.8232751384977299}, '50_10': {'mae': 81.88772325605579, 'mse': 41776.845951844916, 'rmse': 204.3938500832276, 'r2': 0.5060089902244875}, '50_50': {'mae': 32.499595000754645, 'mse': 14652.825176314756, 'rmse': 121.0488545022825, 'r2': 0.8267374250019914}}\n",
      "Index(['MKEMHMORN', 'Ride_name_dumbo the flying elephant',\n",
      "       'Wind Speed Quality_p', 'inSession', 'Ride_type_slow',\n",
      "       'MKPRDNN_main street electrical parade', 'EPCLOSEYEST',\n",
      "       'Age_interest_tweens', 'inSession_New_England', 'MONTHOFYEAR',\n",
      "       'HSEMHEYEST', 'inSession_NY_NJ_PA', 'DAYOFWEEK', 'MKeventN_mnsshp',\n",
      "       'WDWeventN_wdwdd|wdwhol', 'WDWSEASON_thanksgiving', 'inSession_NY_NJ',\n",
      "       'MKFIREN_disney's not so spooky spectacular', 'MKeventN_mvmcp',\n",
      "       'MKFIREN_happily ever after', 'Age_of_ride_days', 'MKEMHCLOSE',\n",
      "       'HOLIDAYN_lab', 'INSESSION_PLANES', 'Age_of_ride_years', 'HSOPENTOM',\n",
      "       'WDWSEASON_memorial day', 'WDWSEASON_september low', 'MKOPENYEST',\n",
      "       'WEEKOFYEAR', 'MKCLOSEYEST', 'MKCLOSETOM', 'HSHOURSTOM', 'DAYOFYEAR',\n",
      "       'MKHOURSYEST',\n",
      "       'MKFIREN_disney's celebrate america! - a fourth of july concert in the sky',\n",
      "       'WDWSEASON_columbus day', 'AKOPEN', 'MKPRDNN_none',\n",
      "       'MKPRDNN_mickey's \"boo-to-you\" halloween parade', 'MKOPENTOM',\n",
      "       'MKFIREN_fantasy in the sky fireworks', 'EPEMHOPEN', 'EPHOURSYEST',\n",
      "       'WDWSEASON_none', 'Height_req_inches', 'HSHOURSYEST',\n",
      "       'Age_interest_teens', 'Age_interest_adults', 'EPOPENYEST'],\n",
      "      dtype='object')\n",
      "STARTING 50, None\n",
      "{'10_10': {'mae': 82.09963841166338, 'mse': 42038.141302517135, 'rmse': 205.03204945207258, 'r2': 0.5029192990046908}, '10_50': {'mae': 32.600568224788105, 'mse': 14949.694108509619, 'rmse': 122.26894171665026, 'r2': 0.8232270933758329}, '10_None': {'mae': 32.55409125934913, 'mse': 14945.630929997233, 'rmse': 122.2523248449584, 'r2': 0.8232751384977299}, '50_10': {'mae': 81.88772325605579, 'mse': 41776.845951844916, 'rmse': 204.3938500832276, 'r2': 0.5060089902244875}, '50_50': {'mae': 32.499595000754645, 'mse': 14652.825176314756, 'rmse': 121.0488545022825, 'r2': 0.8267374250019914}, '50_None': {'mae': 32.47135495769517, 'mse': 14651.059483156636, 'rmse': 121.04156097455385, 'r2': 0.826758303470106}}\n",
      "Index(['MKEMHMORN', 'inSession', 'Wind Speed Quality_p',\n",
      "       'Ride_name_dumbo the flying elephant', 'Ride_type_slow',\n",
      "       'MKPRDNN_main street electrical parade', 'inSession_New_England',\n",
      "       'EPCLOSEYEST', 'Age_interest_tweens', 'HSEMHEYEST', 'MONTHOFYEAR',\n",
      "       'DAYOFWEEK', 'inSession_NY_NJ_PA', 'MKeventN_mnsshp',\n",
      "       'WDWeventN_wdwdd|wdwhol', 'WDWSEASON_thanksgiving', 'inSession_NY_NJ',\n",
      "       'MKFIREN_disney's not so spooky spectacular', 'MKeventN_mvmcp',\n",
      "       'MKEMHCLOSE', 'MKFIREN_happily ever after', 'Age_of_ride_days',\n",
      "       'HOLIDAYN_lab', 'INSESSION_PLANES', 'Age_of_ride_years', 'HSOPENTOM',\n",
      "       'WDWSEASON_memorial day', 'MKOPENYEST', 'WDWSEASON_september low',\n",
      "       'WEEKOFYEAR', 'MKCLOSEYEST', 'MKCLOSETOM', 'HSHOURSTOM', 'DAYOFYEAR',\n",
      "       'MKHOURSYEST', 'WDWSEASON_columbus day',\n",
      "       'MKFIREN_disney's celebrate america! - a fourth of july concert in the sky',\n",
      "       'AKOPEN', 'MKPRDNN_none',\n",
      "       'MKPRDNN_mickey's \"boo-to-you\" halloween parade', 'MKOPENTOM',\n",
      "       'MKFIREN_fantasy in the sky fireworks', 'EPEMHOPEN', 'EPHOURSYEST',\n",
      "       'WDWSEASON_none', 'Height_req_inches', 'HSHOURSYEST',\n",
      "       'Age_interest_teens', 'Age_interest_adults', 'EPOPENYEST'],\n",
      "      dtype='object')\n",
      "STARTING 100, 10\n",
      "{'10_10': {'mae': 82.09963841166338, 'mse': 42038.141302517135, 'rmse': 205.03204945207258, 'r2': 0.5029192990046908}, '10_50': {'mae': 32.600568224788105, 'mse': 14949.694108509619, 'rmse': 122.26894171665026, 'r2': 0.8232270933758329}, '10_None': {'mae': 32.55409125934913, 'mse': 14945.630929997233, 'rmse': 122.2523248449584, 'r2': 0.8232751384977299}, '50_10': {'mae': 81.88772325605579, 'mse': 41776.845951844916, 'rmse': 204.3938500832276, 'r2': 0.5060089902244875}, '50_50': {'mae': 32.499595000754645, 'mse': 14652.825176314756, 'rmse': 121.0488545022825, 'r2': 0.8267374250019914}, '50_None': {'mae': 32.47135495769517, 'mse': 14651.059483156636, 'rmse': 121.04156097455385, 'r2': 0.826758303470106}, '100_10': {'mae': 81.71958984570335, 'mse': 41669.82809420683, 'rmse': 204.13188896937888, 'r2': 0.5072744246620127}}\n",
      "Index(['WDWevent', 'EPEMHEVE', 'WDWeventN_probowl', 'inSession',\n",
      "       'Park_area_tomorrowland', 'HSOPENTOM',\n",
      "       'MKPRDNN_main street electrical parade', 'DAYOFYEAR',\n",
      "       'Park_area_frontierland', 'HOLIDAYN_mgs', 'HSEMHEYEST',\n",
      "       'EPeventN_ephol', 'Ride_type_slow', 'CapacityLostWGT_EP', 'MKEMHCLOSE',\n",
      "       'WDWeventN_wdwdd|wdwhol', 'Ride_type_small_drops', 'Age_of_ride_years',\n",
      "       'inSession_NY_NJ', 'Wind Speed Quality_p', 'EPCLOSEYEST', 'MKEMHMORN',\n",
      "       'WDWSEASON_christmas', 'Age_of_ride_days',\n",
      "       'Ride_name_dumbo the flying elephant', 'WDWSEASON_thanksgiving',\n",
      "       'DAYOFWEEK', 'EPEMHOPEN', 'MKeventN_mvmcp', 'MKeventN_mnsshp',\n",
      "       'MKFIREN_happily ever after', 'INSESSION_PLANES', 'MKOPENYEST',\n",
      "       'HOLIDAYN_lab', 'WDWSEASON_september low', 'MKCLOSEYEST',\n",
      "       'WDWSEASON_memorial day', 'MKHOURSYEST', 'MKCLOSETOM',\n",
      "       'WDWSEASON_columbus day', 'AKOPEN', 'MKOPENTOM',\n",
      "       'MKFIREN_fantasy in the sky fireworks', 'EPHOURSYEST', 'HSHOURSYEST',\n",
      "       'WDWSEASON_none', 'Height_req_inches', 'Age_interest_teens',\n",
      "       'Age_interest_adults', 'EPOPENYEST'],\n",
      "      dtype='object')\n",
      "STARTING 100, 50\n",
      "{'10_10': {'mae': 82.09963841166338, 'mse': 42038.141302517135, 'rmse': 205.03204945207258, 'r2': 0.5029192990046908}, '10_50': {'mae': 32.600568224788105, 'mse': 14949.694108509619, 'rmse': 122.26894171665026, 'r2': 0.8232270933758329}, '10_None': {'mae': 32.55409125934913, 'mse': 14945.630929997233, 'rmse': 122.2523248449584, 'r2': 0.8232751384977299}, '50_10': {'mae': 81.88772325605579, 'mse': 41776.845951844916, 'rmse': 204.3938500832276, 'r2': 0.5060089902244875}, '50_50': {'mae': 32.499595000754645, 'mse': 14652.825176314756, 'rmse': 121.0488545022825, 'r2': 0.8267374250019914}, '50_None': {'mae': 32.47135495769517, 'mse': 14651.059483156636, 'rmse': 121.04156097455385, 'r2': 0.826758303470106}, '100_10': {'mae': 81.71958984570335, 'mse': 41669.82809420683, 'rmse': 204.13188896937888, 'r2': 0.5072744246620127}, '100_50': {'mae': 32.467052270966335, 'mse': 14616.256612214032, 'rmse': 120.89771136053004, 'r2': 0.8271698305963961}}\n",
      "Index(['MKEMHMORN', 'inSession', 'Ride_name_dumbo the flying elephant',\n",
      "       'Wind Speed Quality_p', 'Ride_type_slow',\n",
      "       'MKPRDNN_main street electrical parade', 'inSession_New_England',\n",
      "       'Age_interest_tweens', 'EPCLOSEYEST', 'MONTHOFYEAR',\n",
      "       'inSession_NY_NJ_PA', 'HSEMHEYEST', 'MKeventN_mnsshp',\n",
      "       'WDWeventN_wdwdd|wdwhol', 'DAYOFWEEK', 'WDWSEASON_thanksgiving',\n",
      "       'inSession_NY_NJ', 'MKeventN_mvmcp',\n",
      "       'MKFIREN_disney's not so spooky spectacular', 'Age_of_ride_days',\n",
      "       'MKFIREN_happily ever after', 'MKEMHCLOSE', 'HOLIDAYN_lab',\n",
      "       'INSESSION_PLANES', 'Age_of_ride_years', 'HSOPENTOM',\n",
      "       'WDWSEASON_memorial day', 'MKCLOSEYEST', 'MKOPENYEST',\n",
      "       'WDWSEASON_september low', 'WEEKOFYEAR', 'HSHOURSTOM', 'DAYOFYEAR',\n",
      "       'MKHOURSYEST', 'MKCLOSETOM',\n",
      "       'MKFIREN_disney's celebrate america! - a fourth of july concert in the sky',\n",
      "       'WDWSEASON_columbus day', 'AKOPEN', 'MKPRDNN_none', 'MKOPENTOM',\n",
      "       'MKPRDNN_mickey's \"boo-to-you\" halloween parade',\n",
      "       'MKFIREN_fantasy in the sky fireworks', 'EPEMHOPEN', 'EPHOURSYEST',\n",
      "       'WDWSEASON_none', 'HSHOURSYEST', 'Height_req_inches',\n",
      "       'Age_interest_teens', 'Age_interest_adults', 'EPOPENYEST'],\n",
      "      dtype='object')\n",
      "STARTING 100, None\n",
      "{'10_10': {'mae': 82.09963841166338, 'mse': 42038.141302517135, 'rmse': 205.03204945207258, 'r2': 0.5029192990046908}, '10_50': {'mae': 32.600568224788105, 'mse': 14949.694108509619, 'rmse': 122.26894171665026, 'r2': 0.8232270933758329}, '10_None': {'mae': 32.55409125934913, 'mse': 14945.630929997233, 'rmse': 122.2523248449584, 'r2': 0.8232751384977299}, '50_10': {'mae': 81.88772325605579, 'mse': 41776.845951844916, 'rmse': 204.3938500832276, 'r2': 0.5060089902244875}, '50_50': {'mae': 32.499595000754645, 'mse': 14652.825176314756, 'rmse': 121.0488545022825, 'r2': 0.8267374250019914}, '50_None': {'mae': 32.47135495769517, 'mse': 14651.059483156636, 'rmse': 121.04156097455385, 'r2': 0.826758303470106}, '100_10': {'mae': 81.71958984570335, 'mse': 41669.82809420683, 'rmse': 204.13188896937888, 'r2': 0.5072744246620127}, '100_50': {'mae': 32.467052270966335, 'mse': 14616.256612214032, 'rmse': 120.89771136053004, 'r2': 0.8271698305963961}, '100_None': {'mae': 32.44205144366285, 'mse': 14614.88512405278, 'rmse': 120.89203912604329, 'r2': 0.8271860477809689}}\n",
      "Index(['MKEMHMORN', 'inSession', 'Wind Speed Quality_p', 'Ride_type_slow',\n",
      "       'Ride_name_dumbo the flying elephant',\n",
      "       'MKPRDNN_main street electrical parade', 'inSession_New_England',\n",
      "       'MONTHOFYEAR', 'Age_interest_tweens', 'EPCLOSEYEST', 'HSEMHEYEST',\n",
      "       'inSession_NY_NJ_PA', 'MKeventN_mnsshp', 'WDWeventN_wdwdd|wdwhol',\n",
      "       'DAYOFWEEK', 'inSession_NY_NJ', 'WDWSEASON_thanksgiving',\n",
      "       'MKeventN_mvmcp', 'MKFIREN_disney's not so spooky spectacular',\n",
      "       'Age_of_ride_days', 'MKFIREN_happily ever after', 'MKEMHCLOSE',\n",
      "       'HOLIDAYN_lab', 'INSESSION_PLANES', 'Age_of_ride_years', 'HSOPENTOM',\n",
      "       'WDWSEASON_memorial day', 'MKCLOSEYEST', 'MKOPENYEST',\n",
      "       'WDWSEASON_september low', 'WEEKOFYEAR', 'HSHOURSTOM', 'DAYOFYEAR',\n",
      "       'MKHOURSYEST', 'MKCLOSETOM', 'WDWSEASON_columbus day',\n",
      "       'MKFIREN_disney's celebrate america! - a fourth of july concert in the sky',\n",
      "       'AKOPEN', 'MKPRDNN_none', 'MKOPENTOM',\n",
      "       'MKPRDNN_mickey's \"boo-to-you\" halloween parade',\n",
      "       'MKFIREN_fantasy in the sky fireworks', 'EPEMHOPEN', 'EPHOURSYEST',\n",
      "       'WDWSEASON_none', 'HSHOURSYEST', 'Height_req_inches',\n",
      "       'Age_interest_teens', 'Age_interest_adults', 'EPOPENYEST'],\n",
      "      dtype='object')\n",
      "STARTING 1000, 10\n",
      "{'10_10': {'mae': 82.09963841166338, 'mse': 42038.141302517135, 'rmse': 205.03204945207258, 'r2': 0.5029192990046908}, '10_50': {'mae': 32.600568224788105, 'mse': 14949.694108509619, 'rmse': 122.26894171665026, 'r2': 0.8232270933758329}, '10_None': {'mae': 32.55409125934913, 'mse': 14945.630929997233, 'rmse': 122.2523248449584, 'r2': 0.8232751384977299}, '50_10': {'mae': 81.88772325605579, 'mse': 41776.845951844916, 'rmse': 204.3938500832276, 'r2': 0.5060089902244875}, '50_50': {'mae': 32.499595000754645, 'mse': 14652.825176314756, 'rmse': 121.0488545022825, 'r2': 0.8267374250019914}, '50_None': {'mae': 32.47135495769517, 'mse': 14651.059483156636, 'rmse': 121.04156097455385, 'r2': 0.826758303470106}, '100_10': {'mae': 81.71958984570335, 'mse': 41669.82809420683, 'rmse': 204.13188896937888, 'r2': 0.5072744246620127}, '100_50': {'mae': 32.467052270966335, 'mse': 14616.256612214032, 'rmse': 120.89771136053004, 'r2': 0.8271698305963961}, '100_None': {'mae': 32.44205144366285, 'mse': 14614.88512405278, 'rmse': 120.89203912604329, 'r2': 0.8271860477809689}, '1000_10': {'mae': 81.74015024720477, 'mse': 41677.35214130357, 'rmse': 204.15031751457937, 'r2': 0.50718545644198}}\n",
      "Index(['WDWeventN_probowl', 'inSession_NY_NJ_PA', 'MKCLOSE', 'EPEMHEVE',\n",
      "       'Park_area_tomorrowland', 'Park_area_frontierland', 'HSOPENTOM',\n",
      "       'DAYOFYEAR', 'HSEMHEYEST', 'MKPRDNN_main street electrical parade',\n",
      "       'HOLIDAYN_mgs', 'Ride_type_slow', 'EPeventN_ephol',\n",
      "       'CapacityLostWGT_EP', 'MKEMHCLOSE', 'Age_of_ride_years',\n",
      "       'Ride_type_small_drops', 'WDWeventN_wdwdd|wdwhol',\n",
      "       'Wind Speed Quality_p', 'inSession_NY_NJ', 'EPCLOSEYEST', 'MKEMHMORN',\n",
      "       'WDWSEASON_christmas', 'Ride_name_dumbo the flying elephant',\n",
      "       'Age_of_ride_days', 'DAYOFWEEK', 'WDWSEASON_thanksgiving', 'EPEMHOPEN',\n",
      "       'MKeventN_mvmcp', 'MKeventN_mnsshp', 'MKFIREN_happily ever after',\n",
      "       'INSESSION_PLANES', 'MKOPENYEST', 'HOLIDAYN_lab',\n",
      "       'WDWSEASON_september low', 'WDWSEASON_memorial day', 'MKCLOSEYEST',\n",
      "       'MKHOURSYEST', 'MKCLOSETOM', 'WDWSEASON_columbus day', 'AKOPEN',\n",
      "       'MKOPENTOM', 'MKFIREN_fantasy in the sky fireworks', 'EPHOURSYEST',\n",
      "       'HSHOURSYEST', 'WDWSEASON_none', 'Height_req_inches',\n",
      "       'Age_interest_teens', 'Age_interest_adults', 'EPOPENYEST'],\n",
      "      dtype='object')\n",
      "STARTING 1000, 50\n"
     ]
    }
   ],
   "source": [
    "important_features = []\n",
    "results = {}\n",
    "for n_est in (10, 50, 100, 500):\n",
    "    for max_depth in [10, 50, 100]:\n",
    "        print(f\"STARTING {n_est}, {max_depth}\")\n",
    "        rfc = RandomForestRegressor(n_estimators=n_est, max_depth=max_depth, random_state=0, n_jobs=-1)\n",
    "        rfc.fit(X_train_encoded, y_train)\n",
    "        \n",
    "        pred = rfc.predict(X_test_encoded)\n",
    "        \n",
    "        mae = metrics.mean_absolute_error(y_test, pred)\n",
    "        mse = metrics.mean_squared_error(y_test, pred)\n",
    "        rmse = np.sqrt(metrics.mean_squared_error(y_test, pred))\n",
    "        r2 = metrics.r2_score(y_test, pred)\n",
    "        \n",
    "        results[f\"{n_est}_{max_depth}\"] = {\"mae\": mae, \"mse\": mse, \"rmse\":rmse, \"r2\":r2}\n",
    "        \n",
    "        importances = rfc.feature_importances_\n",
    "        important_feat = np.argsort(importances)[-50:]\n",
    "        \n",
    "        selected_feat= list(X_train.columns[important_feat])\n",
    "        print(selected_feat)\n",
    "        important_features.extend(selected_feat)\n",
    "    \n",
    "print(results)"
   ]
  },
  {
   "cell_type": "code",
   "execution_count": null,
   "metadata": {},
   "outputs": [],
   "source": [
    "Counter(important_features)"
   ]
  },
  {
   "cell_type": "markdown",
   "metadata": {},
   "source": [
    "----"
   ]
  },
  {
   "cell_type": "markdown",
   "metadata": {},
   "source": [
    "These parameters seem to have the best balance of simplicity and low error.\n",
    "\n",
    "##### ```n_estimators=50``` ```max_depth=50```"
   ]
  },
  {
   "cell_type": "code",
   "execution_count": 58,
   "metadata": {},
   "outputs": [
    {
     "data": {
      "text/plain": [
       "RandomForestRegressor(n_jobs=-1, random_state=0)"
      ]
     },
     "execution_count": 58,
     "metadata": {},
     "output_type": "execute_result"
    }
   ],
   "source": [
    "# create regressor object\n",
    "rf = RandomForestRegressor(n_estimators = 50, max_depth=50, n_jobs=-1, random_state = 0)\n",
    " \n",
    "# fit the regressor with x and y data\n",
    "rf.fit(X_train_encoded, y_train)\n",
    "\n",
    "# with open('random_forest100_pkl', 'wb') as files:\n",
    "#     pickle.dump(regressor, files)\n",
    "\n",
    "#########\n",
    "# OR \n",
    "#########\n",
    "\n",
    "# load saved model\n",
    "# with open('random_forest100_pkl' , 'rb') as f:\n",
    "#     rf = pickle.load(f)"
   ]
  },
  {
   "cell_type": "code",
   "execution_count": 59,
   "metadata": {},
   "outputs": [],
   "source": [
    "pred = rf.predict(X_test_encoded)"
   ]
  },
  {
   "cell_type": "code",
   "execution_count": 60,
   "metadata": {},
   "outputs": [
    {
     "name": "stdout",
     "output_type": "stream",
     "text": [
      "RANDOM FOREST n_estimators = 100 : \n",
      "Mean Absolute Error (MAE): 32.44205144366285\n",
      "Mean Squared Error (MSE): 14614.88512405278\n",
      "Root Mean Squared Error (RMSE): 120.89203912604329\n"
     ]
    }
   ],
   "source": [
    "print(\"RANDOM FOREST n_estimators = 100 : \") \n",
    "print('Mean Absolute Error (MAE):', metrics.mean_absolute_error(y_test, pred))\n",
    "print('Mean Squared Error (MSE):', metrics.mean_squared_error(y_test, pred))\n",
    "print('Root Mean Squared Error (RMSE):', np.sqrt(metrics.mean_squared_error(y_test, pred)))"
   ]
  },
  {
   "cell_type": "code",
   "execution_count": 61,
   "metadata": {},
   "outputs": [],
   "source": [
    "importances = rf.feature_importances_\n",
    "#\n",
    "# Sort the feature importance in descending order\n",
    "#\n",
    "sorted_indices = np.argsort(importances)[::-1]"
   ]
  },
  {
   "cell_type": "code",
   "execution_count": null,
   "metadata": {},
   "outputs": [],
   "source": [
    "sorted_indices"
   ]
  },
  {
   "cell_type": "code",
   "execution_count": 62,
   "metadata": {},
   "outputs": [
    {
     "data": {
      "text/plain": [
       "Index(['CapacityLostWGT_EP', 'Age_of_ride_days', 'Ride_duration_min',\n",
       "       'Age_of_ride_years', 'Cloud Height',\n",
       "       'Ride_name_walt disney's carousel of progress', 'CapacityLostWGT_AK',\n",
       "       'CapacityLost_AK', 'EPOPENYEST_HOUR', 'EPOPEN_HOUR', 'AKHOURSTOM',\n",
       "       'EPCLOSE_HOUR', 'WDW_TICKET_SEASON_none', 'EPEMHOPEN_HOUR',\n",
       "       'Ride_name_prince charming regal carrousel', 'WEATHER_WDWHIGH',\n",
       "       'AKHOURSYEST', 'YEAR', 'Weather Type', 'HOLIDAYPX',\n",
       "       'Park_area_fantasyland', 'HSHOURSTOM', 'AKHOURS',\n",
       "       'Ride_name_tomorrowland transit authority peoplemover',\n",
       "       'Visibility Distance (M)', 'DAYOFWEEK', 'MKEMHMORN', 'MKeventN_dah',\n",
       "       'HSHOURSYEST', 'EPCLOSEYEST_HOUR', 'TA_Stars', 'EPEMHCLOSE_HOUR',\n",
       "       'MKFIREN_happy hallowishes fireworks', 'Park_area_tomorrowland',\n",
       "       'inSession_New_Jersey', 'MONTHOFYEAR', 'Ride_name_jungle cruise',\n",
       "       'MKFIREN_happily ever after', 'inSession_Nothwest', 'HSHOURSEMHYEST',\n",
       "       'CapacityLostWGT_HS', 'Height_req_inches', 'HOLIDAYM',\n",
       "       'INSESSION_PLANES', 'MKCLOSETOM_HOUR',\n",
       "       'Cloud Quality Code_passed all quality control checks, data originate from an ncei data source',\n",
       "       'Ride_type_dark', 'HSFIRET2_HOUR', 'inSession_dlr', 'MKEMHEVE'],\n",
       "      dtype='object')"
      ]
     },
     "execution_count": 62,
     "metadata": {},
     "output_type": "execute_result"
    }
   ],
   "source": [
    "X_train_encoded.columns[sorted_indices[:50]]"
   ]
  },
  {
   "cell_type": "markdown",
   "metadata": {},
   "source": [
    "Sample Predictions vs Actual from test set:"
   ]
  },
  {
   "cell_type": "code",
   "execution_count": null,
   "metadata": {},
   "outputs": [],
   "source": [
    "print(\"(PREDICTED, ACTUAL)\")\n",
    "for x in zip(np.round(pred[2000:2020], 0), y_test[2000:2020].values):\n",
    "    print(x)"
   ]
  },
  {
   "cell_type": "markdown",
   "metadata": {},
   "source": [
    "# Random Forest Grid Search Tuning"
   ]
  },
  {
   "cell_type": "code",
   "execution_count": null,
   "metadata": {},
   "outputs": [],
   "source": [
    "kbest = SelectKBest(score_func=f_regression, k=100)\n",
    "kbest.fit(X_train_encoded, y_train)\n",
    "kbest_features = X_train_encoded.columns[kbest.get_support()]"
   ]
  },
  {
   "cell_type": "code",
   "execution_count": null,
   "metadata": {},
   "outputs": [],
   "source": [
    "kbest_features"
   ]
  },
  {
   "cell_type": "code",
   "execution_count": null,
   "metadata": {},
   "outputs": [],
   "source": [
    "rf = RandomForestRegressor(n_estimators=100, min_samples_leaf=25, max_features=1, n_jobs=-1, random_state=0)\n",
    "# rf = RandomForestRegressor(n_estimators=500, n_jobs=-1, min_samples_leaf=5, random_state=0)\n",
    "rf.fit(X_train_encoded[top50], y_train)\n",
    "\n",
    "# create an iterator object with write permission - model.pkl\n",
    "with open('random_forest500_top50', 'wb') as files:\n",
    "    pickle.dump(rf, files)\n",
    "#########\n",
    "# OR \n",
    "#########\n",
    "\n",
    "# #load saved model\n",
    "# with open('random_forest_gridsearch' , 'rb') as f:\n",
    "#     rf = pickle.load(f)"
   ]
  },
  {
   "cell_type": "code",
   "execution_count": null,
   "metadata": {},
   "outputs": [],
   "source": [
    "pred = rf.predict(X_test_encoded[top50])"
   ]
  },
  {
   "cell_type": "code",
   "execution_count": null,
   "metadata": {},
   "outputs": [],
   "source": [
    "print(\"Random Forest - Grid Search: \")\n",
    "print('Mean Absolute Error (MAE):', metrics.mean_absolute_error(y_test, pred))\n",
    "print('Mean Squared Error (MSE):', metrics.mean_squared_error(y_test, pred))\n",
    "print('Root Mean Squared Error (RMSE):', np.sqrt(metrics.mean_squared_error(y_test, pred)))"
   ]
  },
  {
   "cell_type": "code",
   "execution_count": 22,
   "metadata": {},
   "outputs": [
    {
     "name": "stdout",
     "output_type": "stream",
     "text": [
      "Variable: HOUROFDAY            Importance: 0.1749\n",
      "Variable: Age_of_ride_years    Importance: 0.086\n",
      "Variable: Age_of_ride_days     Importance: 0.0814\n",
      "Variable: TL_rank              Importance: 0.0692\n",
      "Variable: Ride_duration_min    Importance: 0.0556\n",
      "Variable: Ride_name_walt disney's carousel of progress Importance: 0.0406\n",
      "Variable: Temperature (C)      Importance: 0.0327\n",
      "Variable: MKEMHCLOSE_HOUR      Importance: 0.0319\n",
      "Variable: Wind Angle           Importance: 0.0288\n",
      "Variable: MKOPEN_HOUR          Importance: 0.0272\n",
      "Variable: CapacityLostWGT_MK   Importance: 0.0259\n",
      "Variable: Wind Speed           Importance: 0.0254\n",
      "Variable: Cloud Height         Importance: 0.021\n",
      "Variable: WDW_TICKET_SEASON_none Importance: 0.0176\n",
      "Variable: WDWMAXTEMP           Importance: 0.0167\n",
      "Variable: WDWMINTEMP           Importance: 0.0162\n",
      "Variable: Ride_name_prince charming regal carrousel Importance: 0.0152\n",
      "Variable: CapacityLostWGT_EP   Importance: 0.0134\n",
      "Variable: CapacityLost_EP      Importance: 0.0132\n",
      "Variable: WDWMEANTEMP          Importance: 0.0132\n",
      "Variable: DAYOFYEAR            Importance: 0.0121\n",
      "Variable: WEATHER_WDWLOW       Importance: 0.011\n",
      "Variable: inSession            Importance: 0.0109\n",
      "Variable: HOLIDAYPX            Importance: 0.0108\n",
      "Variable: WEATHER_WDWHIGH      Importance: 0.0094\n",
      "Variable: DAYOFWEEK            Importance: 0.009\n",
      "Variable: CapacityLost_MK      Importance: 0.0088\n",
      "Variable: Park_area_fantasyland Importance: 0.008\n",
      "Variable: MKHOURSEMHTOM        Importance: 0.0079\n",
      "Variable: MKHOURSEMHYEST       Importance: 0.0075\n",
      "Variable: Visibility Distance (M) Importance: 0.0073\n",
      "Variable: MKHOURSEMH           Importance: 0.0064\n",
      "Variable: Ride_name_tomorrowland transit authority peoplemover Importance: 0.0061\n",
      "Variable: Cloud Quality Code_passed all quality control checks, data originate from an ncei data source Importance: 0.0061\n",
      "Variable: MKHOURS              Importance: 0.006\n",
      "Variable: MKEMHMORN            Importance: 0.0059\n",
      "Variable: MKCLOSE_HOUR         Importance: 0.0058\n",
      "Variable: MKEMHOPEN_HOUR       Importance: 0.0056\n",
      "Variable: YEAR                 Importance: 0.0053\n",
      "Variable: MKeventN_dah         Importance: 0.0052\n",
      "Variable: Height_req_inches    Importance: 0.0051\n",
      "Variable: Park_area_tomorrowland Importance: 0.0048\n",
      "Variable: MKFIREN_happy hallowishes fireworks Importance: 0.0045\n",
      "Variable: MKFIRET1_HOUR        Importance: 0.0044\n",
      "Variable: MKFIREN_happily ever after Importance: 0.0042\n",
      "Variable: new_case             Importance: 0.0036\n",
      "Variable: Ride_type_small_drops Importance: 0.0035\n",
      "Variable: Ride_name_jungle cruise Importance: 0.0034\n",
      "Variable: MKEMHEVE             Importance: 0.0031\n",
      "Variable: Ride_type_dark       Importance: 0.0021\n"
     ]
    },
    {
     "data": {
      "text/plain": [
       "[None,\n",
       " None,\n",
       " None,\n",
       " None,\n",
       " None,\n",
       " None,\n",
       " None,\n",
       " None,\n",
       " None,\n",
       " None,\n",
       " None,\n",
       " None,\n",
       " None,\n",
       " None,\n",
       " None,\n",
       " None,\n",
       " None,\n",
       " None,\n",
       " None,\n",
       " None,\n",
       " None,\n",
       " None,\n",
       " None,\n",
       " None,\n",
       " None,\n",
       " None,\n",
       " None,\n",
       " None,\n",
       " None,\n",
       " None,\n",
       " None,\n",
       " None,\n",
       " None,\n",
       " None,\n",
       " None,\n",
       " None,\n",
       " None,\n",
       " None,\n",
       " None,\n",
       " None,\n",
       " None,\n",
       " None,\n",
       " None,\n",
       " None,\n",
       " None,\n",
       " None,\n",
       " None,\n",
       " None,\n",
       " None,\n",
       " None]"
      ]
     },
     "execution_count": 22,
     "metadata": {},
     "output_type": "execute_result"
    }
   ],
   "source": [
    "# Get numerical feature importances\n",
    "importances = list(rf.feature_importances_)\n",
    "feature_list = list(X_train_encoded[top50].columns)\n",
    "# List of tuples with variable and importance\n",
    "feature_importances = [(feature, round(importance, 4)) for feature, importance in zip(feature_list, importances)]\n",
    "# Sort the feature importances by most important first\n",
    "feature_importances = sorted(feature_importances, key = lambda x: x[1], reverse = True)\n",
    "# Print out the feature and importances \n",
    "for pair in feature_importances:\n",
    "    [print('Variable: {:20} Importance: {}'.format(*pair)) "
   ]
  },
  {
   "cell_type": "code",
   "execution_count": 84,
   "metadata": {},
   "outputs": [],
   "source": [
    "# rf = RandomForestRegressor(n_estimators=100, min_samples_leaf=25, max_features=1, n_jobs=-1, random_state=0)\n",
    "rf = RandomForestRegressor(n_estimators=50, max_depth=50, n_jobs=-1, random_state=0)\n",
    "rf.fit(X_train_encoded[kbest_features], y_train)\n",
    "\n",
    "# create an iterator object with write permission - model.pkl\n",
    "with open('random_forest100_kbest50_50', 'wb') as files:\n",
    "    pickle.dump(rf, files)"
   ]
  },
  {
   "cell_type": "code",
   "execution_count": 86,
   "metadata": {},
   "outputs": [],
   "source": [
    "pred = rf.predict(X_test_encoded)"
   ]
  },
  {
   "cell_type": "code",
   "execution_count": 87,
   "metadata": {},
   "outputs": [
    {
     "name": "stdout",
     "output_type": "stream",
     "text": [
      "Random Forest - Best Params: \n",
      "param_grid =  {'n_estimators': [10, 20], 'max_features': ['sqrt', 'log2', 1.0], 'max_depth': [1, 4, 5]}\n",
      "Mean Absolute Error (MAE): 158.36439147926393\n",
      "Mean Squared Error (MSE): 80764.11593927557\n",
      "Root Mean Squared Error (RMSE): 284.19028121889664\n"
     ]
    }
   ],
   "source": [
    "print(\"Random Forest - Best Params: \")\n",
    "print('Mean Absolute Error (MAE):', metrics.mean_absolute_error(y_test, pred))\n",
    "print('Mean Squared Error (MSE):', metrics.mean_squared_error(y_test, pred))\n",
    "print('Root Mean Squared Error (RMSE):', np.sqrt(metrics.mean_squared_error(y_test, pred)))"
   ]
  },
  {
   "cell_type": "markdown",
   "metadata": {},
   "source": [
    "# XGBoost Regressor\n",
    "\n",
    "```n_estimators = 100```"
   ]
  },
  {
   "cell_type": "code",
   "execution_count": 75,
   "metadata": {},
   "outputs": [],
   "source": [
    "xgb_r = xg.XGBRegressor(objective ='reg:squarederror',\n",
    "                  n_estimators = 100, seed = 123)"
   ]
  },
  {
   "cell_type": "code",
   "execution_count": 76,
   "metadata": {},
   "outputs": [
    {
     "data": {
      "text/plain": [
       "XGBRegressor(base_score=0.5, booster='gbtree', callbacks=None,\n",
       "             colsample_bylevel=1, colsample_bynode=1, colsample_bytree=1,\n",
       "             early_stopping_rounds=None, enable_categorical=False,\n",
       "             eval_metric=None, gamma=0, gpu_id=-1, grow_policy='depthwise',\n",
       "             importance_type=None, interaction_constraints='',\n",
       "             learning_rate=0.300000012, max_bin=256, max_cat_to_onehot=4,\n",
       "             max_delta_step=0, max_depth=6, max_leaves=0, min_child_weight=1,\n",
       "             missing=nan, monotone_constraints='()', n_estimators=100, n_jobs=0,\n",
       "             num_parallel_tree=1, predictor='auto', random_state=123,\n",
       "             reg_alpha=0, reg_lambda=1, ...)"
      ]
     },
     "execution_count": 76,
     "metadata": {},
     "output_type": "execute_result"
    }
   ],
   "source": [
    "# Fitting the model\n",
    "xgb_r.fit(X_train_encoded, y_train)"
   ]
  },
  {
   "cell_type": "code",
   "execution_count": 77,
   "metadata": {},
   "outputs": [],
   "source": [
    "# Predict the model\n",
    "pred = xgb_r.predict(X_test_encoded)"
   ]
  },
  {
   "cell_type": "code",
   "execution_count": 79,
   "metadata": {},
   "outputs": [
    {
     "name": "stdout",
     "output_type": "stream",
     "text": [
      "XGBoost n_estimators = 100\n",
      "Mean Absolute Error (MAE): 81.52782540698011\n",
      "Mean Squared Error (MSE): 37576.03206247993\n",
      "Root Mean Squared Error (RMSE): 193.84538184460297\n"
     ]
    }
   ],
   "source": [
    "print(\"XGBoost n_estimators = 100\")\n",
    "print('Mean Absolute Error (MAE):', metrics.mean_absolute_error(y_test, pred))\n",
    "print('Mean Squared Error (MSE):', metrics.mean_squared_error(y_test, pred))\n",
    "print('Root Mean Squared Error (RMSE):', np.sqrt(metrics.mean_squared_error(y_test, pred)))"
   ]
  },
  {
   "cell_type": "markdown",
   "metadata": {},
   "source": [
    "# Bayesian Ridge Regressor "
   ]
  },
  {
   "cell_type": "code",
   "execution_count": 80,
   "metadata": {},
   "outputs": [
    {
     "data": {
      "text/plain": [
       "BayesianRidge()"
      ]
     },
     "execution_count": 80,
     "metadata": {},
     "output_type": "execute_result"
    }
   ],
   "source": [
    "BayReg = BayesianRidge()\n",
    "BayReg.fit(X_train_encoded, y_train)"
   ]
  },
  {
   "cell_type": "code",
   "execution_count": 81,
   "metadata": {},
   "outputs": [],
   "source": [
    "pred = BayReg.predict(X_test_encoded)"
   ]
  },
  {
   "cell_type": "code",
   "execution_count": 83,
   "metadata": {},
   "outputs": [
    {
     "name": "stdout",
     "output_type": "stream",
     "text": [
      "Bayesian Ridge Regression: \n",
      "Mean Absolute Error (MAE): 141.46531343928152\n",
      "Mean Squared Error (MSE): 69932.50152871764\n",
      "Root Mean Squared Error (RMSE): 264.4475402205845\n"
     ]
    }
   ],
   "source": [
    "print(\"Bayesian Ridge Regression: \")\n",
    "print('Mean Absolute Error (MAE):', metrics.mean_absolute_error(y_test, pred))\n",
    "print('Mean Squared Error (MSE):', metrics.mean_squared_error(y_test, pred))\n",
    "print('Root Mean Squared Error (RMSE):', np.sqrt(metrics.mean_squared_error(y_test, pred)))"
   ]
  },
  {
   "cell_type": "code",
   "execution_count": null,
   "metadata": {},
   "outputs": [],
   "source": []
  }
 ],
 "metadata": {
  "environment": {
   "kernel": "python3",
   "name": "pytorch-gpu.1-11.m94",
   "type": "gcloud",
   "uri": "gcr.io/deeplearning-platform-release/pytorch-gpu.1-11:m94"
  },
  "kernelspec": {
   "display_name": "Python 3",
   "language": "python",
   "name": "python3"
  },
  "language_info": {
   "codemirror_mode": {
    "name": "ipython",
    "version": 3
   },
   "file_extension": ".py",
   "mimetype": "text/x-python",
   "name": "python",
   "nbconvert_exporter": "python",
   "pygments_lexer": "ipython3",
   "version": "3.7.12"
  }
 },
 "nbformat": 4,
 "nbformat_minor": 4
}
