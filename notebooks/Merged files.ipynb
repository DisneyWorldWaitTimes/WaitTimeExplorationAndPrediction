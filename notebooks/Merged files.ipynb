{
 "cells": [
  {
   "cell_type": "code",
   "execution_count": 15,
   "metadata": {},
   "outputs": [],
   "source": [
    "%run DataUpdate.ipynb"
   ]
  },
  {
   "cell_type": "code",
   "execution_count": 16,
   "metadata": {},
   "outputs": [],
   "source": [
    "import pandas as pd\n",
    "import datetime\n",
    "\n",
    "import warnings\n",
    "warnings.filterwarnings('ignore')"
   ]
  },
  {
   "cell_type": "code",
   "execution_count": 17,
   "metadata": {},
   "outputs": [
    {
     "name": "stdout",
     "output_type": "stream",
     "text": [
      "21\n",
      "21\n"
     ]
    }
   ],
   "source": [
    "ride_files = ['../data/raw/7_dwarfs_train.csv', '../data/raw/astro_orbiter.csv', '../data/raw/barnstormer.csv', \n",
    "              '../data/raw/big_thunder_mtn.csv','../data/raw/buzz_lightyear.csv', '../data/raw/carousel_of_progress.csv', \n",
    "              '../data/raw/dumbo.csv', '../data/raw/haunted_mansion.csv', '../data/raw/it_s_a_small_world.csv', \n",
    "              '../data/raw/jungle_cruise.csv', '../data/raw/mad_tea_party.csv', '../data/raw/magic_carpets.csv', \n",
    "             '../data/raw/main_st_vehicles.csv', '../data/raw/peoplemover.csv', '../data/raw/peter_pan_s_flight.csv',\n",
    "             '../data/raw/pirates_of_caribbean.csv', '../data/raw/regal_carrousel.csv', '../data/raw/space_mountain.csv', \n",
    "              '../data/raw/splash_mountain.csv','../data/raw/tom_land_speedway.csv', '../data/raw/winnie_the_pooh.csv']\n",
    "ride_names = ['Seven Dwarfs Mine Train', 'Astro Orbiter', 'The Barnstormer', 'Big Thunder Mountain Railroad',\n",
    "             \"Buzz Lightyear's Space Ranger Spin\", \"Walt Disney's Carousel of Progress\", 'Dumbo the Flying Elephant',\n",
    "             'Haunted Mansion', \"It's a Small World\", 'Jungle Cruise', 'Mad Tea Party', 'The Magic Carpets of Aladdin', \n",
    "             'Main Street Vehicles', 'Tomorrowland Transit Authority PeopleMover', \"Peter Pan's Flight\",\n",
    "             'Pirates of the Caribbean', 'Prince Charming Regal Carrousel', 'Space Mountain', 'Splash Mountain',\n",
    "             'Tomorrowland Speedway', 'The Many Adventures of Winnie the Pooh']\n",
    "print(len(ride_files))\n",
    "print(len(ride_names))"
   ]
  },
  {
   "cell_type": "code",
   "execution_count": 18,
   "metadata": {},
   "outputs": [],
   "source": [
    "park_metadata = pd.read_csv('../data/raw/park_metadata.csv')\n",
    "ride_metadata = pd.read_excel('../data/raw/WDW_Ride_Data_DW.xlsx')\n",
    "other_ride_metadata = pd.read_csv('../data/raw/ride_metadata.csv')"
   ]
  },
  {
   "cell_type": "code",
   "execution_count": 19,
   "metadata": {},
   "outputs": [
    {
     "name": "stdout",
     "output_type": "stream",
     "text": [
      "(5654849, 213)\n"
     ]
    }
   ],
   "source": [
    "allRides = cleanData(ride_files, ride_names)\n",
    "allRides['DATE'] = allRides['date']\n",
    "combinedData = pd.concat([allRides, park_metadata], axis = 1)\n",
    "print(combinedData.shape)"
   ]
  },
  {
   "cell_type": "code",
   "execution_count": null,
   "metadata": {},
   "outputs": [],
   "source": [
    "combinedData = combinedData.drop(columns = ['DATE'])"
   ]
  },
  {
   "cell_type": "code",
   "execution_count": null,
   "metadata": {},
   "outputs": [],
   "source": [
    "def seperateYearsAndWriteToCSV(df, year):\n",
    "    dfYear = df[df['date'].dt.year==year]\n",
    "    dfYear.to_csv(f'../data/interim/rideData{year}.csv')"
   ]
  },
  {
   "cell_type": "code",
   "execution_count": 13,
   "metadata": {},
   "outputs": [],
   "source": [
    "for x in range(2015,2022):\n",
    "    seperateYearsAndWriteToCSV(combinedData, x)"
   ]
  },
  {
   "cell_type": "code",
   "execution_count": null,
   "metadata": {},
   "outputs": [],
   "source": []
  }
 ],
 "metadata": {
  "kernelspec": {
   "display_name": "Python 3",
   "language": "python",
   "name": "python3"
  },
  "language_info": {
   "codemirror_mode": {
    "name": "ipython",
    "version": 3
   },
   "file_extension": ".py",
   "mimetype": "text/x-python",
   "name": "python",
   "nbconvert_exporter": "python",
   "pygments_lexer": "ipython3",
   "version": "3.7.3"
  }
 },
 "nbformat": 4,
 "nbformat_minor": 5
}
