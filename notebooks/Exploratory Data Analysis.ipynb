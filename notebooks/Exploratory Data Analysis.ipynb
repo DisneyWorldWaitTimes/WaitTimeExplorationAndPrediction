{
 "cells": [
  {
   "cell_type": "code",
   "execution_count": 1,
   "id": "1deb1b89",
   "metadata": {},
   "outputs": [],
   "source": [
    "import pandas as pd\n",
    "import numpy as np\n",
    "import matplotlib.pyplot as plt\n",
    "from scipy.stats import ttest_ind\n",
    "\n",
    "import warnings\n",
    "warnings.filterwarnings('ignore')"
   ]
  },
  {
   "cell_type": "code",
   "execution_count": 2,
   "id": "d38e8b51",
   "metadata": {},
   "outputs": [],
   "source": [
    "# rideData2015 = pd.read_csv('rideData2015.csv')\n",
    "# rideData2016 = pd.read_csv('rideData2016.csv')\n",
    "# rideData2017 = pd.read_csv('rideData2017.csv')\n",
    "# rideData2018 = pd.read_csv('rideData2018.csv')\n",
    "# rideData2019 = pd.read_csv('rideData2019.csv')\n",
    "# rideData2020 = pd.read_csv('rideData2020.csv')\n",
    "# rideData2021 = pd.read_csv('rideData2021.csv')"
   ]
  },
  {
   "cell_type": "code",
   "execution_count": 3,
   "id": "2ac889d6",
   "metadata": {},
   "outputs": [],
   "source": [
    "# data_list = [rideData2015, rideData2016, rideData2017, rideData2018, rideData2019, rideData2020, rideData2021]\n",
    "# data = pd.DataFrame()\n",
    "# for i in range(len(data_list)):\n",
    "#     data = pd.concat([data, data_list[i]])\n",
    "# data = data.reset_index().drop(columns = ['index', 'Unnamed: 0'])"
   ]
  },
  {
   "cell_type": "code",
   "execution_count": 4,
   "id": "0182385f",
   "metadata": {},
   "outputs": [],
   "source": [
    "# for column in data.columns:\n",
    "#     print(column)"
   ]
  },
  {
   "cell_type": "markdown",
   "id": "15ec0b55",
   "metadata": {},
   "source": [
    "Due to the time it takes to look at all years at once, for this EDA notebook, we will just look at 2018 data. It is a well representative year as it was before Covid hit."
   ]
  },
  {
   "cell_type": "code",
   "execution_count": 5,
   "id": "38e7257a",
   "metadata": {},
   "outputs": [],
   "source": [
    "rideData2018 = pd.read_csv('rideData2018.csv')"
   ]
  },
  {
   "cell_type": "markdown",
   "id": "cb0ca99a",
   "metadata": {},
   "source": [
    "First, let's look at posted wait times and actual wait times."
   ]
  },
  {
   "cell_type": "code",
   "execution_count": 6,
   "id": "243dc116",
   "metadata": {},
   "outputs": [],
   "source": [
    "# removing -999 values missing\n",
    "# removing nan\n",
    "rideData2018_waits = rideData2018[rideData2018['SPOSTMIN'] != -999]"
   ]
  },
  {
   "cell_type": "code",
   "execution_count": 7,
   "id": "b1d07818",
   "metadata": {},
   "outputs": [
    {
     "data": {
      "text/plain": [
       "count    12526.000000\n",
       "mean        19.351429\n",
       "std         21.145720\n",
       "min          0.000000\n",
       "25%          8.000000\n",
       "50%         15.000000\n",
       "75%         26.000000\n",
       "max       1511.000000\n",
       "Name: SACTMIN, dtype: float64"
      ]
     },
     "execution_count": 7,
     "metadata": {},
     "output_type": "execute_result"
    }
   ],
   "source": [
    "rideData2018_waits['SACTMIN'].describe()"
   ]
  },
  {
   "cell_type": "code",
   "execution_count": 8,
   "id": "e03d48a3",
   "metadata": {},
   "outputs": [
    {
     "data": {
      "text/plain": [
       "count    824950.000000\n",
       "mean         36.085010\n",
       "std          29.298095\n",
       "min           0.000000\n",
       "25%          15.000000\n",
       "50%          30.000000\n",
       "75%          50.000000\n",
       "max         330.000000\n",
       "Name: SPOSTMIN, dtype: float64"
      ]
     },
     "execution_count": 8,
     "metadata": {},
     "output_type": "execute_result"
    }
   ],
   "source": [
    "rideData2018_waits['SPOSTMIN'].describe()"
   ]
  },
  {
   "cell_type": "markdown",
   "id": "03691297",
   "metadata": {},
   "source": [
    "Looks like, overall, posted wait times are much larger than the actual wait times."
   ]
  },
  {
   "cell_type": "code",
   "execution_count": 9,
   "id": "1a99a893",
   "metadata": {},
   "outputs": [
    {
     "data": {
      "text/plain": [
       "(0.0, 200.0)"
      ]
     },
     "execution_count": 9,
     "metadata": {},
     "output_type": "execute_result"
    },
    {
     "data": {
      "image/png": "[encoded data removed]",
      "text/plain": [
       "<Figure size 432x288 with 1 Axes>"
      ]
     },
     "metadata": {
      "needs_background": "light"
     },
     "output_type": "display_data"
    }
   ],
   "source": [
    "actual_wait_times = rideData2018_waits['SACTMIN']\n",
    "# color = the blue of Cinderella's dress\n",
    "n, bins, patches = plt.hist(x=actual_wait_times, bins='auto', color = '#1590f4')\n",
    "plt.grid(axis='y')\n",
    "plt.xlabel('Value')\n",
    "plt.ylabel('Frequency')\n",
    "plt.title('Actual Ride Wait Times')\n",
    "plt.text(75, 250, r'$\\mu=19.35, b=21.15$')\n",
    "maxfreq = n.max()\n",
    "\n",
    "plt.ylim(ymax=np.ceil(maxfreq / 10) * 10 if maxfreq % 10 else maxfreq + 10)\n",
    "# limiting the x axis for visibility\n",
    "plt.xlim(xmin = 0, xmax = 200)"
   ]
  },
  {
   "cell_type": "code",
   "execution_count": 10,
   "id": "788b462c",
   "metadata": {},
   "outputs": [
    {
     "data": {
      "text/plain": [
       "(0.0, 200.0)"
      ]
     },
     "execution_count": 10,
     "metadata": {},
     "output_type": "execute_result"
    },
    {
     "data": {
      "image/png": "[encoded data removed]",
      "text/plain": [
       "<Figure size 432x288 with 1 Axes>"
      ]
     },
     "metadata": {
      "needs_background": "light"
     },
     "output_type": "display_data"
    }
   ],
   "source": [
    "posted_wait_times = rideData2018_waits['SPOSTMIN']\n",
    "# color = the blue of Cinderella's dress\n",
    "n, bins, patches = plt.hist(x=posted_wait_times, bins='auto', color = '#1590f4')\n",
    "plt.grid(axis='y')\n",
    "plt.xlabel('Value')\n",
    "plt.ylabel('Frequency')\n",
    "plt.title('Posted Ride Wait Times')\n",
    "plt.text(75, 250, r'$\\mu=36.09, b=29.30$')\n",
    "maxfreq = n.max()\n",
    "\n",
    "plt.ylim(ymax=np.ceil(maxfreq / 10) * 10 if maxfreq % 10 else maxfreq + 10)\n",
    "# limiting the x axis for visibility\n",
    "plt.xlim(xmin = 0, xmax = 200)"
   ]
  },
  {
   "cell_type": "markdown",
   "id": "bf459669",
   "metadata": {},
   "source": [
    "Wait time distributions are right skewed, which makes senses given that there are probably typical wait times and some that are very long."
   ]
  },
  {
   "cell_type": "markdown",
   "id": "b266858b",
   "metadata": {},
   "source": [
    "We can see that the mean wait times vary greatly between the actual and posted. Let's do a t-test to see if the two groups really differ. "
   ]
  },
  {
   "cell_type": "code",
   "execution_count": 11,
   "id": "6560fc6b",
   "metadata": {},
   "outputs": [
    {
     "data": {
      "text/plain": [
       "Ttest_indResult(statistic=87.3038825611486, pvalue=0.0)"
      ]
     },
     "execution_count": 11,
     "metadata": {},
     "output_type": "execute_result"
    }
   ],
   "source": [
    "group1 = rideData2018_waits['SPOSTMIN']\n",
    "group2 = rideData2018_waits['SACTMIN']\n",
    "\n",
    "ttest_ind(group1.dropna(), group2.dropna(), equal_var=False)"
   ]
  },
  {
   "cell_type": "markdown",
   "id": "2ad7d3cf",
   "metadata": {},
   "source": [
    "The posted and actual wait times are significantly different."
   ]
  },
  {
   "cell_type": "markdown",
   "id": "0dea6bd5",
   "metadata": {},
   "source": [
    "Now let's look at some quantitative variables we think might correlate with actual wait times. "
   ]
  },
  {
   "cell_type": "markdown",
   "id": "92b5726e",
   "metadata": {},
   "source": [
    "Time of year/month/week not available."
   ]
  },
  {
   "cell_type": "code",
   "execution_count": 12,
   "id": "e2e1e059",
   "metadata": {},
   "outputs": [
    {
     "data": {
      "text/html": [
       "<style type=\"text/css\">\n",
       "#T_b4aac_row0_col0, #T_b4aac_row1_col1, #T_b4aac_row2_col2, #T_b4aac_row3_col3, #T_b4aac_row4_col4, #T_b4aac_row4_col5, #T_b4aac_row5_col4, #T_b4aac_row5_col5, #T_b4aac_row6_col6, #T_b4aac_row7_col7 {\n",
       "  background-color: #08306b;\n",
       "  color: #f1f1f1;\n",
       "}\n",
       "#T_b4aac_row0_col1, #T_b4aac_row1_col0 {\n",
       "  background-color: #000000;\n",
       "  color: #f1f1f1;\n",
       "}\n",
       "#T_b4aac_row0_col2 {\n",
       "  background-color: #95c5df;\n",
       "  color: #000000;\n",
       "}\n",
       "#T_b4aac_row0_col3 {\n",
       "  background-color: #c3daee;\n",
       "  color: #000000;\n",
       "}\n",
       "#T_b4aac_row0_col4, #T_b4aac_row0_col5 {\n",
       "  background-color: #e6f0f9;\n",
       "  color: #000000;\n",
       "}\n",
       "#T_b4aac_row0_col6 {\n",
       "  background-color: #caddf0;\n",
       "  color: #000000;\n",
       "}\n",
       "#T_b4aac_row0_col7 {\n",
       "  background-color: #89bedc;\n",
       "  color: #000000;\n",
       "}\n",
       "#T_b4aac_row1_col2 {\n",
       "  background-color: #65aad4;\n",
       "  color: #f1f1f1;\n",
       "}\n",
       "#T_b4aac_row1_col3 {\n",
       "  background-color: #a9cfe5;\n",
       "  color: #000000;\n",
       "}\n",
       "#T_b4aac_row1_col4, #T_b4aac_row1_col5, #T_b4aac_row6_col4, #T_b4aac_row6_col5 {\n",
       "  background-color: #eef5fc;\n",
       "  color: #000000;\n",
       "}\n",
       "#T_b4aac_row1_col6 {\n",
       "  background-color: #e4eff9;\n",
       "  color: #000000;\n",
       "}\n",
       "#T_b4aac_row1_col7, #T_b4aac_row3_col7 {\n",
       "  background-color: #74b3d8;\n",
       "  color: #000000;\n",
       "}\n",
       "#T_b4aac_row2_col0 {\n",
       "  background-color: #b2d2e8;\n",
       "  color: #000000;\n",
       "}\n",
       "#T_b4aac_row2_col1 {\n",
       "  background-color: #60a7d2;\n",
       "  color: #f1f1f1;\n",
       "}\n",
       "#T_b4aac_row2_col3 {\n",
       "  background-color: #bcd7eb;\n",
       "  color: #000000;\n",
       "}\n",
       "#T_b4aac_row2_col4, #T_b4aac_row2_col5, #T_b4aac_row6_col0, #T_b4aac_row6_col1, #T_b4aac_row6_col2, #T_b4aac_row6_col3, #T_b4aac_row6_col7, #T_b4aac_row7_col6 {\n",
       "  background-color: #f7fbff;\n",
       "  color: #000000;\n",
       "}\n",
       "#T_b4aac_row2_col6 {\n",
       "  background-color: #deebf7;\n",
       "  color: #000000;\n",
       "}\n",
       "#T_b4aac_row2_col7 {\n",
       "  background-color: #97c6df;\n",
       "  color: #000000;\n",
       "}\n",
       "#T_b4aac_row3_col0 {\n",
       "  background-color: #eaf2fb;\n",
       "  color: #000000;\n",
       "}\n",
       "#T_b4aac_row3_col1 {\n",
       "  background-color: #b8d5ea;\n",
       "  color: #000000;\n",
       "}\n",
       "#T_b4aac_row3_col2 {\n",
       "  background-color: #cfe1f2;\n",
       "  color: #000000;\n",
       "}\n",
       "#T_b4aac_row3_col4, #T_b4aac_row3_col5 {\n",
       "  background-color: #85bcdc;\n",
       "  color: #000000;\n",
       "}\n",
       "#T_b4aac_row3_col6 {\n",
       "  background-color: #f1f7fd;\n",
       "  color: #000000;\n",
       "}\n",
       "#T_b4aac_row4_col0, #T_b4aac_row5_col0 {\n",
       "  background-color: #f2f7fd;\n",
       "  color: #000000;\n",
       "}\n",
       "#T_b4aac_row4_col1, #T_b4aac_row5_col1 {\n",
       "  background-color: #dce9f6;\n",
       "  color: #000000;\n",
       "}\n",
       "#T_b4aac_row4_col2, #T_b4aac_row5_col2 {\n",
       "  background-color: #ebf3fb;\n",
       "  color: #000000;\n",
       "}\n",
       "#T_b4aac_row4_col3, #T_b4aac_row5_col3 {\n",
       "  background-color: #64a9d3;\n",
       "  color: #f1f1f1;\n",
       "}\n",
       "#T_b4aac_row4_col6, #T_b4aac_row5_col6 {\n",
       "  background-color: #ccdff1;\n",
       "  color: #000000;\n",
       "}\n",
       "#T_b4aac_row4_col7, #T_b4aac_row5_col7 {\n",
       "  background-color: #9ac8e0;\n",
       "  color: #000000;\n",
       "}\n",
       "#T_b4aac_row7_col0, #T_b4aac_row7_col4, #T_b4aac_row7_col5 {\n",
       "  background-color: #c6dbef;\n",
       "  color: #000000;\n",
       "}\n",
       "#T_b4aac_row7_col1 {\n",
       "  background-color: #8abfdd;\n",
       "  color: #000000;\n",
       "}\n",
       "#T_b4aac_row7_col2 {\n",
       "  background-color: #b5d4e9;\n",
       "  color: #000000;\n",
       "}\n",
       "#T_b4aac_row7_col3 {\n",
       "  background-color: #7cb7da;\n",
       "  color: #000000;\n",
       "}\n",
       "</style>\n",
       "<table id=\"T_b4aac_\">\n",
       "  <thead>\n",
       "    <tr>\n",
       "      <th class=\"blank level0\" >&nbsp;</th>\n",
       "      <th class=\"col_heading level0 col0\" >SACTMIN</th>\n",
       "      <th class=\"col_heading level0 col1\" >SPOSTMIN</th>\n",
       "      <th class=\"col_heading level0 col2\" >Height_req_inches</th>\n",
       "      <th class=\"col_heading level0 col3\" >Ride_duration_min</th>\n",
       "      <th class=\"col_heading level0 col4\" >Age_of_ride_days</th>\n",
       "      <th class=\"col_heading level0 col5\" >Age_of_ride_years</th>\n",
       "      <th class=\"col_heading level0 col6\" >TL_rank</th>\n",
       "      <th class=\"col_heading level0 col7\" >TA_Stars</th>\n",
       "    </tr>\n",
       "  </thead>\n",
       "  <tbody>\n",
       "    <tr>\n",
       "      <th id=\"T_b4aac_level0_row0\" class=\"row_heading level0 row0\" >SACTMIN</th>\n",
       "      <td id=\"T_b4aac_row0_col0\" class=\"data row0 col0\" >1.000000</td>\n",
       "      <td id=\"T_b4aac_row0_col1\" class=\"data row0 col1\" >nan</td>\n",
       "      <td id=\"T_b4aac_row0_col2\" class=\"data row0 col2\" >0.196052</td>\n",
       "      <td id=\"T_b4aac_row0_col3\" class=\"data row0 col3\" >-0.094379</td>\n",
       "      <td id=\"T_b4aac_row0_col4\" class=\"data row0 col4\" >-0.140925</td>\n",
       "      <td id=\"T_b4aac_row0_col5\" class=\"data row0 col5\" >-0.140925</td>\n",
       "      <td id=\"T_b4aac_row0_col6\" class=\"data row0 col6\" >-0.174114</td>\n",
       "      <td id=\"T_b4aac_row0_col7\" class=\"data row0 col7\" >0.123535</td>\n",
       "    </tr>\n",
       "    <tr>\n",
       "      <th id=\"T_b4aac_level0_row1\" class=\"row_heading level0 row1\" >SPOSTMIN</th>\n",
       "      <td id=\"T_b4aac_row1_col0\" class=\"data row1 col0\" >nan</td>\n",
       "      <td id=\"T_b4aac_row1_col1\" class=\"data row1 col1\" >1.000000</td>\n",
       "      <td id=\"T_b4aac_row1_col2\" class=\"data row1 col2\" >0.354914</td>\n",
       "      <td id=\"T_b4aac_row1_col3\" class=\"data row1 col3\" >0.028759</td>\n",
       "      <td id=\"T_b4aac_row1_col4\" class=\"data row1 col4\" >-0.188840</td>\n",
       "      <td id=\"T_b4aac_row1_col5\" class=\"data row1 col5\" >-0.188840</td>\n",
       "      <td id=\"T_b4aac_row1_col6\" class=\"data row1 col6\" >-0.380422</td>\n",
       "      <td id=\"T_b4aac_row1_col7\" class=\"data row1 col7\" >0.201959</td>\n",
       "    </tr>\n",
       "    <tr>\n",
       "      <th id=\"T_b4aac_level0_row2\" class=\"row_heading level0 row2\" >Height_req_inches</th>\n",
       "      <td id=\"T_b4aac_row2_col0\" class=\"data row2 col0\" >0.196052</td>\n",
       "      <td id=\"T_b4aac_row2_col1\" class=\"data row2 col1\" >0.354914</td>\n",
       "      <td id=\"T_b4aac_row2_col2\" class=\"data row2 col2\" >1.000000</td>\n",
       "      <td id=\"T_b4aac_row2_col3\" class=\"data row2 col3\" >-0.059237</td>\n",
       "      <td id=\"T_b4aac_row2_col4\" class=\"data row2 col4\" >-0.251423</td>\n",
       "      <td id=\"T_b4aac_row2_col5\" class=\"data row2 col5\" >-0.251423</td>\n",
       "      <td id=\"T_b4aac_row2_col6\" class=\"data row2 col6\" >-0.332672</td>\n",
       "      <td id=\"T_b4aac_row2_col7\" class=\"data row2 col7\" >0.073030</td>\n",
       "    </tr>\n",
       "    <tr>\n",
       "      <th id=\"T_b4aac_level0_row3\" class=\"row_heading level0 row3\" >Ride_duration_min</th>\n",
       "      <td id=\"T_b4aac_row3_col0\" class=\"data row3 col0\" >-0.094379</td>\n",
       "      <td id=\"T_b4aac_row3_col1\" class=\"data row3 col1\" >0.028759</td>\n",
       "      <td id=\"T_b4aac_row3_col2\" class=\"data row3 col2\" >-0.059237</td>\n",
       "      <td id=\"T_b4aac_row3_col3\" class=\"data row3 col3\" >1.000000</td>\n",
       "      <td id=\"T_b4aac_row3_col4\" class=\"data row3 col4\" >0.292407</td>\n",
       "      <td id=\"T_b4aac_row3_col5\" class=\"data row3 col5\" >0.292407</td>\n",
       "      <td id=\"T_b4aac_row3_col6\" class=\"data row3 col6\" >-0.474764</td>\n",
       "      <td id=\"T_b4aac_row3_col7\" class=\"data row3 col7\" >0.200266</td>\n",
       "    </tr>\n",
       "    <tr>\n",
       "      <th id=\"T_b4aac_level0_row4\" class=\"row_heading level0 row4\" >Age_of_ride_days</th>\n",
       "      <td id=\"T_b4aac_row4_col0\" class=\"data row4 col0\" >-0.140925</td>\n",
       "      <td id=\"T_b4aac_row4_col1\" class=\"data row4 col1\" >-0.188840</td>\n",
       "      <td id=\"T_b4aac_row4_col2\" class=\"data row4 col2\" >-0.251423</td>\n",
       "      <td id=\"T_b4aac_row4_col3\" class=\"data row4 col3\" >0.292407</td>\n",
       "      <td id=\"T_b4aac_row4_col4\" class=\"data row4 col4\" >1.000000</td>\n",
       "      <td id=\"T_b4aac_row4_col5\" class=\"data row4 col5\" >1.000000</td>\n",
       "      <td id=\"T_b4aac_row4_col6\" class=\"data row4 col6\" >-0.192821</td>\n",
       "      <td id=\"T_b4aac_row4_col7\" class=\"data row4 col7\" >0.062333</td>\n",
       "    </tr>\n",
       "    <tr>\n",
       "      <th id=\"T_b4aac_level0_row5\" class=\"row_heading level0 row5\" >Age_of_ride_years</th>\n",
       "      <td id=\"T_b4aac_row5_col0\" class=\"data row5 col0\" >-0.140925</td>\n",
       "      <td id=\"T_b4aac_row5_col1\" class=\"data row5 col1\" >-0.188840</td>\n",
       "      <td id=\"T_b4aac_row5_col2\" class=\"data row5 col2\" >-0.251423</td>\n",
       "      <td id=\"T_b4aac_row5_col3\" class=\"data row5 col3\" >0.292407</td>\n",
       "      <td id=\"T_b4aac_row5_col4\" class=\"data row5 col4\" >1.000000</td>\n",
       "      <td id=\"T_b4aac_row5_col5\" class=\"data row5 col5\" >1.000000</td>\n",
       "      <td id=\"T_b4aac_row5_col6\" class=\"data row5 col6\" >-0.192821</td>\n",
       "      <td id=\"T_b4aac_row5_col7\" class=\"data row5 col7\" >0.062333</td>\n",
       "    </tr>\n",
       "    <tr>\n",
       "      <th id=\"T_b4aac_level0_row6\" class=\"row_heading level0 row6\" >TL_rank</th>\n",
       "      <td id=\"T_b4aac_row6_col0\" class=\"data row6 col0\" >-0.174114</td>\n",
       "      <td id=\"T_b4aac_row6_col1\" class=\"data row6 col1\" >-0.380422</td>\n",
       "      <td id=\"T_b4aac_row6_col2\" class=\"data row6 col2\" >-0.332672</td>\n",
       "      <td id=\"T_b4aac_row6_col3\" class=\"data row6 col3\" >-0.474764</td>\n",
       "      <td id=\"T_b4aac_row6_col4\" class=\"data row6 col4\" >-0.192821</td>\n",
       "      <td id=\"T_b4aac_row6_col5\" class=\"data row6 col5\" >-0.192821</td>\n",
       "      <td id=\"T_b4aac_row6_col6\" class=\"data row6 col6\" >1.000000</td>\n",
       "      <td id=\"T_b4aac_row6_col7\" class=\"data row6 col7\" >-0.528374</td>\n",
       "    </tr>\n",
       "    <tr>\n",
       "      <th id=\"T_b4aac_level0_row7\" class=\"row_heading level0 row7\" >TA_Stars</th>\n",
       "      <td id=\"T_b4aac_row7_col0\" class=\"data row7 col0\" >0.123535</td>\n",
       "      <td id=\"T_b4aac_row7_col1\" class=\"data row7 col1\" >0.201959</td>\n",
       "      <td id=\"T_b4aac_row7_col2\" class=\"data row7 col2\" >0.073030</td>\n",
       "      <td id=\"T_b4aac_row7_col3\" class=\"data row7 col3\" >0.200266</td>\n",
       "      <td id=\"T_b4aac_row7_col4\" class=\"data row7 col4\" >0.062333</td>\n",
       "      <td id=\"T_b4aac_row7_col5\" class=\"data row7 col5\" >0.062333</td>\n",
       "      <td id=\"T_b4aac_row7_col6\" class=\"data row7 col6\" >-0.528374</td>\n",
       "      <td id=\"T_b4aac_row7_col7\" class=\"data row7 col7\" >1.000000</td>\n",
       "    </tr>\n",
       "  </tbody>\n",
       "</table>\n"
      ],
      "text/plain": [
       "<pandas.io.formats.style.Styler at 0x121d6141d60>"
      ]
     },
     "execution_count": 12,
     "metadata": {},
     "output_type": "execute_result"
    }
   ],
   "source": [
    "rideData2018_waits[['SACTMIN', 'SPOSTMIN', 'Height_req_inches', 'Ride_duration_min', 'Age_of_ride_days', 'Age_of_ride_years', \n",
    "              'TL_rank', 'TA_Stars']].corr().style.background_gradient(cmap=\"Blues\")"
   ]
  },
  {
   "cell_type": "markdown",
   "id": "552dc82c",
   "metadata": {},
   "source": [
    "Required height and TA stars correlate the most, but still not a strong relationship."
   ]
  },
  {
   "cell_type": "markdown",
   "id": "394839cf",
   "metadata": {},
   "source": [
    "Now let's compare the wait times between some boolean variables, seeing if there is a significant difference between them. We'll also visually take a look at the differences."
   ]
  },
  {
   "cell_type": "code",
   "execution_count": 13,
   "id": "c3ac598e",
   "metadata": {},
   "outputs": [
    {
     "data": {
      "text/plain": [
       "Ttest_indResult(statistic=25.204917280210772, pvalue=2.974094234260892e-134)"
      ]
     },
     "execution_count": 13,
     "metadata": {},
     "output_type": "execute_result"
    }
   ],
   "source": [
    "group1 = rideData2018_waits[rideData2018_waits['Ride_type_thrill'] == True]['SACTMIN']\n",
    "group2 = rideData2018_waits[rideData2018_waits['Ride_type_thrill'] == False]['SACTMIN']\n",
    "\n",
    "ttest_ind(group1.dropna(), group2.dropna(), equal_var=False)"
   ]
  },
  {
   "cell_type": "code",
   "execution_count": 14,
   "id": "92d288c7",
   "metadata": {},
   "outputs": [
    {
     "data": {
      "image/png": "[encoded data removed]",
      "text/plain": [
       "<Figure size 432x288 with 1 Axes>"
      ]
     },
     "metadata": {
      "needs_background": "light"
     },
     "output_type": "display_data"
    }
   ],
   "source": [
    "boxplot_data = []\n",
    "box_labels = []\n",
    "for tf in [True, False]:\n",
    "    boxplot_data.append(list(rideData2018_waits[rideData2018_waits['Ride_type_thrill'] == tf]['SACTMIN'].dropna()))\n",
    "    box_labels.append(tf)\n",
    "    \n",
    "plt.boxplot(boxplot_data, showfliers=False, labels = box_labels)\n",
    "plt.xticks(rotation = 90)\n",
    "plt.title('Actual Wait Time: Ride_type_thrill')\n",
    "plt.show()"
   ]
  },
  {
   "cell_type": "code",
   "execution_count": 15,
   "id": "bc889a65",
   "metadata": {},
   "outputs": [
    {
     "data": {
      "text/plain": [
       "Ttest_indResult(statistic=-19.615152973468227, pvalue=5.652283903794417e-83)"
      ]
     },
     "execution_count": 15,
     "metadata": {},
     "output_type": "execute_result"
    }
   ],
   "source": [
    "group1 = rideData2018_waits[rideData2018_waits['Ride_type_spinning'] == True]['SACTMIN']\n",
    "group2 = rideData2018_waits[rideData2018_waits['Ride_type_spinning'] == False]['SACTMIN']\n",
    "\n",
    "ttest_ind(group1.dropna(), group2.dropna(), equal_var=False)"
   ]
  },
  {
   "cell_type": "code",
   "execution_count": 16,
   "id": "0eb0b8ee",
   "metadata": {},
   "outputs": [
    {
     "data": {
      "image/png": "[encoded data removed]",
      "text/plain": [
       "<Figure size 432x288 with 1 Axes>"
      ]
     },
     "metadata": {
      "needs_background": "light"
     },
     "output_type": "display_data"
    }
   ],
   "source": [
    "boxplot_data = []\n",
    "box_labels = []\n",
    "for tf in [True, False]:\n",
    "    boxplot_data.append(list(rideData2018_waits[rideData2018_waits['Ride_type_spinning'] == tf]['SACTMIN'].dropna()))\n",
    "    box_labels.append(tf)\n",
    "    \n",
    "plt.boxplot(boxplot_data, showfliers=False, labels = box_labels)\n",
    "plt.xticks(rotation = 90)\n",
    "plt.title('Actual Wait Time: Ride_type_spinning')\n",
    "plt.show()"
   ]
  },
  {
   "cell_type": "code",
   "execution_count": 17,
   "id": "b6c43089",
   "metadata": {},
   "outputs": [
    {
     "data": {
      "text/plain": [
       "Ttest_indResult(statistic=-19.35061744696635, pvalue=7.68310350152663e-82)"
      ]
     },
     "execution_count": 17,
     "metadata": {},
     "output_type": "execute_result"
    }
   ],
   "source": [
    "group1 = rideData2018_waits[rideData2018_waits['Ride_type_slow'] == True]['SACTMIN']\n",
    "group2 = rideData2018_waits[rideData2018_waits['Ride_type_slow'] == False]['SACTMIN']\n",
    "\n",
    "ttest_ind(group1.dropna(), group2.dropna(), equal_var=False)"
   ]
  },
  {
   "cell_type": "code",
   "execution_count": 18,
   "id": "54fc0972",
   "metadata": {},
   "outputs": [
    {
     "data": {
      "image/png": "[encoded data removed]",
      "text/plain": [
       "<Figure size 432x288 with 1 Axes>"
      ]
     },
     "metadata": {
      "needs_background": "light"
     },
     "output_type": "display_data"
    }
   ],
   "source": [
    "boxplot_data = []\n",
    "box_labels = []\n",
    "for tf in [True, False]:\n",
    "    boxplot_data.append(list(rideData2018_waits[rideData2018_waits['Ride_type_slow'] == tf]['SACTMIN'].dropna()))\n",
    "    box_labels.append(tf)\n",
    "    \n",
    "plt.boxplot(boxplot_data, showfliers=False, labels = box_labels)\n",
    "plt.xticks(rotation = 90)\n",
    "plt.title('Actual Wait Time: Ride_type_slow')\n",
    "plt.show()"
   ]
  },
  {
   "cell_type": "code",
   "execution_count": 19,
   "id": "cf868739",
   "metadata": {},
   "outputs": [
    {
     "data": {
      "text/plain": [
       "Ttest_indResult(statistic=16.388546936737136, pvalue=1.2669682435557811e-59)"
      ]
     },
     "execution_count": 19,
     "metadata": {},
     "output_type": "execute_result"
    }
   ],
   "source": [
    "group1 = rideData2018_waits[rideData2018_waits['Ride_type_small_drops'] == True]['SACTMIN']\n",
    "group2 = rideData2018_waits[rideData2018_waits['Ride_type_small_drops'] == False]['SACTMIN']\n",
    "\n",
    "ttest_ind(group1.dropna(), group2.dropna(), equal_var=False)"
   ]
  },
  {
   "cell_type": "code",
   "execution_count": 20,
   "id": "670a2767",
   "metadata": {},
   "outputs": [
    {
     "data": {
      "image/png": "[encoded data removed]",
      "text/plain": [
       "<Figure size 432x288 with 1 Axes>"
      ]
     },
     "metadata": {
      "needs_background": "light"
     },
     "output_type": "display_data"
    }
   ],
   "source": [
    "boxplot_data = []\n",
    "box_labels = []\n",
    "for tf in [True, False]:\n",
    "    boxplot_data.append(list(rideData2018_waits[rideData2018_waits['Ride_type_small_drops'] == tf]['SACTMIN'].dropna()))\n",
    "    box_labels.append(tf)\n",
    "    \n",
    "plt.boxplot(boxplot_data, showfliers=False, labels = box_labels)\n",
    "plt.xticks(rotation = 90)\n",
    "plt.title('Actual Wait Time: Ride_small_drops')\n",
    "plt.show()"
   ]
  },
  {
   "cell_type": "code",
   "execution_count": 21,
   "id": "7f7dafec",
   "metadata": {},
   "outputs": [
    {
     "data": {
      "text/plain": [
       "Ttest_indResult(statistic=11.53372650352807, pvalue=6.136725251161919e-30)"
      ]
     },
     "execution_count": 21,
     "metadata": {},
     "output_type": "execute_result"
    }
   ],
   "source": [
    "group1 = rideData2018_waits[rideData2018_waits['Ride_type_big_drops'] == True]['SACTMIN']\n",
    "group2 = rideData2018_waits[rideData2018_waits['Ride_type_big_drops'] == False]['SACTMIN']\n",
    "\n",
    "ttest_ind(group1.dropna(), group2.dropna(), equal_var=False)"
   ]
  },
  {
   "cell_type": "code",
   "execution_count": 22,
   "id": "3836ba8c",
   "metadata": {},
   "outputs": [
    {
     "data": {
      "image/png": "[encoded data removed]",
      "text/plain": [
       "<Figure size 432x288 with 1 Axes>"
      ]
     },
     "metadata": {
      "needs_background": "light"
     },
     "output_type": "display_data"
    }
   ],
   "source": [
    "boxplot_data = []\n",
    "box_labels = []\n",
    "for tf in [True, False]:\n",
    "    boxplot_data.append(list(rideData2018_waits[rideData2018_waits['Ride_type_big_drops'] == tf]['SACTMIN'].dropna()))\n",
    "    box_labels.append(tf)\n",
    "    \n",
    "plt.boxplot(boxplot_data, showfliers=False, labels = box_labels)\n",
    "plt.xticks(rotation = 90)\n",
    "plt.title('Actual Wait Time: Ride_type_big_drops')\n",
    "plt.show()"
   ]
  },
  {
   "cell_type": "code",
   "execution_count": 23,
   "id": "ab2d5a3e",
   "metadata": {},
   "outputs": [
    {
     "data": {
      "text/plain": [
       "Ttest_indResult(statistic=3.081613073555845, pvalue=0.0020707134792277327)"
      ]
     },
     "execution_count": 23,
     "metadata": {},
     "output_type": "execute_result"
    }
   ],
   "source": [
    "group1 = rideData2018_waits[rideData2018_waits['Ride_type_dark'] == True]['SACTMIN']\n",
    "group2 = rideData2018_waits[rideData2018_waits['Ride_type_dark'] == False]['SACTMIN']\n",
    "\n",
    "ttest_ind(group1.dropna(), group2.dropna(), equal_var=False)"
   ]
  },
  {
   "cell_type": "code",
   "execution_count": 24,
   "id": "b1258322",
   "metadata": {},
   "outputs": [
    {
     "data": {
      "image/png": "[encoded data removed]",
      "text/plain": [
       "<Figure size 432x288 with 1 Axes>"
      ]
     },
     "metadata": {
      "needs_background": "light"
     },
     "output_type": "display_data"
    }
   ],
   "source": [
    "boxplot_data = []\n",
    "box_labels = []\n",
    "for tf in [True, False]:\n",
    "    boxplot_data.append(list(rideData2018_waits[rideData2018_waits['Ride_type_dark'] == tf]['SACTMIN'].dropna()))\n",
    "    box_labels.append(tf)\n",
    "    \n",
    "plt.boxplot(boxplot_data, showfliers=False, labels = box_labels)\n",
    "plt.xticks(rotation = 90)\n",
    "plt.title('Actual Wait Time: Ride_type_dark')\n",
    "plt.show()"
   ]
  },
  {
   "cell_type": "code",
   "execution_count": 25,
   "id": "27525be5",
   "metadata": {},
   "outputs": [
    {
     "data": {
      "text/plain": [
       "Ttest_indResult(statistic=5.75490345010708, pvalue=1.2462347841021638e-08)"
      ]
     },
     "execution_count": 25,
     "metadata": {},
     "output_type": "execute_result"
    }
   ],
   "source": [
    "group1 = rideData2018_waits[rideData2018_waits['Ride_type_water'] == True]['SACTMIN']\n",
    "group2 = rideData2018_waits[rideData2018_waits['Ride_type_water'] == False]['SACTMIN']\n",
    "\n",
    "ttest_ind(group1.dropna(), group2.dropna(), equal_var=False)"
   ]
  },
  {
   "cell_type": "code",
   "execution_count": 26,
   "id": "1c6d44d8",
   "metadata": {},
   "outputs": [
    {
     "data": {
      "image/png": "[encoded data removed]",
      "text/plain": [
       "<Figure size 432x288 with 1 Axes>"
      ]
     },
     "metadata": {
      "needs_background": "light"
     },
     "output_type": "display_data"
    }
   ],
   "source": [
    "boxplot_data = []\n",
    "box_labels = []\n",
    "for tf in [True, False]:\n",
    "    boxplot_data.append(list(rideData2018_waits[rideData2018_waits['Ride_type_water'] == tf]['SACTMIN'].dropna()))\n",
    "    box_labels.append(tf)\n",
    "    \n",
    "plt.boxplot(boxplot_data, showfliers=False, labels = box_labels)\n",
    "plt.xticks(rotation = 90)\n",
    "plt.title('Actual Wait Time: Ride_type_water')\n",
    "plt.show()"
   ]
  },
  {
   "cell_type": "code",
   "execution_count": 27,
   "id": "5f5f0aaa",
   "metadata": {},
   "outputs": [
    {
     "data": {
      "text/plain": [
       "Ttest_indResult(statistic=32.060393882181636, pvalue=1.5377023504012654e-199)"
      ]
     },
     "execution_count": 27,
     "metadata": {},
     "output_type": "execute_result"
    }
   ],
   "source": [
    "group1 = rideData2018_waits[rideData2018_waits['Fast_pass'] == True]['SACTMIN']\n",
    "group2 = rideData2018_waits[rideData2018_waits['Fast_pass'] == False]['SACTMIN']\n",
    "\n",
    "ttest_ind(group1.dropna(), group2.dropna(), equal_var=False)"
   ]
  },
  {
   "cell_type": "code",
   "execution_count": 28,
   "id": "f98189c7",
   "metadata": {},
   "outputs": [
    {
     "data": {
      "image/png": "[encoded data removed]",
      "text/plain": [
       "<Figure size 432x288 with 1 Axes>"
      ]
     },
     "metadata": {
      "needs_background": "light"
     },
     "output_type": "display_data"
    }
   ],
   "source": [
    "boxplot_data = []\n",
    "box_labels = []\n",
    "for tf in [True, False]:\n",
    "    boxplot_data.append(list(rideData2018_waits[rideData2018_waits['Fast_pass'] == tf]['SACTMIN'].dropna()))\n",
    "    box_labels.append(tf)\n",
    "    \n",
    "plt.boxplot(boxplot_data, showfliers=False, labels = box_labels)\n",
    "plt.xticks(rotation = 90)\n",
    "plt.title('Actual Wait Time: Fast_pass')\n",
    "plt.show()"
   ]
  },
  {
   "cell_type": "markdown",
   "id": "73e07eb5",
   "metadata": {},
   "source": [
    "Looks like there are significant wait time differences between all of them. Now let's see all of these characteristics lined up in one chart."
   ]
  },
  {
   "cell_type": "code",
   "execution_count": 29,
   "id": "e8938df9",
   "metadata": {},
   "outputs": [
    {
     "data": {
      "image/png": "[encoded data removed]",
      "text/plain": [
       "<Figure size 432x288 with 1 Axes>"
      ]
     },
     "metadata": {
      "needs_background": "light"
     },
     "output_type": "display_data"
    }
   ],
   "source": [
    "attribute_list = ['Ride_type_thrill', 'Ride_type_spinning', 'Ride_type_slow', 'Ride_type_small_drops', 'Ride_type_big_drops',\n",
    "                 'Ride_type_dark', 'Ride_type_water']\n",
    "boxplot_data = []\n",
    "box_labels = []\n",
    "for att in attribute_list:\n",
    "    boxplot_data.append(list(rideData2018_waits[rideData2018_waits[att] == True]['SACTMIN'].dropna()))\n",
    "    box_labels.append(att)\n",
    "    \n",
    "plt.boxplot(boxplot_data, showfliers=False, labels = box_labels)\n",
    "plt.xticks(rotation = 90)\n",
    "plt.title('Actual Wait Time')\n",
    "plt.show()"
   ]
  },
  {
   "cell_type": "markdown",
   "id": "dea3b7c2",
   "metadata": {},
   "source": [
    "What we can see from the chart above is that thrill rides have the largest mean wait time. Water rides, rides with big drops, and water rides have a large range of wait times. Spinning rides have the smallest mean wait time and the smallest range of wait times."
   ]
  },
  {
   "cell_type": "markdown",
   "id": "24715a97",
   "metadata": {},
   "source": [
    "Now let's visualize the distributions of wait times across all the rides"
   ]
  },
  {
   "cell_type": "code",
   "execution_count": 30,
   "id": "e1115dce",
   "metadata": {},
   "outputs": [],
   "source": [
    "boxplot_data = []\n",
    "box_labels = []\n",
    "for ride in list(set(rideData2018_waits['Ride_name'])):\n",
    "    boxplot_data.append(list(rideData2018_waits[rideData2018_waits['Ride_name'] == ride]['SACTMIN'].dropna()))\n",
    "    box_labels.append(ride)"
   ]
  },
  {
   "cell_type": "code",
   "execution_count": 35,
   "id": "1a5e1fc0",
   "metadata": {
    "scrolled": true
   },
   "outputs": [
    {
     "data": {
      "image/png": "[encoded data removed]",
      "text/plain": [
       "<Figure size 432x288 with 1 Axes>"
      ]
     },
     "metadata": {
      "needs_background": "light"
     },
     "output_type": "display_data"
    }
   ],
   "source": [
    "plt.boxplot(boxplot_data, showfliers=False, labels = box_labels)\n",
    "plt.xticks(rotation = 90)\n",
    "plt.title('Actual Wait Time')\n",
    "plt.show()"
   ]
  },
  {
   "cell_type": "markdown",
   "id": "336904e1",
   "metadata": {},
   "source": [
    "The ride with the smallest mean wait time and the smallest range wait time is Walt Disney's Carousel of Progress. The ride with the largest range wait time and largest mean wait time is Seven Dwarf's Mine Train. "
   ]
  },
  {
   "cell_type": "code",
   "execution_count": 39,
   "id": "db60ebcb",
   "metadata": {},
   "outputs": [
    {
     "data": {
      "image/png": "[encoded data removed]",
      "text/plain": [
       "<Figure size 432x288 with 1 Axes>"
      ]
     },
     "metadata": {
      "needs_background": "light"
     },
     "output_type": "display_data"
    }
   ],
   "source": [
    "areas = []\n",
    "area_data = []\n",
    "for area in list(set(rideData2018_waits['Park_area'])):\n",
    "    areas.append(area)\n",
    "    area_data.append(list(rideData2018_waits[rideData2018_waits['Park_area'] == area]['SACTMIN'].dropna()))\n",
    "    \n",
    "plt.boxplot(area_data, showfliers=False, labels = areas)\n",
    "plt.xticks(rotation = 90)\n",
    "plt.title('Actual Wait Time')\n",
    "plt.show()"
   ]
  },
  {
   "cell_type": "markdown",
   "id": "f53325be",
   "metadata": {},
   "source": [
    "The area with the largest range of wait times is Frontierland and the area with the smallest range of wait times is Tomorrowland."
   ]
  },
  {
   "cell_type": "code",
   "execution_count": 36,
   "id": "21960743",
   "metadata": {
    "scrolled": false
   },
   "outputs": [
    {
     "name": "stdout",
     "output_type": "stream",
     "text": [
      "Unnamed: 0\n",
      "date\n",
      "datetime\n",
      "SACTMIN\n",
      "SPOSTMIN\n",
      "Ride_name\n",
      "Park_location\n",
      "Park_area\n",
      "Ride_type_all\n",
      "Ride_type_thrill\n",
      "Ride_type_spinning\n",
      "Ride_type_slow\n",
      "Ride_type_small_drops\n",
      "Ride_type_big_drops\n",
      "Ride_type_dark\n",
      "Ride_type_scary\n",
      "Ride_type_water\n",
      "Fast_pass\n",
      "Classic\n",
      "Age_interest_all\n",
      "Age_interest_preschoolers\n",
      "Age_interest_kids\n",
      "Age_interest_tweens\n",
      "Age_interest_teens\n",
      "Age_interest_adults\n",
      "Height_req_inches\n",
      "Ride_duration_min\n",
      "Open_date\n",
      "Age_of_ride_days\n",
      "Age_of_ride_years\n",
      "TL_rank\n",
      "TA_Stars\n",
      "WDW_TICKET_SEASON\n",
      "DAYOFWEEK\n",
      "DAYOFYEAR\n",
      "WEEKOFYEAR\n",
      "MONTHOFYEAR\n",
      "YEAR\n",
      "SEASON\n",
      "HOLIDAYPX\n",
      "HOLIDAYM\n",
      "HOLIDAYN\n",
      "HOLIDAY\n",
      "WDWTICKETSEASON\n",
      "WDWRaceN\n",
      "WDWeventN\n",
      "WDWevent\n",
      "WDWrace\n",
      "WDWSEASON\n",
      "WDWMAXTEMP\n",
      "WDWMINTEMP\n",
      "WDWMEANTEMP\n",
      "MKeventN\n",
      "MKevent\n",
      "EPeventN\n",
      "EPevent\n",
      "HSeventN\n",
      "HSevent\n",
      "AKeventN\n",
      "AKevent\n",
      "HOLIDAYJ\n",
      "inSession\n",
      "inSession_Enrollment\n",
      "inSession_wdw\n",
      "inSession_dlr\n",
      "inSession_sqrt_WDW\n",
      "inSession_sqrt_DLR\n",
      "inSession_California\n",
      "inSession_DC\n",
      "inSession_Central_FL\n",
      "inSession_Drive1_FL\n",
      "inSession_Drive2_FL\n",
      "inSession_Drive_CA\n",
      "inSession_Florida\n",
      "inSession_Mardi_Gras\n",
      "inSession_Midwest\n",
      "inSession_NY_NJ\n",
      "inSession_NY_NJ_PA\n",
      "inSession_New_England\n",
      "inSession_New_Jersey\n",
      "inSession_Nothwest\n",
      "INSESSION_PLANES\n",
      "inSession_SoCal\n",
      "inSession_Southwest\n",
      "MKEMHMORN\n",
      "MKEMHMYEST\n",
      "MKEMHMTOM\n",
      "MKEMHEVE\n",
      "MKHOURSEMH\n",
      "MKHOURSEMHYEST\n",
      "MKHOURSEMHTOM\n",
      "MKEMHEYEST\n",
      "MKEMHETOM\n",
      "EPEMHMORN\n",
      "EPEMHMYEST\n",
      "EPEMHMTOM\n",
      "EPEMHEVE\n",
      "EPEMHEYEST\n",
      "EPEMHETOM\n",
      "EPHOURSEMH\n",
      "EPHOURSEMHYEST\n",
      "EPHOURSEMHTOM\n",
      "HSEMHMORN\n",
      "HSEMHMYEST\n",
      "HSEMHMTOM\n",
      "HSEMHEVE\n",
      "HSEMHEYEST\n",
      "HSEMHETOM\n",
      "HSHOURSEMH\n",
      "HSHOURSEMHYEST\n",
      "HSHOURSEMHTOM\n",
      "AKEMHMORN\n",
      "AKEMHMYEST\n",
      "AKEMHMTOM\n",
      "AKEMHEVE\n",
      "AKEMHEYEST\n",
      "AKEMHETOM\n",
      "AKHOURSEMH\n",
      "AKHOURSEMHYEST\n",
      "AKHOURSEMHTOM\n",
      "MKOPEN\n",
      "MKCLOSE\n",
      "MKHOURS\n",
      "MKEMHOPEN\n",
      "MKEMHCLOSE\n",
      "MKOPENYEST\n",
      "MKCLOSEYEST\n",
      "MKHOURSYEST\n",
      "MKOPENTOM\n",
      "MKCLOSETOM\n",
      "MKHOURSTOM\n",
      "EPOPEN\n",
      "EPCLOSE\n",
      "EPHOURS\n",
      "EPEMHOPEN\n",
      "EPEMHCLOSE\n",
      "EPOPENYEST\n",
      "EPCLOSEYEST\n",
      "EPHOURSYEST\n",
      "EPOPENTOM\n",
      "EPCLOSETOM\n",
      "EPHOURSTOM\n",
      "HSOPEN\n",
      "HSCLOSE\n",
      "HSHOURS\n",
      "HSEMHOPEN\n",
      "HSEMHCLOSE\n",
      "HSOPENYEST\n",
      "HSCLOSEYEST\n",
      "HSHOURSYEST\n",
      "HSOPENTOM\n",
      "HSCLOSETOM\n",
      "HSHOURSTOM\n",
      "AKOPEN\n",
      "AKCLOSE\n",
      "AKHOURS\n",
      "AKEMHOPEN\n",
      "AKEMHCLOSE\n",
      "AKOPENYEST\n",
      "AKCLOSEYEST\n",
      "AKHOURSYEST\n",
      "AKOPENTOM\n",
      "AKCLOSETOM\n",
      "AKHOURSTOM\n",
      "WEATHER_WDWHIGH\n",
      "WEATHER_WDWLOW\n",
      "WEATHER_WDWPRECIP\n",
      "CapacityLost_MK\n",
      "CapacityLost_EP\n",
      "CapacityLost_HS\n",
      "CapacityLost_AK\n",
      "CapacityLostWGT_MK\n",
      "CapacityLostWGT_EP\n",
      "CapacityLostWGT_HS\n",
      "CapacityLostWGT_AK\n",
      "MKPRDDAY\n",
      "MKPRDDT1\n",
      "MKPRDDT2\n",
      "MKPRDDN\n",
      "MKPRDNGT\n",
      "MKPRDNT1\n",
      "MKPRDNT2\n",
      "MKPRDNN\n",
      "MKFIREWK\n",
      "MKFIRET1\n",
      "MKFIRET2\n",
      "MKFIREN\n",
      "EPFIREWK\n",
      "EPFIRET1\n",
      "EPFIRET2\n",
      "EPFIREN\n",
      "HSPRDDAY\n",
      "HSPRDDT1\n",
      "HSPRDDN\n",
      "HSFIREWK\n",
      "HSFIRET1\n",
      "HSFIRET2\n",
      "HSFIREN\n",
      "HSSHWNGT\n",
      "HSSHWNT1\n",
      "HSSHWNT2\n",
      "HSSHWNN\n",
      "HSFIREWKS\n",
      "AKPRDDAY\n",
      "AKPRDDT1\n",
      "AKPRDDT2\n",
      "AKPRDDN\n",
      "AKFIREN\n",
      "AKSHWNGT\n",
      "AKSHWNT1\n",
      "AKSHWNT2\n",
      "AKSHWNN\n"
     ]
    }
   ],
   "source": [
    "for col in rideData2018_waits.columns:\n",
    "    print(col)"
   ]
  },
  {
   "cell_type": "markdown",
   "id": "9fd53bec",
   "metadata": {},
   "source": [
    "A lot of columns in the data are completely or nearly empty, those will be eliminated before modeling."
   ]
  }
 ],
 "metadata": {
  "kernelspec": {
   "display_name": "Python 3",
   "language": "python",
   "name": "python3"
  },
  "language_info": {
   "codemirror_mode": {
    "name": "ipython",
    "version": 3
   },
   "file_extension": ".py",
   "mimetype": "text/x-python",
   "name": "python",
   "nbconvert_exporter": "python",
   "pygments_lexer": "ipython3",
   "version": "3.8.8"
  }
 },
 "nbformat": 4,
 "nbformat_minor": 5
}
