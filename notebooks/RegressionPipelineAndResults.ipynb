{
 "cells": [
  {
   "cell_type": "code",
   "execution_count": 7,
   "id": "c3588541-6d10-4417-a9f0-9abaa0e2e35e",
   "metadata": {},
   "outputs": [],
   "source": [
    "import warnings\n",
    "warnings.filterwarnings('ignore')\n",
    "\n",
    "import swifter\n",
    "import importlib.util\n",
    "from sklearn.preprocessing import RobustScaler, FunctionTransformer\n",
    "from sklearn.compose import make_column_selector as selector, ColumnTransformer, make_column_transformer\n",
    "from sklearn.feature_selection import VarianceThreshold\n",
    "from sklearn.pipeline import Pipeline\n",
    "from sklearn.ensemble import RandomForestRegressor\n",
    "from sklearn import metrics\n",
    "\n",
    "from sklearn.tree import DecisionTreeRegressor\n",
    "from sklearn.ensemble import ExtraTreesRegressor\n",
    "\n",
    "\n",
    "import pandas as pd\n",
    "import numpy as np\n",
    "from scipy.stats import skew\n",
    "import joblib\n",
    "import altair as alt\n",
    "from altair_saver import save\n",
    "\n",
    "import re\n",
    "import json"
   ]
  },
  {
   "cell_type": "code",
   "execution_count": 8,
   "id": "c531a0eb-a6a7-4852-9ee3-ef41d71967ba",
   "metadata": {},
   "outputs": [],
   "source": [
    "parse_times = [\"MKOPEN\", \"MKCLOSE\", \"MKEMHOPEN\", \"MKEMHCLOSE\",\n",
    "               \"MKOPENYEST\", \"MKCLOSEYEST\", \"MKOPENTOM\",\n",
    "               \"MKCLOSETOM\",\"EPOPEN\", \"EPCLOSE\", \"EPEMHOPEN\",\n",
    "               \"EPEMHCLOSE\", \"EPOPENYEST\", \"EPCLOSEYEST\",\n",
    "               \"EPOPENTOM\", \"EPCLOSETOM\", \"HSOPEN\", \"HSCLOSE\",\n",
    "               \"HSEMHOPEN\", \"HSEMHCLOSE\", \"HSOPENYEST\", \"HSCLOSEYEST\",\n",
    "               \"HSOPENTOM\", \"HSCLOSETOM\", \"AKOPEN\", \"AKCLOSE\",\n",
    "               \"AKEMHOPEN\", \"AKOPENYEST\", \"AKCLOSEYEST\",\"AKEMHCLOSE\",\n",
    "               \"AKOPENTOM\", \"AKCLOSETOM\", \"MKPRDDT1\", \"MKPRDDT2\",\n",
    "               \"MKPRDNT1\", \"MKPRDNT2\", \"MKFIRET1\", \"MKFIRET2\",\n",
    "               \"EPFIRET1\", \"EPFIRET2\", \"HSPRDDT1\", \"HSFIRET1\",\n",
    "               \"HSFIRET2\", \"HSSHWNT1\", \"HSSHWNT2\", \"AKPRDDT1\",\n",
    "               \"AKPRDDT2\", \"AKSHWNT1\", \"AKSHWNT2\"]"
   ]
  },
  {
   "cell_type": "code",
   "execution_count": 9,
   "id": "ee7815b7-a29c-40be-8c4b-68ab5290896f",
   "metadata": {
    "jupyter": {
     "source_hidden": true
    },
    "tags": []
   },
   "outputs": [],
   "source": [
    "def setup():\n",
    "    with open(\"../data/processed/dtypes_parsed.json\") as json_file:\n",
    "        dtypes = json.load(json_file)\n",
    "\n",
    "    return dtypes\n",
    "\n",
    "\n",
    "def loadTrainTestPostedWaitTimes():\n",
    "    \"\"\"\n",
    "            Loads train test data for posted wait times\n",
    "\n",
    "            How to use:\n",
    "\n",
    "            import importlib.util\n",
    "\n",
    "            spec = importlib.util.spec_from_file_location(\"loadTrainTestPostedWaitTimes\", \"src/data/loadTrainTestData.py\")\n",
    "            loadTrainPosted = importlib.util.module_from_spec(spec)\n",
    "            spec.loader.exec_module(loadTrainPosted)\n",
    "\n",
    "            X_train_posted, X_test_posted, y_train_posted, y_test_posted = loadTrainPosted.loadTrainTestPostedWaitTimes()\n",
    "\n",
    "            Parameters\n",
    "            ----------\n",
    "\n",
    "            Returns\n",
    "            -------\n",
    "            rideDataDf_trainX - train data features for posted wait times\n",
    "            rideDataDf_testX - test data features for posted wait times\n",
    "            rideDataDf_trainY - train data targets for posted wait times\n",
    "            rideDataDf_testY - test data targets for posted wait times\n",
    "\n",
    "        \"\"\"\n",
    "    parse_dates = ['date', 'datetime']\n",
    "    X_train_list = []\n",
    "    y_train_list = []\n",
    "    dtypes = setup()\n",
    "\n",
    "    for year in range(2015, 2022):\n",
    "\n",
    "        rideData = pd.read_csv(f'../data/processed/All_train_postedtimes{year}.csv', dtype=dtypes,\n",
    "                               parse_dates=parse_dates, compression='gzip')\n",
    "        rideDataX = rideData.drop(columns=[\"POSTED_WAIT\"])\n",
    "        rideDataY = rideData[\"POSTED_WAIT\"]\n",
    "        X_train_list.append(rideDataX)\n",
    "        y_train_list.append(rideDataY)\n",
    "\n",
    "    rideDataDf_trainX = pd.concat(X_train_list, ignore_index=True)\n",
    "    rideDataDf_trainY = pd.concat(y_train_list, ignore_index=True)\n",
    "\n",
    "\n",
    "    X_test_list = []\n",
    "    y_test_list = []\n",
    "\n",
    "    for year in range(2015, 2022):\n",
    "        rideData = pd.read_csv(f'../data/processed/All_test_postedtimes{year}.csv', dtype=dtypes,\n",
    "                               parse_dates=parse_dates, compression='gzip')\n",
    "        rideDataX = rideData.drop(columns=[\"POSTED_WAIT\"])\n",
    "        rideDataY = rideData[\"POSTED_WAIT\"]\n",
    "\n",
    "        X_test_list.append(rideDataX)\n",
    "        y_test_list.append(rideDataY)\n",
    "\n",
    "    rideDataDf_testX = pd.concat(X_test_list, ignore_index=True)\n",
    "    rideDataDf_testY = pd.concat(y_test_list, ignore_index=True)\n",
    "\n",
    "    return rideDataDf_trainX, rideDataDf_testX, rideDataDf_trainY, rideDataDf_testY"
   ]
  },
  {
   "cell_type": "code",
   "execution_count": null,
   "id": "45a14d94-8be8-4558-802e-943b467d2190",
   "metadata": {},
   "outputs": [],
   "source": [
    "X_train, X_test, y_train, y_test = loadTrainTestPostedWaitTimes()"
   ]
  },
  {
   "cell_type": "code",
   "execution_count": 10,
   "id": "96dcf7a5-43a8-4bf6-ad92-3a8dd258edac",
   "metadata": {},
   "outputs": [],
   "source": [
    "X_train[\"MONTHOFYEAR\"] = X_train[\"date\"].dt.month.astype(\"Int8\")\n",
    "X_train[\"YEAR\"] = X_train[\"date\"].dt.year.astype(\"Int16\")\n",
    "X_train[\"DAYOFYEAR\"] = X_train[\"date\"].dt.dayofyear.astype(\"Int16\")\n",
    "X_train[\"HOUROFDAY\"] = X_train[\"datetime\"].dt.hour.astype(\"Int8\")\n",
    "\n",
    "X_test[\"MONTHOFYEAR\"] = X_test[\"date\"].dt.month.astype(\"Int8\")\n",
    "X_test[\"YEAR\"] = X_test[\"date\"].dt.year.astype(\"Int16\")\n",
    "X_test[\"DAYOFYEAR\"] = X_test[\"date\"].dt.dayofyear.astype(\"Int16\")\n",
    "X_test[\"HOUROFDAY\"] = X_test[\"datetime\"].dt.hour.astype(\"Int8\")"
   ]
  },
  {
   "cell_type": "code",
   "execution_count": 11,
   "id": "9d6e6c5c-94a9-4913-81b5-19d8960cd016",
   "metadata": {},
   "outputs": [],
   "source": [
    "train = pd.concat([X_train, y_train], axis=1).sort_values(['datetime'])\n",
    "test = pd.concat([X_test, y_test], axis=1).sort_values(['datetime'])\n",
    "\n",
    "X_train_impute = train.drop(columns=[\"POSTED_WAIT\"])\n",
    "y_train = train[\"POSTED_WAIT\"]\n",
    "\n",
    "X_test_impute = test.drop(columns=[\"POSTED_WAIT\"])\n",
    "y_test = test[\"POSTED_WAIT\"]"
   ]
  },
  {
   "cell_type": "code",
   "execution_count": 12,
   "id": "12a6a77f-d336-4757-a862-99a9d615e197",
   "metadata": {},
   "outputs": [],
   "source": [
    "X_train_clean = X_train_impute.drop(columns=['date', 'datetime', 'Unnamed: 0'])\n",
    "X_test_clean = X_test_impute.drop(columns=['date', 'datetime', 'Unnamed: 0'])"
   ]
  },
  {
   "cell_type": "markdown",
   "id": "ef7617c4-1856-4334-8d3c-7d7c6c26edb3",
   "metadata": {},
   "source": [
    "# Pipeline"
   ]
  },
  {
   "cell_type": "markdown",
   "id": "ffc8abd2-ec90-491a-beb4-f33906281d6f",
   "metadata": {},
   "source": [
    "Helper Function for Imputation & Log Transformation"
   ]
  },
  {
   "cell_type": "code",
   "execution_count": 13,
   "id": "8639c9c1-a84e-45ce-9bb4-f7ebc07b7fdb",
   "metadata": {},
   "outputs": [],
   "source": [
    "allCols = list(X_train_clean.columns)\n",
    "\n",
    "def impute_transform(x):\n",
    "    for col in x:\n",
    "        if col in parse_times:\n",
    "            x[col] = x[col].fillna(\"99\")\n",
    "            x[col] = x[col].apply(lambda h: h[:2] if h[0] != 0 else h[:1]).astype(int).astype(\"Int8\")\n",
    "\n",
    "        x[col] = x[col].fillna(method='bfill')\n",
    "        x[col] = x[col].fillna(x[col].median())\n",
    "\n",
    "        if (x[col].dtype != \"bool\") and (abs(skew(list(x[col]))) > 0.8):\n",
    "            # +20 linear scale on all values to ensure no resulting -inf vals\n",
    "            x[f\"log_{col}\"] = x[col].apply(lambda k: np.log(k + 20))\n",
    "\n",
    "            x.drop(columns=[col], inplace=True)\n",
    "\n",
    "    return x\n"
   ]
  },
  {
   "cell_type": "code",
   "execution_count": 14,
   "id": "4255a352-bcd9-4cb1-ac7b-90465111837d",
   "metadata": {},
   "outputs": [],
   "source": [
    "preprocessor = make_column_transformer(\n",
    "      (RobustScaler(), selector(dtype_include=np.number)), remainder='passthrough')\n"
   ]
  },
  {
   "cell_type": "code",
   "execution_count": 15,
   "id": "8f6bae3b-ae8b-41ea-9734-cd97e52dc50c",
   "metadata": {
    "tags": []
   },
   "outputs": [
    {
     "data": {
      "text/plain": [
       "['pipeline.pkl.gz']"
      ]
     },
     "execution_count": 15,
     "metadata": {},
     "output_type": "execute_result"
    }
   ],
   "source": [
    "rf = Pipeline(\n",
    "    steps=[(\"imputerAndLogTransformer\", FunctionTransformer(impute_transform)),\n",
    "           (\"preprocessor\", preprocessor), \n",
    "           (\"regressor\", RandomForestRegressor(n_estimators=10, max_depth=50, n_jobs=-1, random_state=0))]\n",
    ")\n",
    "\n",
    "rf.fit(X_train_clean, y_train)\n",
    "\n",
    "joblib.dump(rf, 'pipeline.pkl' + '.gz', compress=('gzip', 5))\n",
    "\n",
    "############\n",
    "#OR\n",
    "############\n",
    "\n",
    "# rf = joblib.load(\"pipeline.pkl.gz\")"
   ]
  },
  {
   "cell_type": "code",
   "execution_count": 16,
   "id": "fe33c4e5-9ea8-44eb-ac50-9a5cb3f64be3",
   "metadata": {
    "tags": []
   },
   "outputs": [],
   "source": [
    "pred = rf.predict(X_test_clean)"
   ]
  },
  {
   "cell_type": "code",
   "execution_count": 17,
   "id": "5ae4d015-c180-4088-aac5-7d06ce6c555c",
   "metadata": {},
   "outputs": [
    {
     "name": "stdout",
     "output_type": "stream",
     "text": [
      "MAE:  40.45313127097203\n",
      "MSE:  22577.2899065588\n",
      "RMSE:  150.25741215180966\n",
      "R-SQUARED:  0.7326651661948325\n"
     ]
    }
   ],
   "source": [
    "mae = metrics.mean_absolute_error(y_test, pred)\n",
    "mse = metrics.mean_squared_error(y_test, pred)\n",
    "rmse = np.sqrt(metrics.mean_squared_error(y_test, pred))\n",
    "r2 = metrics.r2_score(y_test, pred)\n",
    "\n",
    "print(\"MAE: \", mae)\n",
    "print(\"MSE: \", mse)\n",
    "print(\"RMSE: \", rmse)\n",
    "print(\"R-SQUARED: \", r2)"
   ]
  },
  {
   "cell_type": "markdown",
   "id": "8dccd721-b54a-45f4-8245-7ded581768f4",
   "metadata": {},
   "source": [
    "-------------------------------\n",
    "\n",
    "# Regression Results Exploration"
   ]
  },
  {
   "cell_type": "markdown",
   "id": "685061d2-b2d6-4646-8574-a0a044f1a03d",
   "metadata": {},
   "source": [
    "## Feature Importance"
   ]
  },
  {
   "cell_type": "code",
   "execution_count": 42,
   "id": "c3d754b0-6601-42c3-8347-93f8b645d93e",
   "metadata": {
    "jupyter": {
     "source_hidden": true
    },
    "tags": []
   },
   "outputs": [],
   "source": [
    "feature_importance = pd.Series(rf.steps[2][1].feature_importances_, index=X_train_clean.columns).astype(float)\n",
    "sorted_importances = feature_importance.sort_values(ascending=False)\n",
    "top30 = pd.DataFrame(sorted_importances.head(30)).reset_index()\n",
    "top30.columns = [\"feature_name\", \"importance\"]"
   ]
  },
  {
   "cell_type": "code",
   "execution_count": 43,
   "id": "83ef681f-9338-4d06-bca2-b95528ea3d55",
   "metadata": {
    "jupyter": {
     "source_hidden": true
    },
    "tags": []
   },
   "outputs": [
    {
     "data": {
      "text/html": [
       "\n",
       "<div id=\"altair-viz-d7b3cc414940418eb2dba30c7bc4dac3\"></div>\n",
       "<script type=\"text/javascript\">\n",
       "  var VEGA_DEBUG = (typeof VEGA_DEBUG == \"undefined\") ? {} : VEGA_DEBUG;\n",
       "  (function(spec, embedOpt){\n",
       "    let outputDiv = document.currentScript.previousElementSibling;\n",
       "    if (outputDiv.id !== \"altair-viz-d7b3cc414940418eb2dba30c7bc4dac3\") {\n",
       "      outputDiv = document.getElementById(\"altair-viz-d7b3cc414940418eb2dba30c7bc4dac3\");\n",
       "    }\n",
       "    const paths = {\n",
       "      \"vega\": \"https://cdn.jsdelivr.net/npm//vega@5?noext\",\n",
       "      \"vega-lib\": \"https://cdn.jsdelivr.net/npm//vega-lib?noext\",\n",
       "      \"vega-lite\": \"https://cdn.jsdelivr.net/npm//vega-lite@4.17.0?noext\",\n",
       "      \"vega-embed\": \"https://cdn.jsdelivr.net/npm//vega-embed@6?noext\",\n",
       "    };\n",
       "\n",
       "    function maybeLoadScript(lib, version) {\n",
       "      var key = `${lib.replace(\"-\", \"\")}_version`;\n",
       "      return (VEGA_DEBUG[key] == version) ?\n",
       "        Promise.resolve(paths[lib]) :\n",
       "        new Promise(function(resolve, reject) {\n",
       "          var s = document.createElement('script');\n",
       "          document.getElementsByTagName(\"head\")[0].appendChild(s);\n",
       "          s.async = true;\n",
       "          s.onload = () => {\n",
       "            VEGA_DEBUG[key] = version;\n",
       "            return resolve(paths[lib]);\n",
       "          };\n",
       "          s.onerror = () => reject(`Error loading script: ${paths[lib]}`);\n",
       "          s.src = paths[lib];\n",
       "        });\n",
       "    }\n",
       "\n",
       "    function showError(err) {\n",
       "      outputDiv.innerHTML = `<div class=\"error\" style=\"color:red;\">${err}</div>`;\n",
       "      throw err;\n",
       "    }\n",
       "\n",
       "    function displayChart(vegaEmbed) {\n",
       "      vegaEmbed(outputDiv, spec, embedOpt)\n",
       "        .catch(err => showError(`Javascript Error: ${err.message}<br>This usually means there's a typo in your chart specification. See the javascript console for the full traceback.`));\n",
       "    }\n",
       "\n",
       "    if(typeof define === \"function\" && define.amd) {\n",
       "      requirejs.config({paths});\n",
       "      require([\"vega-embed\"], displayChart, err => showError(`Error loading script: ${err.message}`));\n",
       "    } else {\n",
       "      maybeLoadScript(\"vega\", \"5\")\n",
       "        .then(() => maybeLoadScript(\"vega-lite\", \"4.17.0\"))\n",
       "        .then(() => maybeLoadScript(\"vega-embed\", \"6\"))\n",
       "        .catch(showError)\n",
       "        .then(() => displayChart(vegaEmbed));\n",
       "    }\n",
       "  })({\"config\": {\"view\": {\"continuousWidth\": 400, \"continuousHeight\": 300}}, \"data\": {\"name\": \"data-7d25563a593ed54748a1635a28c54622\"}, \"mark\": {\"type\": \"bar\", \"color\": \"#90C6FA\"}, \"encoding\": {\"x\": {\"axis\": {\"labelAngle\": 30}, \"field\": \"feature_name\", \"sort\": \"-y\", \"type\": \"nominal\"}, \"y\": {\"field\": \"importance\", \"type\": \"quantitative\"}}, \"title\": [\"Top 30 Features for Random Forest\", \"(10 trees, 50 max_depth)\"], \"$schema\": \"https://vega.github.io/schema/vega-lite/v4.17.0.json\", \"datasets\": {\"data-7d25563a593ed54748a1635a28c54622\": [{\"feature_name\": \"AKEMHMTOM\", \"importance\": 0.17064554429541182}, {\"feature_name\": \"Ride_type_slow\", \"importance\": 0.07556944865974888}, {\"feature_name\": \"Ride_type_spinning\", \"importance\": 0.07339553150072511}, {\"feature_name\": \"Ride_type_small_drops\", \"importance\": 0.06967626243314305}, {\"feature_name\": \"AKHOURSEMH\", \"importance\": 0.04665922196816152}, {\"feature_name\": \"EPEMHETOM\", \"importance\": 0.039357772779217176}, {\"feature_name\": \"log_inSession_Drive2_FL\", \"importance\": 0.036607816376000864}, {\"feature_name\": \"inSession_Mardi_Gras\", \"importance\": 0.03069452379970911}, {\"feature_name\": \"AKEMHMORN\", \"importance\": 0.029345648418841883}, {\"feature_name\": \"HSPRDDT1\", \"importance\": 0.024068657110528992}, {\"feature_name\": \"HOLIDAYN_lab\", \"importance\": 0.023520741848523267}, {\"feature_name\": \"HOLIDAYN_mem\", \"importance\": 0.021296569428124523}, {\"feature_name\": \"WDWSEASON_easter\", \"importance\": 0.0177142461049063}, {\"feature_name\": \"log_inSession_Enrollment\", \"importance\": 0.01593089599828144}, {\"feature_name\": \"HOLIDAYN_mgs\", \"importance\": 0.014007196864006468}, {\"feature_name\": \"MKEMHOPEN\", \"importance\": 0.009792343666588547}, {\"feature_name\": \"MKHOURS\", \"importance\": 0.0092569041298036}, {\"feature_name\": \"EPEMHMTOM\", \"importance\": 0.007637688437901839}, {\"feature_name\": \"MKEMHCLOSE\", \"importance\": 0.007252273797282718}, {\"feature_name\": \"log_inSession_Florida\", \"importance\": 0.0063617625079066395}, {\"feature_name\": \"log_inSession_Drive1_FL\", \"importance\": 0.005943194987829329}, {\"feature_name\": \"AKHOURSEMHYEST\", \"importance\": 0.00573386599844195}, {\"feature_name\": \"EPEMHEVE\", \"importance\": 0.005596617710431863}, {\"feature_name\": \"Fast_pass\", \"importance\": 0.0050572054797308665}, {\"feature_name\": \"HOLIDAYN_val\", \"importance\": 0.00502157201156483}, {\"feature_name\": \"Ride_type_dark\", \"importance\": 0.004873798156147291}, {\"feature_name\": \"HSFIREN_star wars: a galactic spectacular\", \"importance\": 0.00483093625664325}, {\"feature_name\": \"HSFIREWK\", \"importance\": 0.004503652679589075}, {\"feature_name\": \"log_MKCLOSETOM\", \"importance\": 0.004127013759027493}, {\"feature_name\": \"log_EPOPEN\", \"importance\": 0.004068807686159757}]}}, {\"mode\": \"vega-lite\"});\n",
       "</script>"
      ],
      "text/plain": [
       "alt.Chart(...)"
      ]
     },
     "execution_count": 43,
     "metadata": {},
     "output_type": "execute_result"
    }
   ],
   "source": [
    "alt.Chart(top30).mark_bar(color=\"#90C6FA\").encode(\n",
    "    x=alt.X('feature_name', sort='-y', axis=alt.Axis(labelAngle=30)),\n",
    "    y='importance'\n",
    ").properties(title=[\"Top 30 Features for Random Forest\", \"(10 trees, 50 max_depth)\"])"
   ]
  },
  {
   "cell_type": "markdown",
   "id": "09f65872-68f9-4a2e-b925-04b25bd0f9ae",
   "metadata": {},
   "source": [
    "## Wait Time Analysis by Ride\n",
    "\n",
    "Taking an exploratory approach to predicted wait times. \n",
    "\n",
    "In this analysis, we are considering a prediction less than 0 minutes to mean the ride is \"down\" and we calculated probability that the ride is down by taking the number of preditions less than 0 during a given hour vs. all predictions for that hour. We are also only looking at predictions from 2018 or later to narrow in on the trends of the most recent years."
   ]
  },
  {
   "cell_type": "code",
   "execution_count": 95,
   "id": "5a603ad6-b4b3-4049-a035-876fc16ede00",
   "metadata": {
    "jupyter": {
     "source_hidden": true
    },
    "tags": []
   },
   "outputs": [],
   "source": [
    "original_features = X_test_impute.drop(columns=['date', 'datetime', 'Unnamed: 0'])\n",
    "all_test = pd.concat([original_features, pd.Series(pred)], axis = 1).rename(columns={0:\"PREDICTED_WAIT\"})\n",
    "\n",
    "class RideResults:\n",
    "    def __init__(self, rideCol, rideName, results, corrThreshold=0.05):\n",
    "        self.rideCol = rideCol\n",
    "        self.rideName = rideName\n",
    "        self.results = results\n",
    "        self.corrThreshold = corrThreshold\n",
    "        \n",
    "    def visualize_wait_times(self, lower_thresh, upper_thresh):\n",
    "\n",
    "        ride_data_lower = self.results[(self.results[self.rideCol]==1) & (self.results[\"YEAR\"]>=2018) &\n",
    "                                (self.results[\"PREDICTED_WAIT\"]>=0) & \n",
    "                                   (self.results[\"HOUROFDAY\"]>6)].groupby(\"HOUROFDAY\")[\"PREDICTED_WAIT\"].quantile(lower_thresh)\n",
    "\n",
    "        ride_data_upper = self.results[(self.results[self.rideCol]==1) & (self.results[\"YEAR\"]>=2018) &\n",
    "                                (self.results[\"PREDICTED_WAIT\"]>=0) & \n",
    "                                   (self.results[\"HOUROFDAY\"]>6)].groupby(\"HOUROFDAY\")[\"PREDICTED_WAIT\"].quantile(upper_thresh)\n",
    "\n",
    "        chartData = pd.concat([ride_data_lower, ride_data_upper], axis=1).reset_index()\n",
    "        chartData.columns = [\"HOUROFDAY\", \"LOWER_QUANTILE\", \"UPPER_QUANTILE\"]\n",
    "\n",
    "        predicted_down = self.results[(self.results[self.rideCol]==1) & (self.results[\"YEAR\"]>=2018) &\n",
    "                            (self.results[\"PREDICTED_WAIT\"]<0) & (self.results[\"HOUROFDAY\"]>6)].groupby(\"HOUROFDAY\")[\"PREDICTED_WAIT\"].count()\n",
    "\n",
    "\n",
    "        number_waits = self.results[(self.results[self.rideCol]==1) & (self.results[\"YEAR\"]>=2018) &\n",
    "                                    (self.results[\"HOUROFDAY\"]>6)].groupby(\"HOUROFDAY\")[\"PREDICTED_WAIT\"].count()\n",
    "\n",
    "        predicted_down_pct = pd.DataFrame(predicted_down/number_waits)\n",
    "        predicted_down_pct[\"PREDICTED_WAIT\"] = predicted_down_pct[\"PREDICTED_WAIT\"].apply(lambda x: x*100)\n",
    "        predicted_down_pct = predicted_down_pct.rename(columns={\"PREDICTED_WAIT\":\"PREDICTED PROB DOWN\"}).reset_index()\n",
    "\n",
    "        chartData[\"PREDICTED PROB DOWN\"] = predicted_down_pct[\"PREDICTED PROB DOWN\"]\n",
    "\n",
    "        base = alt.Chart(chartData).encode(\n",
    "            alt.X('HOUROFDAY', axis=alt.Axis(title=None))\n",
    "        )\n",
    "        wait_time_area = base.mark_area(opacity=0.3, color='#90C6FA').encode(\n",
    "            alt.Y('LOWER_QUANTILE:Q',\n",
    "                  axis=alt.Axis(title=['Predicted Wait Times by Hour of Day', f'({int(lower_thresh*100)} to {int(upper_thresh*100)} Percentile)'], \n",
    "                                titleColor='#90C6FA')),\n",
    "            alt.Y2('UPPER_QUANTILE:Q')\n",
    "        )\n",
    "\n",
    "        pred_down_line = base.mark_line(stroke='#EAC2B1', interpolate='monotone').encode(\n",
    "            alt.Y('PREDICTED PROB DOWN:Q',\n",
    "                  axis=alt.Axis(title='Predicted Probability Ride Will Be Down', titleColor='#EAC2B1'))\n",
    "        )\n",
    "\n",
    "        final_chart = alt.layer(wait_time_area, pred_down_line).resolve_scale(\n",
    "            y = 'independent'\n",
    "        ).properties(\n",
    "                    title={\n",
    "                    \"text\": [\"Expected Wait Time vs. Expected % of Times the Ride will be down\"],\n",
    "                      \"subtitle\": [self.rideName]\n",
    "                    })\n",
    "            \n",
    "        return final_chart\n",
    "        \n",
    "        \n",
    "    def visualize_correlations(self):\n",
    "        rideData = self.results[(self.results[self.rideCol]==1)]\n",
    "\n",
    "        # Create correlation matrix\n",
    "        corr_mat = rideData.corr(method='pearson')\n",
    "\n",
    "        # Convert correlation matrix to 1-D Series and sort\n",
    "        sorted_mat = corr_mat.unstack().sort_values()\n",
    "\n",
    "        ride_corr = pd.DataFrame(sorted_mat).reset_index().rename(columns={\"level_0\":\"Variable1\", \"level_1\":\"Variable2\", 0:\"Correlation\"}) \n",
    "        pred_wait_corr = ride_corr[(ride_corr[\"Variable1\"]==\"PREDICTED_WAIT\") & (ride_corr[\"Variable2\"]!=\"PREDICTED_WAIT\") &\n",
    "                                 ((ride_corr[\"Correlation\"]>=self.corrThreshold)|(ride_corr[\"Correlation\"]<=-self.corrThreshold))]\n",
    "\n",
    "        pred_wait_corr = pred_wait_corr.sort_values(by=\"Correlation\")\n",
    "\n",
    "        bars = alt.Chart(pred_wait_corr).mark_bar().encode(\n",
    "            x=alt.X('Variable2:N', sort='y', title=\"Correlated Variable\"),\n",
    "            y='Correlation:Q',\n",
    "            color=alt.condition(\n",
    "                alt.datum.Correlation > 0,\n",
    "                alt.value(\"#EAC2B1\"),  # The positive color\n",
    "                alt.value(\"#2C7AAF\")  # The negative color\n",
    "            )\n",
    "        ).properties(\n",
    "            title={\n",
    "            \"text\": [\"Top Correlations Between Predicted Wait Time & Features\"],\n",
    "              \"subtitle\": [self.rideName]\n",
    "            }\n",
    "        ).configure_axis(labelAngle=30)\n",
    "\n",
    "        return bars"
   ]
  },
  {
   "cell_type": "code",
   "execution_count": 96,
   "id": "31afdeff-2805-4877-a50d-0c5769128f1c",
   "metadata": {
    "jupyter": {
     "source_hidden": true
    },
    "tags": []
   },
   "outputs": [],
   "source": [
    "rideCols = [col for col in all_test.columns if col.startswith(\"Ride_name\")]\n",
    "\n",
    "rideResults = []\n",
    "for ride in rideCols:\n",
    "    match = re.match(\"Ride_name_(.+)$\", ride)\n",
    "    rideCol  = ride\n",
    "    rideName = match.group(1).title()\n",
    "    \n",
    "    rideResults.append(RideResults(rideCol, rideName, all_test))"
   ]
  },
  {
   "cell_type": "markdown",
   "id": "8c3495dc-8334-4df1-89af-b5b256d4402f",
   "metadata": {},
   "source": [
    "### Astro Orbiter\n",
    "\n",
    "\n",
    "It seems Astro Orbiter wait times are highly influenced by capacity, age of ride, and presence of night time shows, especially at Magic Kingdom. This means that over time Astro Orbiter wait times have gone down but may spike on days when there is a nighttime show or parade happening at Magic Kingdom.\n",
    "\n",
    "\n",
    "Astro Orbiter wait times are pretty consistent from park open to park close, however the probability that the ride will be down steadily drops to be at its minimum by 3:00PM."
   ]
  },
  {
   "cell_type": "code",
   "execution_count": 97,
   "id": "db169dd5-7ff3-4f4c-af72-52248e1689fe",
   "metadata": {
    "tags": []
   },
   "outputs": [
    {
     "data": {
      "text/html": [
       "\n",
       "<div id=\"altair-viz-0e2852dbd4c84c46a57bc7bc74a6ca80\"></div>\n",
       "<script type=\"text/javascript\">\n",
       "  var VEGA_DEBUG = (typeof VEGA_DEBUG == \"undefined\") ? {} : VEGA_DEBUG;\n",
       "  (function(spec, embedOpt){\n",
       "    let outputDiv = document.currentScript.previousElementSibling;\n",
       "    if (outputDiv.id !== \"altair-viz-0e2852dbd4c84c46a57bc7bc74a6ca80\") {\n",
       "      outputDiv = document.getElementById(\"altair-viz-0e2852dbd4c84c46a57bc7bc74a6ca80\");\n",
       "    }\n",
       "    const paths = {\n",
       "      \"vega\": \"https://cdn.jsdelivr.net/npm//vega@5?noext\",\n",
       "      \"vega-lib\": \"https://cdn.jsdelivr.net/npm//vega-lib?noext\",\n",
       "      \"vega-lite\": \"https://cdn.jsdelivr.net/npm//vega-lite@4.17.0?noext\",\n",
       "      \"vega-embed\": \"https://cdn.jsdelivr.net/npm//vega-embed@6?noext\",\n",
       "    };\n",
       "\n",
       "    function maybeLoadScript(lib, version) {\n",
       "      var key = `${lib.replace(\"-\", \"\")}_version`;\n",
       "      return (VEGA_DEBUG[key] == version) ?\n",
       "        Promise.resolve(paths[lib]) :\n",
       "        new Promise(function(resolve, reject) {\n",
       "          var s = document.createElement('script');\n",
       "          document.getElementsByTagName(\"head\")[0].appendChild(s);\n",
       "          s.async = true;\n",
       "          s.onload = () => {\n",
       "            VEGA_DEBUG[key] = version;\n",
       "            return resolve(paths[lib]);\n",
       "          };\n",
       "          s.onerror = () => reject(`Error loading script: ${paths[lib]}`);\n",
       "          s.src = paths[lib];\n",
       "        });\n",
       "    }\n",
       "\n",
       "    function showError(err) {\n",
       "      outputDiv.innerHTML = `<div class=\"error\" style=\"color:red;\">${err}</div>`;\n",
       "      throw err;\n",
       "    }\n",
       "\n",
       "    function displayChart(vegaEmbed) {\n",
       "      vegaEmbed(outputDiv, spec, embedOpt)\n",
       "        .catch(err => showError(`Javascript Error: ${err.message}<br>This usually means there's a typo in your chart specification. See the javascript console for the full traceback.`));\n",
       "    }\n",
       "\n",
       "    if(typeof define === \"function\" && define.amd) {\n",
       "      requirejs.config({paths});\n",
       "      require([\"vega-embed\"], displayChart, err => showError(`Error loading script: ${err.message}`));\n",
       "    } else {\n",
       "      maybeLoadScript(\"vega\", \"5\")\n",
       "        .then(() => maybeLoadScript(\"vega-lite\", \"4.17.0\"))\n",
       "        .then(() => maybeLoadScript(\"vega-embed\", \"6\"))\n",
       "        .catch(showError)\n",
       "        .then(() => displayChart(vegaEmbed));\n",
       "    }\n",
       "  })({\"config\": {\"view\": {\"continuousWidth\": 400, \"continuousHeight\": 300}}, \"layer\": [{\"mark\": {\"type\": \"area\", \"color\": \"#90C6FA\", \"opacity\": 0.3}, \"encoding\": {\"x\": {\"axis\": {\"title\": null}, \"field\": \"HOUROFDAY\", \"type\": \"quantitative\"}, \"y\": {\"axis\": {\"title\": [\"Predicted Wait Times by Hour of Day\", \"(45 to 55 Percentile)\"], \"titleColor\": \"#90C6FA\"}, \"field\": \"LOWER_QUANTILE\", \"type\": \"quantitative\"}, \"y2\": {\"field\": \"UPPER_QUANTILE\"}}}, {\"mark\": {\"type\": \"line\", \"interpolate\": \"monotone\", \"stroke\": \"#EAC2B1\"}, \"encoding\": {\"x\": {\"axis\": {\"title\": null}, \"field\": \"HOUROFDAY\", \"type\": \"quantitative\"}, \"y\": {\"axis\": {\"title\": \"Predicted Probability Ride Will Be Down\", \"titleColor\": \"#EAC2B1\"}, \"field\": \"PREDICTED PROB DOWN\", \"type\": \"quantitative\"}}}], \"data\": {\"name\": \"data-e70e4fa4ce9f43683433e52a723494d7\"}, \"resolve\": {\"scale\": {\"y\": \"independent\"}}, \"title\": {\"text\": [\"Expected Wait Time vs. Expected % of Times the Ride will be down\"], \"subtitle\": [\"Astro Orbiter\"]}, \"$schema\": \"https://vega.github.io/schema/vega-lite/v4.17.0.json\", \"datasets\": {\"data-e70e4fa4ce9f43683433e52a723494d7\": [{\"HOUROFDAY\": 7, \"LOWER_QUANTILE\": 26.715681818181825, \"UPPER_QUANTILE\": 32.12529495380242, \"PREDICTED PROB DOWN\": 18.922852983988356}, {\"HOUROFDAY\": 8, \"LOWER_QUANTILE\": 26.26126984126984, \"UPPER_QUANTILE\": 32.485, \"PREDICTED PROB DOWN\": 17.838874680306905}, {\"HOUROFDAY\": 9, \"LOWER_QUANTILE\": 27.38915445665446, \"UPPER_QUANTILE\": 34.34380230880231, \"PREDICTED PROB DOWN\": 18.50941850941851}, {\"HOUROFDAY\": 10, \"LOWER_QUANTILE\": 26.17594246031746, \"UPPER_QUANTILE\": 32.17174603174603, \"PREDICTED PROB DOWN\": 19.851576994434136}, {\"HOUROFDAY\": 11, \"LOWER_QUANTILE\": 25.940016233766237, \"UPPER_QUANTILE\": 32.765814393939394, \"PREDICTED PROB DOWN\": 17.84073506891271}, {\"HOUROFDAY\": 12, \"LOWER_QUANTILE\": 26.208923160173164, \"UPPER_QUANTILE\": 32.14236209335219, \"PREDICTED PROB DOWN\": 18.051797448782374}, {\"HOUROFDAY\": 13, \"LOWER_QUANTILE\": 25.97284739546139, \"UPPER_QUANTILE\": 32.010515873015876, \"PREDICTED PROB DOWN\": 16.309341500765697}, {\"HOUROFDAY\": 14, \"LOWER_QUANTILE\": 26.259523809523806, \"UPPER_QUANTILE\": 32.052954021459605, \"PREDICTED PROB DOWN\": 17.50291715285881}, {\"HOUROFDAY\": 15, \"LOWER_QUANTILE\": 26.066073641352453, \"UPPER_QUANTILE\": 32.828341450216456, \"PREDICTED PROB DOWN\": 16.27906976744186}, {\"HOUROFDAY\": 16, \"LOWER_QUANTILE\": 26.480148242458032, \"UPPER_QUANTILE\": 32.84809403559404, \"PREDICTED PROB DOWN\": 17.962674961119752}, {\"HOUROFDAY\": 17, \"LOWER_QUANTILE\": 26.25857323232323, \"UPPER_QUANTILE\": 32.15422896685273, \"PREDICTED PROB DOWN\": 17.154654654654657}, {\"HOUROFDAY\": 18, \"LOWER_QUANTILE\": 26.365087719298245, \"UPPER_QUANTILE\": 32.240634920634925, \"PREDICTED PROB DOWN\": 17.918622848200314}, {\"HOUROFDAY\": 19, \"LOWER_QUANTILE\": 25.0, \"UPPER_QUANTILE\": 30.919770021645025, \"PREDICTED PROB DOWN\": 19.14725621792341}, {\"HOUROFDAY\": 20, \"LOWER_QUANTILE\": 26.76607142857143, \"UPPER_QUANTILE\": 32.49015151515151, \"PREDICTED PROB DOWN\": 18.526058631921824}, {\"HOUROFDAY\": 21, \"LOWER_QUANTILE\": 24.604801587301587, \"UPPER_QUANTILE\": 30.686955266955273, \"PREDICTED PROB DOWN\": 18.614931237721024}, {\"HOUROFDAY\": 22, \"LOWER_QUANTILE\": 25.94535714285714, \"UPPER_QUANTILE\": 32.259608156268705, \"PREDICTED PROB DOWN\": 19.196988707653702}, {\"HOUROFDAY\": 23, \"LOWER_QUANTILE\": 27.093275613275615, \"UPPER_QUANTILE\": 33.00477813852814, \"PREDICTED PROB DOWN\": 20.54794520547945}]}}, {\"mode\": \"vega-lite\"});\n",
       "</script>"
      ],
      "text/plain": [
       "alt.LayerChart(...)"
      ]
     },
     "execution_count": 97,
     "metadata": {},
     "output_type": "execute_result"
    }
   ],
   "source": [
    "astro_orbiter = rideResults[0].visualize_wait_times(.45, .55)\n",
    "save(astro_orbiter, \"../reports/figures/AstroOrbiterWaitTimes.html\")\n",
    "astro_orbiter"
   ]
  },
  {
   "cell_type": "markdown",
   "id": "37c8230a-63da-4fc5-b05e-2609f1ab689c",
   "metadata": {
    "tags": []
   },
   "source": [
    "### Big Thunder Mountain Railroad\n",
    "\n",
    "\n",
    "This ride is predicted to be down significantly less after 8PM with wait times remaining fairly consistent. Wait times do hit a noticeable low around lunch time so we'd recommend either hitting BTM around noon or after dark.\n",
    "\n",
    "The wait times are highly correlated with capacity metrics & whether there is a show/parade at Magic Kingdom."
   ]
  },
  {
   "cell_type": "code",
   "execution_count": 100,
   "id": "f37169d7-51b8-4a94-8d7c-5a334bcb9da5",
   "metadata": {
    "tags": []
   },
   "outputs": [
    {
     "data": {
      "text/html": [
       "\n",
       "<div id=\"altair-viz-7f901fe55ca4464e99871b9e2a5868f0\"></div>\n",
       "<script type=\"text/javascript\">\n",
       "  var VEGA_DEBUG = (typeof VEGA_DEBUG == \"undefined\") ? {} : VEGA_DEBUG;\n",
       "  (function(spec, embedOpt){\n",
       "    let outputDiv = document.currentScript.previousElementSibling;\n",
       "    if (outputDiv.id !== \"altair-viz-7f901fe55ca4464e99871b9e2a5868f0\") {\n",
       "      outputDiv = document.getElementById(\"altair-viz-7f901fe55ca4464e99871b9e2a5868f0\");\n",
       "    }\n",
       "    const paths = {\n",
       "      \"vega\": \"https://cdn.jsdelivr.net/npm//vega@5?noext\",\n",
       "      \"vega-lib\": \"https://cdn.jsdelivr.net/npm//vega-lib?noext\",\n",
       "      \"vega-lite\": \"https://cdn.jsdelivr.net/npm//vega-lite@4.17.0?noext\",\n",
       "      \"vega-embed\": \"https://cdn.jsdelivr.net/npm//vega-embed@6?noext\",\n",
       "    };\n",
       "\n",
       "    function maybeLoadScript(lib, version) {\n",
       "      var key = `${lib.replace(\"-\", \"\")}_version`;\n",
       "      return (VEGA_DEBUG[key] == version) ?\n",
       "        Promise.resolve(paths[lib]) :\n",
       "        new Promise(function(resolve, reject) {\n",
       "          var s = document.createElement('script');\n",
       "          document.getElementsByTagName(\"head\")[0].appendChild(s);\n",
       "          s.async = true;\n",
       "          s.onload = () => {\n",
       "            VEGA_DEBUG[key] = version;\n",
       "            return resolve(paths[lib]);\n",
       "          };\n",
       "          s.onerror = () => reject(`Error loading script: ${paths[lib]}`);\n",
       "          s.src = paths[lib];\n",
       "        });\n",
       "    }\n",
       "\n",
       "    function showError(err) {\n",
       "      outputDiv.innerHTML = `<div class=\"error\" style=\"color:red;\">${err}</div>`;\n",
       "      throw err;\n",
       "    }\n",
       "\n",
       "    function displayChart(vegaEmbed) {\n",
       "      vegaEmbed(outputDiv, spec, embedOpt)\n",
       "        .catch(err => showError(`Javascript Error: ${err.message}<br>This usually means there's a typo in your chart specification. See the javascript console for the full traceback.`));\n",
       "    }\n",
       "\n",
       "    if(typeof define === \"function\" && define.amd) {\n",
       "      requirejs.config({paths});\n",
       "      require([\"vega-embed\"], displayChart, err => showError(`Error loading script: ${err.message}`));\n",
       "    } else {\n",
       "      maybeLoadScript(\"vega\", \"5\")\n",
       "        .then(() => maybeLoadScript(\"vega-lite\", \"4.17.0\"))\n",
       "        .then(() => maybeLoadScript(\"vega-embed\", \"6\"))\n",
       "        .catch(showError)\n",
       "        .then(() => displayChart(vegaEmbed));\n",
       "    }\n",
       "  })({\"config\": {\"view\": {\"continuousWidth\": 400, \"continuousHeight\": 300}}, \"layer\": [{\"mark\": {\"type\": \"area\", \"color\": \"#90C6FA\", \"opacity\": 0.3}, \"encoding\": {\"x\": {\"axis\": {\"title\": null}, \"field\": \"HOUROFDAY\", \"type\": \"quantitative\"}, \"y\": {\"axis\": {\"title\": [\"Predicted Wait Times by Hour of Day\", \"(45 to 55 Percentile)\"], \"titleColor\": \"#90C6FA\"}, \"field\": \"LOWER_QUANTILE\", \"type\": \"quantitative\"}, \"y2\": {\"field\": \"UPPER_QUANTILE\"}}}, {\"mark\": {\"type\": \"line\", \"interpolate\": \"monotone\", \"stroke\": \"#EAC2B1\"}, \"encoding\": {\"x\": {\"axis\": {\"title\": null}, \"field\": \"HOUROFDAY\", \"type\": \"quantitative\"}, \"y\": {\"axis\": {\"title\": \"Predicted Probability Ride Will Be Down\", \"titleColor\": \"#EAC2B1\"}, \"field\": \"PREDICTED PROB DOWN\", \"type\": \"quantitative\"}}}], \"data\": {\"name\": \"data-45a178bfb94b350c7f965b8b0e63f622\"}, \"resolve\": {\"scale\": {\"y\": \"independent\"}}, \"title\": {\"text\": [\"Expected Wait Time vs. Expected % of Times the Ride will be down\"], \"subtitle\": [\"Big Thunder Mountain Railroad\"]}, \"$schema\": \"https://vega.github.io/schema/vega-lite/v4.17.0.json\", \"datasets\": {\"data-45a178bfb94b350c7f965b8b0e63f622\": [{\"HOUROFDAY\": 7, \"LOWER_QUANTILE\": 26.94863327149042, \"UPPER_QUANTILE\": 33.18296328671329, \"PREDICTED PROB DOWN\": 18.199233716475096}, {\"HOUROFDAY\": 8, \"LOWER_QUANTILE\": 26.06686507936508, \"UPPER_QUANTILE\": 32.14824868486057, \"PREDICTED PROB DOWN\": 19.221835075493612}, {\"HOUROFDAY\": 9, \"LOWER_QUANTILE\": 25.974603174603175, \"UPPER_QUANTILE\": 31.916666666666668, \"PREDICTED PROB DOWN\": 19.62769431743958}, {\"HOUROFDAY\": 10, \"LOWER_QUANTILE\": 27.04324980798771, \"UPPER_QUANTILE\": 32.905149424618145, \"PREDICTED PROB DOWN\": 17.538161740824943}, {\"HOUROFDAY\": 11, \"LOWER_QUANTILE\": 26.146428571428572, \"UPPER_QUANTILE\": 32.32904761904762, \"PREDICTED PROB DOWN\": 18.01221166892809}, {\"HOUROFDAY\": 12, \"LOWER_QUANTILE\": 25.779479923382592, \"UPPER_QUANTILE\": 31.579123376623382, \"PREDICTED PROB DOWN\": 19.54385964912281}, {\"HOUROFDAY\": 13, \"LOWER_QUANTILE\": 25.412857142857142, \"UPPER_QUANTILE\": 31.820952380952384, \"PREDICTED PROB DOWN\": 18.376358695652172}, {\"HOUROFDAY\": 14, \"LOWER_QUANTILE\": 27.20557387057387, \"UPPER_QUANTILE\": 32.88012803985231, \"PREDICTED PROB DOWN\": 18.00344234079174}, {\"HOUROFDAY\": 15, \"LOWER_QUANTILE\": 27.922675518925523, \"UPPER_QUANTILE\": 33.60672161172161, \"PREDICTED PROB DOWN\": 17.7319587628866}, {\"HOUROFDAY\": 16, \"LOWER_QUANTILE\": 26.01232876712329, \"UPPER_QUANTILE\": 32.30473214285715, \"PREDICTED PROB DOWN\": 18.57092324018394}, {\"HOUROFDAY\": 17, \"LOWER_QUANTILE\": 27.0982905982906, \"UPPER_QUANTILE\": 33.542857142857144, \"PREDICTED PROB DOWN\": 17.39590684544813}, {\"HOUROFDAY\": 18, \"LOWER_QUANTILE\": 27.40605339105339, \"UPPER_QUANTILE\": 33.39229437229437, \"PREDICTED PROB DOWN\": 19.461914744933612}, {\"HOUROFDAY\": 19, \"LOWER_QUANTILE\": 25.77214285714285, \"UPPER_QUANTILE\": 32.73563492063492, \"PREDICTED PROB DOWN\": 18.43220338983051}, {\"HOUROFDAY\": 20, \"LOWER_QUANTILE\": 25.197916666666668, \"UPPER_QUANTILE\": 31.006190476190476, \"PREDICTED PROB DOWN\": 17.04587840358075}, {\"HOUROFDAY\": 21, \"LOWER_QUANTILE\": 25.0, \"UPPER_QUANTILE\": 31.537972661396577, \"PREDICTED PROB DOWN\": 17.879053461875547}, {\"HOUROFDAY\": 22, \"LOWER_QUANTILE\": 26.79546540793667, \"UPPER_QUANTILE\": 32.27416666666667, \"PREDICTED PROB DOWN\": 18.160919540229887}, {\"HOUROFDAY\": 23, \"LOWER_QUANTILE\": 27.25465367965368, \"UPPER_QUANTILE\": 32.27670177045177, \"PREDICTED PROB DOWN\": 21.142857142857142}]}}, {\"mode\": \"vega-lite\"});\n",
       "</script>"
      ],
      "text/plain": [
       "alt.LayerChart(...)"
      ]
     },
     "execution_count": 100,
     "metadata": {},
     "output_type": "execute_result"
    }
   ],
   "source": [
    "btm = rideResults[1].visualize_wait_times(.45, .55)\n",
    "save(btm, \"../reports/figures/BigThunderMountainWaitTimes.html\")\n",
    "btm"
   ]
  },
  {
   "cell_type": "markdown",
   "id": "26873ab4-0004-4da2-bb95-dba27f3c536c",
   "metadata": {},
   "source": [
    "### Buzz Lightyear's Space Ranger Spin\n",
    "\n",
    "The wait times for this ride are fairly consistent. Fit it in anytime you have some free time in your day!"
   ]
  },
  {
   "cell_type": "code",
   "execution_count": 102,
   "id": "31be9279-e96f-4dc4-946d-573655657c2e",
   "metadata": {
    "jupyter": {
     "source_hidden": true
    },
    "tags": []
   },
   "outputs": [
    {
     "data": {
      "text/html": [
       "\n",
       "<div id=\"altair-viz-7139e73d432040739747de794200f1c4\"></div>\n",
       "<script type=\"text/javascript\">\n",
       "  var VEGA_DEBUG = (typeof VEGA_DEBUG == \"undefined\") ? {} : VEGA_DEBUG;\n",
       "  (function(spec, embedOpt){\n",
       "    let outputDiv = document.currentScript.previousElementSibling;\n",
       "    if (outputDiv.id !== \"altair-viz-7139e73d432040739747de794200f1c4\") {\n",
       "      outputDiv = document.getElementById(\"altair-viz-7139e73d432040739747de794200f1c4\");\n",
       "    }\n",
       "    const paths = {\n",
       "      \"vega\": \"https://cdn.jsdelivr.net/npm//vega@5?noext\",\n",
       "      \"vega-lib\": \"https://cdn.jsdelivr.net/npm//vega-lib?noext\",\n",
       "      \"vega-lite\": \"https://cdn.jsdelivr.net/npm//vega-lite@4.17.0?noext\",\n",
       "      \"vega-embed\": \"https://cdn.jsdelivr.net/npm//vega-embed@6?noext\",\n",
       "    };\n",
       "\n",
       "    function maybeLoadScript(lib, version) {\n",
       "      var key = `${lib.replace(\"-\", \"\")}_version`;\n",
       "      return (VEGA_DEBUG[key] == version) ?\n",
       "        Promise.resolve(paths[lib]) :\n",
       "        new Promise(function(resolve, reject) {\n",
       "          var s = document.createElement('script');\n",
       "          document.getElementsByTagName(\"head\")[0].appendChild(s);\n",
       "          s.async = true;\n",
       "          s.onload = () => {\n",
       "            VEGA_DEBUG[key] = version;\n",
       "            return resolve(paths[lib]);\n",
       "          };\n",
       "          s.onerror = () => reject(`Error loading script: ${paths[lib]}`);\n",
       "          s.src = paths[lib];\n",
       "        });\n",
       "    }\n",
       "\n",
       "    function showError(err) {\n",
       "      outputDiv.innerHTML = `<div class=\"error\" style=\"color:red;\">${err}</div>`;\n",
       "      throw err;\n",
       "    }\n",
       "\n",
       "    function displayChart(vegaEmbed) {\n",
       "      vegaEmbed(outputDiv, spec, embedOpt)\n",
       "        .catch(err => showError(`Javascript Error: ${err.message}<br>This usually means there's a typo in your chart specification. See the javascript console for the full traceback.`));\n",
       "    }\n",
       "\n",
       "    if(typeof define === \"function\" && define.amd) {\n",
       "      requirejs.config({paths});\n",
       "      require([\"vega-embed\"], displayChart, err => showError(`Error loading script: ${err.message}`));\n",
       "    } else {\n",
       "      maybeLoadScript(\"vega\", \"5\")\n",
       "        .then(() => maybeLoadScript(\"vega-lite\", \"4.17.0\"))\n",
       "        .then(() => maybeLoadScript(\"vega-embed\", \"6\"))\n",
       "        .catch(showError)\n",
       "        .then(() => displayChart(vegaEmbed));\n",
       "    }\n",
       "  })({\"config\": {\"view\": {\"continuousWidth\": 400, \"continuousHeight\": 300}}, \"layer\": [{\"mark\": {\"type\": \"area\", \"color\": \"#90C6FA\", \"opacity\": 0.3}, \"encoding\": {\"x\": {\"axis\": {\"title\": null}, \"field\": \"HOUROFDAY\", \"type\": \"quantitative\"}, \"y\": {\"axis\": {\"title\": [\"Predicted Wait Times by Hour of Day\", \"(45 to 55 Percentile)\"], \"titleColor\": \"#90C6FA\"}, \"field\": \"LOWER_QUANTILE\", \"type\": \"quantitative\"}, \"y2\": {\"field\": \"UPPER_QUANTILE\"}}}, {\"mark\": {\"type\": \"line\", \"interpolate\": \"monotone\", \"stroke\": \"#EAC2B1\"}, \"encoding\": {\"x\": {\"axis\": {\"title\": null}, \"field\": \"HOUROFDAY\", \"type\": \"quantitative\"}, \"y\": {\"axis\": {\"title\": \"Predicted Probability Ride Will Be Down\", \"titleColor\": \"#EAC2B1\"}, \"field\": \"PREDICTED PROB DOWN\", \"type\": \"quantitative\"}}}], \"data\": {\"name\": \"data-cf399f294c66d36a8f419022033786b1\"}, \"resolve\": {\"scale\": {\"y\": \"independent\"}}, \"title\": {\"text\": [\"Expected Wait Time vs. Expected % of Times the Ride will be down\"], \"subtitle\": [\"Buzz Lightyear'S Space Ranger Spin\"]}, \"$schema\": \"https://vega.github.io/schema/vega-lite/v4.17.0.json\", \"datasets\": {\"data-cf399f294c66d36a8f419022033786b1\": [{\"HOUROFDAY\": 7, \"LOWER_QUANTILE\": 25.33627906976744, \"UPPER_QUANTILE\": 32.882058080808086, \"PREDICTED PROB DOWN\": 17.414965986394556}, {\"HOUROFDAY\": 8, \"LOWER_QUANTILE\": 26.919375000000002, \"UPPER_QUANTILE\": 33.117159992785, \"PREDICTED PROB DOWN\": 17.551462621885157}, {\"HOUROFDAY\": 9, \"LOWER_QUANTILE\": 26.67154761904762, \"UPPER_QUANTILE\": 33.83372689144693, \"PREDICTED PROB DOWN\": 17.831715210355988}, {\"HOUROFDAY\": 10, \"LOWER_QUANTILE\": 26.721351861443324, \"UPPER_QUANTILE\": 32.82149600142413, \"PREDICTED PROB DOWN\": 18.336741649625086}, {\"HOUROFDAY\": 11, \"LOWER_QUANTILE\": 26.992431972789113, \"UPPER_QUANTILE\": 33.04135982106956, \"PREDICTED PROB DOWN\": 19.18140825528963}, {\"HOUROFDAY\": 12, \"LOWER_QUANTILE\": 25.92535984848485, \"UPPER_QUANTILE\": 32.131874847998446, \"PREDICTED PROB DOWN\": 19.1997191997192}, {\"HOUROFDAY\": 13, \"LOWER_QUANTILE\": 26.083750000000002, \"UPPER_QUANTILE\": 32.891666666666666, \"PREDICTED PROB DOWN\": 19.109855174849876}, {\"HOUROFDAY\": 14, \"LOWER_QUANTILE\": 25.94707792207792, \"UPPER_QUANTILE\": 32.645584415584416, \"PREDICTED PROB DOWN\": 19.20623671155209}, {\"HOUROFDAY\": 15, \"LOWER_QUANTILE\": 26.516041666666663, \"UPPER_QUANTILE\": 33.27048611111112, \"PREDICTED PROB DOWN\": 18.97506925207756}, {\"HOUROFDAY\": 16, \"LOWER_QUANTILE\": 25.674585289514866, \"UPPER_QUANTILE\": 32.52738095238095, \"PREDICTED PROB DOWN\": 17.49209694415174}, {\"HOUROFDAY\": 17, \"LOWER_QUANTILE\": 25.0, \"UPPER_QUANTILE\": 31.280462932298327, \"PREDICTED PROB DOWN\": 19.36813186813187}, {\"HOUROFDAY\": 18, \"LOWER_QUANTILE\": 26.260592532467538, \"UPPER_QUANTILE\": 32.01006602353585, \"PREDICTED PROB DOWN\": 18.602188492763855}, {\"HOUROFDAY\": 19, \"LOWER_QUANTILE\": 27.529255952380954, \"UPPER_QUANTILE\": 33.40746031746032, \"PREDICTED PROB DOWN\": 18.32913215700396}, {\"HOUROFDAY\": 20, \"LOWER_QUANTILE\": 26.964285714285715, \"UPPER_QUANTILE\": 33.99603174603175, \"PREDICTED PROB DOWN\": 17.61029411764706}, {\"HOUROFDAY\": 21, \"LOWER_QUANTILE\": 26.47735119047619, \"UPPER_QUANTILE\": 33.102672310926614, \"PREDICTED PROB DOWN\": 19.421306444541866}, {\"HOUROFDAY\": 22, \"LOWER_QUANTILE\": 27.914266304347827, \"UPPER_QUANTILE\": 33.55567651098902, \"PREDICTED PROB DOWN\": 19.695193434935522}, {\"HOUROFDAY\": 23, \"LOWER_QUANTILE\": 25.874880952380952, \"UPPER_QUANTILE\": 33.59755952380952, \"PREDICTED PROB DOWN\": 19.79256698357822}]}}, {\"mode\": \"vega-lite\"});\n",
       "</script>"
      ],
      "text/plain": [
       "alt.LayerChart(...)"
      ]
     },
     "execution_count": 102,
     "metadata": {},
     "output_type": "execute_result"
    }
   ],
   "source": [
    "buzz = rideResults[2].visualize_wait_times(.45, .55)\n",
    "save(btm, \"../reports/figures/BuzzLightyearSpaceRangerSpin.html\")\n",
    "buzz"
   ]
  },
  {
   "cell_type": "markdown",
   "id": "f8a291ff-f0b4-4bbe-b11a-264965c76fff",
   "metadata": {},
   "source": [
    "### Dumbo the Flying Elephant\n",
    "\n",
    "The wait times for this ride are fairly consistent. Fit it in anytime you have some free time in your day!"
   ]
  },
  {
   "cell_type": "code",
   "execution_count": 104,
   "id": "de7449d1-78e3-4319-a7bf-9feaa94366a4",
   "metadata": {
    "jupyter": {
     "source_hidden": true
    },
    "tags": []
   },
   "outputs": [
    {
     "data": {
      "text/html": [
       "\n",
       "<div id=\"altair-viz-042ba6feee6f492ca325c217f8927b51\"></div>\n",
       "<script type=\"text/javascript\">\n",
       "  var VEGA_DEBUG = (typeof VEGA_DEBUG == \"undefined\") ? {} : VEGA_DEBUG;\n",
       "  (function(spec, embedOpt){\n",
       "    let outputDiv = document.currentScript.previousElementSibling;\n",
       "    if (outputDiv.id !== \"altair-viz-042ba6feee6f492ca325c217f8927b51\") {\n",
       "      outputDiv = document.getElementById(\"altair-viz-042ba6feee6f492ca325c217f8927b51\");\n",
       "    }\n",
       "    const paths = {\n",
       "      \"vega\": \"https://cdn.jsdelivr.net/npm//vega@5?noext\",\n",
       "      \"vega-lib\": \"https://cdn.jsdelivr.net/npm//vega-lib?noext\",\n",
       "      \"vega-lite\": \"https://cdn.jsdelivr.net/npm//vega-lite@4.17.0?noext\",\n",
       "      \"vega-embed\": \"https://cdn.jsdelivr.net/npm//vega-embed@6?noext\",\n",
       "    };\n",
       "\n",
       "    function maybeLoadScript(lib, version) {\n",
       "      var key = `${lib.replace(\"-\", \"\")}_version`;\n",
       "      return (VEGA_DEBUG[key] == version) ?\n",
       "        Promise.resolve(paths[lib]) :\n",
       "        new Promise(function(resolve, reject) {\n",
       "          var s = document.createElement('script');\n",
       "          document.getElementsByTagName(\"head\")[0].appendChild(s);\n",
       "          s.async = true;\n",
       "          s.onload = () => {\n",
       "            VEGA_DEBUG[key] = version;\n",
       "            return resolve(paths[lib]);\n",
       "          };\n",
       "          s.onerror = () => reject(`Error loading script: ${paths[lib]}`);\n",
       "          s.src = paths[lib];\n",
       "        });\n",
       "    }\n",
       "\n",
       "    function showError(err) {\n",
       "      outputDiv.innerHTML = `<div class=\"error\" style=\"color:red;\">${err}</div>`;\n",
       "      throw err;\n",
       "    }\n",
       "\n",
       "    function displayChart(vegaEmbed) {\n",
       "      vegaEmbed(outputDiv, spec, embedOpt)\n",
       "        .catch(err => showError(`Javascript Error: ${err.message}<br>This usually means there's a typo in your chart specification. See the javascript console for the full traceback.`));\n",
       "    }\n",
       "\n",
       "    if(typeof define === \"function\" && define.amd) {\n",
       "      requirejs.config({paths});\n",
       "      require([\"vega-embed\"], displayChart, err => showError(`Error loading script: ${err.message}`));\n",
       "    } else {\n",
       "      maybeLoadScript(\"vega\", \"5\")\n",
       "        .then(() => maybeLoadScript(\"vega-lite\", \"4.17.0\"))\n",
       "        .then(() => maybeLoadScript(\"vega-embed\", \"6\"))\n",
       "        .catch(showError)\n",
       "        .then(() => displayChart(vegaEmbed));\n",
       "    }\n",
       "  })({\"config\": {\"view\": {\"continuousWidth\": 400, \"continuousHeight\": 300}}, \"layer\": [{\"mark\": {\"type\": \"area\", \"color\": \"#90C6FA\", \"opacity\": 0.3}, \"encoding\": {\"x\": {\"axis\": {\"title\": null}, \"field\": \"HOUROFDAY\", \"type\": \"quantitative\"}, \"y\": {\"axis\": {\"title\": [\"Predicted Wait Times by Hour of Day\", \"(45 to 55 Percentile)\"], \"titleColor\": \"#90C6FA\"}, \"field\": \"LOWER_QUANTILE\", \"type\": \"quantitative\"}, \"y2\": {\"field\": \"UPPER_QUANTILE\"}}}, {\"mark\": {\"type\": \"line\", \"interpolate\": \"monotone\", \"stroke\": \"#EAC2B1\"}, \"encoding\": {\"x\": {\"axis\": {\"title\": null}, \"field\": \"HOUROFDAY\", \"type\": \"quantitative\"}, \"y\": {\"axis\": {\"title\": \"Predicted Probability Ride Will Be Down\", \"titleColor\": \"#EAC2B1\"}, \"field\": \"PREDICTED PROB DOWN\", \"type\": \"quantitative\"}}}], \"data\": {\"name\": \"data-bc1b91311b41bf73f0f9c542e2f6b6ba\"}, \"resolve\": {\"scale\": {\"y\": \"independent\"}}, \"title\": {\"text\": [\"Expected Wait Time vs. Expected % of Times the Ride will be down\"], \"subtitle\": [\"Dumbo The Flying Elephant\"]}, \"$schema\": \"https://vega.github.io/schema/vega-lite/v4.17.0.json\", \"datasets\": {\"data-bc1b91311b41bf73f0f9c542e2f6b6ba\": [{\"HOUROFDAY\": 7, \"LOWER_QUANTILE\": 27.025000000000002, \"UPPER_QUANTILE\": 33.19979272539055, \"PREDICTED PROB DOWN\": 19.076005961251862}, {\"HOUROFDAY\": 8, \"LOWER_QUANTILE\": 25.0, \"UPPER_QUANTILE\": 31.478862699762125, \"PREDICTED PROB DOWN\": 17.741046831955924}, {\"HOUROFDAY\": 9, \"LOWER_QUANTILE\": 27.65153846153846, \"UPPER_QUANTILE\": 34.13311355311355, \"PREDICTED PROB DOWN\": 17.291371994342292}, {\"HOUROFDAY\": 10, \"LOWER_QUANTILE\": 26.91, \"UPPER_QUANTILE\": 33.36828643578644, \"PREDICTED PROB DOWN\": 18.175261449693473}, {\"HOUROFDAY\": 11, \"LOWER_QUANTILE\": 26.079084249084254, \"UPPER_QUANTILE\": 32.199778890992214, \"PREDICTED PROB DOWN\": 17.41912548880199}, {\"HOUROFDAY\": 12, \"LOWER_QUANTILE\": 26.45270562770563, \"UPPER_QUANTILE\": 33.55417620282779, \"PREDICTED PROB DOWN\": 18.145454545454545}, {\"HOUROFDAY\": 13, \"LOWER_QUANTILE\": 26.4925828460039, \"UPPER_QUANTILE\": 31.875171495171497, \"PREDICTED PROB DOWN\": 16.94553221787113}, {\"HOUROFDAY\": 14, \"LOWER_QUANTILE\": 26.73679653679654, \"UPPER_QUANTILE\": 33.186994047619045, \"PREDICTED PROB DOWN\": 18.457693680828275}, {\"HOUROFDAY\": 15, \"LOWER_QUANTILE\": 26.521855665905075, \"UPPER_QUANTILE\": 33.18888257575758, \"PREDICTED PROB DOWN\": 19.19191919191919}, {\"HOUROFDAY\": 16, \"LOWER_QUANTILE\": 26.265476190476186, \"UPPER_QUANTILE\": 32.61220238095238, \"PREDICTED PROB DOWN\": 18.598097921803454}, {\"HOUROFDAY\": 17, \"LOWER_QUANTILE\": 26.85, \"UPPER_QUANTILE\": 32.84239328786636, \"PREDICTED PROB DOWN\": 19.223793978962643}, {\"HOUROFDAY\": 18, \"LOWER_QUANTILE\": 26.870982142857144, \"UPPER_QUANTILE\": 33.02420735382761, \"PREDICTED PROB DOWN\": 17.176809506661865}, {\"HOUROFDAY\": 19, \"LOWER_QUANTILE\": 26.40744047619048, \"UPPER_QUANTILE\": 32.361292141482174, \"PREDICTED PROB DOWN\": 17.97505502567865}, {\"HOUROFDAY\": 20, \"LOWER_QUANTILE\": 26.984659090909087, \"UPPER_QUANTILE\": 33.112346681096675, \"PREDICTED PROB DOWN\": 18.865784499054822}, {\"HOUROFDAY\": 21, \"LOWER_QUANTILE\": 26.278095238095236, \"UPPER_QUANTILE\": 32.38532967032967, \"PREDICTED PROB DOWN\": 18.27433628318584}, {\"HOUROFDAY\": 22, \"LOWER_QUANTILE\": 27.09736111111111, \"UPPER_QUANTILE\": 33.352041847041846, \"PREDICTED PROB DOWN\": 17.101449275362317}, {\"HOUROFDAY\": 23, \"LOWER_QUANTILE\": 26.688490259740266, \"UPPER_QUANTILE\": 33.24352692018744, \"PREDICTED PROB DOWN\": 19.514310494362533}]}}, {\"mode\": \"vega-lite\"});\n",
       "</script>"
      ],
      "text/plain": [
       "alt.LayerChart(...)"
      ]
     },
     "execution_count": 104,
     "metadata": {},
     "output_type": "execute_result"
    }
   ],
   "source": [
    "dumbo = rideResults[3].visualize_wait_times(.45, .55)\n",
    "save(dumbo, \"../reports/figures/DumboWaitTimes.html\")\n",
    "dumbo"
   ]
  },
  {
   "cell_type": "markdown",
   "id": "1f39f79b-3be9-46ea-b356-ea3599fbe02e",
   "metadata": {},
   "source": [
    "### Haunted Mansion\n",
    "\n",
    "Haunted mansion wait times and probability of being down drop around 3PM. This is a great time to hop on quickly!"
   ]
  },
  {
   "cell_type": "code",
   "execution_count": 106,
   "id": "1e60a1ba-73ac-4752-bcca-61e4914c50f7",
   "metadata": {
    "jupyter": {
     "source_hidden": true
    },
    "tags": []
   },
   "outputs": [
    {
     "data": {
      "text/html": [
       "\n",
       "<div id=\"altair-viz-1abaac0f048b4ba2b7d9855bd28b82fe\"></div>\n",
       "<script type=\"text/javascript\">\n",
       "  var VEGA_DEBUG = (typeof VEGA_DEBUG == \"undefined\") ? {} : VEGA_DEBUG;\n",
       "  (function(spec, embedOpt){\n",
       "    let outputDiv = document.currentScript.previousElementSibling;\n",
       "    if (outputDiv.id !== \"altair-viz-1abaac0f048b4ba2b7d9855bd28b82fe\") {\n",
       "      outputDiv = document.getElementById(\"altair-viz-1abaac0f048b4ba2b7d9855bd28b82fe\");\n",
       "    }\n",
       "    const paths = {\n",
       "      \"vega\": \"https://cdn.jsdelivr.net/npm//vega@5?noext\",\n",
       "      \"vega-lib\": \"https://cdn.jsdelivr.net/npm//vega-lib?noext\",\n",
       "      \"vega-lite\": \"https://cdn.jsdelivr.net/npm//vega-lite@4.17.0?noext\",\n",
       "      \"vega-embed\": \"https://cdn.jsdelivr.net/npm//vega-embed@6?noext\",\n",
       "    };\n",
       "\n",
       "    function maybeLoadScript(lib, version) {\n",
       "      var key = `${lib.replace(\"-\", \"\")}_version`;\n",
       "      return (VEGA_DEBUG[key] == version) ?\n",
       "        Promise.resolve(paths[lib]) :\n",
       "        new Promise(function(resolve, reject) {\n",
       "          var s = document.createElement('script');\n",
       "          document.getElementsByTagName(\"head\")[0].appendChild(s);\n",
       "          s.async = true;\n",
       "          s.onload = () => {\n",
       "            VEGA_DEBUG[key] = version;\n",
       "            return resolve(paths[lib]);\n",
       "          };\n",
       "          s.onerror = () => reject(`Error loading script: ${paths[lib]}`);\n",
       "          s.src = paths[lib];\n",
       "        });\n",
       "    }\n",
       "\n",
       "    function showError(err) {\n",
       "      outputDiv.innerHTML = `<div class=\"error\" style=\"color:red;\">${err}</div>`;\n",
       "      throw err;\n",
       "    }\n",
       "\n",
       "    function displayChart(vegaEmbed) {\n",
       "      vegaEmbed(outputDiv, spec, embedOpt)\n",
       "        .catch(err => showError(`Javascript Error: ${err.message}<br>This usually means there's a typo in your chart specification. See the javascript console for the full traceback.`));\n",
       "    }\n",
       "\n",
       "    if(typeof define === \"function\" && define.amd) {\n",
       "      requirejs.config({paths});\n",
       "      require([\"vega-embed\"], displayChart, err => showError(`Error loading script: ${err.message}`));\n",
       "    } else {\n",
       "      maybeLoadScript(\"vega\", \"5\")\n",
       "        .then(() => maybeLoadScript(\"vega-lite\", \"4.17.0\"))\n",
       "        .then(() => maybeLoadScript(\"vega-embed\", \"6\"))\n",
       "        .catch(showError)\n",
       "        .then(() => displayChart(vegaEmbed));\n",
       "    }\n",
       "  })({\"config\": {\"view\": {\"continuousWidth\": 400, \"continuousHeight\": 300}}, \"layer\": [{\"mark\": {\"type\": \"area\", \"color\": \"#90C6FA\", \"opacity\": 0.3}, \"encoding\": {\"x\": {\"axis\": {\"title\": null}, \"field\": \"HOUROFDAY\", \"type\": \"quantitative\"}, \"y\": {\"axis\": {\"title\": [\"Predicted Wait Times by Hour of Day\", \"(45 to 55 Percentile)\"], \"titleColor\": \"#90C6FA\"}, \"field\": \"LOWER_QUANTILE\", \"type\": \"quantitative\"}, \"y2\": {\"field\": \"UPPER_QUANTILE\"}}}, {\"mark\": {\"type\": \"line\", \"interpolate\": \"monotone\", \"stroke\": \"#EAC2B1\"}, \"encoding\": {\"x\": {\"axis\": {\"title\": null}, \"field\": \"HOUROFDAY\", \"type\": \"quantitative\"}, \"y\": {\"axis\": {\"title\": \"Predicted Probability Ride Will Be Down\", \"titleColor\": \"#EAC2B1\"}, \"field\": \"PREDICTED PROB DOWN\", \"type\": \"quantitative\"}}}], \"data\": {\"name\": \"data-74265e461b6dcecc2e9c373e6afdabf2\"}, \"resolve\": {\"scale\": {\"y\": \"independent\"}}, \"title\": {\"text\": [\"Expected Wait Time vs. Expected % of Times the Ride will be down\"], \"subtitle\": [\"Haunted Mansion\"]}, \"$schema\": \"https://vega.github.io/schema/vega-lite/v4.17.0.json\", \"datasets\": {\"data-74265e461b6dcecc2e9c373e6afdabf2\": [{\"HOUROFDAY\": 7, \"LOWER_QUANTILE\": 27.121458333333337, \"UPPER_QUANTILE\": 32.516130952380955, \"PREDICTED PROB DOWN\": 17.669172932330827}, {\"HOUROFDAY\": 8, \"LOWER_QUANTILE\": 25.803582875457877, \"UPPER_QUANTILE\": 32.40400093370681, \"PREDICTED PROB DOWN\": 18.04245283018868}, {\"HOUROFDAY\": 9, \"LOWER_QUANTILE\": 27.04355673991862, \"UPPER_QUANTILE\": 32.31437146022225, \"PREDICTED PROB DOWN\": 18.598472268349386}, {\"HOUROFDAY\": 10, \"LOWER_QUANTILE\": 25.583502098157272, \"UPPER_QUANTILE\": 30.946129132305607, \"PREDICTED PROB DOWN\": 18.814864412453964}, {\"HOUROFDAY\": 11, \"LOWER_QUANTILE\": 27.451749639249638, \"UPPER_QUANTILE\": 33.67275213525213, \"PREDICTED PROB DOWN\": 18.029490616621985}, {\"HOUROFDAY\": 12, \"LOWER_QUANTILE\": 25.96768849206349, \"UPPER_QUANTILE\": 31.81583333333333, \"PREDICTED PROB DOWN\": 19.184820801124385}, {\"HOUROFDAY\": 13, \"LOWER_QUANTILE\": 26.40541666666667, \"UPPER_QUANTILE\": 32.581587078651694, \"PREDICTED PROB DOWN\": 18.352059925093634}, {\"HOUROFDAY\": 14, \"LOWER_QUANTILE\": 27.05039682539683, \"UPPER_QUANTILE\": 33.527448107448116, \"PREDICTED PROB DOWN\": 18.993055555555554}, {\"HOUROFDAY\": 15, \"LOWER_QUANTILE\": 26.24476631393298, \"UPPER_QUANTILE\": 32.922321428571436, \"PREDICTED PROB DOWN\": 17.14898177920686}, {\"HOUROFDAY\": 16, \"LOWER_QUANTILE\": 27.454697134261092, \"UPPER_QUANTILE\": 33.141914719290654, \"PREDICTED PROB DOWN\": 17.624113475177307}, {\"HOUROFDAY\": 17, \"LOWER_QUANTILE\": 25.049810985797833, \"UPPER_QUANTILE\": 31.135565476190482, \"PREDICTED PROB DOWN\": 18.328194587187394}, {\"HOUROFDAY\": 18, \"LOWER_QUANTILE\": 26.518116883116885, \"UPPER_QUANTILE\": 32.59837301587302, \"PREDICTED PROB DOWN\": 18.545837723919917}, {\"HOUROFDAY\": 19, \"LOWER_QUANTILE\": 25.706178543678543, \"UPPER_QUANTILE\": 32.313095238095244, \"PREDICTED PROB DOWN\": 18.712627506155467}, {\"HOUROFDAY\": 20, \"LOWER_QUANTILE\": 25.86751984126984, \"UPPER_QUANTILE\": 32.11908421622238, \"PREDICTED PROB DOWN\": 18.209179834462002}, {\"HOUROFDAY\": 21, \"LOWER_QUANTILE\": 26.47928571428572, \"UPPER_QUANTILE\": 33.2490873015873, \"PREDICTED PROB DOWN\": 17.587719298245613}, {\"HOUROFDAY\": 22, \"LOWER_QUANTILE\": 27.05689331501832, \"UPPER_QUANTILE\": 34.16640653398765, \"PREDICTED PROB DOWN\": 18.77172653534183}, {\"HOUROFDAY\": 23, \"LOWER_QUANTILE\": 27.324725913621265, \"UPPER_QUANTILE\": 32.4609287460821, \"PREDICTED PROB DOWN\": 18.084153983885408}]}}, {\"mode\": \"vega-lite\"});\n",
       "</script>"
      ],
      "text/plain": [
       "alt.LayerChart(...)"
      ]
     },
     "execution_count": 106,
     "metadata": {},
     "output_type": "execute_result"
    }
   ],
   "source": [
    "haunted_mansion = rideResults[4].visualize_wait_times(.45, .55)\n",
    "save(haunted_mansion, \"../reports/figures/HauntedMansionWaitTimes.html\")\n",
    "haunted_mansion"
   ]
  },
  {
   "cell_type": "markdown",
   "id": "8b8cb6fa-ddb5-4377-9b3f-b15e709d952b",
   "metadata": {},
   "source": [
    "### It's a Small World"
   ]
  },
  {
   "cell_type": "code",
   "execution_count": 108,
   "id": "123296a4-70db-4f17-b2db-9dfdd2b1fea7",
   "metadata": {
    "jupyter": {
     "source_hidden": true
    },
    "tags": []
   },
   "outputs": [
    {
     "data": {
      "text/html": [
       "\n",
       "<div id=\"altair-viz-6acbc61a74644ae6accdb32daed6c41f\"></div>\n",
       "<script type=\"text/javascript\">\n",
       "  var VEGA_DEBUG = (typeof VEGA_DEBUG == \"undefined\") ? {} : VEGA_DEBUG;\n",
       "  (function(spec, embedOpt){\n",
       "    let outputDiv = document.currentScript.previousElementSibling;\n",
       "    if (outputDiv.id !== \"altair-viz-6acbc61a74644ae6accdb32daed6c41f\") {\n",
       "      outputDiv = document.getElementById(\"altair-viz-6acbc61a74644ae6accdb32daed6c41f\");\n",
       "    }\n",
       "    const paths = {\n",
       "      \"vega\": \"https://cdn.jsdelivr.net/npm//vega@5?noext\",\n",
       "      \"vega-lib\": \"https://cdn.jsdelivr.net/npm//vega-lib?noext\",\n",
       "      \"vega-lite\": \"https://cdn.jsdelivr.net/npm//vega-lite@4.17.0?noext\",\n",
       "      \"vega-embed\": \"https://cdn.jsdelivr.net/npm//vega-embed@6?noext\",\n",
       "    };\n",
       "\n",
       "    function maybeLoadScript(lib, version) {\n",
       "      var key = `${lib.replace(\"-\", \"\")}_version`;\n",
       "      return (VEGA_DEBUG[key] == version) ?\n",
       "        Promise.resolve(paths[lib]) :\n",
       "        new Promise(function(resolve, reject) {\n",
       "          var s = document.createElement('script');\n",
       "          document.getElementsByTagName(\"head\")[0].appendChild(s);\n",
       "          s.async = true;\n",
       "          s.onload = () => {\n",
       "            VEGA_DEBUG[key] = version;\n",
       "            return resolve(paths[lib]);\n",
       "          };\n",
       "          s.onerror = () => reject(`Error loading script: ${paths[lib]}`);\n",
       "          s.src = paths[lib];\n",
       "        });\n",
       "    }\n",
       "\n",
       "    function showError(err) {\n",
       "      outputDiv.innerHTML = `<div class=\"error\" style=\"color:red;\">${err}</div>`;\n",
       "      throw err;\n",
       "    }\n",
       "\n",
       "    function displayChart(vegaEmbed) {\n",
       "      vegaEmbed(outputDiv, spec, embedOpt)\n",
       "        .catch(err => showError(`Javascript Error: ${err.message}<br>This usually means there's a typo in your chart specification. See the javascript console for the full traceback.`));\n",
       "    }\n",
       "\n",
       "    if(typeof define === \"function\" && define.amd) {\n",
       "      requirejs.config({paths});\n",
       "      require([\"vega-embed\"], displayChart, err => showError(`Error loading script: ${err.message}`));\n",
       "    } else {\n",
       "      maybeLoadScript(\"vega\", \"5\")\n",
       "        .then(() => maybeLoadScript(\"vega-lite\", \"4.17.0\"))\n",
       "        .then(() => maybeLoadScript(\"vega-embed\", \"6\"))\n",
       "        .catch(showError)\n",
       "        .then(() => displayChart(vegaEmbed));\n",
       "    }\n",
       "  })({\"config\": {\"view\": {\"continuousWidth\": 400, \"continuousHeight\": 300}}, \"layer\": [{\"mark\": {\"type\": \"area\", \"color\": \"#90C6FA\", \"opacity\": 0.3}, \"encoding\": {\"x\": {\"axis\": {\"title\": null}, \"field\": \"HOUROFDAY\", \"type\": \"quantitative\"}, \"y\": {\"axis\": {\"title\": [\"Predicted Wait Times by Hour of Day\", \"(45 to 55 Percentile)\"], \"titleColor\": \"#90C6FA\"}, \"field\": \"LOWER_QUANTILE\", \"type\": \"quantitative\"}, \"y2\": {\"field\": \"UPPER_QUANTILE\"}}}, {\"mark\": {\"type\": \"line\", \"interpolate\": \"monotone\", \"stroke\": \"#EAC2B1\"}, \"encoding\": {\"x\": {\"axis\": {\"title\": null}, \"field\": \"HOUROFDAY\", \"type\": \"quantitative\"}, \"y\": {\"axis\": {\"title\": \"Predicted Probability Ride Will Be Down\", \"titleColor\": \"#EAC2B1\"}, \"field\": \"PREDICTED PROB DOWN\", \"type\": \"quantitative\"}}}], \"data\": {\"name\": \"data-15d60292161ff62a3f48c44601aad0bd\"}, \"resolve\": {\"scale\": {\"y\": \"independent\"}}, \"title\": {\"text\": [\"Expected Wait Time vs. Expected % of Times the Ride will be down\"], \"subtitle\": [\"It'S A Small World\"]}, \"$schema\": \"https://vega.github.io/schema/vega-lite/v4.17.0.json\", \"datasets\": {\"data-15d60292161ff62a3f48c44601aad0bd\": [{\"HOUROFDAY\": 7, \"LOWER_QUANTILE\": 27.254776334776338, \"UPPER_QUANTILE\": 33.3902935952936, \"PREDICTED PROB DOWN\": 18.261964735516372}, {\"HOUROFDAY\": 8, \"LOWER_QUANTILE\": 25.407851170568563, \"UPPER_QUANTILE\": 31.96865079365079, \"PREDICTED PROB DOWN\": 17.4562306900103}, {\"HOUROFDAY\": 9, \"LOWER_QUANTILE\": 27.149375, \"UPPER_QUANTILE\": 33.44464196456227, \"PREDICTED PROB DOWN\": 18.20689655172414}, {\"HOUROFDAY\": 10, \"LOWER_QUANTILE\": 25.888034368464893, \"UPPER_QUANTILE\": 32.22328320802006, \"PREDICTED PROB DOWN\": 17.958097771865646}, {\"HOUROFDAY\": 11, \"LOWER_QUANTILE\": 27.120795454545455, \"UPPER_QUANTILE\": 33.88354166666667, \"PREDICTED PROB DOWN\": 18.645227505987}, {\"HOUROFDAY\": 12, \"LOWER_QUANTILE\": 25.842281746031748, \"UPPER_QUANTILE\": 31.616071428571438, \"PREDICTED PROB DOWN\": 17.564322469982844}, {\"HOUROFDAY\": 13, \"LOWER_QUANTILE\": 26.303327470109647, \"UPPER_QUANTILE\": 32.720981606606614, \"PREDICTED PROB DOWN\": 19.782460910944934}, {\"HOUROFDAY\": 14, \"LOWER_QUANTILE\": 26.77309523809524, \"UPPER_QUANTILE\": 33.12547619047619, \"PREDICTED PROB DOWN\": 19.265734265734267}, {\"HOUROFDAY\": 15, \"LOWER_QUANTILE\": 27.661944444444444, \"UPPER_QUANTILE\": 33.22233134920635, \"PREDICTED PROB DOWN\": 16.796598157335225}, {\"HOUROFDAY\": 16, \"LOWER_QUANTILE\": 25.763998778998786, \"UPPER_QUANTILE\": 31.627773786754712, \"PREDICTED PROB DOWN\": 18.39804127317244}, {\"HOUROFDAY\": 17, \"LOWER_QUANTILE\": 26.65796050545484, \"UPPER_QUANTILE\": 32.3345183982684, \"PREDICTED PROB DOWN\": 18.578063594140765}, {\"HOUROFDAY\": 18, \"LOWER_QUANTILE\": 25.62591097308489, \"UPPER_QUANTILE\": 32.12502164502166, \"PREDICTED PROB DOWN\": 18.842143113987774}, {\"HOUROFDAY\": 19, \"LOWER_QUANTILE\": 26.372655122655118, \"UPPER_QUANTILE\": 32.229572510822514, \"PREDICTED PROB DOWN\": 18.747763864042934}, {\"HOUROFDAY\": 20, \"LOWER_QUANTILE\": 25.418958333333332, \"UPPER_QUANTILE\": 31.62763888888889, \"PREDICTED PROB DOWN\": 17.882265827471308}, {\"HOUROFDAY\": 21, \"LOWER_QUANTILE\": 26.934930555555553, \"UPPER_QUANTILE\": 32.1914880952381, \"PREDICTED PROB DOWN\": 19.77302487996508}, {\"HOUROFDAY\": 22, \"LOWER_QUANTILE\": 26.992914585414585, \"UPPER_QUANTILE\": 33.90714285714285, \"PREDICTED PROB DOWN\": 20.654761904761905}, {\"HOUROFDAY\": 23, \"LOWER_QUANTILE\": 25.43421296296296, \"UPPER_QUANTILE\": 31.77877344877345, \"PREDICTED PROB DOWN\": 19.695688926458157}]}}, {\"mode\": \"vega-lite\"});\n",
       "</script>"
      ],
      "text/plain": [
       "alt.LayerChart(...)"
      ]
     },
     "execution_count": 108,
     "metadata": {},
     "output_type": "execute_result"
    }
   ],
   "source": [
    "small_world = rideResults[5].visualize_wait_times(.45, .55)\n",
    "save(small_world, \"../reports/figures/ItsaSmallWorldWaitTimes.html\")\n",
    "small_world"
   ]
  },
  {
   "cell_type": "markdown",
   "id": "fc0bc197-d729-47fe-b248-9c1568999bec",
   "metadata": {},
   "source": [
    "### Jungle Cruise"
   ]
  },
  {
   "cell_type": "code",
   "execution_count": 110,
   "id": "d6550c01-c2a6-4bfe-962a-202df686eb87",
   "metadata": {
    "jupyter": {
     "source_hidden": true
    },
    "tags": []
   },
   "outputs": [
    {
     "data": {
      "text/html": [
       "\n",
       "<div id=\"altair-viz-16a3ae79de08408999330f6bf04e214e\"></div>\n",
       "<script type=\"text/javascript\">\n",
       "  var VEGA_DEBUG = (typeof VEGA_DEBUG == \"undefined\") ? {} : VEGA_DEBUG;\n",
       "  (function(spec, embedOpt){\n",
       "    let outputDiv = document.currentScript.previousElementSibling;\n",
       "    if (outputDiv.id !== \"altair-viz-16a3ae79de08408999330f6bf04e214e\") {\n",
       "      outputDiv = document.getElementById(\"altair-viz-16a3ae79de08408999330f6bf04e214e\");\n",
       "    }\n",
       "    const paths = {\n",
       "      \"vega\": \"https://cdn.jsdelivr.net/npm//vega@5?noext\",\n",
       "      \"vega-lib\": \"https://cdn.jsdelivr.net/npm//vega-lib?noext\",\n",
       "      \"vega-lite\": \"https://cdn.jsdelivr.net/npm//vega-lite@4.17.0?noext\",\n",
       "      \"vega-embed\": \"https://cdn.jsdelivr.net/npm//vega-embed@6?noext\",\n",
       "    };\n",
       "\n",
       "    function maybeLoadScript(lib, version) {\n",
       "      var key = `${lib.replace(\"-\", \"\")}_version`;\n",
       "      return (VEGA_DEBUG[key] == version) ?\n",
       "        Promise.resolve(paths[lib]) :\n",
       "        new Promise(function(resolve, reject) {\n",
       "          var s = document.createElement('script');\n",
       "          document.getElementsByTagName(\"head\")[0].appendChild(s);\n",
       "          s.async = true;\n",
       "          s.onload = () => {\n",
       "            VEGA_DEBUG[key] = version;\n",
       "            return resolve(paths[lib]);\n",
       "          };\n",
       "          s.onerror = () => reject(`Error loading script: ${paths[lib]}`);\n",
       "          s.src = paths[lib];\n",
       "        });\n",
       "    }\n",
       "\n",
       "    function showError(err) {\n",
       "      outputDiv.innerHTML = `<div class=\"error\" style=\"color:red;\">${err}</div>`;\n",
       "      throw err;\n",
       "    }\n",
       "\n",
       "    function displayChart(vegaEmbed) {\n",
       "      vegaEmbed(outputDiv, spec, embedOpt)\n",
       "        .catch(err => showError(`Javascript Error: ${err.message}<br>This usually means there's a typo in your chart specification. See the javascript console for the full traceback.`));\n",
       "    }\n",
       "\n",
       "    if(typeof define === \"function\" && define.amd) {\n",
       "      requirejs.config({paths});\n",
       "      require([\"vega-embed\"], displayChart, err => showError(`Error loading script: ${err.message}`));\n",
       "    } else {\n",
       "      maybeLoadScript(\"vega\", \"5\")\n",
       "        .then(() => maybeLoadScript(\"vega-lite\", \"4.17.0\"))\n",
       "        .then(() => maybeLoadScript(\"vega-embed\", \"6\"))\n",
       "        .catch(showError)\n",
       "        .then(() => displayChart(vegaEmbed));\n",
       "    }\n",
       "  })({\"config\": {\"view\": {\"continuousWidth\": 400, \"continuousHeight\": 300}}, \"layer\": [{\"mark\": {\"type\": \"area\", \"color\": \"#90C6FA\", \"opacity\": 0.3}, \"encoding\": {\"x\": {\"axis\": {\"title\": null}, \"field\": \"HOUROFDAY\", \"type\": \"quantitative\"}, \"y\": {\"axis\": {\"title\": [\"Predicted Wait Times by Hour of Day\", \"(45 to 55 Percentile)\"], \"titleColor\": \"#90C6FA\"}, \"field\": \"LOWER_QUANTILE\", \"type\": \"quantitative\"}, \"y2\": {\"field\": \"UPPER_QUANTILE\"}}}, {\"mark\": {\"type\": \"line\", \"interpolate\": \"monotone\", \"stroke\": \"#EAC2B1\"}, \"encoding\": {\"x\": {\"axis\": {\"title\": null}, \"field\": \"HOUROFDAY\", \"type\": \"quantitative\"}, \"y\": {\"axis\": {\"title\": \"Predicted Probability Ride Will Be Down\", \"titleColor\": \"#EAC2B1\"}, \"field\": \"PREDICTED PROB DOWN\", \"type\": \"quantitative\"}}}], \"data\": {\"name\": \"data-ee2cd59cbadd1025f8dd15ca1e2fcfbe\"}, \"resolve\": {\"scale\": {\"y\": \"independent\"}}, \"title\": {\"text\": [\"Expected Wait Time vs. Expected % of Times the Ride will be down\"], \"subtitle\": [\"Jungle Cruise\"]}, \"$schema\": \"https://vega.github.io/schema/vega-lite/v4.17.0.json\", \"datasets\": {\"data-ee2cd59cbadd1025f8dd15ca1e2fcfbe\": [{\"HOUROFDAY\": 7, \"LOWER_QUANTILE\": 26.01666666666667, \"UPPER_QUANTILE\": 31.91031746031746, \"PREDICTED PROB DOWN\": 17.105263157894736}, {\"HOUROFDAY\": 8, \"LOWER_QUANTILE\": 26.248099816849816, \"UPPER_QUANTILE\": 32.613492063492075, \"PREDICTED PROB DOWN\": 17.509025270758123}, {\"HOUROFDAY\": 9, \"LOWER_QUANTILE\": 25.976826298701297, \"UPPER_QUANTILE\": 32.947556610056616, \"PREDICTED PROB DOWN\": 17.683344756682658}, {\"HOUROFDAY\": 10, \"LOWER_QUANTILE\": 26.23792717086835, \"UPPER_QUANTILE\": 32.438577533577536, \"PREDICTED PROB DOWN\": 17.70514130064692}, {\"HOUROFDAY\": 11, \"LOWER_QUANTILE\": 26.175240722485952, \"UPPER_QUANTILE\": 32.521875, \"PREDICTED PROB DOWN\": 16.430300933932894}, {\"HOUROFDAY\": 12, \"LOWER_QUANTILE\": 25.50886904761906, \"UPPER_QUANTILE\": 31.364863699102834, \"PREDICTED PROB DOWN\": 19.154832005542087}, {\"HOUROFDAY\": 13, \"LOWER_QUANTILE\": 26.744429723502304, \"UPPER_QUANTILE\": 32.242818337570604, \"PREDICTED PROB DOWN\": 17.179846046186146}, {\"HOUROFDAY\": 14, \"LOWER_QUANTILE\": 27.001388888888886, \"UPPER_QUANTILE\": 33.31907738095238, \"PREDICTED PROB DOWN\": 18.388791593695274}, {\"HOUROFDAY\": 15, \"LOWER_QUANTILE\": 25.272727272727273, \"UPPER_QUANTILE\": 32.16670274170274, \"PREDICTED PROB DOWN\": 18.294787711425613}, {\"HOUROFDAY\": 16, \"LOWER_QUANTILE\": 25.702083333333334, \"UPPER_QUANTILE\": 31.977950588837686, \"PREDICTED PROB DOWN\": 19.217207334273624}, {\"HOUROFDAY\": 17, \"LOWER_QUANTILE\": 25.737619047619052, \"UPPER_QUANTILE\": 31.859623456070974, \"PREDICTED PROB DOWN\": 19.54305799648506}, {\"HOUROFDAY\": 18, \"LOWER_QUANTILE\": 25.0, \"UPPER_QUANTILE\": 31.157207792207817, \"PREDICTED PROB DOWN\": 17.998533724340177}, {\"HOUROFDAY\": 19, \"LOWER_QUANTILE\": 26.549107142857142, \"UPPER_QUANTILE\": 33.223910464535464, \"PREDICTED PROB DOWN\": 17.189835575485798}, {\"HOUROFDAY\": 20, \"LOWER_QUANTILE\": 27.14858999477534, \"UPPER_QUANTILE\": 33.27337301587303, \"PREDICTED PROB DOWN\": 18.13053988718775}, {\"HOUROFDAY\": 21, \"LOWER_QUANTILE\": 26.8915873015873, \"UPPER_QUANTILE\": 32.808571428571426, \"PREDICTED PROB DOWN\": 18.877551020408163}, {\"HOUROFDAY\": 22, \"LOWER_QUANTILE\": 26.07479887838408, \"UPPER_QUANTILE\": 32.29942640692641, \"PREDICTED PROB DOWN\": 20.169160702667536}, {\"HOUROFDAY\": 23, \"LOWER_QUANTILE\": 26.602103174603183, \"UPPER_QUANTILE\": 32.68911706349206, \"PREDICTED PROB DOWN\": 18.11811811811812}]}}, {\"mode\": \"vega-lite\"});\n",
       "</script>"
      ],
      "text/plain": [
       "alt.LayerChart(...)"
      ]
     },
     "execution_count": 110,
     "metadata": {},
     "output_type": "execute_result"
    }
   ],
   "source": [
    "jungle_cruise = rideResults[6].visualize_wait_times(.45, .55)\n",
    "save(jungle_cruise, \"../reports/figures/JungleCruiseWaitTimes.html\")\n",
    "jungle_cruise"
   ]
  },
  {
   "cell_type": "markdown",
   "id": "6763ed28-e398-4165-820e-ecf3cb876a59",
   "metadata": {},
   "source": [
    "### Mad Tea Party"
   ]
  },
  {
   "cell_type": "code",
   "execution_count": 112,
   "id": "8a64f058-f8d9-44a3-a270-cca8583a4122",
   "metadata": {
    "jupyter": {
     "source_hidden": true
    },
    "tags": []
   },
   "outputs": [
    {
     "data": {
      "text/html": [
       "\n",
       "<div id=\"altair-viz-8e3e3cc2a1254882971a5234b78e4d69\"></div>\n",
       "<script type=\"text/javascript\">\n",
       "  var VEGA_DEBUG = (typeof VEGA_DEBUG == \"undefined\") ? {} : VEGA_DEBUG;\n",
       "  (function(spec, embedOpt){\n",
       "    let outputDiv = document.currentScript.previousElementSibling;\n",
       "    if (outputDiv.id !== \"altair-viz-8e3e3cc2a1254882971a5234b78e4d69\") {\n",
       "      outputDiv = document.getElementById(\"altair-viz-8e3e3cc2a1254882971a5234b78e4d69\");\n",
       "    }\n",
       "    const paths = {\n",
       "      \"vega\": \"https://cdn.jsdelivr.net/npm//vega@5?noext\",\n",
       "      \"vega-lib\": \"https://cdn.jsdelivr.net/npm//vega-lib?noext\",\n",
       "      \"vega-lite\": \"https://cdn.jsdelivr.net/npm//vega-lite@4.17.0?noext\",\n",
       "      \"vega-embed\": \"https://cdn.jsdelivr.net/npm//vega-embed@6?noext\",\n",
       "    };\n",
       "\n",
       "    function maybeLoadScript(lib, version) {\n",
       "      var key = `${lib.replace(\"-\", \"\")}_version`;\n",
       "      return (VEGA_DEBUG[key] == version) ?\n",
       "        Promise.resolve(paths[lib]) :\n",
       "        new Promise(function(resolve, reject) {\n",
       "          var s = document.createElement('script');\n",
       "          document.getElementsByTagName(\"head\")[0].appendChild(s);\n",
       "          s.async = true;\n",
       "          s.onload = () => {\n",
       "            VEGA_DEBUG[key] = version;\n",
       "            return resolve(paths[lib]);\n",
       "          };\n",
       "          s.onerror = () => reject(`Error loading script: ${paths[lib]}`);\n",
       "          s.src = paths[lib];\n",
       "        });\n",
       "    }\n",
       "\n",
       "    function showError(err) {\n",
       "      outputDiv.innerHTML = `<div class=\"error\" style=\"color:red;\">${err}</div>`;\n",
       "      throw err;\n",
       "    }\n",
       "\n",
       "    function displayChart(vegaEmbed) {\n",
       "      vegaEmbed(outputDiv, spec, embedOpt)\n",
       "        .catch(err => showError(`Javascript Error: ${err.message}<br>This usually means there's a typo in your chart specification. See the javascript console for the full traceback.`));\n",
       "    }\n",
       "\n",
       "    if(typeof define === \"function\" && define.amd) {\n",
       "      requirejs.config({paths});\n",
       "      require([\"vega-embed\"], displayChart, err => showError(`Error loading script: ${err.message}`));\n",
       "    } else {\n",
       "      maybeLoadScript(\"vega\", \"5\")\n",
       "        .then(() => maybeLoadScript(\"vega-lite\", \"4.17.0\"))\n",
       "        .then(() => maybeLoadScript(\"vega-embed\", \"6\"))\n",
       "        .catch(showError)\n",
       "        .then(() => displayChart(vegaEmbed));\n",
       "    }\n",
       "  })({\"config\": {\"view\": {\"continuousWidth\": 400, \"continuousHeight\": 300}}, \"layer\": [{\"mark\": {\"type\": \"area\", \"color\": \"#90C6FA\", \"opacity\": 0.3}, \"encoding\": {\"x\": {\"axis\": {\"title\": null}, \"field\": \"HOUROFDAY\", \"type\": \"quantitative\"}, \"y\": {\"axis\": {\"title\": [\"Predicted Wait Times by Hour of Day\", \"(45 to 55 Percentile)\"], \"titleColor\": \"#90C6FA\"}, \"field\": \"LOWER_QUANTILE\", \"type\": \"quantitative\"}, \"y2\": {\"field\": \"UPPER_QUANTILE\"}}}, {\"mark\": {\"type\": \"line\", \"interpolate\": \"monotone\", \"stroke\": \"#EAC2B1\"}, \"encoding\": {\"x\": {\"axis\": {\"title\": null}, \"field\": \"HOUROFDAY\", \"type\": \"quantitative\"}, \"y\": {\"axis\": {\"title\": \"Predicted Probability Ride Will Be Down\", \"titleColor\": \"#EAC2B1\"}, \"field\": \"PREDICTED PROB DOWN\", \"type\": \"quantitative\"}}}], \"data\": {\"name\": \"data-924ad5933dee1347a66737ca2fcddbf0\"}, \"resolve\": {\"scale\": {\"y\": \"independent\"}}, \"title\": {\"text\": [\"Expected Wait Time vs. Expected % of Times the Ride will be down\"], \"subtitle\": [\"Mad Tea Party\"]}, \"$schema\": \"https://vega.github.io/schema/vega-lite/v4.17.0.json\", \"datasets\": {\"data-924ad5933dee1347a66737ca2fcddbf0\": [{\"HOUROFDAY\": 7, \"LOWER_QUANTILE\": 26.461602633477636, \"UPPER_QUANTILE\": 33.08501376341051, \"PREDICTED PROB DOWN\": 15.81769436997319}, {\"HOUROFDAY\": 8, \"LOWER_QUANTILE\": 27.502857142857145, \"UPPER_QUANTILE\": 33.894452255788174, \"PREDICTED PROB DOWN\": 19.131832797427652}, {\"HOUROFDAY\": 9, \"LOWER_QUANTILE\": 26.02562320916905, \"UPPER_QUANTILE\": 32.10413757745485, \"PREDICTED PROB DOWN\": 18.143160878809354}, {\"HOUROFDAY\": 10, \"LOWER_QUANTILE\": 25.7166847041847, \"UPPER_QUANTILE\": 31.71944444444445, \"PREDICTED PROB DOWN\": 18.970482361411086}, {\"HOUROFDAY\": 11, \"LOWER_QUANTILE\": 26.86666666666666, \"UPPER_QUANTILE\": 33.327680142361, \"PREDICTED PROB DOWN\": 18.40574751967157}, {\"HOUROFDAY\": 12, \"LOWER_QUANTILE\": 25.72661128935673, \"UPPER_QUANTILE\": 32.099799498746876, \"PREDICTED PROB DOWN\": 17.250276446737928}, {\"HOUROFDAY\": 13, \"LOWER_QUANTILE\": 26.506010928961746, \"UPPER_QUANTILE\": 32.175, \"PREDICTED PROB DOWN\": 18.418277680140598}, {\"HOUROFDAY\": 14, \"LOWER_QUANTILE\": 26.294642857142854, \"UPPER_QUANTILE\": 33.64187367864693, \"PREDICTED PROB DOWN\": 17.595944967414916}, {\"HOUROFDAY\": 15, \"LOWER_QUANTILE\": 26.990109890109892, \"UPPER_QUANTILE\": 33.601594558662164, \"PREDICTED PROB DOWN\": 17.991775188485263}, {\"HOUROFDAY\": 16, \"LOWER_QUANTILE\": 25.122857142857146, \"UPPER_QUANTILE\": 31.569603572342032, \"PREDICTED PROB DOWN\": 18.371008252601364}, {\"HOUROFDAY\": 17, \"LOWER_QUANTILE\": 25.638606601731603, \"UPPER_QUANTILE\": 32.26145833333334, \"PREDICTED PROB DOWN\": 17.7430801987225}, {\"HOUROFDAY\": 18, \"LOWER_QUANTILE\": 27.166666666666664, \"UPPER_QUANTILE\": 33.24583333333334, \"PREDICTED PROB DOWN\": 17.93103448275862}, {\"HOUROFDAY\": 19, \"LOWER_QUANTILE\": 25.871414995822892, \"UPPER_QUANTILE\": 32.31978715728716, \"PREDICTED PROB DOWN\": 19.18561995597946}, {\"HOUROFDAY\": 20, \"LOWER_QUANTILE\": 26.927045177045176, \"UPPER_QUANTILE\": 33.67489119303636, \"PREDICTED PROB DOWN\": 18.212927756653993}, {\"HOUROFDAY\": 21, \"LOWER_QUANTILE\": 27.377916666666664, \"UPPER_QUANTILE\": 33.10536255411255, \"PREDICTED PROB DOWN\": 16.973506960035923}, {\"HOUROFDAY\": 22, \"LOWER_QUANTILE\": 26.19217787114846, \"UPPER_QUANTILE\": 32.55177579365081, \"PREDICTED PROB DOWN\": 19.031141868512112}, {\"HOUROFDAY\": 23, \"LOWER_QUANTILE\": 26.481349206349208, \"UPPER_QUANTILE\": 32.92059523809524, \"PREDICTED PROB DOWN\": 16.013925152306356}]}}, {\"mode\": \"vega-lite\"});\n",
       "</script>"
      ],
      "text/plain": [
       "alt.LayerChart(...)"
      ]
     },
     "execution_count": 112,
     "metadata": {},
     "output_type": "execute_result"
    }
   ],
   "source": [
    "mad_tea_party = rideResults[7].visualize_wait_times(.45, .55)\n",
    "save(mad_tea_party, \"../reports/figures/MadTeamPartyWaitTimes.html\")\n",
    "mad_tea_party"
   ]
  },
  {
   "cell_type": "markdown",
   "id": "de9695be-052e-4d9e-a6f9-b393512ad040",
   "metadata": {},
   "source": [
    "### Peter Pan"
   ]
  },
  {
   "cell_type": "code",
   "execution_count": 113,
   "id": "53f274fb-d2b0-4ee8-8e99-b53543114d95",
   "metadata": {
    "jupyter": {
     "source_hidden": true
    },
    "tags": []
   },
   "outputs": [
    {
     "data": {
      "text/html": [
       "\n",
       "<div id=\"altair-viz-921d58f526b94ad28641ef2aca53f223\"></div>\n",
       "<script type=\"text/javascript\">\n",
       "  var VEGA_DEBUG = (typeof VEGA_DEBUG == \"undefined\") ? {} : VEGA_DEBUG;\n",
       "  (function(spec, embedOpt){\n",
       "    let outputDiv = document.currentScript.previousElementSibling;\n",
       "    if (outputDiv.id !== \"altair-viz-921d58f526b94ad28641ef2aca53f223\") {\n",
       "      outputDiv = document.getElementById(\"altair-viz-921d58f526b94ad28641ef2aca53f223\");\n",
       "    }\n",
       "    const paths = {\n",
       "      \"vega\": \"https://cdn.jsdelivr.net/npm//vega@5?noext\",\n",
       "      \"vega-lib\": \"https://cdn.jsdelivr.net/npm//vega-lib?noext\",\n",
       "      \"vega-lite\": \"https://cdn.jsdelivr.net/npm//vega-lite@4.17.0?noext\",\n",
       "      \"vega-embed\": \"https://cdn.jsdelivr.net/npm//vega-embed@6?noext\",\n",
       "    };\n",
       "\n",
       "    function maybeLoadScript(lib, version) {\n",
       "      var key = `${lib.replace(\"-\", \"\")}_version`;\n",
       "      return (VEGA_DEBUG[key] == version) ?\n",
       "        Promise.resolve(paths[lib]) :\n",
       "        new Promise(function(resolve, reject) {\n",
       "          var s = document.createElement('script');\n",
       "          document.getElementsByTagName(\"head\")[0].appendChild(s);\n",
       "          s.async = true;\n",
       "          s.onload = () => {\n",
       "            VEGA_DEBUG[key] = version;\n",
       "            return resolve(paths[lib]);\n",
       "          };\n",
       "          s.onerror = () => reject(`Error loading script: ${paths[lib]}`);\n",
       "          s.src = paths[lib];\n",
       "        });\n",
       "    }\n",
       "\n",
       "    function showError(err) {\n",
       "      outputDiv.innerHTML = `<div class=\"error\" style=\"color:red;\">${err}</div>`;\n",
       "      throw err;\n",
       "    }\n",
       "\n",
       "    function displayChart(vegaEmbed) {\n",
       "      vegaEmbed(outputDiv, spec, embedOpt)\n",
       "        .catch(err => showError(`Javascript Error: ${err.message}<br>This usually means there's a typo in your chart specification. See the javascript console for the full traceback.`));\n",
       "    }\n",
       "\n",
       "    if(typeof define === \"function\" && define.amd) {\n",
       "      requirejs.config({paths});\n",
       "      require([\"vega-embed\"], displayChart, err => showError(`Error loading script: ${err.message}`));\n",
       "    } else {\n",
       "      maybeLoadScript(\"vega\", \"5\")\n",
       "        .then(() => maybeLoadScript(\"vega-lite\", \"4.17.0\"))\n",
       "        .then(() => maybeLoadScript(\"vega-embed\", \"6\"))\n",
       "        .catch(showError)\n",
       "        .then(() => displayChart(vegaEmbed));\n",
       "    }\n",
       "  })({\"config\": {\"view\": {\"continuousWidth\": 400, \"continuousHeight\": 300}}, \"layer\": [{\"mark\": {\"type\": \"area\", \"color\": \"#90C6FA\", \"opacity\": 0.3}, \"encoding\": {\"x\": {\"axis\": {\"title\": null}, \"field\": \"HOUROFDAY\", \"type\": \"quantitative\"}, \"y\": {\"axis\": {\"title\": [\"Predicted Wait Times by Hour of Day\", \"(45 to 55 Percentile)\"], \"titleColor\": \"#90C6FA\"}, \"field\": \"LOWER_QUANTILE\", \"type\": \"quantitative\"}, \"y2\": {\"field\": \"UPPER_QUANTILE\"}}}, {\"mark\": {\"type\": \"line\", \"interpolate\": \"monotone\", \"stroke\": \"#EAC2B1\"}, \"encoding\": {\"x\": {\"axis\": {\"title\": null}, \"field\": \"HOUROFDAY\", \"type\": \"quantitative\"}, \"y\": {\"axis\": {\"title\": \"Predicted Probability Ride Will Be Down\", \"titleColor\": \"#EAC2B1\"}, \"field\": \"PREDICTED PROB DOWN\", \"type\": \"quantitative\"}}}], \"data\": {\"name\": \"data-92f2a5cb26518395192d16e730c55d9a\"}, \"resolve\": {\"scale\": {\"y\": \"independent\"}}, \"title\": {\"text\": [\"Expected Wait Time vs. Expected % of Times the Ride will be down\"], \"subtitle\": [\"Peter Pan'S Flight\"]}, \"$schema\": \"https://vega.github.io/schema/vega-lite/v4.17.0.json\", \"datasets\": {\"data-92f2a5cb26518395192d16e730c55d9a\": [{\"HOUROFDAY\": 7, \"LOWER_QUANTILE\": 27.308928571428577, \"UPPER_QUANTILE\": 32.73476190476191, \"PREDICTED PROB DOWN\": 17.35218508997429}, {\"HOUROFDAY\": 8, \"LOWER_QUANTILE\": 25.239404761904762, \"UPPER_QUANTILE\": 31.237462121212122, \"PREDICTED PROB DOWN\": 18.705402650356778}, {\"HOUROFDAY\": 9, \"LOWER_QUANTILE\": 25.540469568078123, \"UPPER_QUANTILE\": 32.535654761904766, \"PREDICTED PROB DOWN\": 18.376358695652172}, {\"HOUROFDAY\": 10, \"LOWER_QUANTILE\": 27.25930735930736, \"UPPER_QUANTILE\": 33.62200577200578, \"PREDICTED PROB DOWN\": 17.526881720430108}, {\"HOUROFDAY\": 11, \"LOWER_QUANTILE\": 25.458928571428572, \"UPPER_QUANTILE\": 31.74592731829575, \"PREDICTED PROB DOWN\": 19.547826086956523}, {\"HOUROFDAY\": 12, \"LOWER_QUANTILE\": 25.56620879120879, \"UPPER_QUANTILE\": 31.810619570864475, \"PREDICTED PROB DOWN\": 18.65136298421808}, {\"HOUROFDAY\": 13, \"LOWER_QUANTILE\": 28.379523809523807, \"UPPER_QUANTILE\": 34.62828571428574, \"PREDICTED PROB DOWN\": 18.265007320644216}, {\"HOUROFDAY\": 14, \"LOWER_QUANTILE\": 26.59380973601562, \"UPPER_QUANTILE\": 33.56254397373963, \"PREDICTED PROB DOWN\": 18.31238779174147}, {\"HOUROFDAY\": 15, \"LOWER_QUANTILE\": 26.12248822605965, \"UPPER_QUANTILE\": 32.2157582499073, \"PREDICTED PROB DOWN\": 18.509090909090908}, {\"HOUROFDAY\": 16, \"LOWER_QUANTILE\": 26.234588978044403, \"UPPER_QUANTILE\": 33.12941632408359, \"PREDICTED PROB DOWN\": 17.68158473954512}, {\"HOUROFDAY\": 17, \"LOWER_QUANTILE\": 26.543989343989345, \"UPPER_QUANTILE\": 32.66666666666667, \"PREDICTED PROB DOWN\": 17.950608182823444}, {\"HOUROFDAY\": 18, \"LOWER_QUANTILE\": 25.357310606060604, \"UPPER_QUANTILE\": 32.16610849056605, \"PREDICTED PROB DOWN\": 18.29134720700986}, {\"HOUROFDAY\": 19, \"LOWER_QUANTILE\": 25.64457763362369, \"UPPER_QUANTILE\": 31.633373348582204, \"PREDICTED PROB DOWN\": 18.486486486486488}, {\"HOUROFDAY\": 20, \"LOWER_QUANTILE\": 26.538616228491716, \"UPPER_QUANTILE\": 32.504552611367146, \"PREDICTED PROB DOWN\": 18.59488354333715}, {\"HOUROFDAY\": 21, \"LOWER_QUANTILE\": 24.54227272727273, \"UPPER_QUANTILE\": 30.72492481203008, \"PREDICTED PROB DOWN\": 17.970765262252794}, {\"HOUROFDAY\": 22, \"LOWER_QUANTILE\": 26.623794261294265, \"UPPER_QUANTILE\": 33.27691080161669, \"PREDICTED PROB DOWN\": 17.677642980935875}, {\"HOUROFDAY\": 23, \"LOWER_QUANTILE\": 25.58681818181818, \"UPPER_QUANTILE\": 32.801170634920645, \"PREDICTED PROB DOWN\": 19.39130434782609}]}}, {\"mode\": \"vega-lite\"});\n",
       "</script>"
      ],
      "text/plain": [
       "alt.LayerChart(...)"
      ]
     },
     "execution_count": 113,
     "metadata": {},
     "output_type": "execute_result"
    }
   ],
   "source": [
    "peter_pan = rideResults[8].visualize_wait_times(.45, .55)\n",
    "save(peter_pan, \"../reports/figures/PeterPanWaitTimes.html\")\n",
    "peter_pan"
   ]
  },
  {
   "cell_type": "markdown",
   "id": "5dcc1252-1f20-4523-8ee6-52c4ebb25b81",
   "metadata": {},
   "source": [
    "### Pirates of the Caribbean"
   ]
  },
  {
   "cell_type": "code",
   "execution_count": 114,
   "id": "724e89c3-38a7-49b1-89a4-590c5c64c059",
   "metadata": {},
   "outputs": [
    {
     "data": {
      "text/html": [
       "\n",
       "<div id=\"altair-viz-5306d02edddd48998382d39f1be8de87\"></div>\n",
       "<script type=\"text/javascript\">\n",
       "  var VEGA_DEBUG = (typeof VEGA_DEBUG == \"undefined\") ? {} : VEGA_DEBUG;\n",
       "  (function(spec, embedOpt){\n",
       "    let outputDiv = document.currentScript.previousElementSibling;\n",
       "    if (outputDiv.id !== \"altair-viz-5306d02edddd48998382d39f1be8de87\") {\n",
       "      outputDiv = document.getElementById(\"altair-viz-5306d02edddd48998382d39f1be8de87\");\n",
       "    }\n",
       "    const paths = {\n",
       "      \"vega\": \"https://cdn.jsdelivr.net/npm//vega@5?noext\",\n",
       "      \"vega-lib\": \"https://cdn.jsdelivr.net/npm//vega-lib?noext\",\n",
       "      \"vega-lite\": \"https://cdn.jsdelivr.net/npm//vega-lite@4.17.0?noext\",\n",
       "      \"vega-embed\": \"https://cdn.jsdelivr.net/npm//vega-embed@6?noext\",\n",
       "    };\n",
       "\n",
       "    function maybeLoadScript(lib, version) {\n",
       "      var key = `${lib.replace(\"-\", \"\")}_version`;\n",
       "      return (VEGA_DEBUG[key] == version) ?\n",
       "        Promise.resolve(paths[lib]) :\n",
       "        new Promise(function(resolve, reject) {\n",
       "          var s = document.createElement('script');\n",
       "          document.getElementsByTagName(\"head\")[0].appendChild(s);\n",
       "          s.async = true;\n",
       "          s.onload = () => {\n",
       "            VEGA_DEBUG[key] = version;\n",
       "            return resolve(paths[lib]);\n",
       "          };\n",
       "          s.onerror = () => reject(`Error loading script: ${paths[lib]}`);\n",
       "          s.src = paths[lib];\n",
       "        });\n",
       "    }\n",
       "\n",
       "    function showError(err) {\n",
       "      outputDiv.innerHTML = `<div class=\"error\" style=\"color:red;\">${err}</div>`;\n",
       "      throw err;\n",
       "    }\n",
       "\n",
       "    function displayChart(vegaEmbed) {\n",
       "      vegaEmbed(outputDiv, spec, embedOpt)\n",
       "        .catch(err => showError(`Javascript Error: ${err.message}<br>This usually means there's a typo in your chart specification. See the javascript console for the full traceback.`));\n",
       "    }\n",
       "\n",
       "    if(typeof define === \"function\" && define.amd) {\n",
       "      requirejs.config({paths});\n",
       "      require([\"vega-embed\"], displayChart, err => showError(`Error loading script: ${err.message}`));\n",
       "    } else {\n",
       "      maybeLoadScript(\"vega\", \"5\")\n",
       "        .then(() => maybeLoadScript(\"vega-lite\", \"4.17.0\"))\n",
       "        .then(() => maybeLoadScript(\"vega-embed\", \"6\"))\n",
       "        .catch(showError)\n",
       "        .then(() => displayChart(vegaEmbed));\n",
       "    }\n",
       "  })({\"config\": {\"view\": {\"continuousWidth\": 400, \"continuousHeight\": 300}}, \"layer\": [{\"mark\": {\"type\": \"area\", \"color\": \"#90C6FA\", \"opacity\": 0.3}, \"encoding\": {\"x\": {\"axis\": {\"title\": null}, \"field\": \"HOUROFDAY\", \"type\": \"quantitative\"}, \"y\": {\"axis\": {\"title\": [\"Predicted Wait Times by Hour of Day\", \"(45 to 55 Percentile)\"], \"titleColor\": \"#90C6FA\"}, \"field\": \"LOWER_QUANTILE\", \"type\": \"quantitative\"}, \"y2\": {\"field\": \"UPPER_QUANTILE\"}}}, {\"mark\": {\"type\": \"line\", \"interpolate\": \"monotone\", \"stroke\": \"#EAC2B1\"}, \"encoding\": {\"x\": {\"axis\": {\"title\": null}, \"field\": \"HOUROFDAY\", \"type\": \"quantitative\"}, \"y\": {\"axis\": {\"title\": \"Predicted Probability Ride Will Be Down\", \"titleColor\": \"#EAC2B1\"}, \"field\": \"PREDICTED PROB DOWN\", \"type\": \"quantitative\"}}}], \"data\": {\"name\": \"data-32ef2d1275a4a6c088f0ec8f33fa69eb\"}, \"resolve\": {\"scale\": {\"y\": \"independent\"}}, \"title\": {\"text\": [\"Expected Wait Time vs. Expected % of Times the Ride will be down\"], \"subtitle\": [\"Pirates Of The Caribbean\"]}, \"$schema\": \"https://vega.github.io/schema/vega-lite/v4.17.0.json\", \"datasets\": {\"data-32ef2d1275a4a6c088f0ec8f33fa69eb\": [{\"HOUROFDAY\": 7, \"LOWER_QUANTILE\": 23.810158730158733, \"UPPER_QUANTILE\": 30.0, \"PREDICTED PROB DOWN\": 17.744916820702404}, {\"HOUROFDAY\": 8, \"LOWER_QUANTILE\": 26.85760780885782, \"UPPER_QUANTILE\": 32.51880952380952, \"PREDICTED PROB DOWN\": 19.775014801657786}, {\"HOUROFDAY\": 9, \"LOWER_QUANTILE\": 26.227711417513305, \"UPPER_QUANTILE\": 32.25833333333335, \"PREDICTED PROB DOWN\": 18.583765112262522}, {\"HOUROFDAY\": 10, \"LOWER_QUANTILE\": 26.975833333333334, \"UPPER_QUANTILE\": 33.33275245587746, \"PREDICTED PROB DOWN\": 17.14951714951715}, {\"HOUROFDAY\": 11, \"LOWER_QUANTILE\": 26.502021312021313, \"UPPER_QUANTILE\": 32.31000000000002, \"PREDICTED PROB DOWN\": 18.10224089635854}, {\"HOUROFDAY\": 12, \"LOWER_QUANTILE\": 26.75, \"UPPER_QUANTILE\": 32.967532467532465, \"PREDICTED PROB DOWN\": 17.441054091539527}, {\"HOUROFDAY\": 13, \"LOWER_QUANTILE\": 25.436363636363637, \"UPPER_QUANTILE\": 31.61261904761905, \"PREDICTED PROB DOWN\": 17.69633507853403}, {\"HOUROFDAY\": 14, \"LOWER_QUANTILE\": 25.461553030303033, \"UPPER_QUANTILE\": 32.077056277056286, \"PREDICTED PROB DOWN\": 19.409882687522217}, {\"HOUROFDAY\": 15, \"LOWER_QUANTILE\": 28.397531328320806, \"UPPER_QUANTILE\": 35.0, \"PREDICTED PROB DOWN\": 18.583765112262522}, {\"HOUROFDAY\": 16, \"LOWER_QUANTILE\": 26.170416666666668, \"UPPER_QUANTILE\": 31.704343380049902, \"PREDICTED PROB DOWN\": 19.15654038598999}, {\"HOUROFDAY\": 17, \"LOWER_QUANTILE\": 26.288333333333338, \"UPPER_QUANTILE\": 31.909107142857145, \"PREDICTED PROB DOWN\": 19.62750716332378}, {\"HOUROFDAY\": 18, \"LOWER_QUANTILE\": 26.193134920634925, \"UPPER_QUANTILE\": 32.27261904761905, \"PREDICTED PROB DOWN\": 18.355776045357903}, {\"HOUROFDAY\": 19, \"LOWER_QUANTILE\": 25.370357142857145, \"UPPER_QUANTILE\": 31.452260101010108, \"PREDICTED PROB DOWN\": 16.503800217155266}, {\"HOUROFDAY\": 20, \"LOWER_QUANTILE\": 25.69443452380953, \"UPPER_QUANTILE\": 31.914429824561402, \"PREDICTED PROB DOWN\": 18.74062968515742}, {\"HOUROFDAY\": 21, \"LOWER_QUANTILE\": 26.808025415444767, \"UPPER_QUANTILE\": 33.59008726100451, \"PREDICTED PROB DOWN\": 18.84650317892825}, {\"HOUROFDAY\": 22, \"LOWER_QUANTILE\": 26.484240620490617, \"UPPER_QUANTILE\": 32.982638888888886, \"PREDICTED PROB DOWN\": 17.653890824622533}, {\"HOUROFDAY\": 23, \"LOWER_QUANTILE\": 26.59375, \"UPPER_QUANTILE\": 32.518813196380364, \"PREDICTED PROB DOWN\": 20.862068965517242}]}}, {\"mode\": \"vega-lite\"});\n",
       "</script>"
      ],
      "text/plain": [
       "alt.LayerChart(...)"
      ]
     },
     "execution_count": 114,
     "metadata": {},
     "output_type": "execute_result"
    }
   ],
   "source": [
    "pirates = rideResults[9].visualize_wait_times(.45, .55)\n",
    "save(pirates, \"../reports/figures/PiratesWaitTimes.html\")\n",
    "pirates"
   ]
  },
  {
   "cell_type": "markdown",
   "id": "11d39a73-3ae2-4dbd-a5ed-903055bddaa2",
   "metadata": {},
   "source": [
    "### Prince Charming's Regal Carrousel\n"
   ]
  },
  {
   "cell_type": "code",
   "execution_count": 115,
   "id": "3924c34e-06b0-4448-aef9-22317e592488",
   "metadata": {},
   "outputs": [
    {
     "data": {
      "text/html": [
       "\n",
       "<div id=\"altair-viz-9eae66042ce04ac38688f308326213d6\"></div>\n",
       "<script type=\"text/javascript\">\n",
       "  var VEGA_DEBUG = (typeof VEGA_DEBUG == \"undefined\") ? {} : VEGA_DEBUG;\n",
       "  (function(spec, embedOpt){\n",
       "    let outputDiv = document.currentScript.previousElementSibling;\n",
       "    if (outputDiv.id !== \"altair-viz-9eae66042ce04ac38688f308326213d6\") {\n",
       "      outputDiv = document.getElementById(\"altair-viz-9eae66042ce04ac38688f308326213d6\");\n",
       "    }\n",
       "    const paths = {\n",
       "      \"vega\": \"https://cdn.jsdelivr.net/npm//vega@5?noext\",\n",
       "      \"vega-lib\": \"https://cdn.jsdelivr.net/npm//vega-lib?noext\",\n",
       "      \"vega-lite\": \"https://cdn.jsdelivr.net/npm//vega-lite@4.17.0?noext\",\n",
       "      \"vega-embed\": \"https://cdn.jsdelivr.net/npm//vega-embed@6?noext\",\n",
       "    };\n",
       "\n",
       "    function maybeLoadScript(lib, version) {\n",
       "      var key = `${lib.replace(\"-\", \"\")}_version`;\n",
       "      return (VEGA_DEBUG[key] == version) ?\n",
       "        Promise.resolve(paths[lib]) :\n",
       "        new Promise(function(resolve, reject) {\n",
       "          var s = document.createElement('script');\n",
       "          document.getElementsByTagName(\"head\")[0].appendChild(s);\n",
       "          s.async = true;\n",
       "          s.onload = () => {\n",
       "            VEGA_DEBUG[key] = version;\n",
       "            return resolve(paths[lib]);\n",
       "          };\n",
       "          s.onerror = () => reject(`Error loading script: ${paths[lib]}`);\n",
       "          s.src = paths[lib];\n",
       "        });\n",
       "    }\n",
       "\n",
       "    function showError(err) {\n",
       "      outputDiv.innerHTML = `<div class=\"error\" style=\"color:red;\">${err}</div>`;\n",
       "      throw err;\n",
       "    }\n",
       "\n",
       "    function displayChart(vegaEmbed) {\n",
       "      vegaEmbed(outputDiv, spec, embedOpt)\n",
       "        .catch(err => showError(`Javascript Error: ${err.message}<br>This usually means there's a typo in your chart specification. See the javascript console for the full traceback.`));\n",
       "    }\n",
       "\n",
       "    if(typeof define === \"function\" && define.amd) {\n",
       "      requirejs.config({paths});\n",
       "      require([\"vega-embed\"], displayChart, err => showError(`Error loading script: ${err.message}`));\n",
       "    } else {\n",
       "      maybeLoadScript(\"vega\", \"5\")\n",
       "        .then(() => maybeLoadScript(\"vega-lite\", \"4.17.0\"))\n",
       "        .then(() => maybeLoadScript(\"vega-embed\", \"6\"))\n",
       "        .catch(showError)\n",
       "        .then(() => displayChart(vegaEmbed));\n",
       "    }\n",
       "  })({\"config\": {\"view\": {\"continuousWidth\": 400, \"continuousHeight\": 300}}, \"layer\": [{\"mark\": {\"type\": \"area\", \"color\": \"#90C6FA\", \"opacity\": 0.3}, \"encoding\": {\"x\": {\"axis\": {\"title\": null}, \"field\": \"HOUROFDAY\", \"type\": \"quantitative\"}, \"y\": {\"axis\": {\"title\": [\"Predicted Wait Times by Hour of Day\", \"(45 to 55 Percentile)\"], \"titleColor\": \"#90C6FA\"}, \"field\": \"LOWER_QUANTILE\", \"type\": \"quantitative\"}, \"y2\": {\"field\": \"UPPER_QUANTILE\"}}}, {\"mark\": {\"type\": \"line\", \"interpolate\": \"monotone\", \"stroke\": \"#EAC2B1\"}, \"encoding\": {\"x\": {\"axis\": {\"title\": null}, \"field\": \"HOUROFDAY\", \"type\": \"quantitative\"}, \"y\": {\"axis\": {\"title\": \"Predicted Probability Ride Will Be Down\", \"titleColor\": \"#EAC2B1\"}, \"field\": \"PREDICTED PROB DOWN\", \"type\": \"quantitative\"}}}], \"data\": {\"name\": \"data-1de42e488e42b306189de5493d2f1dfd\"}, \"resolve\": {\"scale\": {\"y\": \"independent\"}}, \"title\": {\"text\": [\"Expected Wait Time vs. Expected % of Times the Ride will be down\"], \"subtitle\": [\"Prince Charming Regal Carrousel\"]}, \"$schema\": \"https://vega.github.io/schema/vega-lite/v4.17.0.json\", \"datasets\": {\"data-1de42e488e42b306189de5493d2f1dfd\": [{\"HOUROFDAY\": 7, \"LOWER_QUANTILE\": 26.85674436674437, \"UPPER_QUANTILE\": 32.90293303760034, \"PREDICTED PROB DOWN\": 15.873015873015872}, {\"HOUROFDAY\": 8, \"LOWER_QUANTILE\": 26.61093959919391, \"UPPER_QUANTILE\": 31.95721907665505, \"PREDICTED PROB DOWN\": 19.0}, {\"HOUROFDAY\": 9, \"LOWER_QUANTILE\": 25.0, \"UPPER_QUANTILE\": 31.23541666666667, \"PREDICTED PROB DOWN\": 18.200577796120513}, {\"HOUROFDAY\": 10, \"LOWER_QUANTILE\": 26.512500000000003, \"UPPER_QUANTILE\": 32.867202380952385, \"PREDICTED PROB DOWN\": 18.53496115427303}, {\"HOUROFDAY\": 11, \"LOWER_QUANTILE\": 26.66222222222222, \"UPPER_QUANTILE\": 32.550927128427126, \"PREDICTED PROB DOWN\": 18.440233236151606}, {\"HOUROFDAY\": 12, \"LOWER_QUANTILE\": 26.456950314642626, \"UPPER_QUANTILE\": 32.665719696969695, \"PREDICTED PROB DOWN\": 18.65921787709497}, {\"HOUROFDAY\": 13, \"LOWER_QUANTILE\": 26.714503000387147, \"UPPER_QUANTILE\": 32.52804473304474, \"PREDICTED PROB DOWN\": 18.389113644722325}, {\"HOUROFDAY\": 14, \"LOWER_QUANTILE\": 25.896666666666672, \"UPPER_QUANTILE\": 32.034656862745095, \"PREDICTED PROB DOWN\": 19.07197661673365}, {\"HOUROFDAY\": 15, \"LOWER_QUANTILE\": 25.975629960317463, \"UPPER_QUANTILE\": 32.34936147186147, \"PREDICTED PROB DOWN\": 18.389955686853767}, {\"HOUROFDAY\": 16, \"LOWER_QUANTILE\": 26.32215277777778, \"UPPER_QUANTILE\": 32.78329365079365, \"PREDICTED PROB DOWN\": 17.0}, {\"HOUROFDAY\": 17, \"LOWER_QUANTILE\": 25.709206349206355, \"UPPER_QUANTILE\": 32.27347312409813, \"PREDICTED PROB DOWN\": 18.272425249169437}, {\"HOUROFDAY\": 18, \"LOWER_QUANTILE\": 25.641233766233768, \"UPPER_QUANTILE\": 32.441125541125544, \"PREDICTED PROB DOWN\": 18.555188852218553}, {\"HOUROFDAY\": 19, \"LOWER_QUANTILE\": 25.978837719298244, \"UPPER_QUANTILE\": 32.21430528551028, \"PREDICTED PROB DOWN\": 19.31297709923664}, {\"HOUROFDAY\": 20, \"LOWER_QUANTILE\": 26.236666666666665, \"UPPER_QUANTILE\": 31.996428571428577, \"PREDICTED PROB DOWN\": 18.160284247927358}, {\"HOUROFDAY\": 21, \"LOWER_QUANTILE\": 26.544444444444444, \"UPPER_QUANTILE\": 32.679790258350096, \"PREDICTED PROB DOWN\": 18.301267010793055}, {\"HOUROFDAY\": 22, \"LOWER_QUANTILE\": 25.766410818713453, \"UPPER_QUANTILE\": 32.25375, \"PREDICTED PROB DOWN\": 16.41429436705027}, {\"HOUROFDAY\": 23, \"LOWER_QUANTILE\": 28.05526785714286, \"UPPER_QUANTILE\": 33.56991071428572, \"PREDICTED PROB DOWN\": 19.646017699115045}]}}, {\"mode\": \"vega-lite\"});\n",
       "</script>"
      ],
      "text/plain": [
       "alt.LayerChart(...)"
      ]
     },
     "execution_count": 115,
     "metadata": {},
     "output_type": "execute_result"
    }
   ],
   "source": [
    "carousel = rideResults[10].visualize_wait_times(.45, .55)\n",
    "save(carousel, \"../reports/figures/CarouselWaitTimes.html\")\n",
    "carousel"
   ]
  },
  {
   "cell_type": "markdown",
   "id": "e1a80c4f-060e-4d7a-8259-12350d3768b4",
   "metadata": {},
   "source": [
    "### Seven Dwarfs' Mine Train"
   ]
  },
  {
   "cell_type": "code",
   "execution_count": 116,
   "id": "9f20d051-c336-4b0c-8988-45cf435ecf4d",
   "metadata": {},
   "outputs": [
    {
     "data": {
      "text/html": [
       "\n",
       "<div id=\"altair-viz-85e1458e4e2245a79b23cfcc186f86bd\"></div>\n",
       "<script type=\"text/javascript\">\n",
       "  var VEGA_DEBUG = (typeof VEGA_DEBUG == \"undefined\") ? {} : VEGA_DEBUG;\n",
       "  (function(spec, embedOpt){\n",
       "    let outputDiv = document.currentScript.previousElementSibling;\n",
       "    if (outputDiv.id !== \"altair-viz-85e1458e4e2245a79b23cfcc186f86bd\") {\n",
       "      outputDiv = document.getElementById(\"altair-viz-85e1458e4e2245a79b23cfcc186f86bd\");\n",
       "    }\n",
       "    const paths = {\n",
       "      \"vega\": \"https://cdn.jsdelivr.net/npm//vega@5?noext\",\n",
       "      \"vega-lib\": \"https://cdn.jsdelivr.net/npm//vega-lib?noext\",\n",
       "      \"vega-lite\": \"https://cdn.jsdelivr.net/npm//vega-lite@4.17.0?noext\",\n",
       "      \"vega-embed\": \"https://cdn.jsdelivr.net/npm//vega-embed@6?noext\",\n",
       "    };\n",
       "\n",
       "    function maybeLoadScript(lib, version) {\n",
       "      var key = `${lib.replace(\"-\", \"\")}_version`;\n",
       "      return (VEGA_DEBUG[key] == version) ?\n",
       "        Promise.resolve(paths[lib]) :\n",
       "        new Promise(function(resolve, reject) {\n",
       "          var s = document.createElement('script');\n",
       "          document.getElementsByTagName(\"head\")[0].appendChild(s);\n",
       "          s.async = true;\n",
       "          s.onload = () => {\n",
       "            VEGA_DEBUG[key] = version;\n",
       "            return resolve(paths[lib]);\n",
       "          };\n",
       "          s.onerror = () => reject(`Error loading script: ${paths[lib]}`);\n",
       "          s.src = paths[lib];\n",
       "        });\n",
       "    }\n",
       "\n",
       "    function showError(err) {\n",
       "      outputDiv.innerHTML = `<div class=\"error\" style=\"color:red;\">${err}</div>`;\n",
       "      throw err;\n",
       "    }\n",
       "\n",
       "    function displayChart(vegaEmbed) {\n",
       "      vegaEmbed(outputDiv, spec, embedOpt)\n",
       "        .catch(err => showError(`Javascript Error: ${err.message}<br>This usually means there's a typo in your chart specification. See the javascript console for the full traceback.`));\n",
       "    }\n",
       "\n",
       "    if(typeof define === \"function\" && define.amd) {\n",
       "      requirejs.config({paths});\n",
       "      require([\"vega-embed\"], displayChart, err => showError(`Error loading script: ${err.message}`));\n",
       "    } else {\n",
       "      maybeLoadScript(\"vega\", \"5\")\n",
       "        .then(() => maybeLoadScript(\"vega-lite\", \"4.17.0\"))\n",
       "        .then(() => maybeLoadScript(\"vega-embed\", \"6\"))\n",
       "        .catch(showError)\n",
       "        .then(() => displayChart(vegaEmbed));\n",
       "    }\n",
       "  })({\"config\": {\"view\": {\"continuousWidth\": 400, \"continuousHeight\": 300}}, \"layer\": [{\"mark\": {\"type\": \"area\", \"color\": \"#90C6FA\", \"opacity\": 0.3}, \"encoding\": {\"x\": {\"axis\": {\"title\": null}, \"field\": \"HOUROFDAY\", \"type\": \"quantitative\"}, \"y\": {\"axis\": {\"title\": [\"Predicted Wait Times by Hour of Day\", \"(45 to 55 Percentile)\"], \"titleColor\": \"#90C6FA\"}, \"field\": \"LOWER_QUANTILE\", \"type\": \"quantitative\"}, \"y2\": {\"field\": \"UPPER_QUANTILE\"}}}, {\"mark\": {\"type\": \"line\", \"interpolate\": \"monotone\", \"stroke\": \"#EAC2B1\"}, \"encoding\": {\"x\": {\"axis\": {\"title\": null}, \"field\": \"HOUROFDAY\", \"type\": \"quantitative\"}, \"y\": {\"axis\": {\"title\": \"Predicted Probability Ride Will Be Down\", \"titleColor\": \"#EAC2B1\"}, \"field\": \"PREDICTED PROB DOWN\", \"type\": \"quantitative\"}}}], \"data\": {\"name\": \"data-a90658f379e42d7b8b9b9c144d6575bf\"}, \"resolve\": {\"scale\": {\"y\": \"independent\"}}, \"title\": {\"text\": [\"Expected Wait Time vs. Expected % of Times the Ride will be down\"], \"subtitle\": [\"Seven Dwarfs Mine Train\"]}, \"$schema\": \"https://vega.github.io/schema/vega-lite/v4.17.0.json\", \"datasets\": {\"data-a90658f379e42d7b8b9b9c144d6575bf\": [{\"HOUROFDAY\": 7, \"LOWER_QUANTILE\": 26.050169691419693, \"UPPER_QUANTILE\": 32.668330627705636, \"PREDICTED PROB DOWN\": 19.590268886043532}, {\"HOUROFDAY\": 8, \"LOWER_QUANTILE\": 25.90025252525253, \"UPPER_QUANTILE\": 30.89029862579281, \"PREDICTED PROB DOWN\": 17.349397590361445}, {\"HOUROFDAY\": 9, \"LOWER_QUANTILE\": 25.0, \"UPPER_QUANTILE\": 32.073035714285716, \"PREDICTED PROB DOWN\": 17.99033149171271}, {\"HOUROFDAY\": 10, \"LOWER_QUANTILE\": 25.237831196581197, \"UPPER_QUANTILE\": 31.4271031746032, \"PREDICTED PROB DOWN\": 17.972508591065292}, {\"HOUROFDAY\": 11, \"LOWER_QUANTILE\": 25.864626623376626, \"UPPER_QUANTILE\": 32.51095186391177, \"PREDICTED PROB DOWN\": 17.015437392795885}, {\"HOUROFDAY\": 12, \"LOWER_QUANTILE\": 27.376235039470338, \"UPPER_QUANTILE\": 33.85793650793651, \"PREDICTED PROB DOWN\": 17.8833391547328}, {\"HOUROFDAY\": 13, \"LOWER_QUANTILE\": 26.86562500000001, \"UPPER_QUANTILE\": 32.67903769841271, \"PREDICTED PROB DOWN\": 16.99438202247191}, {\"HOUROFDAY\": 14, \"LOWER_QUANTILE\": 26.139533730158732, \"UPPER_QUANTILE\": 32.91145833333333, \"PREDICTED PROB DOWN\": 18.392795289227575}, {\"HOUROFDAY\": 15, \"LOWER_QUANTILE\": 26.439047619047617, \"UPPER_QUANTILE\": 32.62430640598969, \"PREDICTED PROB DOWN\": 18.241834607366226}, {\"HOUROFDAY\": 16, \"LOWER_QUANTILE\": 27.150551948051948, \"UPPER_QUANTILE\": 32.600615079365085, \"PREDICTED PROB DOWN\": 16.956219596942322}, {\"HOUROFDAY\": 17, \"LOWER_QUANTILE\": 25.855707070707073, \"UPPER_QUANTILE\": 32.395848595848605, \"PREDICTED PROB DOWN\": 17.686832740213525}, {\"HOUROFDAY\": 18, \"LOWER_QUANTILE\": 26.877777777777776, \"UPPER_QUANTILE\": 33.02291666666667, \"PREDICTED PROB DOWN\": 18.23697359029265}, {\"HOUROFDAY\": 19, \"LOWER_QUANTILE\": 26.071159363765005, \"UPPER_QUANTILE\": 32.729285714285716, \"PREDICTED PROB DOWN\": 17.318634423897585}, {\"HOUROFDAY\": 20, \"LOWER_QUANTILE\": 25.64369352869353, \"UPPER_QUANTILE\": 31.995476190476193, \"PREDICTED PROB DOWN\": 18.07994023160254}, {\"HOUROFDAY\": 21, \"LOWER_QUANTILE\": 27.333333333333336, \"UPPER_QUANTILE\": 33.053174603174604, \"PREDICTED PROB DOWN\": 18.922305764411025}, {\"HOUROFDAY\": 22, \"LOWER_QUANTILE\": 25.0, \"UPPER_QUANTILE\": 30.37022802146733, \"PREDICTED PROB DOWN\": 17.810650887573964}, {\"HOUROFDAY\": 23, \"LOWER_QUANTILE\": 27.60984848484848, \"UPPER_QUANTILE\": 33.72889995072893, \"PREDICTED PROB DOWN\": 19.96630160067397}]}}, {\"mode\": \"vega-lite\"});\n",
       "</script>"
      ],
      "text/plain": [
       "alt.LayerChart(...)"
      ]
     },
     "execution_count": 116,
     "metadata": {},
     "output_type": "execute_result"
    }
   ],
   "source": [
    "seven_dwarfs = rideResults[11].visualize_wait_times(.45, .55)\n",
    "save(seven_dwarfs, \"../reports/figures/7DwarfsWaitTimes.html\")\n",
    "seven_dwarfs"
   ]
  },
  {
   "cell_type": "markdown",
   "id": "6160030f-64f4-423d-8696-ef10afa95961",
   "metadata": {},
   "source": [
    "### Space Mountain"
   ]
  },
  {
   "cell_type": "code",
   "execution_count": 117,
   "id": "340ccdc4-42b4-425b-a040-0b56d9b84341",
   "metadata": {},
   "outputs": [
    {
     "data": {
      "text/html": [
       "\n",
       "<div id=\"altair-viz-98f2181b93c9401c92369abcf622805f\"></div>\n",
       "<script type=\"text/javascript\">\n",
       "  var VEGA_DEBUG = (typeof VEGA_DEBUG == \"undefined\") ? {} : VEGA_DEBUG;\n",
       "  (function(spec, embedOpt){\n",
       "    let outputDiv = document.currentScript.previousElementSibling;\n",
       "    if (outputDiv.id !== \"altair-viz-98f2181b93c9401c92369abcf622805f\") {\n",
       "      outputDiv = document.getElementById(\"altair-viz-98f2181b93c9401c92369abcf622805f\");\n",
       "    }\n",
       "    const paths = {\n",
       "      \"vega\": \"https://cdn.jsdelivr.net/npm//vega@5?noext\",\n",
       "      \"vega-lib\": \"https://cdn.jsdelivr.net/npm//vega-lib?noext\",\n",
       "      \"vega-lite\": \"https://cdn.jsdelivr.net/npm//vega-lite@4.17.0?noext\",\n",
       "      \"vega-embed\": \"https://cdn.jsdelivr.net/npm//vega-embed@6?noext\",\n",
       "    };\n",
       "\n",
       "    function maybeLoadScript(lib, version) {\n",
       "      var key = `${lib.replace(\"-\", \"\")}_version`;\n",
       "      return (VEGA_DEBUG[key] == version) ?\n",
       "        Promise.resolve(paths[lib]) :\n",
       "        new Promise(function(resolve, reject) {\n",
       "          var s = document.createElement('script');\n",
       "          document.getElementsByTagName(\"head\")[0].appendChild(s);\n",
       "          s.async = true;\n",
       "          s.onload = () => {\n",
       "            VEGA_DEBUG[key] = version;\n",
       "            return resolve(paths[lib]);\n",
       "          };\n",
       "          s.onerror = () => reject(`Error loading script: ${paths[lib]}`);\n",
       "          s.src = paths[lib];\n",
       "        });\n",
       "    }\n",
       "\n",
       "    function showError(err) {\n",
       "      outputDiv.innerHTML = `<div class=\"error\" style=\"color:red;\">${err}</div>`;\n",
       "      throw err;\n",
       "    }\n",
       "\n",
       "    function displayChart(vegaEmbed) {\n",
       "      vegaEmbed(outputDiv, spec, embedOpt)\n",
       "        .catch(err => showError(`Javascript Error: ${err.message}<br>This usually means there's a typo in your chart specification. See the javascript console for the full traceback.`));\n",
       "    }\n",
       "\n",
       "    if(typeof define === \"function\" && define.amd) {\n",
       "      requirejs.config({paths});\n",
       "      require([\"vega-embed\"], displayChart, err => showError(`Error loading script: ${err.message}`));\n",
       "    } else {\n",
       "      maybeLoadScript(\"vega\", \"5\")\n",
       "        .then(() => maybeLoadScript(\"vega-lite\", \"4.17.0\"))\n",
       "        .then(() => maybeLoadScript(\"vega-embed\", \"6\"))\n",
       "        .catch(showError)\n",
       "        .then(() => displayChart(vegaEmbed));\n",
       "    }\n",
       "  })({\"config\": {\"view\": {\"continuousWidth\": 400, \"continuousHeight\": 300}}, \"layer\": [{\"mark\": {\"type\": \"area\", \"color\": \"#90C6FA\", \"opacity\": 0.3}, \"encoding\": {\"x\": {\"axis\": {\"title\": null}, \"field\": \"HOUROFDAY\", \"type\": \"quantitative\"}, \"y\": {\"axis\": {\"title\": [\"Predicted Wait Times by Hour of Day\", \"(45 to 55 Percentile)\"], \"titleColor\": \"#90C6FA\"}, \"field\": \"LOWER_QUANTILE\", \"type\": \"quantitative\"}, \"y2\": {\"field\": \"UPPER_QUANTILE\"}}}, {\"mark\": {\"type\": \"line\", \"interpolate\": \"monotone\", \"stroke\": \"#EAC2B1\"}, \"encoding\": {\"x\": {\"axis\": {\"title\": null}, \"field\": \"HOUROFDAY\", \"type\": \"quantitative\"}, \"y\": {\"axis\": {\"title\": \"Predicted Probability Ride Will Be Down\", \"titleColor\": \"#EAC2B1\"}, \"field\": \"PREDICTED PROB DOWN\", \"type\": \"quantitative\"}}}], \"data\": {\"name\": \"data-dbfafae192bd401ee901e6adac6f5e1e\"}, \"resolve\": {\"scale\": {\"y\": \"independent\"}}, \"title\": {\"text\": [\"Expected Wait Time vs. Expected % of Times the Ride will be down\"], \"subtitle\": [\"Space Mountain\"]}, \"$schema\": \"https://vega.github.io/schema/vega-lite/v4.17.0.json\", \"datasets\": {\"data-dbfafae192bd401ee901e6adac6f5e1e\": [{\"HOUROFDAY\": 7, \"LOWER_QUANTILE\": 25.692261904761907, \"UPPER_QUANTILE\": 32.128361344537815, \"PREDICTED PROB DOWN\": 19.82210927573062}, {\"HOUROFDAY\": 8, \"LOWER_QUANTILE\": 27.262083333333333, \"UPPER_QUANTILE\": 32.77585074647575, \"PREDICTED PROB DOWN\": 16.99078812691914}, {\"HOUROFDAY\": 9, \"LOWER_QUANTILE\": 27.17523809523809, \"UPPER_QUANTILE\": 33.28687900124052, \"PREDICTED PROB DOWN\": 18.54580397181294}, {\"HOUROFDAY\": 10, \"LOWER_QUANTILE\": 25.883339554349057, \"UPPER_QUANTILE\": 31.988482142857144, \"PREDICTED PROB DOWN\": 18.596261069203017}, {\"HOUROFDAY\": 11, \"LOWER_QUANTILE\": 26.694969474969476, \"UPPER_QUANTILE\": 33.159180194805195, \"PREDICTED PROB DOWN\": 17.448275862068964}, {\"HOUROFDAY\": 12, \"LOWER_QUANTILE\": 26.13340187590188, \"UPPER_QUANTILE\": 32.21782967032967, \"PREDICTED PROB DOWN\": 17.88756388415673}, {\"HOUROFDAY\": 13, \"LOWER_QUANTILE\": 27.21143609100926, \"UPPER_QUANTILE\": 33.512925685425685, \"PREDICTED PROB DOWN\": 18.71820956256358}, {\"HOUROFDAY\": 14, \"LOWER_QUANTILE\": 25.29139800765431, \"UPPER_QUANTILE\": 32.092261904761905, \"PREDICTED PROB DOWN\": 17.84133469526728}, {\"HOUROFDAY\": 15, \"LOWER_QUANTILE\": 26.389305555555552, \"UPPER_QUANTILE\": 32.48861111111111, \"PREDICTED PROB DOWN\": 17.609841827768015}, {\"HOUROFDAY\": 16, \"LOWER_QUANTILE\": 27.395833333333336, \"UPPER_QUANTILE\": 33.72686489277007, \"PREDICTED PROB DOWN\": 18.246361377351793}, {\"HOUROFDAY\": 17, \"LOWER_QUANTILE\": 26.58299603174603, \"UPPER_QUANTILE\": 33.06265043290044, \"PREDICTED PROB DOWN\": 18.54281767955801}, {\"HOUROFDAY\": 18, \"LOWER_QUANTILE\": 26.522424242424243, \"UPPER_QUANTILE\": 32.300000000000004, \"PREDICTED PROB DOWN\": 18.28591256072172}, {\"HOUROFDAY\": 19, \"LOWER_QUANTILE\": 26.836647241647242, \"UPPER_QUANTILE\": 32.899880952380954, \"PREDICTED PROB DOWN\": 17.53472222222222}, {\"HOUROFDAY\": 20, \"LOWER_QUANTILE\": 25.905342261904764, \"UPPER_QUANTILE\": 32.06515873015874, \"PREDICTED PROB DOWN\": 17.96060254924681}, {\"HOUROFDAY\": 21, \"LOWER_QUANTILE\": 26.103430097938084, \"UPPER_QUANTILE\": 32.17241386603219, \"PREDICTED PROB DOWN\": 19.45525291828794}, {\"HOUROFDAY\": 22, \"LOWER_QUANTILE\": 26.5390899122807, \"UPPER_QUANTILE\": 32.459021074646074, \"PREDICTED PROB DOWN\": 18.535211267605632}, {\"HOUROFDAY\": 23, \"LOWER_QUANTILE\": 29.040576923076923, \"UPPER_QUANTILE\": 34.588846153846156, \"PREDICTED PROB DOWN\": 17.982456140350877}]}}, {\"mode\": \"vega-lite\"});\n",
       "</script>"
      ],
      "text/plain": [
       "alt.LayerChart(...)"
      ]
     },
     "execution_count": 117,
     "metadata": {},
     "output_type": "execute_result"
    }
   ],
   "source": [
    "space_mtn = rideResults[12].visualize_wait_times(.45, .55)\n",
    "save(space_mtn, \"../reports/figures/SpaceMountainWaitTimes.html\")\n",
    "space_mtn"
   ]
  },
  {
   "cell_type": "markdown",
   "id": "c4c1a185-8f48-4c8d-a689-a36e431fa027",
   "metadata": {},
   "source": [
    "### Splash Mountain"
   ]
  },
  {
   "cell_type": "code",
   "execution_count": 118,
   "id": "03e61fd5-b636-425b-8f78-b300123dd003",
   "metadata": {},
   "outputs": [
    {
     "data": {
      "text/html": [
       "\n",
       "<div id=\"altair-viz-d025c584898a417082122ac87f615e54\"></div>\n",
       "<script type=\"text/javascript\">\n",
       "  var VEGA_DEBUG = (typeof VEGA_DEBUG == \"undefined\") ? {} : VEGA_DEBUG;\n",
       "  (function(spec, embedOpt){\n",
       "    let outputDiv = document.currentScript.previousElementSibling;\n",
       "    if (outputDiv.id !== \"altair-viz-d025c584898a417082122ac87f615e54\") {\n",
       "      outputDiv = document.getElementById(\"altair-viz-d025c584898a417082122ac87f615e54\");\n",
       "    }\n",
       "    const paths = {\n",
       "      \"vega\": \"https://cdn.jsdelivr.net/npm//vega@5?noext\",\n",
       "      \"vega-lib\": \"https://cdn.jsdelivr.net/npm//vega-lib?noext\",\n",
       "      \"vega-lite\": \"https://cdn.jsdelivr.net/npm//vega-lite@4.17.0?noext\",\n",
       "      \"vega-embed\": \"https://cdn.jsdelivr.net/npm//vega-embed@6?noext\",\n",
       "    };\n",
       "\n",
       "    function maybeLoadScript(lib, version) {\n",
       "      var key = `${lib.replace(\"-\", \"\")}_version`;\n",
       "      return (VEGA_DEBUG[key] == version) ?\n",
       "        Promise.resolve(paths[lib]) :\n",
       "        new Promise(function(resolve, reject) {\n",
       "          var s = document.createElement('script');\n",
       "          document.getElementsByTagName(\"head\")[0].appendChild(s);\n",
       "          s.async = true;\n",
       "          s.onload = () => {\n",
       "            VEGA_DEBUG[key] = version;\n",
       "            return resolve(paths[lib]);\n",
       "          };\n",
       "          s.onerror = () => reject(`Error loading script: ${paths[lib]}`);\n",
       "          s.src = paths[lib];\n",
       "        });\n",
       "    }\n",
       "\n",
       "    function showError(err) {\n",
       "      outputDiv.innerHTML = `<div class=\"error\" style=\"color:red;\">${err}</div>`;\n",
       "      throw err;\n",
       "    }\n",
       "\n",
       "    function displayChart(vegaEmbed) {\n",
       "      vegaEmbed(outputDiv, spec, embedOpt)\n",
       "        .catch(err => showError(`Javascript Error: ${err.message}<br>This usually means there's a typo in your chart specification. See the javascript console for the full traceback.`));\n",
       "    }\n",
       "\n",
       "    if(typeof define === \"function\" && define.amd) {\n",
       "      requirejs.config({paths});\n",
       "      require([\"vega-embed\"], displayChart, err => showError(`Error loading script: ${err.message}`));\n",
       "    } else {\n",
       "      maybeLoadScript(\"vega\", \"5\")\n",
       "        .then(() => maybeLoadScript(\"vega-lite\", \"4.17.0\"))\n",
       "        .then(() => maybeLoadScript(\"vega-embed\", \"6\"))\n",
       "        .catch(showError)\n",
       "        .then(() => displayChart(vegaEmbed));\n",
       "    }\n",
       "  })({\"config\": {\"view\": {\"continuousWidth\": 400, \"continuousHeight\": 300}}, \"layer\": [{\"mark\": {\"type\": \"area\", \"color\": \"#90C6FA\", \"opacity\": 0.3}, \"encoding\": {\"x\": {\"axis\": {\"title\": null}, \"field\": \"HOUROFDAY\", \"type\": \"quantitative\"}, \"y\": {\"axis\": {\"title\": [\"Predicted Wait Times by Hour of Day\", \"(45 to 55 Percentile)\"], \"titleColor\": \"#90C6FA\"}, \"field\": \"LOWER_QUANTILE\", \"type\": \"quantitative\"}, \"y2\": {\"field\": \"UPPER_QUANTILE\"}}}, {\"mark\": {\"type\": \"line\", \"interpolate\": \"monotone\", \"stroke\": \"#EAC2B1\"}, \"encoding\": {\"x\": {\"axis\": {\"title\": null}, \"field\": \"HOUROFDAY\", \"type\": \"quantitative\"}, \"y\": {\"axis\": {\"title\": \"Predicted Probability Ride Will Be Down\", \"titleColor\": \"#EAC2B1\"}, \"field\": \"PREDICTED PROB DOWN\", \"type\": \"quantitative\"}}}], \"data\": {\"name\": \"data-046edf2f669c0a1ae03faf71806a0e40\"}, \"resolve\": {\"scale\": {\"y\": \"independent\"}}, \"title\": {\"text\": [\"Expected Wait Time vs. Expected % of Times the Ride will be down\"], \"subtitle\": [\"Splash Mountain\"]}, \"$schema\": \"https://vega.github.io/schema/vega-lite/v4.17.0.json\", \"datasets\": {\"data-046edf2f669c0a1ae03faf71806a0e40\": [{\"HOUROFDAY\": 7, \"LOWER_QUANTILE\": 28.908526473526475, \"UPPER_QUANTILE\": 34.6737968975469, \"PREDICTED PROB DOWN\": 19.569120287253142}, {\"HOUROFDAY\": 8, \"LOWER_QUANTILE\": 25.0, \"UPPER_QUANTILE\": 31.088888888888892, \"PREDICTED PROB DOWN\": 19.869513641755635}, {\"HOUROFDAY\": 9, \"LOWER_QUANTILE\": 25.0, \"UPPER_QUANTILE\": 31.004761904761903, \"PREDICTED PROB DOWN\": 17.503748125937033}, {\"HOUROFDAY\": 10, \"LOWER_QUANTILE\": 26.63270562770563, \"UPPER_QUANTILE\": 32.338214285714294, \"PREDICTED PROB DOWN\": 18.282252316464717}, {\"HOUROFDAY\": 11, \"LOWER_QUANTILE\": 27.00329545454546, \"UPPER_QUANTILE\": 33.19083333333336, \"PREDICTED PROB DOWN\": 17.43682310469314}, {\"HOUROFDAY\": 12, \"LOWER_QUANTILE\": 25.0, \"UPPER_QUANTILE\": 32.27486111111111, \"PREDICTED PROB DOWN\": 17.491749174917494}, {\"HOUROFDAY\": 13, \"LOWER_QUANTILE\": 26.76151515151515, \"UPPER_QUANTILE\": 33.04761830123899, \"PREDICTED PROB DOWN\": 19.068901303538173}, {\"HOUROFDAY\": 14, \"LOWER_QUANTILE\": 25.691765873015875, \"UPPER_QUANTILE\": 31.671316230717643, \"PREDICTED PROB DOWN\": 18.141592920353983}, {\"HOUROFDAY\": 15, \"LOWER_QUANTILE\": 26.508706709956712, \"UPPER_QUANTILE\": 33.40869047619048, \"PREDICTED PROB DOWN\": 17.611716109650768}, {\"HOUROFDAY\": 16, \"LOWER_QUANTILE\": 26.74538961038961, \"UPPER_QUANTILE\": 32.52935606060606, \"PREDICTED PROB DOWN\": 19.033989266547405}, {\"HOUROFDAY\": 17, \"LOWER_QUANTILE\": 26.651683200003696, \"UPPER_QUANTILE\": 33.263477564102566, \"PREDICTED PROB DOWN\": 16.69139465875371}, {\"HOUROFDAY\": 18, \"LOWER_QUANTILE\": 25.66372023809524, \"UPPER_QUANTILE\": 31.569384920634924, \"PREDICTED PROB DOWN\": 17.190531625921615}, {\"HOUROFDAY\": 19, \"LOWER_QUANTILE\": 26.243410087719294, \"UPPER_QUANTILE\": 33.284617346938795, \"PREDICTED PROB DOWN\": 16.907844630616907}, {\"HOUROFDAY\": 20, \"LOWER_QUANTILE\": 26.659830447330453, \"UPPER_QUANTILE\": 32.48880952380952, \"PREDICTED PROB DOWN\": 17.98298906439854}, {\"HOUROFDAY\": 21, \"LOWER_QUANTILE\": 26.314304052233766, \"UPPER_QUANTILE\": 32.52494588744589, \"PREDICTED PROB DOWN\": 17.709291628334867}, {\"HOUROFDAY\": 22, \"LOWER_QUANTILE\": 26.99869008184798, \"UPPER_QUANTILE\": 33.67589735894357, \"PREDICTED PROB DOWN\": 18.487928843710293}, {\"HOUROFDAY\": 23, \"LOWER_QUANTILE\": 24.99454526719038, \"UPPER_QUANTILE\": 31.270734126984124, \"PREDICTED PROB DOWN\": 19.109461966604822}]}}, {\"mode\": \"vega-lite\"});\n",
       "</script>"
      ],
      "text/plain": [
       "alt.LayerChart(...)"
      ]
     },
     "execution_count": 118,
     "metadata": {},
     "output_type": "execute_result"
    }
   ],
   "source": [
    "splash_mtn = rideResults[13].visualize_wait_times(.45, .55)\n",
    "save(splash_mtn, \"../reports/figures/SplashMountainWaitTimes.html\")\n",
    "splash_mtn"
   ]
  },
  {
   "cell_type": "markdown",
   "id": "25bac461-a943-490c-980d-9e6e07752c88",
   "metadata": {},
   "source": [
    "### Barnstormer"
   ]
  },
  {
   "cell_type": "code",
   "execution_count": 119,
   "id": "72d8d3ce-832a-41ab-a588-82e20ae94428",
   "metadata": {},
   "outputs": [
    {
     "data": {
      "text/html": [
       "\n",
       "<div id=\"altair-viz-064f5db51cb045008deb299206e9bab8\"></div>\n",
       "<script type=\"text/javascript\">\n",
       "  var VEGA_DEBUG = (typeof VEGA_DEBUG == \"undefined\") ? {} : VEGA_DEBUG;\n",
       "  (function(spec, embedOpt){\n",
       "    let outputDiv = document.currentScript.previousElementSibling;\n",
       "    if (outputDiv.id !== \"altair-viz-064f5db51cb045008deb299206e9bab8\") {\n",
       "      outputDiv = document.getElementById(\"altair-viz-064f5db51cb045008deb299206e9bab8\");\n",
       "    }\n",
       "    const paths = {\n",
       "      \"vega\": \"https://cdn.jsdelivr.net/npm//vega@5?noext\",\n",
       "      \"vega-lib\": \"https://cdn.jsdelivr.net/npm//vega-lib?noext\",\n",
       "      \"vega-lite\": \"https://cdn.jsdelivr.net/npm//vega-lite@4.17.0?noext\",\n",
       "      \"vega-embed\": \"https://cdn.jsdelivr.net/npm//vega-embed@6?noext\",\n",
       "    };\n",
       "\n",
       "    function maybeLoadScript(lib, version) {\n",
       "      var key = `${lib.replace(\"-\", \"\")}_version`;\n",
       "      return (VEGA_DEBUG[key] == version) ?\n",
       "        Promise.resolve(paths[lib]) :\n",
       "        new Promise(function(resolve, reject) {\n",
       "          var s = document.createElement('script');\n",
       "          document.getElementsByTagName(\"head\")[0].appendChild(s);\n",
       "          s.async = true;\n",
       "          s.onload = () => {\n",
       "            VEGA_DEBUG[key] = version;\n",
       "            return resolve(paths[lib]);\n",
       "          };\n",
       "          s.onerror = () => reject(`Error loading script: ${paths[lib]}`);\n",
       "          s.src = paths[lib];\n",
       "        });\n",
       "    }\n",
       "\n",
       "    function showError(err) {\n",
       "      outputDiv.innerHTML = `<div class=\"error\" style=\"color:red;\">${err}</div>`;\n",
       "      throw err;\n",
       "    }\n",
       "\n",
       "    function displayChart(vegaEmbed) {\n",
       "      vegaEmbed(outputDiv, spec, embedOpt)\n",
       "        .catch(err => showError(`Javascript Error: ${err.message}<br>This usually means there's a typo in your chart specification. See the javascript console for the full traceback.`));\n",
       "    }\n",
       "\n",
       "    if(typeof define === \"function\" && define.amd) {\n",
       "      requirejs.config({paths});\n",
       "      require([\"vega-embed\"], displayChart, err => showError(`Error loading script: ${err.message}`));\n",
       "    } else {\n",
       "      maybeLoadScript(\"vega\", \"5\")\n",
       "        .then(() => maybeLoadScript(\"vega-lite\", \"4.17.0\"))\n",
       "        .then(() => maybeLoadScript(\"vega-embed\", \"6\"))\n",
       "        .catch(showError)\n",
       "        .then(() => displayChart(vegaEmbed));\n",
       "    }\n",
       "  })({\"config\": {\"view\": {\"continuousWidth\": 400, \"continuousHeight\": 300}}, \"layer\": [{\"mark\": {\"type\": \"area\", \"color\": \"#90C6FA\", \"opacity\": 0.3}, \"encoding\": {\"x\": {\"axis\": {\"title\": null}, \"field\": \"HOUROFDAY\", \"type\": \"quantitative\"}, \"y\": {\"axis\": {\"title\": [\"Predicted Wait Times by Hour of Day\", \"(45 to 55 Percentile)\"], \"titleColor\": \"#90C6FA\"}, \"field\": \"LOWER_QUANTILE\", \"type\": \"quantitative\"}, \"y2\": {\"field\": \"UPPER_QUANTILE\"}}}, {\"mark\": {\"type\": \"line\", \"interpolate\": \"monotone\", \"stroke\": \"#EAC2B1\"}, \"encoding\": {\"x\": {\"axis\": {\"title\": null}, \"field\": \"HOUROFDAY\", \"type\": \"quantitative\"}, \"y\": {\"axis\": {\"title\": \"Predicted Probability Ride Will Be Down\", \"titleColor\": \"#EAC2B1\"}, \"field\": \"PREDICTED PROB DOWN\", \"type\": \"quantitative\"}}}], \"data\": {\"name\": \"data-2258856eaa2035bd2b486816c4a531b3\"}, \"resolve\": {\"scale\": {\"y\": \"independent\"}}, \"title\": {\"text\": [\"Expected Wait Time vs. Expected % of Times the Ride will be down\"], \"subtitle\": [\"The Barnstormer\"]}, \"$schema\": \"https://vega.github.io/schema/vega-lite/v4.17.0.json\", \"datasets\": {\"data-2258856eaa2035bd2b486816c4a531b3\": [{\"HOUROFDAY\": 7, \"LOWER_QUANTILE\": 27.33015873015873, \"UPPER_QUANTILE\": 32.339526689708144, \"PREDICTED PROB DOWN\": 19.518716577540108}, {\"HOUROFDAY\": 8, \"LOWER_QUANTILE\": 27.183035714285715, \"UPPER_QUANTILE\": 32.26415178571428, \"PREDICTED PROB DOWN\": 17.51990898748578}, {\"HOUROFDAY\": 9, \"LOWER_QUANTILE\": 26.436631245808183, \"UPPER_QUANTILE\": 31.956845238095237, \"PREDICTED PROB DOWN\": 18.90726096333573}, {\"HOUROFDAY\": 10, \"LOWER_QUANTILE\": 25.77690296420582, \"UPPER_QUANTILE\": 31.764702380952386, \"PREDICTED PROB DOWN\": 17.300445357999315}, {\"HOUROFDAY\": 11, \"LOWER_QUANTILE\": 26.428839285714286, \"UPPER_QUANTILE\": 32.22668650793651, \"PREDICTED PROB DOWN\": 18.326417704011064}, {\"HOUROFDAY\": 12, \"LOWER_QUANTILE\": 26.772855000700318, \"UPPER_QUANTILE\": 32.42463812720299, \"PREDICTED PROB DOWN\": 18.059490084985836}, {\"HOUROFDAY\": 13, \"LOWER_QUANTILE\": 25.82235119047619, \"UPPER_QUANTILE\": 33.03313492063492, \"PREDICTED PROB DOWN\": 17.97951253973861}, {\"HOUROFDAY\": 14, \"LOWER_QUANTILE\": 26.2825, \"UPPER_QUANTILE\": 32.281136363636364, \"PREDICTED PROB DOWN\": 18.488576449912124}, {\"HOUROFDAY\": 15, \"LOWER_QUANTILE\": 27.04586958180708, \"UPPER_QUANTILE\": 33.71731150793651, \"PREDICTED PROB DOWN\": 19.388118107435076}, {\"HOUROFDAY\": 16, \"LOWER_QUANTILE\": 26.828165445665444, \"UPPER_QUANTILE\": 32.7238925611206, \"PREDICTED PROB DOWN\": 18.379515959312524}, {\"HOUROFDAY\": 17, \"LOWER_QUANTILE\": 25.149129541685515, \"UPPER_QUANTILE\": 31.573147114144472, \"PREDICTED PROB DOWN\": 18.57764876632801}, {\"HOUROFDAY\": 18, \"LOWER_QUANTILE\": 25.650793409446578, \"UPPER_QUANTILE\": 31.813460682531332, \"PREDICTED PROB DOWN\": 18.56508875739645}, {\"HOUROFDAY\": 19, \"LOWER_QUANTILE\": 26.059743867243867, \"UPPER_QUANTILE\": 31.521847041847053, \"PREDICTED PROB DOWN\": 19.06657018813314}, {\"HOUROFDAY\": 20, \"LOWER_QUANTILE\": 26.714761904761907, \"UPPER_QUANTILE\": 32.24118022328549, \"PREDICTED PROB DOWN\": 19.448757763975156}, {\"HOUROFDAY\": 21, \"LOWER_QUANTILE\": 25.567207792207792, \"UPPER_QUANTILE\": 31.74345238095238, \"PREDICTED PROB DOWN\": 20.02694207453974}, {\"HOUROFDAY\": 22, \"LOWER_QUANTILE\": 26.172270550330893, \"UPPER_QUANTILE\": 31.850059523809527, \"PREDICTED PROB DOWN\": 17.39874500855676}, {\"HOUROFDAY\": 23, \"LOWER_QUANTILE\": 24.975694444444446, \"UPPER_QUANTILE\": 30.85063374125874, \"PREDICTED PROB DOWN\": 19.224283305227654}]}}, {\"mode\": \"vega-lite\"});\n",
       "</script>"
      ],
      "text/plain": [
       "alt.LayerChart(...)"
      ]
     },
     "execution_count": 119,
     "metadata": {},
     "output_type": "execute_result"
    }
   ],
   "source": [
    "barnstormer = rideResults[14].visualize_wait_times(.45, .55)\n",
    "save(barnstormer, \"../reports/figures/BarnstormerWaitTimes.html\")\n",
    "barnstormer"
   ]
  },
  {
   "cell_type": "markdown",
   "id": "416d8a0d-ba5b-45e7-b2ad-7c1b271b01ad",
   "metadata": {},
   "source": [
    "### Magic Carpets of Aladdin"
   ]
  },
  {
   "cell_type": "code",
   "execution_count": 120,
   "id": "ec44546a-8a44-4936-b3b9-d824f84b4340",
   "metadata": {},
   "outputs": [
    {
     "data": {
      "text/html": [
       "\n",
       "<div id=\"altair-viz-29ec5ac1193647c99628a8a226af3b35\"></div>\n",
       "<script type=\"text/javascript\">\n",
       "  var VEGA_DEBUG = (typeof VEGA_DEBUG == \"undefined\") ? {} : VEGA_DEBUG;\n",
       "  (function(spec, embedOpt){\n",
       "    let outputDiv = document.currentScript.previousElementSibling;\n",
       "    if (outputDiv.id !== \"altair-viz-29ec5ac1193647c99628a8a226af3b35\") {\n",
       "      outputDiv = document.getElementById(\"altair-viz-29ec5ac1193647c99628a8a226af3b35\");\n",
       "    }\n",
       "    const paths = {\n",
       "      \"vega\": \"https://cdn.jsdelivr.net/npm//vega@5?noext\",\n",
       "      \"vega-lib\": \"https://cdn.jsdelivr.net/npm//vega-lib?noext\",\n",
       "      \"vega-lite\": \"https://cdn.jsdelivr.net/npm//vega-lite@4.17.0?noext\",\n",
       "      \"vega-embed\": \"https://cdn.jsdelivr.net/npm//vega-embed@6?noext\",\n",
       "    };\n",
       "\n",
       "    function maybeLoadScript(lib, version) {\n",
       "      var key = `${lib.replace(\"-\", \"\")}_version`;\n",
       "      return (VEGA_DEBUG[key] == version) ?\n",
       "        Promise.resolve(paths[lib]) :\n",
       "        new Promise(function(resolve, reject) {\n",
       "          var s = document.createElement('script');\n",
       "          document.getElementsByTagName(\"head\")[0].appendChild(s);\n",
       "          s.async = true;\n",
       "          s.onload = () => {\n",
       "            VEGA_DEBUG[key] = version;\n",
       "            return resolve(paths[lib]);\n",
       "          };\n",
       "          s.onerror = () => reject(`Error loading script: ${paths[lib]}`);\n",
       "          s.src = paths[lib];\n",
       "        });\n",
       "    }\n",
       "\n",
       "    function showError(err) {\n",
       "      outputDiv.innerHTML = `<div class=\"error\" style=\"color:red;\">${err}</div>`;\n",
       "      throw err;\n",
       "    }\n",
       "\n",
       "    function displayChart(vegaEmbed) {\n",
       "      vegaEmbed(outputDiv, spec, embedOpt)\n",
       "        .catch(err => showError(`Javascript Error: ${err.message}<br>This usually means there's a typo in your chart specification. See the javascript console for the full traceback.`));\n",
       "    }\n",
       "\n",
       "    if(typeof define === \"function\" && define.amd) {\n",
       "      requirejs.config({paths});\n",
       "      require([\"vega-embed\"], displayChart, err => showError(`Error loading script: ${err.message}`));\n",
       "    } else {\n",
       "      maybeLoadScript(\"vega\", \"5\")\n",
       "        .then(() => maybeLoadScript(\"vega-lite\", \"4.17.0\"))\n",
       "        .then(() => maybeLoadScript(\"vega-embed\", \"6\"))\n",
       "        .catch(showError)\n",
       "        .then(() => displayChart(vegaEmbed));\n",
       "    }\n",
       "  })({\"config\": {\"view\": {\"continuousWidth\": 400, \"continuousHeight\": 300}}, \"layer\": [{\"mark\": {\"type\": \"area\", \"color\": \"#90C6FA\", \"opacity\": 0.3}, \"encoding\": {\"x\": {\"axis\": {\"title\": null}, \"field\": \"HOUROFDAY\", \"type\": \"quantitative\"}, \"y\": {\"axis\": {\"title\": [\"Predicted Wait Times by Hour of Day\", \"(45 to 55 Percentile)\"], \"titleColor\": \"#90C6FA\"}, \"field\": \"LOWER_QUANTILE\", \"type\": \"quantitative\"}, \"y2\": {\"field\": \"UPPER_QUANTILE\"}}}, {\"mark\": {\"type\": \"line\", \"interpolate\": \"monotone\", \"stroke\": \"#EAC2B1\"}, \"encoding\": {\"x\": {\"axis\": {\"title\": null}, \"field\": \"HOUROFDAY\", \"type\": \"quantitative\"}, \"y\": {\"axis\": {\"title\": \"Predicted Probability Ride Will Be Down\", \"titleColor\": \"#EAC2B1\"}, \"field\": \"PREDICTED PROB DOWN\", \"type\": \"quantitative\"}}}], \"data\": {\"name\": \"data-5dea0961426f594a24141af99913afb9\"}, \"resolve\": {\"scale\": {\"y\": \"independent\"}}, \"title\": {\"text\": [\"Expected Wait Time vs. Expected % of Times the Ride will be down\"], \"subtitle\": [\"The Magic Carpets Of Aladdin\"]}, \"$schema\": \"https://vega.github.io/schema/vega-lite/v4.17.0.json\", \"datasets\": {\"data-5dea0961426f594a24141af99913afb9\": [{\"HOUROFDAY\": 7, \"LOWER_QUANTILE\": 27.590909090909093, \"UPPER_QUANTILE\": 33.92162698412698, \"PREDICTED PROB DOWN\": 19.50286806883365}, {\"HOUROFDAY\": 8, \"LOWER_QUANTILE\": 25.487277472527474, \"UPPER_QUANTILE\": 32.7513888888889, \"PREDICTED PROB DOWN\": 18.742138364779873}, {\"HOUROFDAY\": 9, \"LOWER_QUANTILE\": 25.351258460107143, \"UPPER_QUANTILE\": 31.962291666666673, \"PREDICTED PROB DOWN\": 19.12087912087912}, {\"HOUROFDAY\": 10, \"LOWER_QUANTILE\": 27.50723214285714, \"UPPER_QUANTILE\": 33.34005952380952, \"PREDICTED PROB DOWN\": 20.16925246826516}, {\"HOUROFDAY\": 11, \"LOWER_QUANTILE\": 25.98914013975155, \"UPPER_QUANTILE\": 32.542857142857144, \"PREDICTED PROB DOWN\": 18.41541755888651}, {\"HOUROFDAY\": 12, \"LOWER_QUANTILE\": 27.792460317460318, \"UPPER_QUANTILE\": 33.68710317460318, \"PREDICTED PROB DOWN\": 18.427787934186473}, {\"HOUROFDAY\": 13, \"LOWER_QUANTILE\": 25.892976190476194, \"UPPER_QUANTILE\": 32.33619047619048, \"PREDICTED PROB DOWN\": 18.64951768488746}, {\"HOUROFDAY\": 14, \"LOWER_QUANTILE\": 26.70797619047619, \"UPPER_QUANTILE\": 32.49321543382352, \"PREDICTED PROB DOWN\": 19.563662374821174}, {\"HOUROFDAY\": 15, \"LOWER_QUANTILE\": 25.34206654456655, \"UPPER_QUANTILE\": 32.1133134920635, \"PREDICTED PROB DOWN\": 18.346989668685428}, {\"HOUROFDAY\": 16, \"LOWER_QUANTILE\": 27.06285714285714, \"UPPER_QUANTILE\": 33.116216216216216, \"PREDICTED PROB DOWN\": 19.033781329458773}, {\"HOUROFDAY\": 17, \"LOWER_QUANTILE\": 25.54395652593021, \"UPPER_QUANTILE\": 31.465000000000007, \"PREDICTED PROB DOWN\": 18.88443310244258}, {\"HOUROFDAY\": 18, \"LOWER_QUANTILE\": 26.303035714285713, \"UPPER_QUANTILE\": 32.54907738095238, \"PREDICTED PROB DOWN\": 18.64530225782957}, {\"HOUROFDAY\": 19, \"LOWER_QUANTILE\": 26.273333333333333, \"UPPER_QUANTILE\": 32.9904329004329, \"PREDICTED PROB DOWN\": 17.644873699851413}, {\"HOUROFDAY\": 20, \"LOWER_QUANTILE\": 26.38666666666667, \"UPPER_QUANTILE\": 32.15298373458018, \"PREDICTED PROB DOWN\": 16.89928328932478}, {\"HOUROFDAY\": 21, \"LOWER_QUANTILE\": 27.008214285714292, \"UPPER_QUANTILE\": 32.98137896825397, \"PREDICTED PROB DOWN\": 19.434628975265017}, {\"HOUROFDAY\": 22, \"LOWER_QUANTILE\": 25.582582972582976, \"UPPER_QUANTILE\": 31.987738095238097, \"PREDICTED PROB DOWN\": 17.664148750726323}, {\"HOUROFDAY\": 23, \"LOWER_QUANTILE\": 27.978041252367433, \"UPPER_QUANTILE\": 33.969990079365076, \"PREDICTED PROB DOWN\": 18.49912739965096}]}}, {\"mode\": \"vega-lite\"});\n",
       "</script>"
      ],
      "text/plain": [
       "alt.LayerChart(...)"
      ]
     },
     "execution_count": 120,
     "metadata": {},
     "output_type": "execute_result"
    }
   ],
   "source": [
    "aladdin = rideResults[15].visualize_wait_times(.45, .55)\n",
    "save(aladdin, \"../reports/figures/AladdinWaitTimes.html\")\n",
    "aladdin"
   ]
  },
  {
   "cell_type": "markdown",
   "id": "0e2c5d82-c98d-476a-b941-946253eb22b3",
   "metadata": {},
   "source": [
    "### Many Adventures of Winnie the Pooh"
   ]
  },
  {
   "cell_type": "code",
   "execution_count": 121,
   "id": "793aa849-e32b-4a3a-8525-3449def88a82",
   "metadata": {},
   "outputs": [
    {
     "data": {
      "text/html": [
       "\n",
       "<div id=\"altair-viz-f24140eab72341bfbcf463faa79ee193\"></div>\n",
       "<script type=\"text/javascript\">\n",
       "  var VEGA_DEBUG = (typeof VEGA_DEBUG == \"undefined\") ? {} : VEGA_DEBUG;\n",
       "  (function(spec, embedOpt){\n",
       "    let outputDiv = document.currentScript.previousElementSibling;\n",
       "    if (outputDiv.id !== \"altair-viz-f24140eab72341bfbcf463faa79ee193\") {\n",
       "      outputDiv = document.getElementById(\"altair-viz-f24140eab72341bfbcf463faa79ee193\");\n",
       "    }\n",
       "    const paths = {\n",
       "      \"vega\": \"https://cdn.jsdelivr.net/npm//vega@5?noext\",\n",
       "      \"vega-lib\": \"https://cdn.jsdelivr.net/npm//vega-lib?noext\",\n",
       "      \"vega-lite\": \"https://cdn.jsdelivr.net/npm//vega-lite@4.17.0?noext\",\n",
       "      \"vega-embed\": \"https://cdn.jsdelivr.net/npm//vega-embed@6?noext\",\n",
       "    };\n",
       "\n",
       "    function maybeLoadScript(lib, version) {\n",
       "      var key = `${lib.replace(\"-\", \"\")}_version`;\n",
       "      return (VEGA_DEBUG[key] == version) ?\n",
       "        Promise.resolve(paths[lib]) :\n",
       "        new Promise(function(resolve, reject) {\n",
       "          var s = document.createElement('script');\n",
       "          document.getElementsByTagName(\"head\")[0].appendChild(s);\n",
       "          s.async = true;\n",
       "          s.onload = () => {\n",
       "            VEGA_DEBUG[key] = version;\n",
       "            return resolve(paths[lib]);\n",
       "          };\n",
       "          s.onerror = () => reject(`Error loading script: ${paths[lib]}`);\n",
       "          s.src = paths[lib];\n",
       "        });\n",
       "    }\n",
       "\n",
       "    function showError(err) {\n",
       "      outputDiv.innerHTML = `<div class=\"error\" style=\"color:red;\">${err}</div>`;\n",
       "      throw err;\n",
       "    }\n",
       "\n",
       "    function displayChart(vegaEmbed) {\n",
       "      vegaEmbed(outputDiv, spec, embedOpt)\n",
       "        .catch(err => showError(`Javascript Error: ${err.message}<br>This usually means there's a typo in your chart specification. See the javascript console for the full traceback.`));\n",
       "    }\n",
       "\n",
       "    if(typeof define === \"function\" && define.amd) {\n",
       "      requirejs.config({paths});\n",
       "      require([\"vega-embed\"], displayChart, err => showError(`Error loading script: ${err.message}`));\n",
       "    } else {\n",
       "      maybeLoadScript(\"vega\", \"5\")\n",
       "        .then(() => maybeLoadScript(\"vega-lite\", \"4.17.0\"))\n",
       "        .then(() => maybeLoadScript(\"vega-embed\", \"6\"))\n",
       "        .catch(showError)\n",
       "        .then(() => displayChart(vegaEmbed));\n",
       "    }\n",
       "  })({\"config\": {\"view\": {\"continuousWidth\": 400, \"continuousHeight\": 300}}, \"layer\": [{\"mark\": {\"type\": \"area\", \"color\": \"#90C6FA\", \"opacity\": 0.3}, \"encoding\": {\"x\": {\"axis\": {\"title\": null}, \"field\": \"HOUROFDAY\", \"type\": \"quantitative\"}, \"y\": {\"axis\": {\"title\": [\"Predicted Wait Times by Hour of Day\", \"(45 to 55 Percentile)\"], \"titleColor\": \"#90C6FA\"}, \"field\": \"LOWER_QUANTILE\", \"type\": \"quantitative\"}, \"y2\": {\"field\": \"UPPER_QUANTILE\"}}}, {\"mark\": {\"type\": \"line\", \"interpolate\": \"monotone\", \"stroke\": \"#EAC2B1\"}, \"encoding\": {\"x\": {\"axis\": {\"title\": null}, \"field\": \"HOUROFDAY\", \"type\": \"quantitative\"}, \"y\": {\"axis\": {\"title\": \"Predicted Probability Ride Will Be Down\", \"titleColor\": \"#EAC2B1\"}, \"field\": \"PREDICTED PROB DOWN\", \"type\": \"quantitative\"}}}], \"data\": {\"name\": \"data-6d2c107f24da623359d152b6494c8ef9\"}, \"resolve\": {\"scale\": {\"y\": \"independent\"}}, \"title\": {\"text\": [\"Expected Wait Time vs. Expected % of Times the Ride will be down\"], \"subtitle\": [\"The Many Adventures Of Winnie The Pooh\"]}, \"$schema\": \"https://vega.github.io/schema/vega-lite/v4.17.0.json\", \"datasets\": {\"data-6d2c107f24da623359d152b6494c8ef9\": [{\"HOUROFDAY\": 7, \"LOWER_QUANTILE\": 25.594852168235683, \"UPPER_QUANTILE\": 32.255018939393935, \"PREDICTED PROB DOWN\": 16.923076923076923}, {\"HOUROFDAY\": 8, \"LOWER_QUANTILE\": 25.037087912087916, \"UPPER_QUANTILE\": 31.072490079365082, \"PREDICTED PROB DOWN\": 18.073537027446918}, {\"HOUROFDAY\": 9, \"LOWER_QUANTILE\": 27.043452380952385, \"UPPER_QUANTILE\": 33.02095238095239, \"PREDICTED PROB DOWN\": 18.095238095238095}, {\"HOUROFDAY\": 10, \"LOWER_QUANTILE\": 26.600504101161995, \"UPPER_QUANTILE\": 32.76428571428572, \"PREDICTED PROB DOWN\": 17.3522295195299}, {\"HOUROFDAY\": 11, \"LOWER_QUANTILE\": 26.510833333333323, \"UPPER_QUANTILE\": 32.54622222222222, \"PREDICTED PROB DOWN\": 17.162872154115586}, {\"HOUROFDAY\": 12, \"LOWER_QUANTILE\": 26.350833333333338, \"UPPER_QUANTILE\": 31.89765623265623, \"PREDICTED PROB DOWN\": 17.55805770584096}, {\"HOUROFDAY\": 13, \"LOWER_QUANTILE\": 26.355419799498744, \"UPPER_QUANTILE\": 32.534523809523805, \"PREDICTED PROB DOWN\": 17.925194071983064}, {\"HOUROFDAY\": 14, \"LOWER_QUANTILE\": 26.40167815167204, \"UPPER_QUANTILE\": 33.105073337390394, \"PREDICTED PROB DOWN\": 18.623625399077685}, {\"HOUROFDAY\": 15, \"LOWER_QUANTILE\": 25.89166666666668, \"UPPER_QUANTILE\": 32.60504516988388, \"PREDICTED PROB DOWN\": 18.72580077437522}, {\"HOUROFDAY\": 16, \"LOWER_QUANTILE\": 25.893204365079367, \"UPPER_QUANTILE\": 32.41072364901018, \"PREDICTED PROB DOWN\": 18.210637548432544}, {\"HOUROFDAY\": 17, \"LOWER_QUANTILE\": 25.89681615094532, \"UPPER_QUANTILE\": 32.84828018084066, \"PREDICTED PROB DOWN\": 19.527051236116087}, {\"HOUROFDAY\": 18, \"LOWER_QUANTILE\": 26.542261904761904, \"UPPER_QUANTILE\": 32.599200320995735, \"PREDICTED PROB DOWN\": 18.69533527696793}, {\"HOUROFDAY\": 19, \"LOWER_QUANTILE\": 27.01, \"UPPER_QUANTILE\": 32.931093073593075, \"PREDICTED PROB DOWN\": 18.601348952786655}, {\"HOUROFDAY\": 20, \"LOWER_QUANTILE\": 25.784238765928905, \"UPPER_QUANTILE\": 31.477777777777778, \"PREDICTED PROB DOWN\": 17.567042363000386}, {\"HOUROFDAY\": 21, \"LOWER_QUANTILE\": 25.496604437229436, \"UPPER_QUANTILE\": 32.05444173881674, \"PREDICTED PROB DOWN\": 18.201851035698546}, {\"HOUROFDAY\": 22, \"LOWER_QUANTILE\": 26.61271825396825, \"UPPER_QUANTILE\": 32.30513888888889, \"PREDICTED PROB DOWN\": 16.983372921615203}, {\"HOUROFDAY\": 23, \"LOWER_QUANTILE\": 25.326428571428576, \"UPPER_QUANTILE\": 31.858896103896107, \"PREDICTED PROB DOWN\": 17.915590008613265}]}}, {\"mode\": \"vega-lite\"});\n",
       "</script>"
      ],
      "text/plain": [
       "alt.LayerChart(...)"
      ]
     },
     "execution_count": 121,
     "metadata": {},
     "output_type": "execute_result"
    }
   ],
   "source": [
    "pooh = rideResults[16].visualize_wait_times(.45, .55)\n",
    "save(pooh, \"../reports/figures/WinnieThePoohWaitTimes.html\")\n",
    "pooh"
   ]
  },
  {
   "cell_type": "markdown",
   "id": "7778d50e-6f12-4e63-a185-9884a6d07774",
   "metadata": {},
   "source": [
    "### Tomorrowland Speedway"
   ]
  },
  {
   "cell_type": "code",
   "execution_count": 122,
   "id": "02f84a6a-ec88-4f7b-90e8-0d5ebed83268",
   "metadata": {},
   "outputs": [
    {
     "data": {
      "text/html": [
       "\n",
       "<div id=\"altair-viz-d70b29a091fc44ffb247ea964104aeae\"></div>\n",
       "<script type=\"text/javascript\">\n",
       "  var VEGA_DEBUG = (typeof VEGA_DEBUG == \"undefined\") ? {} : VEGA_DEBUG;\n",
       "  (function(spec, embedOpt){\n",
       "    let outputDiv = document.currentScript.previousElementSibling;\n",
       "    if (outputDiv.id !== \"altair-viz-d70b29a091fc44ffb247ea964104aeae\") {\n",
       "      outputDiv = document.getElementById(\"altair-viz-d70b29a091fc44ffb247ea964104aeae\");\n",
       "    }\n",
       "    const paths = {\n",
       "      \"vega\": \"https://cdn.jsdelivr.net/npm//vega@5?noext\",\n",
       "      \"vega-lib\": \"https://cdn.jsdelivr.net/npm//vega-lib?noext\",\n",
       "      \"vega-lite\": \"https://cdn.jsdelivr.net/npm//vega-lite@4.17.0?noext\",\n",
       "      \"vega-embed\": \"https://cdn.jsdelivr.net/npm//vega-embed@6?noext\",\n",
       "    };\n",
       "\n",
       "    function maybeLoadScript(lib, version) {\n",
       "      var key = `${lib.replace(\"-\", \"\")}_version`;\n",
       "      return (VEGA_DEBUG[key] == version) ?\n",
       "        Promise.resolve(paths[lib]) :\n",
       "        new Promise(function(resolve, reject) {\n",
       "          var s = document.createElement('script');\n",
       "          document.getElementsByTagName(\"head\")[0].appendChild(s);\n",
       "          s.async = true;\n",
       "          s.onload = () => {\n",
       "            VEGA_DEBUG[key] = version;\n",
       "            return resolve(paths[lib]);\n",
       "          };\n",
       "          s.onerror = () => reject(`Error loading script: ${paths[lib]}`);\n",
       "          s.src = paths[lib];\n",
       "        });\n",
       "    }\n",
       "\n",
       "    function showError(err) {\n",
       "      outputDiv.innerHTML = `<div class=\"error\" style=\"color:red;\">${err}</div>`;\n",
       "      throw err;\n",
       "    }\n",
       "\n",
       "    function displayChart(vegaEmbed) {\n",
       "      vegaEmbed(outputDiv, spec, embedOpt)\n",
       "        .catch(err => showError(`Javascript Error: ${err.message}<br>This usually means there's a typo in your chart specification. See the javascript console for the full traceback.`));\n",
       "    }\n",
       "\n",
       "    if(typeof define === \"function\" && define.amd) {\n",
       "      requirejs.config({paths});\n",
       "      require([\"vega-embed\"], displayChart, err => showError(`Error loading script: ${err.message}`));\n",
       "    } else {\n",
       "      maybeLoadScript(\"vega\", \"5\")\n",
       "        .then(() => maybeLoadScript(\"vega-lite\", \"4.17.0\"))\n",
       "        .then(() => maybeLoadScript(\"vega-embed\", \"6\"))\n",
       "        .catch(showError)\n",
       "        .then(() => displayChart(vegaEmbed));\n",
       "    }\n",
       "  })({\"config\": {\"view\": {\"continuousWidth\": 400, \"continuousHeight\": 300}}, \"layer\": [{\"mark\": {\"type\": \"area\", \"color\": \"#90C6FA\", \"opacity\": 0.3}, \"encoding\": {\"x\": {\"axis\": {\"title\": null}, \"field\": \"HOUROFDAY\", \"type\": \"quantitative\"}, \"y\": {\"axis\": {\"title\": [\"Predicted Wait Times by Hour of Day\", \"(45 to 55 Percentile)\"], \"titleColor\": \"#90C6FA\"}, \"field\": \"LOWER_QUANTILE\", \"type\": \"quantitative\"}, \"y2\": {\"field\": \"UPPER_QUANTILE\"}}}, {\"mark\": {\"type\": \"line\", \"interpolate\": \"monotone\", \"stroke\": \"#EAC2B1\"}, \"encoding\": {\"x\": {\"axis\": {\"title\": null}, \"field\": \"HOUROFDAY\", \"type\": \"quantitative\"}, \"y\": {\"axis\": {\"title\": \"Predicted Probability Ride Will Be Down\", \"titleColor\": \"#EAC2B1\"}, \"field\": \"PREDICTED PROB DOWN\", \"type\": \"quantitative\"}}}], \"data\": {\"name\": \"data-302847c962caab4ade06ae9a4be15a3d\"}, \"resolve\": {\"scale\": {\"y\": \"independent\"}}, \"title\": {\"text\": [\"Expected Wait Time vs. Expected % of Times the Ride will be down\"], \"subtitle\": [\"Tomorrowland Speedway\"]}, \"$schema\": \"https://vega.github.io/schema/vega-lite/v4.17.0.json\", \"datasets\": {\"data-302847c962caab4ade06ae9a4be15a3d\": [{\"HOUROFDAY\": 7, \"LOWER_QUANTILE\": 28.513766233766237, \"UPPER_QUANTILE\": 34.85142857142857, \"PREDICTED PROB DOWN\": 19.283276450511945}, {\"HOUROFDAY\": 8, \"LOWER_QUANTILE\": 26.917742921492923, \"UPPER_QUANTILE\": 33.180595238095236, \"PREDICTED PROB DOWN\": 18.33558863328823}, {\"HOUROFDAY\": 9, \"LOWER_QUANTILE\": 25.513194444444444, \"UPPER_QUANTILE\": 31.53380681818182, \"PREDICTED PROB DOWN\": 17.612193056731584}, {\"HOUROFDAY\": 10, \"LOWER_QUANTILE\": 27.432658730158735, \"UPPER_QUANTILE\": 33.472648809523825, \"PREDICTED PROB DOWN\": 17.861482381530987}, {\"HOUROFDAY\": 11, \"LOWER_QUANTILE\": 26.642426497113995, \"UPPER_QUANTILE\": 32.744642857142864, \"PREDICTED PROB DOWN\": 17.659222497932177}, {\"HOUROFDAY\": 12, \"LOWER_QUANTILE\": 27.11215288582917, \"UPPER_QUANTILE\": 33.20677759740259, \"PREDICTED PROB DOWN\": 16.864997948297088}, {\"HOUROFDAY\": 13, \"LOWER_QUANTILE\": 25.640714285714292, \"UPPER_QUANTILE\": 31.60194444444444, \"PREDICTED PROB DOWN\": 17.68595041322314}, {\"HOUROFDAY\": 14, \"LOWER_QUANTILE\": 26.584202561327565, \"UPPER_QUANTILE\": 33.23430555555556, \"PREDICTED PROB DOWN\": 17.664294683968187}, {\"HOUROFDAY\": 15, \"LOWER_QUANTILE\": 26.337521135265703, \"UPPER_QUANTILE\": 32.77088141025641, \"PREDICTED PROB DOWN\": 17.489539748953973}, {\"HOUROFDAY\": 16, \"LOWER_QUANTILE\": 26.41123720516244, \"UPPER_QUANTILE\": 32.75714285714286, \"PREDICTED PROB DOWN\": 19.456066945606697}, {\"HOUROFDAY\": 17, \"LOWER_QUANTILE\": 27.522610722610715, \"UPPER_QUANTILE\": 34.00048701298701, \"PREDICTED PROB DOWN\": 16.3894523326572}, {\"HOUROFDAY\": 18, \"LOWER_QUANTILE\": 25.0, \"UPPER_QUANTILE\": 31.849123931623932, \"PREDICTED PROB DOWN\": 16.930116472545755}, {\"HOUROFDAY\": 19, \"LOWER_QUANTILE\": 25.854639294213815, \"UPPER_QUANTILE\": 32.18316289568297, \"PREDICTED PROB DOWN\": 17.198808003405706}, {\"HOUROFDAY\": 20, \"LOWER_QUANTILE\": 25.6598717948718, \"UPPER_QUANTILE\": 31.539583333333336, \"PREDICTED PROB DOWN\": 18.353576248313093}, {\"HOUROFDAY\": 21, \"LOWER_QUANTILE\": 26.50678780284044, \"UPPER_QUANTILE\": 32.6375, \"PREDICTED PROB DOWN\": 19.82537236774525}, {\"HOUROFDAY\": 22, \"LOWER_QUANTILE\": 27.045714285714286, \"UPPER_QUANTILE\": 34.28416356646826, \"PREDICTED PROB DOWN\": 18.231665524331735}, {\"HOUROFDAY\": 23, \"LOWER_QUANTILE\": 25.77611832611833, \"UPPER_QUANTILE\": 32.0816829004329, \"PREDICTED PROB DOWN\": 21.51639344262295}]}}, {\"mode\": \"vega-lite\"});\n",
       "</script>"
      ],
      "text/plain": [
       "alt.LayerChart(...)"
      ]
     },
     "execution_count": 122,
     "metadata": {},
     "output_type": "execute_result"
    }
   ],
   "source": [
    "speedway = rideResults[17].visualize_wait_times(.45, .55)\n",
    "save(speedway, \"../reports/figures/TomorrowlandSpeedwayWaitTimes.html\")\n",
    "speedway"
   ]
  },
  {
   "cell_type": "markdown",
   "id": "a6ecc4b4-4d34-49e9-8de9-c08607b3c70d",
   "metadata": {},
   "source": [
    "### People Mover"
   ]
  },
  {
   "cell_type": "code",
   "execution_count": 123,
   "id": "e5aba350-9ca0-4f09-b62a-0540b4bcbc74",
   "metadata": {},
   "outputs": [
    {
     "data": {
      "text/html": [
       "\n",
       "<div id=\"altair-viz-1066d6a86c5b460eb7e9e6374a3f120f\"></div>\n",
       "<script type=\"text/javascript\">\n",
       "  var VEGA_DEBUG = (typeof VEGA_DEBUG == \"undefined\") ? {} : VEGA_DEBUG;\n",
       "  (function(spec, embedOpt){\n",
       "    let outputDiv = document.currentScript.previousElementSibling;\n",
       "    if (outputDiv.id !== \"altair-viz-1066d6a86c5b460eb7e9e6374a3f120f\") {\n",
       "      outputDiv = document.getElementById(\"altair-viz-1066d6a86c5b460eb7e9e6374a3f120f\");\n",
       "    }\n",
       "    const paths = {\n",
       "      \"vega\": \"https://cdn.jsdelivr.net/npm//vega@5?noext\",\n",
       "      \"vega-lib\": \"https://cdn.jsdelivr.net/npm//vega-lib?noext\",\n",
       "      \"vega-lite\": \"https://cdn.jsdelivr.net/npm//vega-lite@4.17.0?noext\",\n",
       "      \"vega-embed\": \"https://cdn.jsdelivr.net/npm//vega-embed@6?noext\",\n",
       "    };\n",
       "\n",
       "    function maybeLoadScript(lib, version) {\n",
       "      var key = `${lib.replace(\"-\", \"\")}_version`;\n",
       "      return (VEGA_DEBUG[key] == version) ?\n",
       "        Promise.resolve(paths[lib]) :\n",
       "        new Promise(function(resolve, reject) {\n",
       "          var s = document.createElement('script');\n",
       "          document.getElementsByTagName(\"head\")[0].appendChild(s);\n",
       "          s.async = true;\n",
       "          s.onload = () => {\n",
       "            VEGA_DEBUG[key] = version;\n",
       "            return resolve(paths[lib]);\n",
       "          };\n",
       "          s.onerror = () => reject(`Error loading script: ${paths[lib]}`);\n",
       "          s.src = paths[lib];\n",
       "        });\n",
       "    }\n",
       "\n",
       "    function showError(err) {\n",
       "      outputDiv.innerHTML = `<div class=\"error\" style=\"color:red;\">${err}</div>`;\n",
       "      throw err;\n",
       "    }\n",
       "\n",
       "    function displayChart(vegaEmbed) {\n",
       "      vegaEmbed(outputDiv, spec, embedOpt)\n",
       "        .catch(err => showError(`Javascript Error: ${err.message}<br>This usually means there's a typo in your chart specification. See the javascript console for the full traceback.`));\n",
       "    }\n",
       "\n",
       "    if(typeof define === \"function\" && define.amd) {\n",
       "      requirejs.config({paths});\n",
       "      require([\"vega-embed\"], displayChart, err => showError(`Error loading script: ${err.message}`));\n",
       "    } else {\n",
       "      maybeLoadScript(\"vega\", \"5\")\n",
       "        .then(() => maybeLoadScript(\"vega-lite\", \"4.17.0\"))\n",
       "        .then(() => maybeLoadScript(\"vega-embed\", \"6\"))\n",
       "        .catch(showError)\n",
       "        .then(() => displayChart(vegaEmbed));\n",
       "    }\n",
       "  })({\"config\": {\"view\": {\"continuousWidth\": 400, \"continuousHeight\": 300}}, \"layer\": [{\"mark\": {\"type\": \"area\", \"color\": \"#90C6FA\", \"opacity\": 0.3}, \"encoding\": {\"x\": {\"axis\": {\"title\": null}, \"field\": \"HOUROFDAY\", \"type\": \"quantitative\"}, \"y\": {\"axis\": {\"title\": [\"Predicted Wait Times by Hour of Day\", \"(45 to 55 Percentile)\"], \"titleColor\": \"#90C6FA\"}, \"field\": \"LOWER_QUANTILE\", \"type\": \"quantitative\"}, \"y2\": {\"field\": \"UPPER_QUANTILE\"}}}, {\"mark\": {\"type\": \"line\", \"interpolate\": \"monotone\", \"stroke\": \"#EAC2B1\"}, \"encoding\": {\"x\": {\"axis\": {\"title\": null}, \"field\": \"HOUROFDAY\", \"type\": \"quantitative\"}, \"y\": {\"axis\": {\"title\": \"Predicted Probability Ride Will Be Down\", \"titleColor\": \"#EAC2B1\"}, \"field\": \"PREDICTED PROB DOWN\", \"type\": \"quantitative\"}}}], \"data\": {\"name\": \"data-d05a33920e8ee2c231088fd4b367f3c3\"}, \"resolve\": {\"scale\": {\"y\": \"independent\"}}, \"title\": {\"text\": [\"Expected Wait Time vs. Expected % of Times the Ride will be down\"], \"subtitle\": [\"Tomorrowland Transit Authority Peoplemover\"]}, \"$schema\": \"https://vega.github.io/schema/vega-lite/v4.17.0.json\", \"datasets\": {\"data-d05a33920e8ee2c231088fd4b367f3c3\": [{\"HOUROFDAY\": 7, \"LOWER_QUANTILE\": 27.597653276955604, \"UPPER_QUANTILE\": 32.871428571428574, \"PREDICTED PROB DOWN\": 18.730650154798763}, {\"HOUROFDAY\": 8, \"LOWER_QUANTILE\": 26.457137001820243, \"UPPER_QUANTILE\": 32.89780620768487, \"PREDICTED PROB DOWN\": 17.95886075949367}, {\"HOUROFDAY\": 9, \"LOWER_QUANTILE\": 25.0, \"UPPER_QUANTILE\": 30.77184210526316, \"PREDICTED PROB DOWN\": 17.30903994393833}, {\"HOUROFDAY\": 10, \"LOWER_QUANTILE\": 25.050436507936507, \"UPPER_QUANTILE\": 30.879821428571436, \"PREDICTED PROB DOWN\": 18.268525311812176}, {\"HOUROFDAY\": 11, \"LOWER_QUANTILE\": 25.06782562712049, \"UPPER_QUANTILE\": 31.302796410906183, \"PREDICTED PROB DOWN\": 17.29807005003574}, {\"HOUROFDAY\": 12, \"LOWER_QUANTILE\": 26.609920634920638, \"UPPER_QUANTILE\": 32.92714285714287, \"PREDICTED PROB DOWN\": 18.130709768095574}, {\"HOUROFDAY\": 13, \"LOWER_QUANTILE\": 26.36265873015873, \"UPPER_QUANTILE\": 33.183690476190485, \"PREDICTED PROB DOWN\": 16.78082191780822}, {\"HOUROFDAY\": 14, \"LOWER_QUANTILE\": 24.711702741702748, \"UPPER_QUANTILE\": 31.128082015753556, \"PREDICTED PROB DOWN\": 17.789404839764554}, {\"HOUROFDAY\": 15, \"LOWER_QUANTILE\": 25.606006493506495, \"UPPER_QUANTILE\": 33.24352564102564, \"PREDICTED PROB DOWN\": 19.446320054017555}, {\"HOUROFDAY\": 16, \"LOWER_QUANTILE\": 25.896251119570085, \"UPPER_QUANTILE\": 32.87992153679654, \"PREDICTED PROB DOWN\": 15.767634854771783}, {\"HOUROFDAY\": 17, \"LOWER_QUANTILE\": 25.568425667899355, \"UPPER_QUANTILE\": 32.116488095238104, \"PREDICTED PROB DOWN\": 18.24279007377599}, {\"HOUROFDAY\": 18, \"LOWER_QUANTILE\": 24.920926389440574, \"UPPER_QUANTILE\": 30.007211538461537, \"PREDICTED PROB DOWN\": 19.134550371872887}, {\"HOUROFDAY\": 19, \"LOWER_QUANTILE\": 25.0, \"UPPER_QUANTILE\": 32.01618055555556, \"PREDICTED PROB DOWN\": 18.54684512428298}, {\"HOUROFDAY\": 20, \"LOWER_QUANTILE\": 25.0, \"UPPER_QUANTILE\": 31.289491459627335, \"PREDICTED PROB DOWN\": 17.37660581473969}, {\"HOUROFDAY\": 21, \"LOWER_QUANTILE\": 26.129918673755554, \"UPPER_QUANTILE\": 31.66440476190476, \"PREDICTED PROB DOWN\": 18.195956454121305}, {\"HOUROFDAY\": 22, \"LOWER_QUANTILE\": 24.99790959040959, \"UPPER_QUANTILE\": 31.35870985603545, \"PREDICTED PROB DOWN\": 18.120155038759687}, {\"HOUROFDAY\": 23, \"LOWER_QUANTILE\": 29.156994047619047, \"UPPER_QUANTILE\": 34.07947683355293, \"PREDICTED PROB DOWN\": 16.966580976863753}]}}, {\"mode\": \"vega-lite\"});\n",
       "</script>"
      ],
      "text/plain": [
       "alt.LayerChart(...)"
      ]
     },
     "execution_count": 123,
     "metadata": {},
     "output_type": "execute_result"
    }
   ],
   "source": [
    "people_mover = rideResults[18].visualize_wait_times(.45, .55)\n",
    "save(people_mover, \"../reports/figures/PeopleMoverWaitTimes.html\")\n",
    "people_mover"
   ]
  },
  {
   "cell_type": "markdown",
   "id": "159ca44d-645c-4dc0-8a8e-b75e0c088aea",
   "metadata": {},
   "source": [
    "### Carousel of Progress"
   ]
  },
  {
   "cell_type": "code",
   "execution_count": 124,
   "id": "8f23379a-ed9d-42c4-90f1-3eab42cac97b",
   "metadata": {},
   "outputs": [
    {
     "data": {
      "text/html": [
       "\n",
       "<div id=\"altair-viz-cf221d137ca94ec7b1fbbadd11cfe007\"></div>\n",
       "<script type=\"text/javascript\">\n",
       "  var VEGA_DEBUG = (typeof VEGA_DEBUG == \"undefined\") ? {} : VEGA_DEBUG;\n",
       "  (function(spec, embedOpt){\n",
       "    let outputDiv = document.currentScript.previousElementSibling;\n",
       "    if (outputDiv.id !== \"altair-viz-cf221d137ca94ec7b1fbbadd11cfe007\") {\n",
       "      outputDiv = document.getElementById(\"altair-viz-cf221d137ca94ec7b1fbbadd11cfe007\");\n",
       "    }\n",
       "    const paths = {\n",
       "      \"vega\": \"https://cdn.jsdelivr.net/npm//vega@5?noext\",\n",
       "      \"vega-lib\": \"https://cdn.jsdelivr.net/npm//vega-lib?noext\",\n",
       "      \"vega-lite\": \"https://cdn.jsdelivr.net/npm//vega-lite@4.17.0?noext\",\n",
       "      \"vega-embed\": \"https://cdn.jsdelivr.net/npm//vega-embed@6?noext\",\n",
       "    };\n",
       "\n",
       "    function maybeLoadScript(lib, version) {\n",
       "      var key = `${lib.replace(\"-\", \"\")}_version`;\n",
       "      return (VEGA_DEBUG[key] == version) ?\n",
       "        Promise.resolve(paths[lib]) :\n",
       "        new Promise(function(resolve, reject) {\n",
       "          var s = document.createElement('script');\n",
       "          document.getElementsByTagName(\"head\")[0].appendChild(s);\n",
       "          s.async = true;\n",
       "          s.onload = () => {\n",
       "            VEGA_DEBUG[key] = version;\n",
       "            return resolve(paths[lib]);\n",
       "          };\n",
       "          s.onerror = () => reject(`Error loading script: ${paths[lib]}`);\n",
       "          s.src = paths[lib];\n",
       "        });\n",
       "    }\n",
       "\n",
       "    function showError(err) {\n",
       "      outputDiv.innerHTML = `<div class=\"error\" style=\"color:red;\">${err}</div>`;\n",
       "      throw err;\n",
       "    }\n",
       "\n",
       "    function displayChart(vegaEmbed) {\n",
       "      vegaEmbed(outputDiv, spec, embedOpt)\n",
       "        .catch(err => showError(`Javascript Error: ${err.message}<br>This usually means there's a typo in your chart specification. See the javascript console for the full traceback.`));\n",
       "    }\n",
       "\n",
       "    if(typeof define === \"function\" && define.amd) {\n",
       "      requirejs.config({paths});\n",
       "      require([\"vega-embed\"], displayChart, err => showError(`Error loading script: ${err.message}`));\n",
       "    } else {\n",
       "      maybeLoadScript(\"vega\", \"5\")\n",
       "        .then(() => maybeLoadScript(\"vega-lite\", \"4.17.0\"))\n",
       "        .then(() => maybeLoadScript(\"vega-embed\", \"6\"))\n",
       "        .catch(showError)\n",
       "        .then(() => displayChart(vegaEmbed));\n",
       "    }\n",
       "  })({\"config\": {\"view\": {\"continuousWidth\": 400, \"continuousHeight\": 300}}, \"layer\": [{\"mark\": {\"type\": \"area\", \"color\": \"#90C6FA\", \"opacity\": 0.3}, \"encoding\": {\"x\": {\"axis\": {\"title\": null}, \"field\": \"HOUROFDAY\", \"type\": \"quantitative\"}, \"y\": {\"axis\": {\"title\": [\"Predicted Wait Times by Hour of Day\", \"(45 to 55 Percentile)\"], \"titleColor\": \"#90C6FA\"}, \"field\": \"LOWER_QUANTILE\", \"type\": \"quantitative\"}, \"y2\": {\"field\": \"UPPER_QUANTILE\"}}}, {\"mark\": {\"type\": \"line\", \"interpolate\": \"monotone\", \"stroke\": \"#EAC2B1\"}, \"encoding\": {\"x\": {\"axis\": {\"title\": null}, \"field\": \"HOUROFDAY\", \"type\": \"quantitative\"}, \"y\": {\"axis\": {\"title\": \"Predicted Probability Ride Will Be Down\", \"titleColor\": \"#EAC2B1\"}, \"field\": \"PREDICTED PROB DOWN\", \"type\": \"quantitative\"}}}], \"data\": {\"name\": \"data-102bf5de1f77d2e770bd58d43b9b420b\"}, \"resolve\": {\"scale\": {\"y\": \"independent\"}}, \"title\": {\"text\": [\"Expected Wait Time vs. Expected % of Times the Ride will be down\"], \"subtitle\": [\"Walt Disney'S Carousel Of Progress\"]}, \"$schema\": \"https://vega.github.io/schema/vega-lite/v4.17.0.json\", \"datasets\": {\"data-102bf5de1f77d2e770bd58d43b9b420b\": [{\"HOUROFDAY\": 7, \"LOWER_QUANTILE\": 25.695092592592594, \"UPPER_QUANTILE\": 31.171320346320346, \"PREDICTED PROB DOWN\": 16.956521739130434}, {\"HOUROFDAY\": 8, \"LOWER_QUANTILE\": 26.442500000000003, \"UPPER_QUANTILE\": 32.89145833333334, \"PREDICTED PROB DOWN\": 17.231000752445446}, {\"HOUROFDAY\": 9, \"LOWER_QUANTILE\": 25.0, \"UPPER_QUANTILE\": 31.040122324159036, \"PREDICTED PROB DOWN\": 18.17562968005446}, {\"HOUROFDAY\": 10, \"LOWER_QUANTILE\": 26.149166666666666, \"UPPER_QUANTILE\": 33.14507326007326, \"PREDICTED PROB DOWN\": 15.521064301552107}, {\"HOUROFDAY\": 11, \"LOWER_QUANTILE\": 25.459648313202155, \"UPPER_QUANTILE\": 32.252689393939406, \"PREDICTED PROB DOWN\": 15.460776846915461}, {\"HOUROFDAY\": 12, \"LOWER_QUANTILE\": 24.696153606678774, \"UPPER_QUANTILE\": 30.0, \"PREDICTED PROB DOWN\": 17.357910906298002}, {\"HOUROFDAY\": 13, \"LOWER_QUANTILE\": 25.0, \"UPPER_QUANTILE\": 31.876369047619058, \"PREDICTED PROB DOWN\": 16.936104695919937}, {\"HOUROFDAY\": 14, \"LOWER_QUANTILE\": 25.0, \"UPPER_QUANTILE\": 31.120714285714286, \"PREDICTED PROB DOWN\": 16.926677067082682}, {\"HOUROFDAY\": 15, \"LOWER_QUANTILE\": 27.023611111111116, \"UPPER_QUANTILE\": 32.25725556494787, \"PREDICTED PROB DOWN\": 18.069498069498067}, {\"HOUROFDAY\": 16, \"LOWER_QUANTILE\": 25.91567165735777, \"UPPER_QUANTILE\": 31.595000000000002, \"PREDICTED PROB DOWN\": 15.444015444015443}, {\"HOUROFDAY\": 17, \"LOWER_QUANTILE\": 26.019855661256493, \"UPPER_QUANTILE\": 33.54416666666667, \"PREDICTED PROB DOWN\": 19.145569620253163}, {\"HOUROFDAY\": 18, \"LOWER_QUANTILE\": 26.117198426573427, \"UPPER_QUANTILE\": 31.26815348866821, \"PREDICTED PROB DOWN\": 17.49019607843137}, {\"HOUROFDAY\": 19, \"LOWER_QUANTILE\": 24.310714285714287, \"UPPER_QUANTILE\": 30.635963203463202, \"PREDICTED PROB DOWN\": 18.423236514522824}, {\"HOUROFDAY\": 20, \"LOWER_QUANTILE\": 26.42275833333333, \"UPPER_QUANTILE\": 33.5675, \"PREDICTED PROB DOWN\": 18.127659574468087}, {\"HOUROFDAY\": 21, \"LOWER_QUANTILE\": 25.0, \"UPPER_QUANTILE\": 30.4417773261066, \"PREDICTED PROB DOWN\": 16.309412861136998}, {\"HOUROFDAY\": 22, \"LOWER_QUANTILE\": 28.38834325396825, \"UPPER_QUANTILE\": 34.84738026224983, \"PREDICTED PROB DOWN\": 17.20116618075802}, {\"HOUROFDAY\": 23, \"LOWER_QUANTILE\": 26.822103174603182, \"UPPER_QUANTILE\": 32.90620948191636, \"PREDICTED PROB DOWN\": 17.92452830188679}]}}, {\"mode\": \"vega-lite\"});\n",
       "</script>"
      ],
      "text/plain": [
       "alt.LayerChart(...)"
      ]
     },
     "execution_count": 124,
     "metadata": {},
     "output_type": "execute_result"
    }
   ],
   "source": [
    "carousel_of_progress = rideResults[19].visualize_wait_times(.45, .55)\n",
    "save(carousel_of_progress, \"../reports/figures/CarouselofProgressWaitTimes.html\")\n",
    "carousel_of_progress"
   ]
  },
  {
   "cell_type": "code",
   "execution_count": null,
   "id": "be9fa99e-5984-40c3-83ad-55759f643a8f",
   "metadata": {},
   "outputs": [],
   "source": []
  }
 ],
 "metadata": {
  "environment": {
   "kernel": "python3",
   "name": "pytorch-gpu.1-11.m94",
   "type": "gcloud",
   "uri": "gcr.io/deeplearning-platform-release/pytorch-gpu.1-11:m94"
  },
  "kernelspec": {
   "display_name": "Python 3",
   "language": "python",
   "name": "python3"
  },
  "language_info": {
   "codemirror_mode": {
    "name": "ipython",
    "version": 3
   },
   "file_extension": ".py",
   "mimetype": "text/x-python",
   "name": "python",
   "nbconvert_exporter": "python",
   "pygments_lexer": "ipython3",
   "version": "3.7.12"
  }
 },
 "nbformat": 4,
 "nbformat_minor": 5
}
