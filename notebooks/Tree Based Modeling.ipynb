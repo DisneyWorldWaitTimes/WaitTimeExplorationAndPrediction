{
 "cells": [
  {
   "cell_type": "markdown",
   "id": "46bb2407",
   "metadata": {},
   "source": [
    "This notebook is meant to explore Tree Based Machine Learning Algorithms as the best results at this point came from a Random Forest Regressor model, so we thought we'd check other models of similar types."
   ]
  },
  {
   "cell_type": "code",
   "execution_count": 3,
   "id": "05707f41",
   "metadata": {},
   "outputs": [],
   "source": [
    "import pandas as pd\n",
    "import numpy as np\n",
    "from sklearn.tree import DecisionTreeRegressor\n",
    "from sklearn.ensemble import ExtraTreesRegressor\n",
    "from sklearn.metrics import accuracy_score, f1_score\n",
    "from sklearn import metrics\n",
    "import importlib.util"
   ]
  },
  {
   "cell_type": "code",
   "execution_count": null,
   "id": "06d92f37",
   "metadata": {},
   "outputs": [],
   "source": [
    "# specify the module that needs to be\n",
    "# imported relative to the path of the\n",
    "# module\n",
    "spec = importlib.util.spec_from_file_location(\"loadTrainTestPostedWaitTimes\", \"../src/data/loadTrainTestData.py\")\n",
    "\n",
    "# creates a new module based on spec\n",
    "loadTrainPosted = importlib.util.module_from_spec(spec)\n",
    "\n",
    "# executes the module in its own namespace\n",
    "# when a module is imported or reloaded.\n",
    "spec.loader.exec_module(loadTrainPosted)\n",
    "\n",
    "X_train, X_test, y_train, y_test = loadTrainPosted.loadTrainTestPostedWaitTimes()"
   ]
  },
  {
   "cell_type": "code",
   "execution_count": null,
   "id": "7c46082c",
   "metadata": {},
   "outputs": [],
   "source": [
    "parse_times = [\"MKOPEN\", \"MKCLOSE\", \"MKEMHOPEN\", \"MKEMHCLOSE\",\n",
    "               \"MKOPENYEST\", \"MKCLOSEYEST\", \"MKOPENTOM\",\n",
    "               \"MKCLOSETOM\",\"EPOPEN\", \"EPCLOSE\", \"EPEMHOPEN\",\n",
    "               \"EPEMHCLOSE\", \"EPOPENYEST\", \"EPCLOSEYEST\",\n",
    "               \"EPOPENTOM\", \"EPCLOSETOM\", \"HSOPEN\", \"HSCLOSE\",\n",
    "               \"HSEMHOPEN\", \"HSEMHCLOSE\", \"HSOPENYEST\", \"HSCLOSEYEST\",\n",
    "               \"HSOPENTOM\", \"HSCLOSETOM\", \"AKOPEN\", \"AKCLOSE\",\n",
    "               \"AKEMHOPEN\", \"AKOPENYEST\", \"AKCLOSEYEST\",\"AKEMHCLOSE\",\n",
    "               \"AKOPENTOM\", \"AKCLOSETOM\", \"MKPRDDT1\", \"MKPRDDT2\",\n",
    "               \"MKPRDNT1\", \"MKPRDNT2\", \"MKFIRET1\", \"MKFIRET2\",\n",
    "               \"EPFIRET1\", \"EPFIRET2\", \"HSPRDDT1\", \"HSFIRET1\",\n",
    "               \"HSFIRET2\", \"HSSHWNT1\", \"HSSHWNT2\", \"AKPRDDT1\",\n",
    "               \"AKPRDDT2\", \"AKSHWNT1\", \"AKSHWNT2\"]"
   ]
  },
  {
   "cell_type": "code",
   "execution_count": 80,
   "id": "f9816bbe",
   "metadata": {},
   "outputs": [],
   "source": [
    "for col in parse_times:\n",
    "    X_train[col] =  X_train[col].fillna(\"99\")\n",
    "    X_train[f\"{col}_HOUR\"] = X_train[col].apply(lambda x: x[:2] if x[0]!=0 else x[:1]).astype(int).astype(\"Int8\")\n",
    "    X_train.drop(columns = col, inplace=True)\n",
    "for col in parse_times:\n",
    "    X_test[col] =  X_test[col].fillna(\"99\")\n",
    "    X_test[f\"{col}_HOUR\"] = X_test[col].apply(lambda x: x[:2] if x[0]!=0 else x[:1]).astype(int).astype(\"Int8\")\n",
    "    X_test.drop(columns = col, inplace=True)\n",
    "for col in X_train.columns:\n",
    "    nulls = X_train[col].isnull().sum()\n",
    "    \n",
    "    if nulls>0:\n",
    "        X_train[col].fillna(method ='bfill', inplace=True)\n",
    "    \n",
    "        if X_train[col].isnull().sum()>0:\n",
    "            X_train[col].fillna(X_train[col].median(), inplace=True)\n",
    "for col in X_test.columns:\n",
    "    nulls = X_test[col].isnull().sum()\n",
    "    \n",
    "    if nulls>0:\n",
    "        X_test[col]= X_test[col].fillna(method ='bfill')\n",
    "        \n",
    "        if X_test[col].isnull().sum()>0:\n",
    "            X_test[col].fillna(X_test[col].median(), inplace=True)"
   ]
  },
  {
   "cell_type": "code",
   "execution_count": 81,
   "id": "7e895db0",
   "metadata": {},
   "outputs": [],
   "source": [
    "dt = DecisionTreeRegressor(max_depth=6, random_state=42)\n",
    "dt.fit(X_train, y_train)\n",
    "y_pred = dt.predict(X_test)"
   ]
  },
  {
   "cell_type": "code",
   "execution_count": 82,
   "id": "5e31d424",
   "metadata": {},
   "outputs": [
    {
     "name": "stdout",
     "output_type": "stream",
     "text": [
      "Mean Absolute Error (MAE): 13.16068313035664\n",
      "Mean Squared Error (MSE): 221682.33471597004\n",
      "Root Mean Squared Error (RMSE): 470.83153538815776\n"
     ]
    }
   ],
   "source": [
    "print('Mean Absolute Error (MAE):', metrics.mean_absolute_error(y_test, y_pred))\n",
    "print('Mean Squared Error (MSE):', metrics.mean_squared_error(y_test, y_pred))\n",
    "print('Root Mean Squared Error (RMSE):', np.sqrt(metrics.mean_squared_error(y_test, y_pred)))"
   ]
  },
  {
   "cell_type": "code",
   "execution_count": 83,
   "id": "402477b5",
   "metadata": {},
   "outputs": [
    {
     "data": {
      "text/plain": [
       "['Temperature (C)',\n",
       " 'Ride_name_tomorrowland transit authority peoplemover',\n",
       " 'Wind Angle',\n",
       " 'Age_of_ride_days',\n",
       " 'WDW_TICKET_SEASON_regular',\n",
       " 'HOLIDAYN_prs',\n",
       " 'AKHOURS',\n",
       " 'Age_of_ride_years',\n",
       " 'TL_rank',\n",
       " 'Ride_type_big_drops',\n",
       " 'MKFIREN_happily ever after',\n",
       " 'Ride_duration_min',\n",
       " 'MKHOURS',\n",
       " 'WEATHER_WDWHIGH']"
      ]
     },
     "execution_count": 83,
     "metadata": {},
     "output_type": "execute_result"
    }
   ],
   "source": [
    "features = pd.DataFrame([X_train.columns, dt.feature_importances_]).T.sort_values([1], ascending = [False])\n",
    "important_features = list(features[features[1] > 0.000001][0])\n",
    "important_features"
   ]
  },
  {
   "cell_type": "code",
   "execution_count": 84,
   "id": "8d01a1aa",
   "metadata": {},
   "outputs": [],
   "source": [
    "dt = DecisionTreeRegressor(max_depth=6, random_state=42)\n",
    "dt.fit(X_train[important_features], y_train)\n",
    "y_pred = dt.predict(X_test[important_features])"
   ]
  },
  {
   "cell_type": "code",
   "execution_count": 85,
   "id": "3829e175",
   "metadata": {},
   "outputs": [
    {
     "name": "stdout",
     "output_type": "stream",
     "text": [
      "Mean Absolute Error (MAE): 13.145344036755082\n",
      "Mean Squared Error (MSE): 221681.71600148827\n",
      "Root Mean Squared Error (RMSE): 470.8308783432627\n"
     ]
    }
   ],
   "source": [
    "print('Mean Absolute Error (MAE):', metrics.mean_absolute_error(y_test, y_pred))\n",
    "print('Mean Squared Error (MSE):', metrics.mean_squared_error(y_test, y_pred))\n",
    "print('Root Mean Squared Error (RMSE):', np.sqrt(metrics.mean_squared_error(y_test, y_pred)))"
   ]
  },
  {
   "cell_type": "code",
   "execution_count": 95,
   "id": "e30e3b69",
   "metadata": {},
   "outputs": [],
   "source": [
    "et = ExtraTreesRegressor(max_depth=6, random_state=42)\n",
    "et.fit(X_train, y_train['SACTMIN'])\n",
    "y_pred = et.predict(X_test)"
   ]
  },
  {
   "cell_type": "code",
   "execution_count": 96,
   "id": "a4cb073a",
   "metadata": {},
   "outputs": [
    {
     "name": "stdout",
     "output_type": "stream",
     "text": [
      "Mean Absolute Error (MAE): 13.821088580265943\n",
      "Mean Squared Error (MSE): 223012.6590672642\n",
      "Root Mean Squared Error (RMSE): 472.2421614672542\n"
     ]
    }
   ],
   "source": [
    "print('Mean Absolute Error (MAE):', metrics.mean_absolute_error(y_test, y_pred))\n",
    "print('Mean Squared Error (MSE):', metrics.mean_squared_error(y_test, y_pred))\n",
    "print('Root Mean Squared Error (RMSE):', np.sqrt(metrics.mean_squared_error(y_test, y_pred)))"
   ]
  },
  {
   "cell_type": "code",
   "execution_count": 97,
   "id": "9773b8ee",
   "metadata": {},
   "outputs": [
    {
     "data": {
      "text/plain": [
       "['Wind Angle',\n",
       " 'Temperature (C)',\n",
       " 'Wind Quality Code_passed gross limits check if element is present',\n",
       " 'Wind Quality Code_passed all quality control checks, data originate from an ncei data source',\n",
       " 'Visibility Distance (M)',\n",
       " 'Wind Type Code_normal',\n",
       " 'Ride_name_seven dwarfs mine train',\n",
       " 'Wind Type Code_calm',\n",
       " 'Ride_name_tomorrowland transit authority peoplemover',\n",
       " 'MKCLOSEYEST_HOUR',\n",
       " 'AKHOURS',\n",
       " 'CapacityLost_AK',\n",
       " 'Wind Speed',\n",
       " 'Age_of_ride_days',\n",
       " 'MKHOURSYEST',\n",
       " 'WDW_TICKET_SEASON_regular',\n",
       " 'Age_of_ride_years',\n",
       " 'inSession_Drive_CA',\n",
       " 'AKEMHCLOSE_HOUR',\n",
       " 'AKCLOSETOM_HOUR',\n",
       " 'HSSHWNGT',\n",
       " 'inSession_SoCal',\n",
       " 'inSession_California',\n",
       " 'CapacityLostWGT_MK',\n",
       " 'AKHOURSEMHTOM',\n",
       " 'inSession_Central_FL',\n",
       " 'inSession_Florida',\n",
       " 'HSSHWNT2_HOUR',\n",
       " 'WDW_TICKET_SEASON_peak',\n",
       " 'YEAR',\n",
       " 'CapacityLost_MK',\n",
       " 'CapacityLost_HS',\n",
       " 'Cloud Height',\n",
       " 'inSession_NY_NJ',\n",
       " 'Cloud Determination Code_missing',\n",
       " 'AKCLOSE_HOUR',\n",
       " 'EPEMHCLOSE_HOUR',\n",
       " 'AKHOURSEMHYEST',\n",
       " 'Fast_pass',\n",
       " 'CapacityLostWGT_AK',\n",
       " 'inSession_dlr',\n",
       " 'inSession_sqrt_DLR',\n",
       " 'MKevent',\n",
       " 'HSHOURS',\n",
       " 'inSession_wdw',\n",
       " 'MKHOURSTOM',\n",
       " 'MKEMHOPEN_HOUR',\n",
       " 'CapacityLostWGT_HS',\n",
       " 'HSHOURSEMHTOM',\n",
       " 'inSession_Nothwest',\n",
       " 'inSession_DC',\n",
       " 'HSEMHMORN',\n",
       " 'inSession_Drive2_FL',\n",
       " 'inSession_Southwest',\n",
       " 'inSession_New_Jersey',\n",
       " 'HOLIDAYN_prs',\n",
       " 'inSession',\n",
       " 'inSession_sqrt_WDW',\n",
       " 'inSession_Enrollment',\n",
       " 'AKOPENTOM_HOUR',\n",
       " 'MKHOURSEMH',\n",
       " 'Cloud Determination Code_measured',\n",
       " 'AKHOURSEMH',\n",
       " 'MKeventN_emm',\n",
       " 'AKHOURSTOM',\n",
       " 'inSession_Midwest',\n",
       " 'MKHOURSEMHYEST',\n",
       " 'Ride_type_big_drops',\n",
       " \"Ride_name_peter pan's flight\",\n",
       " 'TL_rank',\n",
       " 'Age_interest_preschoolers',\n",
       " 'WDWSEASON_september low',\n",
       " 'MKFIREN_happily ever after',\n",
       " 'MKPRDNT1_HOUR',\n",
       " 'Ride_type_thrill',\n",
       " 'MKPRDNN_none',\n",
       " 'Ride_duration_min',\n",
       " 'MKHOURS',\n",
       " 'Park_area_frontierland']"
      ]
     },
     "execution_count": 97,
     "metadata": {},
     "output_type": "execute_result"
    }
   ],
   "source": [
    "features = pd.DataFrame([X_train.columns, et.feature_importances_]).T.sort_values([1], ascending = [False])\n",
    "important_features = list(features[features[1] > 0.000001][0])\n",
    "important_features"
   ]
  },
  {
   "cell_type": "code",
   "execution_count": 99,
   "id": "1253333c",
   "metadata": {},
   "outputs": [],
   "source": [
    "et = ExtraTreesRegressor(max_depth=6, random_state=42)\n",
    "et.fit(X_train[important_features], y_train['SACTMIN'])\n",
    "y_pred = et.predict(X_test[important_features])"
   ]
  },
  {
   "cell_type": "code",
   "execution_count": 100,
   "id": "0c68ce2c",
   "metadata": {},
   "outputs": [
    {
     "name": "stdout",
     "output_type": "stream",
     "text": [
      "Mean Absolute Error (MAE): 13.601841697360513\n",
      "Mean Squared Error (MSE): 222103.11234275103\n",
      "Root Mean Squared Error (RMSE): 471.27816875254365\n"
     ]
    }
   ],
   "source": [
    "print('Mean Absolute Error (MAE):', metrics.mean_absolute_error(y_test, y_pred))\n",
    "print('Mean Squared Error (MSE):', metrics.mean_squared_error(y_test, y_pred))\n",
    "print('Root Mean Squared Error (RMSE):', np.sqrt(metrics.mean_squared_error(y_test, y_pred)))"
   ]
  },
  {
   "cell_type": "code",
   "execution_count": 101,
   "id": "551e46b4",
   "metadata": {},
   "outputs": [],
   "source": [
    "et = ExtraTreesRegressor(max_depth=3, random_state=42)\n",
    "et.fit(X_train, y_train['SACTMIN'])\n",
    "y_pred = et.predict(X_test)"
   ]
  },
  {
   "cell_type": "code",
   "execution_count": 102,
   "id": "919bbca9",
   "metadata": {},
   "outputs": [
    {
     "name": "stdout",
     "output_type": "stream",
     "text": [
      "Mean Absolute Error (MAE): 16.277383186515056\n",
      "Mean Squared Error (MSE): 222481.03455459536\n",
      "Root Mean Squared Error (RMSE): 471.6789528424979\n"
     ]
    }
   ],
   "source": [
    "print('Mean Absolute Error (MAE):', metrics.mean_absolute_error(y_test, y_pred))\n",
    "print('Mean Squared Error (MSE):', metrics.mean_squared_error(y_test, y_pred))\n",
    "print('Root Mean Squared Error (RMSE):', np.sqrt(metrics.mean_squared_error(y_test, y_pred)))"
   ]
  },
  {
   "cell_type": "code",
   "execution_count": 103,
   "id": "79b2a42f",
   "metadata": {},
   "outputs": [],
   "source": [
    "et = ExtraTreesRegressor(max_depth=13, random_state=42)\n",
    "et.fit(X_train, y_train['SACTMIN'])\n",
    "y_pred = et.predict(X_test)"
   ]
  },
  {
   "cell_type": "code",
   "execution_count": 104,
   "id": "70d08b08",
   "metadata": {},
   "outputs": [
    {
     "name": "stdout",
     "output_type": "stream",
     "text": [
      "Mean Absolute Error (MAE): 12.51285246393772\n",
      "Mean Squared Error (MSE): 221889.68008436688\n",
      "Root Mean Squared Error (RMSE): 471.0516745372708\n"
     ]
    }
   ],
   "source": [
    "print('Mean Absolute Error (MAE):', metrics.mean_absolute_error(y_test, y_pred))\n",
    "print('Mean Squared Error (MSE):', metrics.mean_squared_error(y_test, y_pred))\n",
    "print('Root Mean Squared Error (RMSE):', np.sqrt(metrics.mean_squared_error(y_test, y_pred)))"
   ]
  },
  {
   "cell_type": "code",
   "execution_count": null,
   "id": "34e72ce7",
   "metadata": {},
   "outputs": [],
   "source": []
  }
 ],
 "metadata": {
  "environment": {
   "kernel": "python3",
   "name": "pytorch-gpu.1-11.m94",
   "type": "gcloud",
   "uri": "gcr.io/deeplearning-platform-release/pytorch-gpu.1-11:m94"
  },
  "kernelspec": {
   "display_name": "Python 3",
   "language": "python",
   "name": "python3"
  },
  "language_info": {
   "codemirror_mode": {
    "name": "ipython",
    "version": 3
   },
   "file_extension": ".py",
   "mimetype": "text/x-python",
   "name": "python",
   "nbconvert_exporter": "python",
   "pygments_lexer": "ipython3",
   "version": "3.7.12"
  }
 },
 "nbformat": 4,
 "nbformat_minor": 5
}
