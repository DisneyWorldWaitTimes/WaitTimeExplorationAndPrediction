{
 "cells": [
  {
   "cell_type": "code",
   "execution_count": 2,
   "metadata": {},
   "outputs": [
    {
     "ename": "FileNotFoundError",
     "evalue": "[WinError 3] The system cannot find the path specified: '/home/jovyan/work/resources'",
     "output_type": "error",
     "traceback": [
      "\u001b[1;31m---------------------------------------------------------------------------\u001b[0m",
      "\u001b[1;31mFileNotFoundError\u001b[0m                         Traceback (most recent call last)",
      "\u001b[1;32m<ipython-input-2-dd1c80ed0153>\u001b[0m in \u001b[0;36m<module>\u001b[1;34m\u001b[0m\n\u001b[0;32m      1\u001b[0m \u001b[1;32mimport\u001b[0m \u001b[0mglob\u001b[0m\u001b[1;33m,\u001b[0m \u001b[0mos\u001b[0m\u001b[1;33m\u001b[0m\u001b[1;33m\u001b[0m\u001b[0m\n\u001b[1;32m----> 2\u001b[1;33m \u001b[0mos\u001b[0m\u001b[1;33m.\u001b[0m\u001b[0mchdir\u001b[0m\u001b[1;33m(\u001b[0m\u001b[1;34m\"/home/jovyan/work/resources\"\u001b[0m\u001b[1;33m)\u001b[0m\u001b[1;33m\u001b[0m\u001b[1;33m\u001b[0m\u001b[0m\n\u001b[0m\u001b[0;32m      3\u001b[0m \u001b[1;32mfor\u001b[0m \u001b[0mfile\u001b[0m \u001b[1;32min\u001b[0m \u001b[0mglob\u001b[0m\u001b[1;33m.\u001b[0m\u001b[0mglob\u001b[0m\u001b[1;33m(\u001b[0m\u001b[1;34m\"*.csv\"\u001b[0m\u001b[1;33m)\u001b[0m\u001b[1;33m:\u001b[0m\u001b[1;33m\u001b[0m\u001b[1;33m\u001b[0m\u001b[0m\n\u001b[0;32m      4\u001b[0m     \u001b[0mprint\u001b[0m\u001b[1;33m(\u001b[0m\u001b[0mfile\u001b[0m\u001b[1;33m)\u001b[0m\u001b[1;33m\u001b[0m\u001b[1;33m\u001b[0m\u001b[0m\n",
      "\u001b[1;31mFileNotFoundError\u001b[0m: [WinError 3] The system cannot find the path specified: '/home/jovyan/work/resources'"
     ]
    }
   ],
   "source": [
    "import glob, os\n",
    "os.chdir(\"/home/jovyan/work/resources\")\n",
    "for file in glob.glob(\"*.csv\"):\n",
    "    print(file)"
   ]
  },
  {
   "cell_type": "code",
   "execution_count": 5,
   "metadata": {},
   "outputs": [],
   "source": [
    "import pandas as pd\n",
    "doc = pd.DataFrame\n",
    "for file in glob.glob(\"*.csv\"):\n",
    "    if doc.empty:\n",
    "        doc = pd.read_csv(file)\n",
    "        doc['ride'] = file\n",
    "    else:\n",
    "        doc1 = pd.read_csv(file)\n",
    "        doc1['ride'] = file\n",
    "        doc = pd.concat([doc,doc1],ignore_index = True)"
   ]
  },
  {
   "cell_type": "code",
   "execution_count": 4,
   "metadata": {},
   "outputs": [
    {
     "ename": "AttributeError",
     "evalue": "type object 'DataFrame' has no attribute 'ride'",
     "output_type": "error",
     "traceback": [
      "\u001b[1;31m---------------------------------------------------------------------------\u001b[0m",
      "\u001b[1;31mAttributeError\u001b[0m                            Traceback (most recent call last)",
      "\u001b[1;32m<ipython-input-4-1c0adcac9466>\u001b[0m in \u001b[0;36m<module>\u001b[1;34m\u001b[0m\n\u001b[1;32m----> 1\u001b[1;33m \u001b[0mdoc\u001b[0m\u001b[1;33m.\u001b[0m\u001b[0mride\u001b[0m\u001b[1;33m.\u001b[0m\u001b[0munique\u001b[0m\u001b[1;33m(\u001b[0m\u001b[1;33m)\u001b[0m\u001b[1;33m\u001b[0m\u001b[1;33m\u001b[0m\u001b[0m\n\u001b[0m",
      "\u001b[1;31mAttributeError\u001b[0m: type object 'DataFrame' has no attribute 'ride'"
     ]
    }
   ],
   "source": [
    "doc.ride.unique()"
   ]
  },
  {
   "cell_type": "code",
   "execution_count": 4,
   "metadata": {},
   "outputs": [
    {
     "data": {
      "text/html": [
       "<div>\n",
       "<style scoped>\n",
       "    .dataframe tbody tr th:only-of-type {\n",
       "        vertical-align: middle;\n",
       "    }\n",
       "\n",
       "    .dataframe tbody tr th {\n",
       "        vertical-align: top;\n",
       "    }\n",
       "\n",
       "    .dataframe thead th {\n",
       "        text-align: right;\n",
       "    }\n",
       "</style>\n",
       "<table border=\"1\" class=\"dataframe\">\n",
       "  <thead>\n",
       "    <tr style=\"text-align: right;\">\n",
       "      <th></th>\n",
       "      <th>date</th>\n",
       "      <th>datetime</th>\n",
       "      <th>SACTMIN</th>\n",
       "      <th>SPOSTMIN</th>\n",
       "      <th>ride</th>\n",
       "    </tr>\n",
       "  </thead>\n",
       "  <tbody>\n",
       "    <tr>\n",
       "      <th>0</th>\n",
       "      <td>01/01/2015</td>\n",
       "      <td>2015-01-01 07:12:26</td>\n",
       "      <td>NaN</td>\n",
       "      <td>10.0</td>\n",
       "      <td>space_mountain.csv</td>\n",
       "    </tr>\n",
       "    <tr>\n",
       "      <th>1</th>\n",
       "      <td>01/01/2015</td>\n",
       "      <td>2015-01-01 07:12:45</td>\n",
       "      <td>6.0</td>\n",
       "      <td>NaN</td>\n",
       "      <td>space_mountain.csv</td>\n",
       "    </tr>\n",
       "    <tr>\n",
       "      <th>2</th>\n",
       "      <td>01/01/2015</td>\n",
       "      <td>2015-01-01 07:16:12</td>\n",
       "      <td>NaN</td>\n",
       "      <td>10.0</td>\n",
       "      <td>space_mountain.csv</td>\n",
       "    </tr>\n",
       "    <tr>\n",
       "      <th>3</th>\n",
       "      <td>01/01/2015</td>\n",
       "      <td>2015-01-01 07:23:12</td>\n",
       "      <td>NaN</td>\n",
       "      <td>10.0</td>\n",
       "      <td>space_mountain.csv</td>\n",
       "    </tr>\n",
       "    <tr>\n",
       "      <th>4</th>\n",
       "      <td>01/01/2015</td>\n",
       "      <td>2015-01-01 07:29:12</td>\n",
       "      <td>NaN</td>\n",
       "      <td>10.0</td>\n",
       "      <td>space_mountain.csv</td>\n",
       "    </tr>\n",
       "    <tr>\n",
       "      <th>...</th>\n",
       "      <td>...</td>\n",
       "      <td>...</td>\n",
       "      <td>...</td>\n",
       "      <td>...</td>\n",
       "      <td>...</td>\n",
       "    </tr>\n",
       "    <tr>\n",
       "      <th>5654844</th>\n",
       "      <td>12/28/2021</td>\n",
       "      <td>2021-12-28 22:35:34</td>\n",
       "      <td>NaN</td>\n",
       "      <td>15.0</td>\n",
       "      <td>splash_mountain.csv</td>\n",
       "    </tr>\n",
       "    <tr>\n",
       "      <th>5654845</th>\n",
       "      <td>12/28/2021</td>\n",
       "      <td>2021-12-28 22:42:15</td>\n",
       "      <td>NaN</td>\n",
       "      <td>15.0</td>\n",
       "      <td>splash_mountain.csv</td>\n",
       "    </tr>\n",
       "    <tr>\n",
       "      <th>5654846</th>\n",
       "      <td>12/28/2021</td>\n",
       "      <td>2021-12-28 22:48:12</td>\n",
       "      <td>NaN</td>\n",
       "      <td>15.0</td>\n",
       "      <td>splash_mountain.csv</td>\n",
       "    </tr>\n",
       "    <tr>\n",
       "      <th>5654847</th>\n",
       "      <td>12/28/2021</td>\n",
       "      <td>2021-12-28 22:54:10</td>\n",
       "      <td>NaN</td>\n",
       "      <td>15.0</td>\n",
       "      <td>splash_mountain.csv</td>\n",
       "    </tr>\n",
       "    <tr>\n",
       "      <th>5654848</th>\n",
       "      <td>12/28/2021</td>\n",
       "      <td>2021-12-28 23:00:27</td>\n",
       "      <td>NaN</td>\n",
       "      <td>15.0</td>\n",
       "      <td>splash_mountain.csv</td>\n",
       "    </tr>\n",
       "  </tbody>\n",
       "</table>\n",
       "<p>5654849 rows × 5 columns</p>\n",
       "</div>"
      ],
      "text/plain": [
       "               date             datetime  SACTMIN  SPOSTMIN  \\\n",
       "0        01/01/2015  2015-01-01 07:12:26      NaN      10.0   \n",
       "1        01/01/2015  2015-01-01 07:12:45      6.0       NaN   \n",
       "2        01/01/2015  2015-01-01 07:16:12      NaN      10.0   \n",
       "3        01/01/2015  2015-01-01 07:23:12      NaN      10.0   \n",
       "4        01/01/2015  2015-01-01 07:29:12      NaN      10.0   \n",
       "...             ...                  ...      ...       ...   \n",
       "5654844  12/28/2021  2021-12-28 22:35:34      NaN      15.0   \n",
       "5654845  12/28/2021  2021-12-28 22:42:15      NaN      15.0   \n",
       "5654846  12/28/2021  2021-12-28 22:48:12      NaN      15.0   \n",
       "5654847  12/28/2021  2021-12-28 22:54:10      NaN      15.0   \n",
       "5654848  12/28/2021  2021-12-28 23:00:27      NaN      15.0   \n",
       "\n",
       "                        ride  \n",
       "0         space_mountain.csv  \n",
       "1         space_mountain.csv  \n",
       "2         space_mountain.csv  \n",
       "3         space_mountain.csv  \n",
       "4         space_mountain.csv  \n",
       "...                      ...  \n",
       "5654844  splash_mountain.csv  \n",
       "5654845  splash_mountain.csv  \n",
       "5654846  splash_mountain.csv  \n",
       "5654847  splash_mountain.csv  \n",
       "5654848  splash_mountain.csv  \n",
       "\n",
       "[5654849 rows x 5 columns]"
      ]
     },
     "execution_count": 4,
     "metadata": {},
     "output_type": "execute_result"
    }
   ],
   "source": [
    "doc"
   ]
  },
  {
   "cell_type": "code",
   "execution_count": 5,
   "metadata": {},
   "outputs": [],
   "source": [
    "doc.to_csv(\"/home/jovyan/work/resources/combined_rides.csv\")"
   ]
  },
  {
   "cell_type": "code",
   "execution_count": null,
   "metadata": {},
   "outputs": [],
   "source": []
  }
 ],
 "metadata": {
  "kernelspec": {
   "display_name": "Python 3",
   "language": "python",
   "name": "python3"
  },
  "language_info": {
   "codemirror_mode": {
    "name": "ipython",
    "version": 3
   },
   "file_extension": ".py",
   "mimetype": "text/x-python",
   "name": "python",
   "nbconvert_exporter": "python",
   "pygments_lexer": "ipython3",
   "version": "3.7.3"
  }
 },
 "nbformat": 4,
 "nbformat_minor": 5
}
