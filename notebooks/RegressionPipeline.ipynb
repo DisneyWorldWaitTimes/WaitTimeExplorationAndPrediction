{
 "cells": [
  {
   "cell_type": "code",
   "execution_count": 17,
   "id": "c3588541-6d10-4417-a9f0-9abaa0e2e35e",
   "metadata": {},
   "outputs": [],
   "source": [
    "import warnings\n",
    "warnings.filterwarnings('ignore')\n",
    "\n",
    "import swifter\n",
    "import importlib.util\n",
    "from sklearn.preprocessing import RobustScaler, FunctionTransformer\n",
    "from sklearn.compose import make_column_selector as selector, ColumnTransformer, make_column_transformer\n",
    "from sklearn.compose import ColumnTransformer\n",
    "from sklearn.feature_selection import VarianceThreshold\n",
    "from sklearn.pipeline import Pipeline\n",
    "from sklearn.ensemble import RandomForestRegressor\n",
    "from sklearn import metrics\n",
    "\n",
    "\n",
    "\n",
    "import pandas as pd\n",
    "import numpy as np\n",
    "from scipy.stats import skew"
   ]
  },
  {
   "cell_type": "code",
   "execution_count": 2,
   "id": "c531a0eb-a6a7-4852-9ee3-ef41d71967ba",
   "metadata": {},
   "outputs": [],
   "source": [
    "parse_times = [\"MKOPEN\", \"MKCLOSE\", \"MKEMHOPEN\", \"MKEMHCLOSE\",\n",
    "               \"MKOPENYEST\", \"MKCLOSEYEST\", \"MKOPENTOM\",\n",
    "               \"MKCLOSETOM\",\"EPOPEN\", \"EPCLOSE\", \"EPEMHOPEN\",\n",
    "               \"EPEMHCLOSE\", \"EPOPENYEST\", \"EPCLOSEYEST\",\n",
    "               \"EPOPENTOM\", \"EPCLOSETOM\", \"HSOPEN\", \"HSCLOSE\",\n",
    "               \"HSEMHOPEN\", \"HSEMHCLOSE\", \"HSOPENYEST\", \"HSCLOSEYEST\",\n",
    "               \"HSOPENTOM\", \"HSCLOSETOM\", \"AKOPEN\", \"AKCLOSE\",\n",
    "               \"AKEMHOPEN\", \"AKOPENYEST\", \"AKCLOSEYEST\",\"AKEMHCLOSE\",\n",
    "               \"AKOPENTOM\", \"AKCLOSETOM\", \"MKPRDDT1\", \"MKPRDDT2\",\n",
    "               \"MKPRDNT1\", \"MKPRDNT2\", \"MKFIRET1\", \"MKFIRET2\",\n",
    "               \"EPFIRET1\", \"EPFIRET2\", \"HSPRDDT1\", \"HSFIRET1\",\n",
    "               \"HSFIRET2\", \"HSSHWNT1\", \"HSSHWNT2\", \"AKPRDDT1\",\n",
    "               \"AKPRDDT2\", \"AKSHWNT1\", \"AKSHWNT2\"]"
   ]
  },
  {
   "cell_type": "code",
   "execution_count": 3,
   "id": "ee7815b7-a29c-40be-8c4b-68ab5290896f",
   "metadata": {},
   "outputs": [],
   "source": [
    "# specify the module that needs to be\n",
    "# imported relative to the path of the\n",
    "# module\n",
    "spec = importlib.util.spec_from_file_location(\"loadTrainTestPostedWaitTimes\", \"../src/data/loadTrainTestData.py\")\n",
    "\n",
    "# creates a new module based on spec\n",
    "loadTrainPosted = importlib.util.module_from_spec(spec)\n",
    "\n",
    "# executes the module in its own namespace\n",
    "# when a module is imported or reloaded.\n",
    "spec.loader.exec_module(loadTrainPosted)\n",
    "\n",
    "X_train, X_test, y_train, y_test = loadTrainPosted.loadTrainTestPostedWaitTimes()"
   ]
  },
  {
   "cell_type": "code",
   "execution_count": 4,
   "id": "96dcf7a5-43a8-4bf6-ad92-3a8dd258edac",
   "metadata": {},
   "outputs": [],
   "source": [
    "X_train[\"MONTHOFYEAR\"] = X_train[\"date\"].dt.month.astype(\"Int8\")\n",
    "X_train[\"YEAR\"] = X_train[\"date\"].dt.year.astype(\"Int16\")\n",
    "X_train[\"DAYOFYEAR\"] = X_train[\"date\"].dt.dayofyear.astype(\"Int16\")\n",
    "X_train[\"HOUROFDAY\"] = X_train[\"datetime\"].dt.hour.astype(\"Int8\")\n",
    "\n",
    "X_test[\"MONTHOFYEAR\"] = X_test[\"date\"].dt.month.astype(\"Int8\")\n",
    "X_test[\"YEAR\"] = X_test[\"date\"].dt.year.astype(\"Int16\")\n",
    "X_test[\"DAYOFYEAR\"] = X_test[\"date\"].dt.dayofyear.astype(\"Int16\")\n",
    "X_test[\"HOUROFDAY\"] = X_test[\"datetime\"].dt.hour.astype(\"Int8\")"
   ]
  },
  {
   "cell_type": "code",
   "execution_count": 5,
   "id": "9d6e6c5c-94a9-4913-81b5-19d8960cd016",
   "metadata": {},
   "outputs": [],
   "source": [
    "train = pd.concat([X_train, y_train], axis=1).sort_values(['datetime'])\n",
    "test = pd.concat([X_test, y_test], axis=1).sort_values(['datetime'])\n",
    "\n",
    "X_train_impute = train.drop(columns=[\"POSTED_WAIT\"])\n",
    "y_train = train[\"POSTED_WAIT\"]\n",
    "\n",
    "X_test_impute = test.drop(columns=[\"POSTED_WAIT\"])\n",
    "y_test = test[\"POSTED_WAIT\"]"
   ]
  },
  {
   "cell_type": "code",
   "execution_count": 12,
   "id": "12a6a77f-d336-4757-a862-99a9d615e197",
   "metadata": {},
   "outputs": [],
   "source": [
    "X_train_clean = X_train_impute.drop(columns=['date', 'datetime', 'Unnamed: 0'])\n",
    "X_test_clean = X_test_impute.drop(columns=['date', 'datetime', 'Unnamed: 0'])"
   ]
  },
  {
   "cell_type": "markdown",
   "id": "ef7617c4-1856-4334-8d3c-7d7c6c26edb3",
   "metadata": {},
   "source": [
    "# Column Transformer"
   ]
  },
  {
   "cell_type": "code",
   "execution_count": 13,
   "id": "4255a352-bcd9-4cb1-ac7b-90465111837d",
   "metadata": {},
   "outputs": [],
   "source": [
    "allCols = list(X_train_clean.columns)\n",
    "\n",
    "def imputeTransform(x):\n",
    "    for col in x:\n",
    "        print(col)\n",
    "        if col in parse_times:\n",
    "            x[col] = x[col].fillna(\"99\")\n",
    "            x[col] = x[col].apply(lambda h: h[:2] if h[0]!=0 else h[:1]).astype(int).astype(\"Int8\")\n",
    "            \n",
    "        x[col] = x[col].fillna(method ='bfill')\n",
    "        x[col] = x[col].fillna(x[col].median())\n",
    "    \n",
    "            \n",
    "        if (x[col].dtype != \"bool\") and (abs(skew(list(x[col]))) > 0.8):\n",
    "            x[f\"log_{col}\"] = x[col].swifter.apply(lambda k: np.log(k+20)) # +20 linear scale on all values to ensure no resulting -inf vals\n",
    "            x.drop(columns=[col], inplace=True)\n",
    "    return x\n",
    "\n",
    "preprocessor = make_column_transformer(\n",
    "      (VarianceThreshold(threshold=0.001), selector(dtype_include=\"bool\")),\n",
    "      (RobustScaler(), selector(dtype_include=np.number)), remainder='passthrough')\n",
    "\n",
    "\n",
    "clf = Pipeline(\n",
    "    steps=[(\"imputerAndLogTransformer\", FunctionTransformer(imputeTransform)),\n",
    "           (\"preprocessor\", preprocessor), \n",
    "           (\"regressor\", RandomForestRegressor(n_estimators=50, max_depth=50, n_jobs=-1, random_state=0))]\n",
    ")"
   ]
  },
  {
   "cell_type": "code",
   "execution_count": 14,
   "id": "8f6bae3b-ae8b-41ea-9734-cd97e52dc50c",
   "metadata": {},
   "outputs": [
    {
     "name": "stdout",
     "output_type": "stream",
     "text": [
      "Ride_type_thrill\n",
      "Ride_type_spinning\n",
      "Ride_type_slow\n",
      "Ride_type_small_drops\n",
      "Ride_type_big_drops\n",
      "Ride_type_dark\n",
      "Fast_pass\n",
      "Classic\n",
      "Age_interest_preschoolers\n",
      "Age_interest_tweens\n",
      "Age_interest_teens\n",
      "Age_interest_adults\n",
      "Height_req_inches\n",
      "Ride_duration_min\n",
      "Age_of_ride_days\n",
      "Age_of_ride_years\n",
      "TL_rank\n",
      "TA_Stars\n",
      "DAYOFWEEK\n",
      "DAYOFYEAR\n",
      "WEEKOFYEAR\n",
      "MONTHOFYEAR\n",
      "YEAR\n",
      "HOLIDAYPX\n"
     ]
    },
    {
     "data": {
      "application/vnd.jupyter.widget-view+json": {
       "model_id": "781f7843a56949a1ab366c6828a2f185",
       "version_major": 2,
       "version_minor": 0
      },
      "text/plain": [
       "Dask Apply:   0%|          | 0/64 [00:00<?, ?it/s]"
      ]
     },
     "metadata": {},
     "output_type": "display_data"
    },
    {
     "name": "stdout",
     "output_type": "stream",
     "text": [
      "HOLIDAYM\n"
     ]
    },
    {
     "data": {
      "application/vnd.jupyter.widget-view+json": {
       "model_id": "c3f81f13ade0486ab2316d2b229b696e",
       "version_major": 2,
       "version_minor": 0
      },
      "text/plain": [
       "Dask Apply:   0%|          | 0/64 [00:00<?, ?it/s]"
      ]
     },
     "metadata": {},
     "output_type": "display_data"
    },
    {
     "name": "stdout",
     "output_type": "stream",
     "text": [
      "HOLIDAY\n",
      "WDWevent\n",
      "WDWMAXTEMP\n",
      "WDWMINTEMP\n",
      "WDWMEANTEMP\n",
      "MKevent\n",
      "EPevent\n",
      "HSevent\n",
      "inSession\n"
     ]
    },
    {
     "data": {
      "application/vnd.jupyter.widget-view+json": {
       "model_id": "61d185dd193f4992802b6aaadf49d604",
       "version_major": 2,
       "version_minor": 0
      },
      "text/plain": [
       "Dask Apply:   0%|          | 0/64 [00:00<?, ?it/s]"
      ]
     },
     "metadata": {},
     "output_type": "display_data"
    },
    {
     "name": "stdout",
     "output_type": "stream",
     "text": [
      "inSession_Enrollment\n"
     ]
    },
    {
     "data": {
      "application/vnd.jupyter.widget-view+json": {
       "model_id": "d282a8f418f540b6b273f9947ea72e4f",
       "version_major": 2,
       "version_minor": 0
      },
      "text/plain": [
       "Dask Apply:   0%|          | 0/64 [00:00<?, ?it/s]"
      ]
     },
     "metadata": {},
     "output_type": "display_data"
    },
    {
     "name": "stdout",
     "output_type": "stream",
     "text": [
      "inSession_wdw\n"
     ]
    },
    {
     "data": {
      "application/vnd.jupyter.widget-view+json": {
       "model_id": "d6ecc76a26a6416299c15659ee007a62",
       "version_major": 2,
       "version_minor": 0
      },
      "text/plain": [
       "Dask Apply:   0%|          | 0/64 [00:00<?, ?it/s]"
      ]
     },
     "metadata": {},
     "output_type": "display_data"
    },
    {
     "name": "stdout",
     "output_type": "stream",
     "text": [
      "inSession_dlr\n"
     ]
    },
    {
     "data": {
      "application/vnd.jupyter.widget-view+json": {
       "model_id": "8c9b26eff9c4491f8d3f661c8995d041",
       "version_major": 2,
       "version_minor": 0
      },
      "text/plain": [
       "Dask Apply:   0%|          | 0/64 [00:00<?, ?it/s]"
      ]
     },
     "metadata": {},
     "output_type": "display_data"
    },
    {
     "name": "stdout",
     "output_type": "stream",
     "text": [
      "inSession_sqrt_WDW\n"
     ]
    },
    {
     "data": {
      "application/vnd.jupyter.widget-view+json": {
       "model_id": "55c7e2dbea3746798d7e917357f251c1",
       "version_major": 2,
       "version_minor": 0
      },
      "text/plain": [
       "Dask Apply:   0%|          | 0/64 [00:00<?, ?it/s]"
      ]
     },
     "metadata": {},
     "output_type": "display_data"
    },
    {
     "name": "stdout",
     "output_type": "stream",
     "text": [
      "inSession_sqrt_DLR\n"
     ]
    },
    {
     "data": {
      "application/vnd.jupyter.widget-view+json": {
       "model_id": "f083152c9dea47cc82fdbea3a7555301",
       "version_major": 2,
       "version_minor": 0
      },
      "text/plain": [
       "Dask Apply:   0%|          | 0/64 [00:00<?, ?it/s]"
      ]
     },
     "metadata": {},
     "output_type": "display_data"
    },
    {
     "name": "stdout",
     "output_type": "stream",
     "text": [
      "inSession_California\n"
     ]
    },
    {
     "data": {
      "application/vnd.jupyter.widget-view+json": {
       "model_id": "813e3a3dc4ce4c60bd551b1dad2a9530",
       "version_major": 2,
       "version_minor": 0
      },
      "text/plain": [
       "Dask Apply:   0%|          | 0/64 [00:00<?, ?it/s]"
      ]
     },
     "metadata": {},
     "output_type": "display_data"
    },
    {
     "name": "stdout",
     "output_type": "stream",
     "text": [
      "inSession_DC\n"
     ]
    },
    {
     "data": {
      "application/vnd.jupyter.widget-view+json": {
       "model_id": "d5f9561b2ee54f08af37e2c9ff59fb79",
       "version_major": 2,
       "version_minor": 0
      },
      "text/plain": [
       "Dask Apply:   0%|          | 0/64 [00:00<?, ?it/s]"
      ]
     },
     "metadata": {},
     "output_type": "display_data"
    },
    {
     "name": "stdout",
     "output_type": "stream",
     "text": [
      "inSession_Central_FL\n"
     ]
    },
    {
     "data": {
      "application/vnd.jupyter.widget-view+json": {
       "model_id": "d1caa1b4d0f5423ca454f1a2f2bdbe0d",
       "version_major": 2,
       "version_minor": 0
      },
      "text/plain": [
       "Dask Apply:   0%|          | 0/64 [00:00<?, ?it/s]"
      ]
     },
     "metadata": {},
     "output_type": "display_data"
    },
    {
     "name": "stdout",
     "output_type": "stream",
     "text": [
      "inSession_Drive1_FL\n"
     ]
    },
    {
     "data": {
      "application/vnd.jupyter.widget-view+json": {
       "model_id": "e600e2ee60d4452d8274fb8ed1d8ccad",
       "version_major": 2,
       "version_minor": 0
      },
      "text/plain": [
       "Dask Apply:   0%|          | 0/64 [00:00<?, ?it/s]"
      ]
     },
     "metadata": {},
     "output_type": "display_data"
    },
    {
     "name": "stdout",
     "output_type": "stream",
     "text": [
      "inSession_Drive2_FL\n"
     ]
    },
    {
     "data": {
      "application/vnd.jupyter.widget-view+json": {
       "model_id": "966be8f85add434fa8b659fa03782e38",
       "version_major": 2,
       "version_minor": 0
      },
      "text/plain": [
       "Dask Apply:   0%|          | 0/64 [00:00<?, ?it/s]"
      ]
     },
     "metadata": {},
     "output_type": "display_data"
    },
    {
     "name": "stdout",
     "output_type": "stream",
     "text": [
      "inSession_Drive_CA\n"
     ]
    },
    {
     "data": {
      "application/vnd.jupyter.widget-view+json": {
       "model_id": "237ebc2aeb73483b96fbf105a37135d1",
       "version_major": 2,
       "version_minor": 0
      },
      "text/plain": [
       "Dask Apply:   0%|          | 0/64 [00:00<?, ?it/s]"
      ]
     },
     "metadata": {},
     "output_type": "display_data"
    },
    {
     "name": "stdout",
     "output_type": "stream",
     "text": [
      "inSession_Florida\n"
     ]
    },
    {
     "data": {
      "application/vnd.jupyter.widget-view+json": {
       "model_id": "a85f5d5d062f42369865a0180bc7a70d",
       "version_major": 2,
       "version_minor": 0
      },
      "text/plain": [
       "Dask Apply:   0%|          | 0/64 [00:00<?, ?it/s]"
      ]
     },
     "metadata": {},
     "output_type": "display_data"
    },
    {
     "name": "stdout",
     "output_type": "stream",
     "text": [
      "inSession_Mardi_Gras\n",
      "inSession_Midwest\n"
     ]
    },
    {
     "data": {
      "application/vnd.jupyter.widget-view+json": {
       "model_id": "eba8ec0c22aa436c8f73db968c588ad6",
       "version_major": 2,
       "version_minor": 0
      },
      "text/plain": [
       "Dask Apply:   0%|          | 0/64 [00:00<?, ?it/s]"
      ]
     },
     "metadata": {},
     "output_type": "display_data"
    },
    {
     "name": "stdout",
     "output_type": "stream",
     "text": [
      "inSession_NY_NJ\n"
     ]
    },
    {
     "data": {
      "application/vnd.jupyter.widget-view+json": {
       "model_id": "3101fe21c9a64916bbe9bac380e6fcc8",
       "version_major": 2,
       "version_minor": 0
      },
      "text/plain": [
       "Dask Apply:   0%|          | 0/64 [00:00<?, ?it/s]"
      ]
     },
     "metadata": {},
     "output_type": "display_data"
    },
    {
     "name": "stdout",
     "output_type": "stream",
     "text": [
      "inSession_NY_NJ_PA\n"
     ]
    },
    {
     "data": {
      "application/vnd.jupyter.widget-view+json": {
       "model_id": "4007a96bb39e43829e512cc479ff99d6",
       "version_major": 2,
       "version_minor": 0
      },
      "text/plain": [
       "Dask Apply:   0%|          | 0/64 [00:00<?, ?it/s]"
      ]
     },
     "metadata": {},
     "output_type": "display_data"
    },
    {
     "name": "stdout",
     "output_type": "stream",
     "text": [
      "inSession_New_England\n"
     ]
    },
    {
     "data": {
      "application/vnd.jupyter.widget-view+json": {
       "model_id": "6ab450fe38a14469984437ac1e3a6ded",
       "version_major": 2,
       "version_minor": 0
      },
      "text/plain": [
       "Dask Apply:   0%|          | 0/64 [00:00<?, ?it/s]"
      ]
     },
     "metadata": {},
     "output_type": "display_data"
    },
    {
     "name": "stdout",
     "output_type": "stream",
     "text": [
      "inSession_New_Jersey\n"
     ]
    },
    {
     "data": {
      "application/vnd.jupyter.widget-view+json": {
       "model_id": "63cac2b723434a8dbd13b3f80e9a3726",
       "version_major": 2,
       "version_minor": 0
      },
      "text/plain": [
       "Dask Apply:   0%|          | 0/64 [00:00<?, ?it/s]"
      ]
     },
     "metadata": {},
     "output_type": "display_data"
    },
    {
     "name": "stdout",
     "output_type": "stream",
     "text": [
      "inSession_Nothwest\n",
      "INSESSION_PLANES\n",
      "inSession_SoCal\n"
     ]
    },
    {
     "data": {
      "application/vnd.jupyter.widget-view+json": {
       "model_id": "fcc1729390034177ab2f83b3bbf2f8c8",
       "version_major": 2,
       "version_minor": 0
      },
      "text/plain": [
       "Dask Apply:   0%|          | 0/64 [00:00<?, ?it/s]"
      ]
     },
     "metadata": {},
     "output_type": "display_data"
    },
    {
     "name": "stdout",
     "output_type": "stream",
     "text": [
      "inSession_Southwest\n"
     ]
    },
    {
     "data": {
      "application/vnd.jupyter.widget-view+json": {
       "model_id": "7c759c2a1d4d48edae3e47232bdffab6",
       "version_major": 2,
       "version_minor": 0
      },
      "text/plain": [
       "Dask Apply:   0%|          | 0/64 [00:00<?, ?it/s]"
      ]
     },
     "metadata": {},
     "output_type": "display_data"
    },
    {
     "name": "stdout",
     "output_type": "stream",
     "text": [
      "MKEMHMORN\n",
      "MKEMHMYEST\n",
      "MKEMHMTOM\n",
      "MKEMHEVE\n",
      "MKHOURSEMH\n",
      "MKHOURSEMHYEST\n",
      "MKHOURSEMHTOM\n",
      "MKEMHEYEST\n",
      "MKEMHETOM\n",
      "EPEMHMORN\n",
      "EPEMHMYEST\n",
      "EPEMHMTOM\n",
      "EPEMHEVE\n",
      "EPEMHEYEST\n",
      "EPEMHETOM\n",
      "EPHOURSEMH\n",
      "EPHOURSEMHYEST\n",
      "EPHOURSEMHTOM\n",
      "HSEMHMORN\n",
      "HSEMHMYEST\n",
      "HSEMHMTOM\n",
      "HSEMHEVE\n",
      "HSEMHEYEST\n",
      "HSEMHETOM\n",
      "HSHOURSEMH\n",
      "HSHOURSEMHYEST\n",
      "HSHOURSEMHTOM\n",
      "AKEMHMORN\n",
      "AKEMHMYEST\n",
      "AKEMHMTOM\n",
      "AKHOURSEMH\n",
      "AKHOURSEMHYEST\n",
      "AKHOURSEMHTOM\n",
      "MKOPEN\n"
     ]
    },
    {
     "data": {
      "application/vnd.jupyter.widget-view+json": {
       "model_id": "7d19ceba227a486c9d1b5fd5ec27a252",
       "version_major": 2,
       "version_minor": 0
      },
      "text/plain": [
       "Dask Apply:   0%|          | 0/64 [00:00<?, ?it/s]"
      ]
     },
     "metadata": {},
     "output_type": "display_data"
    },
    {
     "name": "stdout",
     "output_type": "stream",
     "text": [
      "MKCLOSE\n"
     ]
    },
    {
     "data": {
      "application/vnd.jupyter.widget-view+json": {
       "model_id": "7aae8267a7fd4c22af508d817aef4ef4",
       "version_major": 2,
       "version_minor": 0
      },
      "text/plain": [
       "Dask Apply:   0%|          | 0/64 [00:00<?, ?it/s]"
      ]
     },
     "metadata": {},
     "output_type": "display_data"
    },
    {
     "name": "stdout",
     "output_type": "stream",
     "text": [
      "MKHOURS\n",
      "MKEMHOPEN\n",
      "MKEMHCLOSE\n",
      "MKOPENYEST\n"
     ]
    },
    {
     "data": {
      "application/vnd.jupyter.widget-view+json": {
       "model_id": "699fa74f787d4638974d248d237462c1",
       "version_major": 2,
       "version_minor": 0
      },
      "text/plain": [
       "Dask Apply:   0%|          | 0/64 [00:00<?, ?it/s]"
      ]
     },
     "metadata": {},
     "output_type": "display_data"
    },
    {
     "name": "stdout",
     "output_type": "stream",
     "text": [
      "MKCLOSEYEST\n"
     ]
    },
    {
     "data": {
      "application/vnd.jupyter.widget-view+json": {
       "model_id": "4a31ceff18e54c0296fcb989f2a62d19",
       "version_major": 2,
       "version_minor": 0
      },
      "text/plain": [
       "Dask Apply:   0%|          | 0/64 [00:00<?, ?it/s]"
      ]
     },
     "metadata": {},
     "output_type": "display_data"
    },
    {
     "name": "stdout",
     "output_type": "stream",
     "text": [
      "MKHOURSYEST\n",
      "MKOPENTOM\n"
     ]
    },
    {
     "data": {
      "application/vnd.jupyter.widget-view+json": {
       "model_id": "9b58b8d002c2404c9f04ae48d32ab148",
       "version_major": 2,
       "version_minor": 0
      },
      "text/plain": [
       "Dask Apply:   0%|          | 0/64 [00:00<?, ?it/s]"
      ]
     },
     "metadata": {},
     "output_type": "display_data"
    },
    {
     "name": "stdout",
     "output_type": "stream",
     "text": [
      "MKCLOSETOM\n"
     ]
    },
    {
     "data": {
      "application/vnd.jupyter.widget-view+json": {
       "model_id": "3c359ff240f9431da7aec53ba5ff780d",
       "version_major": 2,
       "version_minor": 0
      },
      "text/plain": [
       "Dask Apply:   0%|          | 0/64 [00:00<?, ?it/s]"
      ]
     },
     "metadata": {},
     "output_type": "display_data"
    },
    {
     "name": "stdout",
     "output_type": "stream",
     "text": [
      "MKHOURSTOM\n",
      "EPOPEN\n"
     ]
    },
    {
     "data": {
      "application/vnd.jupyter.widget-view+json": {
       "model_id": "d11ec4a4a2734accbe6abbd882f8fc61",
       "version_major": 2,
       "version_minor": 0
      },
      "text/plain": [
       "Dask Apply:   0%|          | 0/64 [00:00<?, ?it/s]"
      ]
     },
     "metadata": {},
     "output_type": "display_data"
    },
    {
     "name": "stdout",
     "output_type": "stream",
     "text": [
      "EPCLOSE\n"
     ]
    },
    {
     "data": {
      "application/vnd.jupyter.widget-view+json": {
       "model_id": "ad24a3523ff74023baf95410c87f2b74",
       "version_major": 2,
       "version_minor": 0
      },
      "text/plain": [
       "Dask Apply:   0%|          | 0/64 [00:00<?, ?it/s]"
      ]
     },
     "metadata": {},
     "output_type": "display_data"
    },
    {
     "name": "stdout",
     "output_type": "stream",
     "text": [
      "EPHOURS\n",
      "EPEMHOPEN\n"
     ]
    },
    {
     "data": {
      "application/vnd.jupyter.widget-view+json": {
       "model_id": "c51be7557ad64a2880d23d35b508d778",
       "version_major": 2,
       "version_minor": 0
      },
      "text/plain": [
       "Dask Apply:   0%|          | 0/64 [00:00<?, ?it/s]"
      ]
     },
     "metadata": {},
     "output_type": "display_data"
    },
    {
     "name": "stdout",
     "output_type": "stream",
     "text": [
      "EPEMHCLOSE\n"
     ]
    },
    {
     "data": {
      "application/vnd.jupyter.widget-view+json": {
       "model_id": "508606aaf3f44301a83ff3831a337c84",
       "version_major": 2,
       "version_minor": 0
      },
      "text/plain": [
       "Dask Apply:   0%|          | 0/64 [00:00<?, ?it/s]"
      ]
     },
     "metadata": {},
     "output_type": "display_data"
    },
    {
     "name": "stdout",
     "output_type": "stream",
     "text": [
      "EPOPENYEST\n"
     ]
    },
    {
     "data": {
      "application/vnd.jupyter.widget-view+json": {
       "model_id": "dbafcfd3aec540c09bf697c55c6ddf8e",
       "version_major": 2,
       "version_minor": 0
      },
      "text/plain": [
       "Dask Apply:   0%|          | 0/64 [00:00<?, ?it/s]"
      ]
     },
     "metadata": {},
     "output_type": "display_data"
    },
    {
     "name": "stdout",
     "output_type": "stream",
     "text": [
      "EPCLOSEYEST\n"
     ]
    },
    {
     "data": {
      "application/vnd.jupyter.widget-view+json": {
       "model_id": "42b285a45e0f44ec866e5ff349375ffc",
       "version_major": 2,
       "version_minor": 0
      },
      "text/plain": [
       "Dask Apply:   0%|          | 0/64 [00:00<?, ?it/s]"
      ]
     },
     "metadata": {},
     "output_type": "display_data"
    },
    {
     "name": "stdout",
     "output_type": "stream",
     "text": [
      "EPHOURSYEST\n",
      "EPOPENTOM\n"
     ]
    },
    {
     "data": {
      "application/vnd.jupyter.widget-view+json": {
       "model_id": "7db2aea5e247484880aefacb4051ee6e",
       "version_major": 2,
       "version_minor": 0
      },
      "text/plain": [
       "Dask Apply:   0%|          | 0/64 [00:00<?, ?it/s]"
      ]
     },
     "metadata": {},
     "output_type": "display_data"
    },
    {
     "name": "stdout",
     "output_type": "stream",
     "text": [
      "EPCLOSETOM\n"
     ]
    },
    {
     "data": {
      "application/vnd.jupyter.widget-view+json": {
       "model_id": "af60a0bce9ae4e30aba4aad6f0502881",
       "version_major": 2,
       "version_minor": 0
      },
      "text/plain": [
       "Dask Apply:   0%|          | 0/64 [00:00<?, ?it/s]"
      ]
     },
     "metadata": {},
     "output_type": "display_data"
    },
    {
     "name": "stdout",
     "output_type": "stream",
     "text": [
      "EPHOURSTOM\n",
      "HSOPEN\n"
     ]
    },
    {
     "data": {
      "application/vnd.jupyter.widget-view+json": {
       "model_id": "286b82e6ebb64dd786680064f115b28f",
       "version_major": 2,
       "version_minor": 0
      },
      "text/plain": [
       "Dask Apply:   0%|          | 0/64 [00:00<?, ?it/s]"
      ]
     },
     "metadata": {},
     "output_type": "display_data"
    },
    {
     "name": "stdout",
     "output_type": "stream",
     "text": [
      "HSCLOSE\n"
     ]
    },
    {
     "data": {
      "application/vnd.jupyter.widget-view+json": {
       "model_id": "3d2a0abd26a54f20950f5680de638b37",
       "version_major": 2,
       "version_minor": 0
      },
      "text/plain": [
       "Dask Apply:   0%|          | 0/64 [00:00<?, ?it/s]"
      ]
     },
     "metadata": {},
     "output_type": "display_data"
    },
    {
     "name": "stdout",
     "output_type": "stream",
     "text": [
      "HSHOURS\n",
      "HSEMHOPEN\n"
     ]
    },
    {
     "data": {
      "application/vnd.jupyter.widget-view+json": {
       "model_id": "9f6dc6ef576f43dbbe5a3aabb1da7a90",
       "version_major": 2,
       "version_minor": 0
      },
      "text/plain": [
       "Dask Apply:   0%|          | 0/64 [00:00<?, ?it/s]"
      ]
     },
     "metadata": {},
     "output_type": "display_data"
    },
    {
     "name": "stdout",
     "output_type": "stream",
     "text": [
      "HSEMHCLOSE\n"
     ]
    },
    {
     "data": {
      "application/vnd.jupyter.widget-view+json": {
       "model_id": "42da68166bbe424ab9a059fe2cb91226",
       "version_major": 2,
       "version_minor": 0
      },
      "text/plain": [
       "Dask Apply:   0%|          | 0/64 [00:00<?, ?it/s]"
      ]
     },
     "metadata": {},
     "output_type": "display_data"
    },
    {
     "name": "stdout",
     "output_type": "stream",
     "text": [
      "HSOPENYEST\n"
     ]
    },
    {
     "data": {
      "application/vnd.jupyter.widget-view+json": {
       "model_id": "7adb27be52dc4b78ba96f7aa5772491b",
       "version_major": 2,
       "version_minor": 0
      },
      "text/plain": [
       "Dask Apply:   0%|          | 0/64 [00:00<?, ?it/s]"
      ]
     },
     "metadata": {},
     "output_type": "display_data"
    },
    {
     "name": "stdout",
     "output_type": "stream",
     "text": [
      "HSCLOSEYEST\n"
     ]
    },
    {
     "data": {
      "application/vnd.jupyter.widget-view+json": {
       "model_id": "444aa5fce9ec402e8d5615dbaa7d9d15",
       "version_major": 2,
       "version_minor": 0
      },
      "text/plain": [
       "Dask Apply:   0%|          | 0/64 [00:00<?, ?it/s]"
      ]
     },
     "metadata": {},
     "output_type": "display_data"
    },
    {
     "name": "stdout",
     "output_type": "stream",
     "text": [
      "HSHOURSYEST\n",
      "HSOPENTOM\n"
     ]
    },
    {
     "data": {
      "application/vnd.jupyter.widget-view+json": {
       "model_id": "066a096d155f4671b109d1fc9ccdea6a",
       "version_major": 2,
       "version_minor": 0
      },
      "text/plain": [
       "Dask Apply:   0%|          | 0/64 [00:00<?, ?it/s]"
      ]
     },
     "metadata": {},
     "output_type": "display_data"
    },
    {
     "name": "stdout",
     "output_type": "stream",
     "text": [
      "HSCLOSETOM\n"
     ]
    },
    {
     "data": {
      "application/vnd.jupyter.widget-view+json": {
       "model_id": "e07b1e20c29541368d9f987131803e4f",
       "version_major": 2,
       "version_minor": 0
      },
      "text/plain": [
       "Dask Apply:   0%|          | 0/64 [00:00<?, ?it/s]"
      ]
     },
     "metadata": {},
     "output_type": "display_data"
    },
    {
     "name": "stdout",
     "output_type": "stream",
     "text": [
      "HSHOURSTOM\n",
      "AKOPEN\n"
     ]
    },
    {
     "data": {
      "application/vnd.jupyter.widget-view+json": {
       "model_id": "5a41a26151d64801bc0f20e3b5a75df7",
       "version_major": 2,
       "version_minor": 0
      },
      "text/plain": [
       "Dask Apply:   0%|          | 0/64 [00:00<?, ?it/s]"
      ]
     },
     "metadata": {},
     "output_type": "display_data"
    },
    {
     "name": "stdout",
     "output_type": "stream",
     "text": [
      "AKCLOSE\n"
     ]
    },
    {
     "data": {
      "application/vnd.jupyter.widget-view+json": {
       "model_id": "d4310627e4834e9287b45f5af1b55154",
       "version_major": 2,
       "version_minor": 0
      },
      "text/plain": [
       "Dask Apply:   0%|          | 0/64 [00:00<?, ?it/s]"
      ]
     },
     "metadata": {},
     "output_type": "display_data"
    },
    {
     "name": "stdout",
     "output_type": "stream",
     "text": [
      "AKHOURS\n",
      "AKEMHOPEN\n",
      "AKEMHCLOSE\n",
      "AKOPENYEST\n"
     ]
    },
    {
     "data": {
      "application/vnd.jupyter.widget-view+json": {
       "model_id": "5c405be182624d15a02e615102a7657e",
       "version_major": 2,
       "version_minor": 0
      },
      "text/plain": [
       "Dask Apply:   0%|          | 0/64 [00:00<?, ?it/s]"
      ]
     },
     "metadata": {},
     "output_type": "display_data"
    },
    {
     "name": "stdout",
     "output_type": "stream",
     "text": [
      "AKCLOSEYEST\n"
     ]
    },
    {
     "data": {
      "application/vnd.jupyter.widget-view+json": {
       "model_id": "da4b889896654819b3495f8193814776",
       "version_major": 2,
       "version_minor": 0
      },
      "text/plain": [
       "Dask Apply:   0%|          | 0/64 [00:00<?, ?it/s]"
      ]
     },
     "metadata": {},
     "output_type": "display_data"
    },
    {
     "name": "stdout",
     "output_type": "stream",
     "text": [
      "AKHOURSYEST\n",
      "AKOPENTOM\n"
     ]
    },
    {
     "data": {
      "application/vnd.jupyter.widget-view+json": {
       "model_id": "888d57b831a043e2885dc75f7a47bf8b",
       "version_major": 2,
       "version_minor": 0
      },
      "text/plain": [
       "Dask Apply:   0%|          | 0/64 [00:00<?, ?it/s]"
      ]
     },
     "metadata": {},
     "output_type": "display_data"
    },
    {
     "name": "stdout",
     "output_type": "stream",
     "text": [
      "AKCLOSETOM\n"
     ]
    },
    {
     "data": {
      "application/vnd.jupyter.widget-view+json": {
       "model_id": "baa3d2bb9ffe4bd29a8e011c40d474c7",
       "version_major": 2,
       "version_minor": 0
      },
      "text/plain": [
       "Dask Apply:   0%|          | 0/64 [00:00<?, ?it/s]"
      ]
     },
     "metadata": {},
     "output_type": "display_data"
    },
    {
     "name": "stdout",
     "output_type": "stream",
     "text": [
      "AKHOURSTOM\n",
      "WEATHER_WDWHIGH\n",
      "WEATHER_WDWLOW\n",
      "CapacityLost_MK\n",
      "CapacityLost_EP\n",
      "CapacityLost_HS\n",
      "CapacityLost_AK\n",
      "CapacityLostWGT_MK\n",
      "CapacityLostWGT_EP\n",
      "CapacityLostWGT_HS\n",
      "CapacityLostWGT_AK\n",
      "MKPRDDAY\n"
     ]
    },
    {
     "data": {
      "application/vnd.jupyter.widget-view+json": {
       "model_id": "d8ee222373e54dd59b8c4dc93d9d50e2",
       "version_major": 2,
       "version_minor": 0
      },
      "text/plain": [
       "Dask Apply:   0%|          | 0/64 [00:00<?, ?it/s]"
      ]
     },
     "metadata": {},
     "output_type": "display_data"
    },
    {
     "name": "stdout",
     "output_type": "stream",
     "text": [
      "MKPRDDT1\n"
     ]
    },
    {
     "data": {
      "application/vnd.jupyter.widget-view+json": {
       "model_id": "bab3aec70a424774b55a90ea4abfc0eb",
       "version_major": 2,
       "version_minor": 0
      },
      "text/plain": [
       "Dask Apply:   0%|          | 0/64 [00:00<?, ?it/s]"
      ]
     },
     "metadata": {},
     "output_type": "display_data"
    },
    {
     "name": "stdout",
     "output_type": "stream",
     "text": [
      "MKPRDDT2\n"
     ]
    },
    {
     "data": {
      "application/vnd.jupyter.widget-view+json": {
       "model_id": "5bcd2d57ba4f4931aa6a7d0b44dee87f",
       "version_major": 2,
       "version_minor": 0
      },
      "text/plain": [
       "Dask Apply:   0%|          | 0/64 [00:00<?, ?it/s]"
      ]
     },
     "metadata": {},
     "output_type": "display_data"
    },
    {
     "name": "stdout",
     "output_type": "stream",
     "text": [
      "MKPRDNGT\n",
      "MKPRDNT1\n",
      "MKPRDNT2\n"
     ]
    },
    {
     "data": {
      "application/vnd.jupyter.widget-view+json": {
       "model_id": "41bd50f3e06c46d881d551d638afdc1e",
       "version_major": 2,
       "version_minor": 0
      },
      "text/plain": [
       "Dask Apply:   0%|          | 0/64 [00:00<?, ?it/s]"
      ]
     },
     "metadata": {},
     "output_type": "display_data"
    },
    {
     "name": "stdout",
     "output_type": "stream",
     "text": [
      "MKFIREWK\n"
     ]
    },
    {
     "data": {
      "application/vnd.jupyter.widget-view+json": {
       "model_id": "2dabc76875c042b8b0024615be36c05e",
       "version_major": 2,
       "version_minor": 0
      },
      "text/plain": [
       "Dask Apply:   0%|          | 0/64 [00:00<?, ?it/s]"
      ]
     },
     "metadata": {},
     "output_type": "display_data"
    },
    {
     "name": "stdout",
     "output_type": "stream",
     "text": [
      "MKFIRET1\n"
     ]
    },
    {
     "data": {
      "application/vnd.jupyter.widget-view+json": {
       "model_id": "6204db8d42cd48b687c29fc03a40cbbb",
       "version_major": 2,
       "version_minor": 0
      },
      "text/plain": [
       "Dask Apply:   0%|          | 0/64 [00:00<?, ?it/s]"
      ]
     },
     "metadata": {},
     "output_type": "display_data"
    },
    {
     "name": "stdout",
     "output_type": "stream",
     "text": [
      "MKFIRET2\n"
     ]
    },
    {
     "data": {
      "application/vnd.jupyter.widget-view+json": {
       "model_id": "985998ed19524c1b96f18889fadb1e74",
       "version_major": 2,
       "version_minor": 0
      },
      "text/plain": [
       "Dask Apply:   0%|          | 0/64 [00:00<?, ?it/s]"
      ]
     },
     "metadata": {},
     "output_type": "display_data"
    },
    {
     "name": "stdout",
     "output_type": "stream",
     "text": [
      "EPFIREWK\n"
     ]
    },
    {
     "data": {
      "application/vnd.jupyter.widget-view+json": {
       "model_id": "a8be4789833c4dd983577d95f48141c5",
       "version_major": 2,
       "version_minor": 0
      },
      "text/plain": [
       "Dask Apply:   0%|          | 0/64 [00:00<?, ?it/s]"
      ]
     },
     "metadata": {},
     "output_type": "display_data"
    },
    {
     "name": "stdout",
     "output_type": "stream",
     "text": [
      "EPFIRET1\n"
     ]
    },
    {
     "data": {
      "application/vnd.jupyter.widget-view+json": {
       "model_id": "3cabd750149d4fc2ad50bbe92e9d7b37",
       "version_major": 2,
       "version_minor": 0
      },
      "text/plain": [
       "Dask Apply:   0%|          | 0/64 [00:00<?, ?it/s]"
      ]
     },
     "metadata": {},
     "output_type": "display_data"
    },
    {
     "name": "stdout",
     "output_type": "stream",
     "text": [
      "EPFIRET2\n"
     ]
    },
    {
     "data": {
      "application/vnd.jupyter.widget-view+json": {
       "model_id": "23190ffeee9d4ef8bd3a95247fcf0246",
       "version_major": 2,
       "version_minor": 0
      },
      "text/plain": [
       "Dask Apply:   0%|          | 0/64 [00:00<?, ?it/s]"
      ]
     },
     "metadata": {},
     "output_type": "display_data"
    },
    {
     "name": "stdout",
     "output_type": "stream",
     "text": [
      "HSPRDDT1\n",
      "HSFIREWK\n",
      "HSFIRET1\n"
     ]
    },
    {
     "data": {
      "application/vnd.jupyter.widget-view+json": {
       "model_id": "ee73012cc30149ca9a9048bdaae17def",
       "version_major": 2,
       "version_minor": 0
      },
      "text/plain": [
       "Dask Apply:   0%|          | 0/64 [00:00<?, ?it/s]"
      ]
     },
     "metadata": {},
     "output_type": "display_data"
    },
    {
     "name": "stdout",
     "output_type": "stream",
     "text": [
      "HSFIRET2\n"
     ]
    },
    {
     "data": {
      "application/vnd.jupyter.widget-view+json": {
       "model_id": "6592c32c47f248a6acb67c70481d6290",
       "version_major": 2,
       "version_minor": 0
      },
      "text/plain": [
       "Dask Apply:   0%|          | 0/64 [00:00<?, ?it/s]"
      ]
     },
     "metadata": {},
     "output_type": "display_data"
    },
    {
     "name": "stdout",
     "output_type": "stream",
     "text": [
      "HSSHWNGT\n",
      "HSSHWNT1\n"
     ]
    },
    {
     "data": {
      "application/vnd.jupyter.widget-view+json": {
       "model_id": "38c9ea196df24bf29d61b3239f13afcb",
       "version_major": 2,
       "version_minor": 0
      },
      "text/plain": [
       "Dask Apply:   0%|          | 0/64 [00:00<?, ?it/s]"
      ]
     },
     "metadata": {},
     "output_type": "display_data"
    },
    {
     "name": "stdout",
     "output_type": "stream",
     "text": [
      "HSSHWNT2\n",
      "AKPRDDT1\n",
      "AKPRDDT2\n",
      "AKSHWNGT\n",
      "AKSHWNT1\n",
      "AKSHWNT2\n",
      "new_case\n",
      "Wind Angle\n",
      "Wind Speed\n",
      "Cloud Height\n",
      "Visibility Distance (M)\n",
      "Temperature (C)\n",
      "Weather Type\n",
      "WDW_TICKET_SEASON_none\n",
      "WDW_TICKET_SEASON_peak\n",
      "WDW_TICKET_SEASON_regular\n",
      "WDW_TICKET_SEASON_value\n",
      "SEASON_christmas\n",
      "SEASON_christmas peak\n",
      "SEASON_columbus day\n",
      "SEASON_easter\n",
      "SEASON_fall\n",
      "SEASON_halloween\n",
      "SEASON_jersey week\n",
      "SEASON_july 4th\n",
      "SEASON_mardi gras\n",
      "SEASON_martin luther king junior day\n",
      "SEASON_memorial day\n",
      "SEASON_none\n",
      "SEASON_presidents week\n",
      "SEASON_september low\n",
      "SEASON_spring\n",
      "SEASON_summer break\n",
      "SEASON_thanksgiving\n",
      "SEASON_winter\n",
      "HOLIDAYN_ash\n",
      "HOLIDAYN_ash|val\n",
      "HOLIDAYN_cdm\n",
      "HOLIDAYN_chv\n",
      "HOLIDAYN_chv|pas\n",
      "HOLIDAYN_cmd\n",
      "HOLIDAYN_cmd|han\n",
      "HOLIDAYN_cme\n",
      "HOLIDAYN_col\n",
      "HOLIDAYN_col|suk\n",
      "HOLIDAYN_elc\n",
      "HOLIDAYN_esm\n",
      "HOLIDAYN_ess\n",
      "HOLIDAYN_fat\n",
      "HOLIDAYN_gfr\n",
      "HOLIDAYN_hal\n",
      "HOLIDAYN_hal|nvd\n",
      "HOLIDAYN_han\n",
      "HOLIDAYN_ind\n",
      "HOLIDAYN_lab\n",
      "HOLIDAYN_mem\n",
      "HOLIDAYN_mgs\n",
      "HOLIDAYN_mlk\n",
      "HOLIDAYN_mot\n",
      "HOLIDAYN_njc\n",
      "HOLIDAYN_njc|vet\n",
      "HOLIDAYN_none\n",
      "HOLIDAYN_nvd\n",
      "HOLIDAYN_nyd\n",
      "HOLIDAYN_nye\n",
      "HOLIDAYN_pas\n",
      "HOLIDAYN_prs\n",
      "HOLIDAYN_pur\n",
      "HOLIDAYN_rha\n",
      "HOLIDAYN_sbs\n",
      "HOLIDAYN_sha\n",
      "HOLIDAYN_stp\n",
      "HOLIDAYN_suk\n",
      "HOLIDAYN_svt\n",
      "HOLIDAYN_thk\n",
      "HOLIDAYN_utc\n",
      "HOLIDAYN_val\n",
      "HOLIDAYN_vet\n",
      "HOLIDAYN_ymk\n",
      "WDWRaceN_marwk\n",
      "WDWRaceN_none\n",
      "WDWRaceN_prhalf\n",
      "WDWRaceN_swhds\n",
      "WDWRaceN_swrr\n",
      "WDWRaceN_wdhalf\n",
      "WDWeventN_gdo\n",
      "WDWeventN_njwk\n",
      "WDWeventN_none\n",
      "WDWeventN_probowl\n",
      "WDWeventN_pwsb\n",
      "WDWeventN_pwsb|wdwhol\n",
      "WDWeventN_wdwdd\n",
      "WDWeventN_wdwdd|wdwhol\n",
      "WDWeventN_wdwhol\n",
      "WDWSEASON_christmas\n",
      "WDWSEASON_christmas peak\n",
      "WDWSEASON_columbus day\n",
      "WDWSEASON_easter\n",
      "WDWSEASON_fall\n",
      "WDWSEASON_halloween\n",
      "WDWSEASON_jersey week\n",
      "WDWSEASON_july 4th\n",
      "WDWSEASON_mardi gras\n",
      "WDWSEASON_martin luther king junior day\n",
      "WDWSEASON_memorial day\n",
      "WDWSEASON_none\n",
      "WDWSEASON_presidents week\n",
      "WDWSEASON_september low\n",
      "WDWSEASON_spring\n",
      "WDWSEASON_summer break\n",
      "WDWSEASON_thanksgiving\n",
      "WDWSEASON_winter\n",
      "MKeventN_dah\n",
      "MKeventN_dah|emm\n",
      "MKeventN_dvah\n",
      "MKeventN_emm\n",
      "MKeventN_emm|mnsshp\n",
      "MKeventN_emm|mvmcp\n",
      "MKeventN_mkhol\n",
      "MKeventN_mkhol|mvmcp\n",
      "MKeventN_mnsshp\n",
      "MKeventN_mvmcp\n",
      "MKeventN_none\n",
      "EPeventN_epfa\n",
      "EPeventN_epfg\n",
      "EPeventN_epfw\n",
      "EPeventN_ephol\n",
      "EPeventN_none\n",
      "HSeventN_clubv\n",
      "HSeventN_emmhs\n",
      "HSeventN_hsah\n",
      "HSeventN_none\n",
      "HSeventN_swgn\n",
      "HSeventN_wdwsotf\n",
      "AKeventN_akah\n",
      "AKeventN_none\n",
      "AKeventN_pftp\n",
      "HOLIDAYJ_hanukkah\n",
      "HOLIDAYJ_none\n",
      "HOLIDAYJ_passover\n",
      "HOLIDAYJ_purim\n",
      "HOLIDAYJ_rash hashanah\n",
      "HOLIDAYJ_shavuot\n",
      "HOLIDAYJ_shemini atzeret\n",
      "HOLIDAYJ_sukkot\n",
      "HOLIDAYJ_yom kippur\n",
      "Ride_name_astro orbiter\n",
      "Ride_name_big thunder mountain railroad\n",
      "Ride_name_buzz lightyear's space ranger spin\n",
      "Ride_name_dumbo the flying elephant\n",
      "Ride_name_haunted mansion\n",
      "Ride_name_it's a small world\n",
      "Ride_name_jungle cruise\n",
      "Ride_name_mad tea party\n",
      "Ride_name_peter pan's flight\n",
      "Ride_name_pirates of the caribbean\n",
      "Ride_name_prince charming regal carrousel\n",
      "Ride_name_seven dwarfs mine train\n",
      "Ride_name_space mountain\n",
      "Ride_name_splash mountain\n",
      "Ride_name_the barnstormer\n",
      "Ride_name_the magic carpets of aladdin\n",
      "Ride_name_the many adventures of winnie the pooh\n",
      "Ride_name_tomorrowland speedway\n",
      "Ride_name_tomorrowland transit authority peoplemover\n",
      "Ride_name_walt disney's carousel of progress\n",
      "Park_area_adventureland\n",
      "Park_area_fantasyland\n",
      "Park_area_frontierland\n",
      "Park_area_liberty square\n",
      "Park_area_tomorrowland\n",
      "MKPRDDN_disney festival of fantasy parade\n",
      "MKPRDDN_mickey's once upon a christmastime parade\n",
      "MKPRDDN_none\n",
      "MKPRDNN_main street electrical parade\n",
      "MKPRDNN_mickey's \"boo-to-you\" halloween parade\n",
      "MKPRDNN_none\n",
      "MKFIREN_disney's celebrate america! - a fourth of july concert in the sky\n",
      "MKFIREN_disney's not so spooky spectacular\n",
      "MKFIREN_fantasy in the sky fireworks\n",
      "MKFIREN_happily ever after\n",
      "MKFIREN_happy hallowishes fireworks\n",
      "MKFIREN_holiday wishes: celebrate the spirit of the season\n",
      "MKFIREN_minnie’s wonderful christmastime fireworks\n",
      "MKFIREN_none\n",
      "MKFIREN_wishes nighttime spectacular\n",
      "EPFIREN_epcot forever\n",
      "EPFIREN_illuminations: reflections of earth\n",
      "EPFIREN_none\n",
      "HSFIREN_disney's hollywood studios special july 4th fireworks presentation\n",
      "HSFIREN_frozen fireworks spectacular\n",
      "HSFIREN_jingle bell, jingle bam!\n",
      "HSFIREN_new year's eve fireworks\n",
      "HSFIREN_none\n",
      "HSFIREN_star wars: a galactic spectacular\n",
      "HSFIREN_symphony in the stars: a galactic spectacular\n",
      "HSSHWNN_fantasmic!\n",
      "HSSHWNN_none\n",
      "HSSHWNN_wonderful world of animation\n",
      "AKSHWNN_none\n",
      "AKSHWNN_rivers of light\n",
      "AKSHWNN_the jungle book: alive with magic\n",
      "Wind Quality Code_passed all quality control checks\n",
      "Wind Quality Code_passed all quality control checks, data originate from an ncei data source\n",
      "Wind Quality Code_passed gross limits check if element is present\n",
      "Wind Type Code_calm\n",
      "Wind Type Code_normal\n",
      "Wind Type Code_variable\n",
      "Wind Speed Quality_a\n",
      "Wind Speed Quality_p\n",
      "Wind Speed Quality_passed all quality control checks\n",
      "Wind Speed Quality_passed all quality control checks, data originate from an ncei data source\n",
      "Wind Speed Quality_passed gross limits check if element is present\n",
      "Cloud Quality Code_erroneous, data originate from an ncei data source\n",
      "Cloud Quality Code_passed all quality control checks\n",
      "Cloud Quality Code_passed all quality control checks, data originate from an ncei data source\n",
      "Cloud Quality Code_passed gross limits check if element is present\n",
      "Cloud Quality Code_suspect, data originate from an ncei data source\n",
      "Cloud Determination Code_measured\n",
      "Cloud Determination Code_missing\n",
      "Cloud Determination Code_obscured\n",
      "Cloud Determination Code_statistically derived\n",
      "Visibiliy Quality Code_a\n",
      "Visibiliy Quality Code_p\n",
      "Visibiliy Quality Code_passed all quality control checks\n",
      "Visibiliy Quality Code_passed all quality control checks, data originate from an ncei data source\n",
      "Visibility Variability Code_missing\n",
      "Visibility Variability Code_not variable\n",
      "Visibility Variability Code_variable\n",
      "Visibility Quality Variability Code_a\n",
      "Visibility Quality Variability Code_passed all quality control checks, data originate from an ncei data source\n",
      "Visibility Quality Variability Code_passed gross limits check if element is present\n",
      "Temperature Quality Code_data value flagged as suspect, but accepted as a good value\n",
      "Temperature Quality Code_passed all quality control checks\n",
      "Temperature Quality Code_passed all quality control checks, data originate from an ncei data source\n",
      "Temperature Quality Code_suspect, data originate from an ncei data source\n",
      "HOUROFDAY\n"
     ]
    },
    {
     "data": {
      "text/plain": [
       "Pipeline(steps=[('imputerAndLogTransformer',\n",
       "                 FunctionTransformer(func=<function imputeTransform at 0x7f41c4808830>)),\n",
       "                ('preprocessor',\n",
       "                 ColumnTransformer(remainder='passthrough',\n",
       "                                   transformers=[('variancethreshold',\n",
       "                                                  VarianceThreshold(threshold=0.001),\n",
       "                                                  <sklearn.compose._column_transformer.make_column_selector object at 0x7f41c47fcd50>),\n",
       "                                                 ('robustscaler',\n",
       "                                                  RobustScaler(),\n",
       "                                                  <sklearn.compose._column_transformer.make_column_selector object at 0x7f41c4818950>)])),\n",
       "                ('regressor',\n",
       "                 RandomForestRegressor(max_depth=50, n_estimators=50, n_jobs=-1,\n",
       "                                       random_state=0))])"
      ]
     },
     "execution_count": 14,
     "metadata": {},
     "output_type": "execute_result"
    }
   ],
   "source": [
    "clf.fit(X_train_clean, y_train)"
   ]
  },
  {
   "cell_type": "code",
   "execution_count": 15,
   "id": "fe33c4e5-9ea8-44eb-ac50-9a5cb3f64be3",
   "metadata": {},
   "outputs": [
    {
     "name": "stdout",
     "output_type": "stream",
     "text": [
      "Ride_type_thrill\n",
      "Ride_type_spinning\n",
      "Ride_type_slow\n",
      "Ride_type_small_drops\n",
      "Ride_type_big_drops\n",
      "Ride_type_dark\n",
      "Fast_pass\n",
      "Classic\n",
      "Age_interest_preschoolers\n",
      "Age_interest_tweens\n",
      "Age_interest_teens\n",
      "Age_interest_adults\n",
      "Height_req_inches\n",
      "Ride_duration_min\n",
      "Age_of_ride_days\n",
      "Age_of_ride_years\n",
      "TL_rank\n",
      "TA_Stars\n",
      "DAYOFWEEK\n",
      "DAYOFYEAR\n",
      "WEEKOFYEAR\n",
      "MONTHOFYEAR\n",
      "YEAR\n",
      "HOLIDAYPX\n"
     ]
    },
    {
     "data": {
      "application/vnd.jupyter.widget-view+json": {
       "model_id": "432c387e997a4a64a676f86741f58af6",
       "version_major": 2,
       "version_minor": 0
      },
      "text/plain": [
       "Dask Apply:   0%|          | 0/64 [00:00<?, ?it/s]"
      ]
     },
     "metadata": {},
     "output_type": "display_data"
    },
    {
     "name": "stdout",
     "output_type": "stream",
     "text": [
      "HOLIDAYM\n"
     ]
    },
    {
     "data": {
      "application/vnd.jupyter.widget-view+json": {
       "model_id": "05a5ee3141c0471d8e39cbef14bef880",
       "version_major": 2,
       "version_minor": 0
      },
      "text/plain": [
       "Dask Apply:   0%|          | 0/64 [00:00<?, ?it/s]"
      ]
     },
     "metadata": {},
     "output_type": "display_data"
    },
    {
     "name": "stdout",
     "output_type": "stream",
     "text": [
      "HOLIDAY\n",
      "WDWevent\n",
      "WDWMAXTEMP\n",
      "WDWMINTEMP\n",
      "WDWMEANTEMP\n",
      "MKevent\n",
      "EPevent\n",
      "HSevent\n",
      "inSession\n"
     ]
    },
    {
     "data": {
      "application/vnd.jupyter.widget-view+json": {
       "model_id": "5138b94e359c432b9c4f6ee81e59ce89",
       "version_major": 2,
       "version_minor": 0
      },
      "text/plain": [
       "Dask Apply:   0%|          | 0/64 [00:00<?, ?it/s]"
      ]
     },
     "metadata": {},
     "output_type": "display_data"
    },
    {
     "name": "stdout",
     "output_type": "stream",
     "text": [
      "inSession_Enrollment\n"
     ]
    },
    {
     "data": {
      "application/vnd.jupyter.widget-view+json": {
       "model_id": "f69455652507429587e12641a601ab80",
       "version_major": 2,
       "version_minor": 0
      },
      "text/plain": [
       "Dask Apply:   0%|          | 0/64 [00:00<?, ?it/s]"
      ]
     },
     "metadata": {},
     "output_type": "display_data"
    },
    {
     "name": "stdout",
     "output_type": "stream",
     "text": [
      "inSession_wdw\n"
     ]
    },
    {
     "data": {
      "application/vnd.jupyter.widget-view+json": {
       "model_id": "025a945aa3524531a170b05fdacf70b8",
       "version_major": 2,
       "version_minor": 0
      },
      "text/plain": [
       "Dask Apply:   0%|          | 0/64 [00:00<?, ?it/s]"
      ]
     },
     "metadata": {},
     "output_type": "display_data"
    },
    {
     "name": "stdout",
     "output_type": "stream",
     "text": [
      "inSession_dlr\n"
     ]
    },
    {
     "data": {
      "application/vnd.jupyter.widget-view+json": {
       "model_id": "3d919e4ac6f348728f1051957347d0a4",
       "version_major": 2,
       "version_minor": 0
      },
      "text/plain": [
       "Dask Apply:   0%|          | 0/64 [00:00<?, ?it/s]"
      ]
     },
     "metadata": {},
     "output_type": "display_data"
    },
    {
     "name": "stdout",
     "output_type": "stream",
     "text": [
      "inSession_sqrt_WDW\n"
     ]
    },
    {
     "data": {
      "application/vnd.jupyter.widget-view+json": {
       "model_id": "40681bf42bc64e2b8d7f41a8512e36aa",
       "version_major": 2,
       "version_minor": 0
      },
      "text/plain": [
       "Dask Apply:   0%|          | 0/64 [00:00<?, ?it/s]"
      ]
     },
     "metadata": {},
     "output_type": "display_data"
    },
    {
     "name": "stdout",
     "output_type": "stream",
     "text": [
      "inSession_sqrt_DLR\n"
     ]
    },
    {
     "data": {
      "application/vnd.jupyter.widget-view+json": {
       "model_id": "16c368c5b6ed496e8ad9505ace910313",
       "version_major": 2,
       "version_minor": 0
      },
      "text/plain": [
       "Dask Apply:   0%|          | 0/64 [00:00<?, ?it/s]"
      ]
     },
     "metadata": {},
     "output_type": "display_data"
    },
    {
     "name": "stdout",
     "output_type": "stream",
     "text": [
      "inSession_California\n"
     ]
    },
    {
     "data": {
      "application/vnd.jupyter.widget-view+json": {
       "model_id": "ea4e5990fda14e09a66b77ba2db25734",
       "version_major": 2,
       "version_minor": 0
      },
      "text/plain": [
       "Dask Apply:   0%|          | 0/64 [00:00<?, ?it/s]"
      ]
     },
     "metadata": {},
     "output_type": "display_data"
    },
    {
     "name": "stdout",
     "output_type": "stream",
     "text": [
      "inSession_DC\n"
     ]
    },
    {
     "data": {
      "application/vnd.jupyter.widget-view+json": {
       "model_id": "c59181356d29483ca29ed7711468ba9f",
       "version_major": 2,
       "version_minor": 0
      },
      "text/plain": [
       "Dask Apply:   0%|          | 0/64 [00:00<?, ?it/s]"
      ]
     },
     "metadata": {},
     "output_type": "display_data"
    },
    {
     "name": "stdout",
     "output_type": "stream",
     "text": [
      "inSession_Central_FL\n"
     ]
    },
    {
     "data": {
      "application/vnd.jupyter.widget-view+json": {
       "model_id": "53e3b2d0b3e649fda3e81fe0b33ba425",
       "version_major": 2,
       "version_minor": 0
      },
      "text/plain": [
       "Dask Apply:   0%|          | 0/64 [00:00<?, ?it/s]"
      ]
     },
     "metadata": {},
     "output_type": "display_data"
    },
    {
     "name": "stdout",
     "output_type": "stream",
     "text": [
      "inSession_Drive1_FL\n"
     ]
    },
    {
     "data": {
      "application/vnd.jupyter.widget-view+json": {
       "model_id": "37a7fac3ad174ae384577d5fd61fbc19",
       "version_major": 2,
       "version_minor": 0
      },
      "text/plain": [
       "Dask Apply:   0%|          | 0/64 [00:00<?, ?it/s]"
      ]
     },
     "metadata": {},
     "output_type": "display_data"
    },
    {
     "name": "stdout",
     "output_type": "stream",
     "text": [
      "inSession_Drive2_FL\n"
     ]
    },
    {
     "data": {
      "application/vnd.jupyter.widget-view+json": {
       "model_id": "823941f67623419ea48683fc21a9a225",
       "version_major": 2,
       "version_minor": 0
      },
      "text/plain": [
       "Dask Apply:   0%|          | 0/64 [00:00<?, ?it/s]"
      ]
     },
     "metadata": {},
     "output_type": "display_data"
    },
    {
     "name": "stdout",
     "output_type": "stream",
     "text": [
      "inSession_Drive_CA\n"
     ]
    },
    {
     "data": {
      "application/vnd.jupyter.widget-view+json": {
       "model_id": "8d0ed2045924400a99ac6eb451a7e597",
       "version_major": 2,
       "version_minor": 0
      },
      "text/plain": [
       "Dask Apply:   0%|          | 0/64 [00:00<?, ?it/s]"
      ]
     },
     "metadata": {},
     "output_type": "display_data"
    },
    {
     "name": "stdout",
     "output_type": "stream",
     "text": [
      "inSession_Florida\n"
     ]
    },
    {
     "data": {
      "application/vnd.jupyter.widget-view+json": {
       "model_id": "afb9aeb8f92f4b72be589c7e1f7a7a33",
       "version_major": 2,
       "version_minor": 0
      },
      "text/plain": [
       "Dask Apply:   0%|          | 0/64 [00:00<?, ?it/s]"
      ]
     },
     "metadata": {},
     "output_type": "display_data"
    },
    {
     "name": "stdout",
     "output_type": "stream",
     "text": [
      "inSession_Mardi_Gras\n",
      "inSession_Midwest\n"
     ]
    },
    {
     "data": {
      "application/vnd.jupyter.widget-view+json": {
       "model_id": "8a3561ac074b4032bbf7515ad6c77702",
       "version_major": 2,
       "version_minor": 0
      },
      "text/plain": [
       "Dask Apply:   0%|          | 0/64 [00:00<?, ?it/s]"
      ]
     },
     "metadata": {},
     "output_type": "display_data"
    },
    {
     "name": "stdout",
     "output_type": "stream",
     "text": [
      "inSession_NY_NJ\n"
     ]
    },
    {
     "data": {
      "application/vnd.jupyter.widget-view+json": {
       "model_id": "94bdc76f46f24a82add495d448728e46",
       "version_major": 2,
       "version_minor": 0
      },
      "text/plain": [
       "Dask Apply:   0%|          | 0/64 [00:00<?, ?it/s]"
      ]
     },
     "metadata": {},
     "output_type": "display_data"
    },
    {
     "name": "stdout",
     "output_type": "stream",
     "text": [
      "inSession_NY_NJ_PA\n"
     ]
    },
    {
     "data": {
      "application/vnd.jupyter.widget-view+json": {
       "model_id": "92c2c79e29b64057acad5c5c0776eb4b",
       "version_major": 2,
       "version_minor": 0
      },
      "text/plain": [
       "Dask Apply:   0%|          | 0/64 [00:00<?, ?it/s]"
      ]
     },
     "metadata": {},
     "output_type": "display_data"
    },
    {
     "name": "stdout",
     "output_type": "stream",
     "text": [
      "inSession_New_England\n"
     ]
    },
    {
     "data": {
      "application/vnd.jupyter.widget-view+json": {
       "model_id": "de45128248e1464a98d7b41262b78666",
       "version_major": 2,
       "version_minor": 0
      },
      "text/plain": [
       "Dask Apply:   0%|          | 0/64 [00:00<?, ?it/s]"
      ]
     },
     "metadata": {},
     "output_type": "display_data"
    },
    {
     "name": "stdout",
     "output_type": "stream",
     "text": [
      "inSession_New_Jersey\n"
     ]
    },
    {
     "data": {
      "application/vnd.jupyter.widget-view+json": {
       "model_id": "0d604278f3e942549e5cc782349a8594",
       "version_major": 2,
       "version_minor": 0
      },
      "text/plain": [
       "Dask Apply:   0%|          | 0/64 [00:00<?, ?it/s]"
      ]
     },
     "metadata": {},
     "output_type": "display_data"
    },
    {
     "name": "stdout",
     "output_type": "stream",
     "text": [
      "inSession_Nothwest\n",
      "INSESSION_PLANES\n",
      "inSession_SoCal\n"
     ]
    },
    {
     "data": {
      "application/vnd.jupyter.widget-view+json": {
       "model_id": "3059bb7e7cbb46869f8e35190a1b1ade",
       "version_major": 2,
       "version_minor": 0
      },
      "text/plain": [
       "Dask Apply:   0%|          | 0/64 [00:00<?, ?it/s]"
      ]
     },
     "metadata": {},
     "output_type": "display_data"
    },
    {
     "name": "stdout",
     "output_type": "stream",
     "text": [
      "inSession_Southwest\n"
     ]
    },
    {
     "data": {
      "application/vnd.jupyter.widget-view+json": {
       "model_id": "7aca31cec0454b86be8f299fce03dfd0",
       "version_major": 2,
       "version_minor": 0
      },
      "text/plain": [
       "Dask Apply:   0%|          | 0/64 [00:00<?, ?it/s]"
      ]
     },
     "metadata": {},
     "output_type": "display_data"
    },
    {
     "name": "stdout",
     "output_type": "stream",
     "text": [
      "MKEMHMORN\n",
      "MKEMHMYEST\n",
      "MKEMHMTOM\n",
      "MKEMHEVE\n",
      "MKHOURSEMH\n",
      "MKHOURSEMHYEST\n",
      "MKHOURSEMHTOM\n",
      "MKEMHEYEST\n",
      "MKEMHETOM\n",
      "EPEMHMORN\n",
      "EPEMHMYEST\n",
      "EPEMHMTOM\n",
      "EPEMHEVE\n",
      "EPEMHEYEST\n",
      "EPEMHETOM\n",
      "EPHOURSEMH\n",
      "EPHOURSEMHYEST\n",
      "EPHOURSEMHTOM\n",
      "HSEMHMORN\n",
      "HSEMHMYEST\n",
      "HSEMHMTOM\n",
      "HSEMHEVE\n",
      "HSEMHEYEST\n",
      "HSEMHETOM\n",
      "HSHOURSEMH\n",
      "HSHOURSEMHYEST\n",
      "HSHOURSEMHTOM\n",
      "AKEMHMORN\n",
      "AKEMHMYEST\n",
      "AKEMHMTOM\n",
      "AKHOURSEMH\n",
      "AKHOURSEMHYEST\n",
      "AKHOURSEMHTOM\n",
      "MKOPEN\n"
     ]
    },
    {
     "data": {
      "application/vnd.jupyter.widget-view+json": {
       "model_id": "4b12440f4420405e9b35054406a01886",
       "version_major": 2,
       "version_minor": 0
      },
      "text/plain": [
       "Dask Apply:   0%|          | 0/64 [00:00<?, ?it/s]"
      ]
     },
     "metadata": {},
     "output_type": "display_data"
    },
    {
     "name": "stdout",
     "output_type": "stream",
     "text": [
      "MKCLOSE\n"
     ]
    },
    {
     "data": {
      "application/vnd.jupyter.widget-view+json": {
       "model_id": "205b5ca98a804f4f83beed570f73d652",
       "version_major": 2,
       "version_minor": 0
      },
      "text/plain": [
       "Dask Apply:   0%|          | 0/64 [00:00<?, ?it/s]"
      ]
     },
     "metadata": {},
     "output_type": "display_data"
    },
    {
     "name": "stdout",
     "output_type": "stream",
     "text": [
      "MKHOURS\n",
      "MKEMHOPEN\n",
      "MKEMHCLOSE\n",
      "MKOPENYEST\n"
     ]
    },
    {
     "data": {
      "application/vnd.jupyter.widget-view+json": {
       "model_id": "e8bea94d35c44d058520d1b8dcb5a757",
       "version_major": 2,
       "version_minor": 0
      },
      "text/plain": [
       "Dask Apply:   0%|          | 0/64 [00:00<?, ?it/s]"
      ]
     },
     "metadata": {},
     "output_type": "display_data"
    },
    {
     "name": "stdout",
     "output_type": "stream",
     "text": [
      "MKCLOSEYEST\n"
     ]
    },
    {
     "data": {
      "application/vnd.jupyter.widget-view+json": {
       "model_id": "298c7cca512f429880565b436ade3373",
       "version_major": 2,
       "version_minor": 0
      },
      "text/plain": [
       "Dask Apply:   0%|          | 0/64 [00:00<?, ?it/s]"
      ]
     },
     "metadata": {},
     "output_type": "display_data"
    },
    {
     "name": "stdout",
     "output_type": "stream",
     "text": [
      "MKHOURSYEST\n",
      "MKOPENTOM\n"
     ]
    },
    {
     "data": {
      "application/vnd.jupyter.widget-view+json": {
       "model_id": "31557e3573bd49bdaa42935245f5119b",
       "version_major": 2,
       "version_minor": 0
      },
      "text/plain": [
       "Dask Apply:   0%|          | 0/64 [00:00<?, ?it/s]"
      ]
     },
     "metadata": {},
     "output_type": "display_data"
    },
    {
     "name": "stdout",
     "output_type": "stream",
     "text": [
      "MKCLOSETOM\n"
     ]
    },
    {
     "data": {
      "application/vnd.jupyter.widget-view+json": {
       "model_id": "0fdbc6aa600345629180795c8a85f688",
       "version_major": 2,
       "version_minor": 0
      },
      "text/plain": [
       "Dask Apply:   0%|          | 0/64 [00:00<?, ?it/s]"
      ]
     },
     "metadata": {},
     "output_type": "display_data"
    },
    {
     "name": "stdout",
     "output_type": "stream",
     "text": [
      "MKHOURSTOM\n",
      "EPOPEN\n"
     ]
    },
    {
     "data": {
      "application/vnd.jupyter.widget-view+json": {
       "model_id": "416eb8f742a34e44932d32e95de3d950",
       "version_major": 2,
       "version_minor": 0
      },
      "text/plain": [
       "Dask Apply:   0%|          | 0/64 [00:00<?, ?it/s]"
      ]
     },
     "metadata": {},
     "output_type": "display_data"
    },
    {
     "name": "stdout",
     "output_type": "stream",
     "text": [
      "EPCLOSE\n"
     ]
    },
    {
     "data": {
      "application/vnd.jupyter.widget-view+json": {
       "model_id": "45b70bf7177b4e059c3ed6250ffb6db9",
       "version_major": 2,
       "version_minor": 0
      },
      "text/plain": [
       "Dask Apply:   0%|          | 0/64 [00:00<?, ?it/s]"
      ]
     },
     "metadata": {},
     "output_type": "display_data"
    },
    {
     "name": "stdout",
     "output_type": "stream",
     "text": [
      "EPHOURS\n",
      "EPEMHOPEN\n"
     ]
    },
    {
     "data": {
      "application/vnd.jupyter.widget-view+json": {
       "model_id": "57c98267677b413ea03bccc4122aaf89",
       "version_major": 2,
       "version_minor": 0
      },
      "text/plain": [
       "Dask Apply:   0%|          | 0/64 [00:00<?, ?it/s]"
      ]
     },
     "metadata": {},
     "output_type": "display_data"
    },
    {
     "name": "stdout",
     "output_type": "stream",
     "text": [
      "EPEMHCLOSE\n"
     ]
    },
    {
     "data": {
      "application/vnd.jupyter.widget-view+json": {
       "model_id": "21585f5f0015416fb9c154e613ae7f96",
       "version_major": 2,
       "version_minor": 0
      },
      "text/plain": [
       "Dask Apply:   0%|          | 0/64 [00:00<?, ?it/s]"
      ]
     },
     "metadata": {},
     "output_type": "display_data"
    },
    {
     "name": "stdout",
     "output_type": "stream",
     "text": [
      "EPOPENYEST\n"
     ]
    },
    {
     "data": {
      "application/vnd.jupyter.widget-view+json": {
       "model_id": "a29252e0aa894dd893937162821325e5",
       "version_major": 2,
       "version_minor": 0
      },
      "text/plain": [
       "Dask Apply:   0%|          | 0/64 [00:00<?, ?it/s]"
      ]
     },
     "metadata": {},
     "output_type": "display_data"
    },
    {
     "name": "stdout",
     "output_type": "stream",
     "text": [
      "EPCLOSEYEST\n"
     ]
    },
    {
     "data": {
      "application/vnd.jupyter.widget-view+json": {
       "model_id": "49d0c9dd7c7d4957a8924a44ee06797e",
       "version_major": 2,
       "version_minor": 0
      },
      "text/plain": [
       "Dask Apply:   0%|          | 0/64 [00:00<?, ?it/s]"
      ]
     },
     "metadata": {},
     "output_type": "display_data"
    },
    {
     "name": "stdout",
     "output_type": "stream",
     "text": [
      "EPHOURSYEST\n",
      "EPOPENTOM\n"
     ]
    },
    {
     "data": {
      "application/vnd.jupyter.widget-view+json": {
       "model_id": "f534bcf2c02542e8b2ec48f1dfd22974",
       "version_major": 2,
       "version_minor": 0
      },
      "text/plain": [
       "Dask Apply:   0%|          | 0/64 [00:00<?, ?it/s]"
      ]
     },
     "metadata": {},
     "output_type": "display_data"
    },
    {
     "name": "stdout",
     "output_type": "stream",
     "text": [
      "EPCLOSETOM\n"
     ]
    },
    {
     "data": {
      "application/vnd.jupyter.widget-view+json": {
       "model_id": "b5e7530749494f2ea3bf92bba2e0b811",
       "version_major": 2,
       "version_minor": 0
      },
      "text/plain": [
       "Dask Apply:   0%|          | 0/64 [00:00<?, ?it/s]"
      ]
     },
     "metadata": {},
     "output_type": "display_data"
    },
    {
     "name": "stdout",
     "output_type": "stream",
     "text": [
      "EPHOURSTOM\n",
      "HSOPEN\n"
     ]
    },
    {
     "data": {
      "application/vnd.jupyter.widget-view+json": {
       "model_id": "6bad2dadb0d44c139a135bb2fad913b3",
       "version_major": 2,
       "version_minor": 0
      },
      "text/plain": [
       "Dask Apply:   0%|          | 0/64 [00:00<?, ?it/s]"
      ]
     },
     "metadata": {},
     "output_type": "display_data"
    },
    {
     "name": "stdout",
     "output_type": "stream",
     "text": [
      "HSCLOSE\n"
     ]
    },
    {
     "data": {
      "application/vnd.jupyter.widget-view+json": {
       "model_id": "bab12df38f9b48d79fafc124e75b081e",
       "version_major": 2,
       "version_minor": 0
      },
      "text/plain": [
       "Dask Apply:   0%|          | 0/64 [00:00<?, ?it/s]"
      ]
     },
     "metadata": {},
     "output_type": "display_data"
    },
    {
     "name": "stdout",
     "output_type": "stream",
     "text": [
      "HSHOURS\n",
      "HSEMHOPEN\n"
     ]
    },
    {
     "data": {
      "application/vnd.jupyter.widget-view+json": {
       "model_id": "ea1fa16592cc4f66b36afbf968c6cc3e",
       "version_major": 2,
       "version_minor": 0
      },
      "text/plain": [
       "Dask Apply:   0%|          | 0/64 [00:00<?, ?it/s]"
      ]
     },
     "metadata": {},
     "output_type": "display_data"
    },
    {
     "name": "stdout",
     "output_type": "stream",
     "text": [
      "HSEMHCLOSE\n"
     ]
    },
    {
     "data": {
      "application/vnd.jupyter.widget-view+json": {
       "model_id": "1606a7af80bd45818454deb05962a98a",
       "version_major": 2,
       "version_minor": 0
      },
      "text/plain": [
       "Dask Apply:   0%|          | 0/64 [00:00<?, ?it/s]"
      ]
     },
     "metadata": {},
     "output_type": "display_data"
    },
    {
     "name": "stdout",
     "output_type": "stream",
     "text": [
      "HSOPENYEST\n"
     ]
    },
    {
     "data": {
      "application/vnd.jupyter.widget-view+json": {
       "model_id": "01687613fc454bf4bd2a4efb7c89ef96",
       "version_major": 2,
       "version_minor": 0
      },
      "text/plain": [
       "Dask Apply:   0%|          | 0/64 [00:00<?, ?it/s]"
      ]
     },
     "metadata": {},
     "output_type": "display_data"
    },
    {
     "name": "stdout",
     "output_type": "stream",
     "text": [
      "HSCLOSEYEST\n"
     ]
    },
    {
     "data": {
      "application/vnd.jupyter.widget-view+json": {
       "model_id": "a8bdbeceada14e2d8a92f60679727164",
       "version_major": 2,
       "version_minor": 0
      },
      "text/plain": [
       "Dask Apply:   0%|          | 0/64 [00:00<?, ?it/s]"
      ]
     },
     "metadata": {},
     "output_type": "display_data"
    },
    {
     "name": "stdout",
     "output_type": "stream",
     "text": [
      "HSHOURSYEST\n",
      "HSOPENTOM\n"
     ]
    },
    {
     "data": {
      "application/vnd.jupyter.widget-view+json": {
       "model_id": "d97ae67bbb584c82b18431aca10ccc44",
       "version_major": 2,
       "version_minor": 0
      },
      "text/plain": [
       "Dask Apply:   0%|          | 0/64 [00:00<?, ?it/s]"
      ]
     },
     "metadata": {},
     "output_type": "display_data"
    },
    {
     "name": "stdout",
     "output_type": "stream",
     "text": [
      "HSCLOSETOM\n"
     ]
    },
    {
     "data": {
      "application/vnd.jupyter.widget-view+json": {
       "model_id": "df1e89dbe45243499b535ca1fdbf9fc8",
       "version_major": 2,
       "version_minor": 0
      },
      "text/plain": [
       "Dask Apply:   0%|          | 0/64 [00:00<?, ?it/s]"
      ]
     },
     "metadata": {},
     "output_type": "display_data"
    },
    {
     "name": "stdout",
     "output_type": "stream",
     "text": [
      "HSHOURSTOM\n",
      "AKOPEN\n"
     ]
    },
    {
     "data": {
      "application/vnd.jupyter.widget-view+json": {
       "model_id": "f454dcfd43ea4528acd960b2b1e91f53",
       "version_major": 2,
       "version_minor": 0
      },
      "text/plain": [
       "Dask Apply:   0%|          | 0/64 [00:00<?, ?it/s]"
      ]
     },
     "metadata": {},
     "output_type": "display_data"
    },
    {
     "name": "stdout",
     "output_type": "stream",
     "text": [
      "AKCLOSE\n"
     ]
    },
    {
     "data": {
      "application/vnd.jupyter.widget-view+json": {
       "model_id": "96567591e1524ac79e24947bfc9c6199",
       "version_major": 2,
       "version_minor": 0
      },
      "text/plain": [
       "Dask Apply:   0%|          | 0/64 [00:00<?, ?it/s]"
      ]
     },
     "metadata": {},
     "output_type": "display_data"
    },
    {
     "name": "stdout",
     "output_type": "stream",
     "text": [
      "AKHOURS\n",
      "AKEMHOPEN\n",
      "AKEMHCLOSE\n",
      "AKOPENYEST\n"
     ]
    },
    {
     "data": {
      "application/vnd.jupyter.widget-view+json": {
       "model_id": "4d61746742274a40990ab26e7888a3de",
       "version_major": 2,
       "version_minor": 0
      },
      "text/plain": [
       "Dask Apply:   0%|          | 0/64 [00:00<?, ?it/s]"
      ]
     },
     "metadata": {},
     "output_type": "display_data"
    },
    {
     "name": "stdout",
     "output_type": "stream",
     "text": [
      "AKCLOSEYEST\n"
     ]
    },
    {
     "data": {
      "application/vnd.jupyter.widget-view+json": {
       "model_id": "80b4c2144c0245fb99e9a564385763cd",
       "version_major": 2,
       "version_minor": 0
      },
      "text/plain": [
       "Dask Apply:   0%|          | 0/64 [00:00<?, ?it/s]"
      ]
     },
     "metadata": {},
     "output_type": "display_data"
    },
    {
     "name": "stdout",
     "output_type": "stream",
     "text": [
      "AKHOURSYEST\n",
      "AKOPENTOM\n"
     ]
    },
    {
     "data": {
      "application/vnd.jupyter.widget-view+json": {
       "model_id": "63dcdb027d7e49ec9d839b5741bc9e2d",
       "version_major": 2,
       "version_minor": 0
      },
      "text/plain": [
       "Dask Apply:   0%|          | 0/64 [00:00<?, ?it/s]"
      ]
     },
     "metadata": {},
     "output_type": "display_data"
    },
    {
     "name": "stdout",
     "output_type": "stream",
     "text": [
      "AKCLOSETOM\n"
     ]
    },
    {
     "data": {
      "application/vnd.jupyter.widget-view+json": {
       "model_id": "6cb3bb7fd7904d908913f675d3dffb1f",
       "version_major": 2,
       "version_minor": 0
      },
      "text/plain": [
       "Dask Apply:   0%|          | 0/64 [00:00<?, ?it/s]"
      ]
     },
     "metadata": {},
     "output_type": "display_data"
    },
    {
     "name": "stdout",
     "output_type": "stream",
     "text": [
      "AKHOURSTOM\n",
      "WEATHER_WDWHIGH\n",
      "WEATHER_WDWLOW\n",
      "CapacityLost_MK\n",
      "CapacityLost_EP\n",
      "CapacityLost_HS\n",
      "CapacityLost_AK\n",
      "CapacityLostWGT_MK\n",
      "CapacityLostWGT_EP\n",
      "CapacityLostWGT_HS\n",
      "CapacityLostWGT_AK\n",
      "MKPRDDAY\n"
     ]
    },
    {
     "data": {
      "application/vnd.jupyter.widget-view+json": {
       "model_id": "878425866c044622a3dc8d13bfbece23",
       "version_major": 2,
       "version_minor": 0
      },
      "text/plain": [
       "Dask Apply:   0%|          | 0/64 [00:00<?, ?it/s]"
      ]
     },
     "metadata": {},
     "output_type": "display_data"
    },
    {
     "name": "stdout",
     "output_type": "stream",
     "text": [
      "MKPRDDT1\n"
     ]
    },
    {
     "data": {
      "application/vnd.jupyter.widget-view+json": {
       "model_id": "535a62ea3a4b4bd8be2f0a98d0ab5358",
       "version_major": 2,
       "version_minor": 0
      },
      "text/plain": [
       "Dask Apply:   0%|          | 0/64 [00:00<?, ?it/s]"
      ]
     },
     "metadata": {},
     "output_type": "display_data"
    },
    {
     "name": "stdout",
     "output_type": "stream",
     "text": [
      "MKPRDDT2\n"
     ]
    },
    {
     "data": {
      "application/vnd.jupyter.widget-view+json": {
       "model_id": "600d7f88ec804e9896fbcd5589e504b4",
       "version_major": 2,
       "version_minor": 0
      },
      "text/plain": [
       "Dask Apply:   0%|          | 0/64 [00:00<?, ?it/s]"
      ]
     },
     "metadata": {},
     "output_type": "display_data"
    },
    {
     "name": "stdout",
     "output_type": "stream",
     "text": [
      "MKPRDNGT\n",
      "MKPRDNT1\n",
      "MKPRDNT2\n"
     ]
    },
    {
     "data": {
      "application/vnd.jupyter.widget-view+json": {
       "model_id": "97618d52b68b440e9f918ee5d60f5794",
       "version_major": 2,
       "version_minor": 0
      },
      "text/plain": [
       "Dask Apply:   0%|          | 0/64 [00:00<?, ?it/s]"
      ]
     },
     "metadata": {},
     "output_type": "display_data"
    },
    {
     "name": "stdout",
     "output_type": "stream",
     "text": [
      "MKFIREWK\n"
     ]
    },
    {
     "data": {
      "application/vnd.jupyter.widget-view+json": {
       "model_id": "e02cd9d238ac40dca5c1fce1d92510cb",
       "version_major": 2,
       "version_minor": 0
      },
      "text/plain": [
       "Dask Apply:   0%|          | 0/64 [00:00<?, ?it/s]"
      ]
     },
     "metadata": {},
     "output_type": "display_data"
    },
    {
     "name": "stdout",
     "output_type": "stream",
     "text": [
      "MKFIRET1\n"
     ]
    },
    {
     "data": {
      "application/vnd.jupyter.widget-view+json": {
       "model_id": "8a06ec30ea9e41b0a1d1eaf07abebff3",
       "version_major": 2,
       "version_minor": 0
      },
      "text/plain": [
       "Dask Apply:   0%|          | 0/64 [00:00<?, ?it/s]"
      ]
     },
     "metadata": {},
     "output_type": "display_data"
    },
    {
     "name": "stdout",
     "output_type": "stream",
     "text": [
      "MKFIRET2\n"
     ]
    },
    {
     "data": {
      "application/vnd.jupyter.widget-view+json": {
       "model_id": "68bc6fdc451149a8bdcd669439695b2f",
       "version_major": 2,
       "version_minor": 0
      },
      "text/plain": [
       "Dask Apply:   0%|          | 0/64 [00:00<?, ?it/s]"
      ]
     },
     "metadata": {},
     "output_type": "display_data"
    },
    {
     "name": "stdout",
     "output_type": "stream",
     "text": [
      "EPFIREWK\n"
     ]
    },
    {
     "data": {
      "application/vnd.jupyter.widget-view+json": {
       "model_id": "0b2a269d90154f6ebe24f2fb6eeccdbd",
       "version_major": 2,
       "version_minor": 0
      },
      "text/plain": [
       "Dask Apply:   0%|          | 0/64 [00:00<?, ?it/s]"
      ]
     },
     "metadata": {},
     "output_type": "display_data"
    },
    {
     "name": "stdout",
     "output_type": "stream",
     "text": [
      "EPFIRET1\n"
     ]
    },
    {
     "data": {
      "application/vnd.jupyter.widget-view+json": {
       "model_id": "58cb70d25f9b488db108a9b953ea9e3b",
       "version_major": 2,
       "version_minor": 0
      },
      "text/plain": [
       "Dask Apply:   0%|          | 0/64 [00:00<?, ?it/s]"
      ]
     },
     "metadata": {},
     "output_type": "display_data"
    },
    {
     "name": "stdout",
     "output_type": "stream",
     "text": [
      "EPFIRET2\n"
     ]
    },
    {
     "data": {
      "application/vnd.jupyter.widget-view+json": {
       "model_id": "da49e954f7414a3092e5e376ad0928b9",
       "version_major": 2,
       "version_minor": 0
      },
      "text/plain": [
       "Dask Apply:   0%|          | 0/64 [00:00<?, ?it/s]"
      ]
     },
     "metadata": {},
     "output_type": "display_data"
    },
    {
     "name": "stdout",
     "output_type": "stream",
     "text": [
      "HSPRDDT1\n",
      "HSFIREWK\n",
      "HSFIRET1\n"
     ]
    },
    {
     "data": {
      "application/vnd.jupyter.widget-view+json": {
       "model_id": "2fe33e1fc4924cdc901b8c4b1ddc581d",
       "version_major": 2,
       "version_minor": 0
      },
      "text/plain": [
       "Dask Apply:   0%|          | 0/64 [00:00<?, ?it/s]"
      ]
     },
     "metadata": {},
     "output_type": "display_data"
    },
    {
     "name": "stdout",
     "output_type": "stream",
     "text": [
      "HSFIRET2\n"
     ]
    },
    {
     "data": {
      "application/vnd.jupyter.widget-view+json": {
       "model_id": "5c41db3bcd3947eb87f436beff456c89",
       "version_major": 2,
       "version_minor": 0
      },
      "text/plain": [
       "Dask Apply:   0%|          | 0/64 [00:00<?, ?it/s]"
      ]
     },
     "metadata": {},
     "output_type": "display_data"
    },
    {
     "name": "stdout",
     "output_type": "stream",
     "text": [
      "HSSHWNGT\n",
      "HSSHWNT1\n"
     ]
    },
    {
     "data": {
      "application/vnd.jupyter.widget-view+json": {
       "model_id": "624232d9ceab46a59f85b70083585c9e",
       "version_major": 2,
       "version_minor": 0
      },
      "text/plain": [
       "Dask Apply:   0%|          | 0/64 [00:00<?, ?it/s]"
      ]
     },
     "metadata": {},
     "output_type": "display_data"
    },
    {
     "name": "stdout",
     "output_type": "stream",
     "text": [
      "HSSHWNT2\n",
      "AKPRDDT1\n",
      "AKPRDDT2\n",
      "AKSHWNGT\n",
      "AKSHWNT1\n",
      "AKSHWNT2\n",
      "new_case\n",
      "Wind Angle\n",
      "Wind Speed\n",
      "Cloud Height\n",
      "Visibility Distance (M)\n",
      "Temperature (C)\n",
      "Weather Type\n",
      "WDW_TICKET_SEASON_none\n",
      "WDW_TICKET_SEASON_peak\n",
      "WDW_TICKET_SEASON_regular\n",
      "WDW_TICKET_SEASON_value\n",
      "SEASON_christmas\n",
      "SEASON_christmas peak\n",
      "SEASON_columbus day\n",
      "SEASON_easter\n",
      "SEASON_fall\n",
      "SEASON_halloween\n",
      "SEASON_jersey week\n",
      "SEASON_july 4th\n",
      "SEASON_mardi gras\n",
      "SEASON_martin luther king junior day\n",
      "SEASON_memorial day\n",
      "SEASON_none\n",
      "SEASON_presidents week\n",
      "SEASON_september low\n",
      "SEASON_spring\n",
      "SEASON_summer break\n",
      "SEASON_thanksgiving\n",
      "SEASON_winter\n",
      "HOLIDAYN_ash\n",
      "HOLIDAYN_ash|val\n",
      "HOLIDAYN_cdm\n",
      "HOLIDAYN_chv\n",
      "HOLIDAYN_chv|pas\n",
      "HOLIDAYN_cmd\n",
      "HOLIDAYN_cmd|han\n",
      "HOLIDAYN_cme\n",
      "HOLIDAYN_col\n",
      "HOLIDAYN_col|suk\n",
      "HOLIDAYN_elc\n",
      "HOLIDAYN_esm\n",
      "HOLIDAYN_ess\n",
      "HOLIDAYN_fat\n",
      "HOLIDAYN_gfr\n",
      "HOLIDAYN_hal\n",
      "HOLIDAYN_hal|nvd\n",
      "HOLIDAYN_han\n",
      "HOLIDAYN_ind\n",
      "HOLIDAYN_lab\n",
      "HOLIDAYN_mem\n",
      "HOLIDAYN_mgs\n",
      "HOLIDAYN_mlk\n",
      "HOLIDAYN_mot\n",
      "HOLIDAYN_njc\n",
      "HOLIDAYN_njc|vet\n",
      "HOLIDAYN_none\n",
      "HOLIDAYN_nvd\n",
      "HOLIDAYN_nyd\n",
      "HOLIDAYN_nye\n",
      "HOLIDAYN_pas\n",
      "HOLIDAYN_prs\n",
      "HOLIDAYN_pur\n",
      "HOLIDAYN_rha\n",
      "HOLIDAYN_sbs\n",
      "HOLIDAYN_sha\n",
      "HOLIDAYN_stp\n",
      "HOLIDAYN_suk\n",
      "HOLIDAYN_svt\n",
      "HOLIDAYN_thk\n",
      "HOLIDAYN_utc\n",
      "HOLIDAYN_val\n",
      "HOLIDAYN_vet\n",
      "HOLIDAYN_ymk\n",
      "WDWRaceN_marwk\n",
      "WDWRaceN_none\n",
      "WDWRaceN_prhalf\n",
      "WDWRaceN_swhds\n",
      "WDWRaceN_swrr\n",
      "WDWRaceN_wdhalf\n",
      "WDWeventN_gdo\n",
      "WDWeventN_njwk\n",
      "WDWeventN_none\n",
      "WDWeventN_probowl\n",
      "WDWeventN_pwsb\n",
      "WDWeventN_pwsb|wdwhol\n",
      "WDWeventN_wdwdd\n",
      "WDWeventN_wdwdd|wdwhol\n",
      "WDWeventN_wdwhol\n",
      "WDWSEASON_christmas\n",
      "WDWSEASON_christmas peak\n",
      "WDWSEASON_columbus day\n",
      "WDWSEASON_easter\n",
      "WDWSEASON_fall\n",
      "WDWSEASON_halloween\n",
      "WDWSEASON_jersey week\n",
      "WDWSEASON_july 4th\n",
      "WDWSEASON_mardi gras\n",
      "WDWSEASON_martin luther king junior day\n",
      "WDWSEASON_memorial day\n",
      "WDWSEASON_none\n",
      "WDWSEASON_presidents week\n",
      "WDWSEASON_september low\n",
      "WDWSEASON_spring\n",
      "WDWSEASON_summer break\n",
      "WDWSEASON_thanksgiving\n",
      "WDWSEASON_winter\n",
      "MKeventN_dah\n",
      "MKeventN_dah|emm\n",
      "MKeventN_dvah\n",
      "MKeventN_emm\n",
      "MKeventN_emm|mnsshp\n",
      "MKeventN_emm|mvmcp\n",
      "MKeventN_mkhol\n",
      "MKeventN_mkhol|mvmcp\n",
      "MKeventN_mnsshp\n",
      "MKeventN_mvmcp\n",
      "MKeventN_none\n",
      "EPeventN_epfa\n",
      "EPeventN_epfg\n",
      "EPeventN_epfw\n",
      "EPeventN_ephol\n",
      "EPeventN_none\n",
      "HSeventN_clubv\n",
      "HSeventN_emmhs\n",
      "HSeventN_hsah\n",
      "HSeventN_none\n",
      "HSeventN_swgn\n",
      "HSeventN_wdwsotf\n",
      "AKeventN_akah\n",
      "AKeventN_none\n",
      "AKeventN_pftp\n",
      "HOLIDAYJ_hanukkah\n",
      "HOLIDAYJ_none\n",
      "HOLIDAYJ_passover\n",
      "HOLIDAYJ_purim\n",
      "HOLIDAYJ_rash hashanah\n",
      "HOLIDAYJ_shavuot\n",
      "HOLIDAYJ_shemini atzeret\n",
      "HOLIDAYJ_sukkot\n",
      "HOLIDAYJ_yom kippur\n",
      "Ride_name_astro orbiter\n",
      "Ride_name_big thunder mountain railroad\n",
      "Ride_name_buzz lightyear's space ranger spin\n",
      "Ride_name_dumbo the flying elephant\n",
      "Ride_name_haunted mansion\n",
      "Ride_name_it's a small world\n",
      "Ride_name_jungle cruise\n",
      "Ride_name_mad tea party\n",
      "Ride_name_peter pan's flight\n",
      "Ride_name_pirates of the caribbean\n",
      "Ride_name_prince charming regal carrousel\n",
      "Ride_name_seven dwarfs mine train\n",
      "Ride_name_space mountain\n",
      "Ride_name_splash mountain\n",
      "Ride_name_the barnstormer\n",
      "Ride_name_the magic carpets of aladdin\n",
      "Ride_name_the many adventures of winnie the pooh\n",
      "Ride_name_tomorrowland speedway\n",
      "Ride_name_tomorrowland transit authority peoplemover\n",
      "Ride_name_walt disney's carousel of progress\n",
      "Park_area_adventureland\n",
      "Park_area_fantasyland\n",
      "Park_area_frontierland\n",
      "Park_area_liberty square\n",
      "Park_area_tomorrowland\n",
      "MKPRDDN_disney festival of fantasy parade\n",
      "MKPRDDN_mickey's once upon a christmastime parade\n",
      "MKPRDDN_none\n",
      "MKPRDNN_main street electrical parade\n",
      "MKPRDNN_mickey's \"boo-to-you\" halloween parade\n",
      "MKPRDNN_none\n",
      "MKFIREN_disney's celebrate america! - a fourth of july concert in the sky\n",
      "MKFIREN_disney's not so spooky spectacular\n",
      "MKFIREN_fantasy in the sky fireworks\n",
      "MKFIREN_happily ever after\n",
      "MKFIREN_happy hallowishes fireworks\n",
      "MKFIREN_holiday wishes: celebrate the spirit of the season\n",
      "MKFIREN_minnie’s wonderful christmastime fireworks\n",
      "MKFIREN_none\n",
      "MKFIREN_wishes nighttime spectacular\n",
      "EPFIREN_epcot forever\n",
      "EPFIREN_illuminations: reflections of earth\n",
      "EPFIREN_none\n",
      "HSFIREN_disney's hollywood studios special july 4th fireworks presentation\n",
      "HSFIREN_frozen fireworks spectacular\n",
      "HSFIREN_jingle bell, jingle bam!\n",
      "HSFIREN_new year's eve fireworks\n",
      "HSFIREN_none\n",
      "HSFIREN_star wars: a galactic spectacular\n",
      "HSFIREN_symphony in the stars: a galactic spectacular\n",
      "HSSHWNN_fantasmic!\n",
      "HSSHWNN_none\n",
      "HSSHWNN_wonderful world of animation\n",
      "AKSHWNN_none\n",
      "AKSHWNN_rivers of light\n",
      "AKSHWNN_the jungle book: alive with magic\n",
      "Wind Quality Code_passed all quality control checks\n",
      "Wind Quality Code_passed all quality control checks, data originate from an ncei data source\n",
      "Wind Quality Code_passed gross limits check if element is present\n",
      "Wind Type Code_calm\n",
      "Wind Type Code_normal\n",
      "Wind Type Code_variable\n",
      "Wind Speed Quality_a\n",
      "Wind Speed Quality_p\n",
      "Wind Speed Quality_passed all quality control checks\n",
      "Wind Speed Quality_passed all quality control checks, data originate from an ncei data source\n",
      "Wind Speed Quality_passed gross limits check if element is present\n",
      "Cloud Quality Code_erroneous, data originate from an ncei data source\n",
      "Cloud Quality Code_passed all quality control checks\n",
      "Cloud Quality Code_passed all quality control checks, data originate from an ncei data source\n",
      "Cloud Quality Code_passed gross limits check if element is present\n",
      "Cloud Quality Code_suspect, data originate from an ncei data source\n",
      "Cloud Determination Code_measured\n",
      "Cloud Determination Code_missing\n",
      "Cloud Determination Code_obscured\n",
      "Cloud Determination Code_statistically derived\n",
      "Visibiliy Quality Code_a\n",
      "Visibiliy Quality Code_p\n",
      "Visibiliy Quality Code_passed all quality control checks\n",
      "Visibiliy Quality Code_passed all quality control checks, data originate from an ncei data source\n",
      "Visibility Variability Code_missing\n",
      "Visibility Variability Code_not variable\n",
      "Visibility Variability Code_variable\n",
      "Visibility Quality Variability Code_a\n",
      "Visibility Quality Variability Code_passed all quality control checks, data originate from an ncei data source\n",
      "Visibility Quality Variability Code_passed gross limits check if element is present\n",
      "Temperature Quality Code_data value flagged as suspect, but accepted as a good value\n",
      "Temperature Quality Code_passed all quality control checks\n",
      "Temperature Quality Code_passed all quality control checks, data originate from an ncei data source\n",
      "Temperature Quality Code_suspect, data originate from an ncei data source\n",
      "HOUROFDAY\n"
     ]
    }
   ],
   "source": [
    "pred = clf.predict(X_test_clean)"
   ]
  },
  {
   "cell_type": "code",
   "execution_count": 18,
   "id": "5ae4d015-c180-4088-aac5-7d06ce6c555c",
   "metadata": {},
   "outputs": [
    {
     "name": "stdout",
     "output_type": "stream",
     "text": [
      "MAE:  32.50105255564034\n",
      "MSE:  14652.832199270018\n",
      "RMSE:  121.04888351104283\n",
      "R-SQUARED:  0.8267373419589401\n"
     ]
    }
   ],
   "source": [
    "mae = metrics.mean_absolute_error(y_test, pred)\n",
    "mse = metrics.mean_squared_error(y_test, pred)\n",
    "rmse = np.sqrt(metrics.mean_squared_error(y_test, pred))\n",
    "r2 = metrics.r2_score(y_test, pred)\n",
    "\n",
    "print(\"MAE: \", mae)\n",
    "print(\"MSE: \", mse)\n",
    "print(\"RMSE: \", rmse)\n",
    "print(\"R-SQUARED: \", r2)"
   ]
  },
  {
   "cell_type": "code",
   "execution_count": 20,
   "id": "8b2eb086-2ced-4a27-a45c-cdd552d7695a",
   "metadata": {},
   "outputs": [
    {
     "name": "stdout",
     "output_type": "stream",
     "text": [
      "(PREDICTED, ACTUAL)\n",
      "(29.0, 30)\n",
      "(23.0, 30)\n",
      "(23.0, 30)\n",
      "(15.0, 20)\n",
      "(23.0, 20)\n",
      "(60.0, 70)\n",
      "(29.0, 30)\n",
      "(6.0, 5)\n",
      "(27.0, 20)\n",
      "(25.0, 30)\n",
      "(12.0, 20)\n",
      "(12.0, 20)\n",
      "(77.0, 95)\n",
      "(27.0, 30)\n",
      "(12.0, 10)\n",
      "(29.0, 25)\n",
      "(10.0, 10)\n",
      "(6.0, 5)\n",
      "(55.0, 55)\n",
      "(34.0, 40)\n"
     ]
    }
   ],
   "source": [
    "print(\"(PREDICTED, ACTUAL)\")\n",
    "for x in zip(np.round(pred[3000:3020], 0), y_test[3000:3020].values):\n",
    "    print(x)"
   ]
  },
  {
   "cell_type": "code",
   "execution_count": null,
   "id": "5baa548f-3e48-4305-860d-41a13b2ffbb5",
   "metadata": {},
   "outputs": [],
   "source": []
  }
 ],
 "metadata": {
  "environment": {
   "kernel": "python3",
   "name": "pytorch-gpu.1-11.m94",
   "type": "gcloud",
   "uri": "gcr.io/deeplearning-platform-release/pytorch-gpu.1-11:m94"
  },
  "kernelspec": {
   "display_name": "Python 3",
   "language": "python",
   "name": "python3"
  },
  "language_info": {
   "codemirror_mode": {
    "name": "ipython",
    "version": 3
   },
   "file_extension": ".py",
   "mimetype": "text/x-python",
   "name": "python",
   "nbconvert_exporter": "python",
   "pygments_lexer": "ipython3",
   "version": "3.7.12"
  }
 },
 "nbformat": 4,
 "nbformat_minor": 5
}
