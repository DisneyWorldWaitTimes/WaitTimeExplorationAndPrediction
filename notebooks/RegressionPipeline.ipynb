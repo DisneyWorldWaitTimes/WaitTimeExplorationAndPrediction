{
 "cells": [
  {
   "cell_type": "code",
   "execution_count": 1,
   "id": "c3588541-6d10-4417-a9f0-9abaa0e2e35e",
   "metadata": {},
   "outputs": [],
   "source": [
    "import warnings\n",
    "warnings.filterwarnings('ignore')\n",
    "\n",
    "import swifter\n",
    "import importlib.util\n",
    "from sklearn.preprocessing import RobustScaler, FunctionTransformer\n",
    "from sklearn.compose import make_column_selector as selector, ColumnTransformer, make_column_transformer\n",
    "from sklearn.compose import ColumnTransformer\n",
    "from sklearn.feature_selection import VarianceThreshold\n",
    "from sklearn.pipeline import Pipeline\n",
    "from sklearn.ensemble import RandomForestRegressor\n",
    "from sklearn import metrics\n",
    "\n",
    "\n",
    "\n",
    "import pandas as pd\n",
    "import numpy as np\n",
    "from scipy.stats import skew\n",
    "import joblib\n",
    "import altair as alt"
   ]
  },
  {
   "cell_type": "code",
   "execution_count": 2,
   "id": "c531a0eb-a6a7-4852-9ee3-ef41d71967ba",
   "metadata": {},
   "outputs": [],
   "source": [
    "parse_times = [\"MKOPEN\", \"MKCLOSE\", \"MKEMHOPEN\", \"MKEMHCLOSE\",\n",
    "               \"MKOPENYEST\", \"MKCLOSEYEST\", \"MKOPENTOM\",\n",
    "               \"MKCLOSETOM\",\"EPOPEN\", \"EPCLOSE\", \"EPEMHOPEN\",\n",
    "               \"EPEMHCLOSE\", \"EPOPENYEST\", \"EPCLOSEYEST\",\n",
    "               \"EPOPENTOM\", \"EPCLOSETOM\", \"HSOPEN\", \"HSCLOSE\",\n",
    "               \"HSEMHOPEN\", \"HSEMHCLOSE\", \"HSOPENYEST\", \"HSCLOSEYEST\",\n",
    "               \"HSOPENTOM\", \"HSCLOSETOM\", \"AKOPEN\", \"AKCLOSE\",\n",
    "               \"AKEMHOPEN\", \"AKOPENYEST\", \"AKCLOSEYEST\",\"AKEMHCLOSE\",\n",
    "               \"AKOPENTOM\", \"AKCLOSETOM\", \"MKPRDDT1\", \"MKPRDDT2\",\n",
    "               \"MKPRDNT1\", \"MKPRDNT2\", \"MKFIRET1\", \"MKFIRET2\",\n",
    "               \"EPFIRET1\", \"EPFIRET2\", \"HSPRDDT1\", \"HSFIRET1\",\n",
    "               \"HSFIRET2\", \"HSSHWNT1\", \"HSSHWNT2\", \"AKPRDDT1\",\n",
    "               \"AKPRDDT2\", \"AKSHWNT1\", \"AKSHWNT2\"]"
   ]
  },
  {
   "cell_type": "code",
   "execution_count": 3,
   "id": "ee7815b7-a29c-40be-8c4b-68ab5290896f",
   "metadata": {},
   "outputs": [],
   "source": [
    "# specify the module that needs to be\n",
    "# imported relative to the path of the\n",
    "# module\n",
    "spec = importlib.util.spec_from_file_location(\"loadTrainTestPostedWaitTimes\", \"../src/data/loadTrainTestData.py\")\n",
    "\n",
    "# creates a new module based on spec\n",
    "loadTrainPosted = importlib.util.module_from_spec(spec)\n",
    "\n",
    "# executes the module in its own namespace\n",
    "# when a module is imported or reloaded.\n",
    "spec.loader.exec_module(loadTrainPosted)\n",
    "\n",
    "X_train, X_test, y_train, y_test = loadTrainPosted.loadTrainTestPostedWaitTimes()"
   ]
  },
  {
   "cell_type": "code",
   "execution_count": 4,
   "id": "96dcf7a5-43a8-4bf6-ad92-3a8dd258edac",
   "metadata": {},
   "outputs": [],
   "source": [
    "X_train[\"MONTHOFYEAR\"] = X_train[\"date\"].dt.month.astype(\"Int8\")\n",
    "X_train[\"YEAR\"] = X_train[\"date\"].dt.year.astype(\"Int16\")\n",
    "X_train[\"DAYOFYEAR\"] = X_train[\"date\"].dt.dayofyear.astype(\"Int16\")\n",
    "X_train[\"HOUROFDAY\"] = X_train[\"datetime\"].dt.hour.astype(\"Int8\")\n",
    "\n",
    "X_test[\"MONTHOFYEAR\"] = X_test[\"date\"].dt.month.astype(\"Int8\")\n",
    "X_test[\"YEAR\"] = X_test[\"date\"].dt.year.astype(\"Int16\")\n",
    "X_test[\"DAYOFYEAR\"] = X_test[\"date\"].dt.dayofyear.astype(\"Int16\")\n",
    "X_test[\"HOUROFDAY\"] = X_test[\"datetime\"].dt.hour.astype(\"Int8\")"
   ]
  },
  {
   "cell_type": "code",
   "execution_count": 5,
   "id": "9d6e6c5c-94a9-4913-81b5-19d8960cd016",
   "metadata": {},
   "outputs": [],
   "source": [
    "train = pd.concat([X_train, y_train], axis=1).sort_values(['datetime'])\n",
    "test = pd.concat([X_test, y_test], axis=1).sort_values(['datetime'])\n",
    "\n",
    "X_train_impute = train.drop(columns=[\"POSTED_WAIT\"])\n",
    "y_train = train[\"POSTED_WAIT\"]\n",
    "\n",
    "X_test_impute = test.drop(columns=[\"POSTED_WAIT\"])\n",
    "y_test = test[\"POSTED_WAIT\"]"
   ]
  },
  {
   "cell_type": "code",
   "execution_count": 6,
   "id": "12a6a77f-d336-4757-a862-99a9d615e197",
   "metadata": {},
   "outputs": [],
   "source": [
    "X_train_clean = X_train_impute.drop(columns=['date', 'datetime', 'Unnamed: 0'])\n",
    "X_test_clean = X_test_impute.drop(columns=['date', 'datetime', 'Unnamed: 0'])"
   ]
  },
  {
   "cell_type": "markdown",
   "id": "ef7617c4-1856-4334-8d3c-7d7c6c26edb3",
   "metadata": {},
   "source": [
    "# Pipeline"
   ]
  },
  {
   "cell_type": "markdown",
   "id": "ffc8abd2-ec90-491a-beb4-f33906281d6f",
   "metadata": {},
   "source": [
    "Helper Function for Imputation & Log Transformation"
   ]
  },
  {
   "cell_type": "code",
   "execution_count": 7,
   "id": "8639c9c1-a84e-45ce-9bb4-f7ebc07b7fdb",
   "metadata": {},
   "outputs": [],
   "source": [
    "allCols = list(X_train_clean.columns)\n",
    "\n",
    "def imputeTransform(x):\n",
    "    for col in x:\n",
    "        print(col)\n",
    "        if col in parse_times:\n",
    "            x[col] = x[col].fillna(\"99\")\n",
    "            x[col] = x[col].apply(lambda h: h[:2] if h[0]!=0 else h[:1]).astype(int).astype(\"Int8\")\n",
    "            \n",
    "        x[col] = x[col].fillna(method ='bfill')\n",
    "        x[col] = x[col].fillna(x[col].median())\n",
    "    \n",
    "            \n",
    "        if (x[col].dtype != \"bool\") and (abs(skew(list(x[col]))) > 0.8):\n",
    "            x[f\"log_{col}\"] = x[col].swifter.apply(lambda k: np.log(k+20)) # +20 linear scale on all values to ensure no resulting -inf vals\n",
    "            x.drop(columns=[col], inplace=True)\n",
    "    return x"
   ]
  },
  {
   "cell_type": "code",
   "execution_count": 8,
   "id": "4255a352-bcd9-4cb1-ac7b-90465111837d",
   "metadata": {},
   "outputs": [],
   "source": [
    "preprocessor = make_column_transformer(\n",
    "      (VarianceThreshold(threshold=0.001), selector(dtype_include=\"bool\")),\n",
    "      (RobustScaler(), selector(dtype_include=np.number)), remainder='passthrough')\n"
   ]
  },
  {
   "cell_type": "code",
   "execution_count": 9,
   "id": "8f6bae3b-ae8b-41ea-9734-cd97e52dc50c",
   "metadata": {
    "tags": []
   },
   "outputs": [],
   "source": [
    "# rf = Pipeline(\n",
    "#     steps=[(\"imputerAndLogTransformer\", FunctionTransformer(imputeTransform)),\n",
    "#            (\"preprocessor\", preprocessor), \n",
    "#            (\"regressor\", RandomForestRegressor(n_estimators=10, max_depth=50, n_jobs=-1, random_state=0))]\n",
    "# )\n",
    "\n",
    "# rf.fit(X_train_clean, y_train)\n",
    "\n",
    "# joblib.dump(rf, 'pipeline.pkl' + '.gz', compress=('gzip', 5)) \n",
    "\n",
    "############\n",
    "#OR\n",
    "############\n",
    "\n",
    "rf = joblib.load(\"pipeline.pkl.gz\")"
   ]
  },
  {
   "cell_type": "code",
   "execution_count": 10,
   "id": "fe33c4e5-9ea8-44eb-ac50-9a5cb3f64be3",
   "metadata": {
    "tags": []
   },
   "outputs": [
    {
     "name": "stdout",
     "output_type": "stream",
     "text": [
      "Ride_type_thrill\n",
      "Ride_type_spinning\n",
      "Ride_type_slow\n",
      "Ride_type_small_drops\n",
      "Ride_type_big_drops\n",
      "Ride_type_dark\n",
      "Fast_pass\n",
      "Classic\n",
      "Age_interest_preschoolers\n",
      "Age_interest_tweens\n",
      "Age_interest_teens\n",
      "Age_interest_adults\n",
      "Height_req_inches\n",
      "Ride_duration_min\n",
      "Age_of_ride_days\n",
      "Age_of_ride_years\n",
      "TL_rank\n",
      "TA_Stars\n",
      "DAYOFWEEK\n",
      "DAYOFYEAR\n",
      "WEEKOFYEAR\n",
      "MONTHOFYEAR\n",
      "YEAR\n",
      "HOLIDAYPX\n"
     ]
    },
    {
     "data": {
      "application/vnd.jupyter.widget-view+json": {
       "model_id": "db67e6ac6ce74d198e07b2e13b41c567",
       "version_major": 2,
       "version_minor": 0
      },
      "text/plain": [
       "Dask Apply:   0%|          | 0/64 [00:00<?, ?it/s]"
      ]
     },
     "metadata": {},
     "output_type": "display_data"
    },
    {
     "name": "stdout",
     "output_type": "stream",
     "text": [
      "HOLIDAYM\n"
     ]
    },
    {
     "data": {
      "application/vnd.jupyter.widget-view+json": {
       "model_id": "05dac9ffb8cc44e196ff0b6e8ead3b75",
       "version_major": 2,
       "version_minor": 0
      },
      "text/plain": [
       "Dask Apply:   0%|          | 0/64 [00:00<?, ?it/s]"
      ]
     },
     "metadata": {},
     "output_type": "display_data"
    },
    {
     "name": "stdout",
     "output_type": "stream",
     "text": [
      "HOLIDAY\n",
      "WDWevent\n",
      "WDWMAXTEMP\n",
      "WDWMINTEMP\n",
      "WDWMEANTEMP\n",
      "MKevent\n",
      "EPevent\n",
      "HSevent\n",
      "inSession\n"
     ]
    },
    {
     "data": {
      "application/vnd.jupyter.widget-view+json": {
       "model_id": "eccdd2ef6d044a0aac39112c5e1a196b",
       "version_major": 2,
       "version_minor": 0
      },
      "text/plain": [
       "Dask Apply:   0%|          | 0/64 [00:00<?, ?it/s]"
      ]
     },
     "metadata": {},
     "output_type": "display_data"
    },
    {
     "name": "stdout",
     "output_type": "stream",
     "text": [
      "inSession_Enrollment\n"
     ]
    },
    {
     "data": {
      "application/vnd.jupyter.widget-view+json": {
       "model_id": "4cb804e135b441998a2b1338b3902e4e",
       "version_major": 2,
       "version_minor": 0
      },
      "text/plain": [
       "Dask Apply:   0%|          | 0/64 [00:00<?, ?it/s]"
      ]
     },
     "metadata": {},
     "output_type": "display_data"
    },
    {
     "name": "stdout",
     "output_type": "stream",
     "text": [
      "inSession_wdw\n"
     ]
    },
    {
     "data": {
      "application/vnd.jupyter.widget-view+json": {
       "model_id": "56eba43a756c454bb3b3fbf524b80c1d",
       "version_major": 2,
       "version_minor": 0
      },
      "text/plain": [
       "Dask Apply:   0%|          | 0/64 [00:00<?, ?it/s]"
      ]
     },
     "metadata": {},
     "output_type": "display_data"
    },
    {
     "name": "stdout",
     "output_type": "stream",
     "text": [
      "inSession_dlr\n"
     ]
    },
    {
     "data": {
      "application/vnd.jupyter.widget-view+json": {
       "model_id": "c5028a6cd18946948fd276d10bb898b7",
       "version_major": 2,
       "version_minor": 0
      },
      "text/plain": [
       "Dask Apply:   0%|          | 0/64 [00:00<?, ?it/s]"
      ]
     },
     "metadata": {},
     "output_type": "display_data"
    },
    {
     "name": "stdout",
     "output_type": "stream",
     "text": [
      "inSession_sqrt_WDW\n"
     ]
    },
    {
     "data": {
      "application/vnd.jupyter.widget-view+json": {
       "model_id": "43de4f392f894fcf9134baec3f64237a",
       "version_major": 2,
       "version_minor": 0
      },
      "text/plain": [
       "Dask Apply:   0%|          | 0/64 [00:00<?, ?it/s]"
      ]
     },
     "metadata": {},
     "output_type": "display_data"
    },
    {
     "name": "stdout",
     "output_type": "stream",
     "text": [
      "inSession_sqrt_DLR\n"
     ]
    },
    {
     "data": {
      "application/vnd.jupyter.widget-view+json": {
       "model_id": "edce75279ffc44c8ba9ac703caa6cdfb",
       "version_major": 2,
       "version_minor": 0
      },
      "text/plain": [
       "Dask Apply:   0%|          | 0/64 [00:00<?, ?it/s]"
      ]
     },
     "metadata": {},
     "output_type": "display_data"
    },
    {
     "name": "stdout",
     "output_type": "stream",
     "text": [
      "inSession_California\n"
     ]
    },
    {
     "data": {
      "application/vnd.jupyter.widget-view+json": {
       "model_id": "1d31a4a446454019996b66cce29c3c57",
       "version_major": 2,
       "version_minor": 0
      },
      "text/plain": [
       "Dask Apply:   0%|          | 0/64 [00:00<?, ?it/s]"
      ]
     },
     "metadata": {},
     "output_type": "display_data"
    },
    {
     "name": "stdout",
     "output_type": "stream",
     "text": [
      "inSession_DC\n"
     ]
    },
    {
     "data": {
      "application/vnd.jupyter.widget-view+json": {
       "model_id": "f373b8e32f61417b963303dc3c36f43d",
       "version_major": 2,
       "version_minor": 0
      },
      "text/plain": [
       "Dask Apply:   0%|          | 0/64 [00:00<?, ?it/s]"
      ]
     },
     "metadata": {},
     "output_type": "display_data"
    },
    {
     "name": "stdout",
     "output_type": "stream",
     "text": [
      "inSession_Central_FL\n"
     ]
    },
    {
     "data": {
      "application/vnd.jupyter.widget-view+json": {
       "model_id": "40ab1f64d5c241219c061cee14b87026",
       "version_major": 2,
       "version_minor": 0
      },
      "text/plain": [
       "Dask Apply:   0%|          | 0/64 [00:00<?, ?it/s]"
      ]
     },
     "metadata": {},
     "output_type": "display_data"
    },
    {
     "name": "stdout",
     "output_type": "stream",
     "text": [
      "inSession_Drive1_FL\n"
     ]
    },
    {
     "data": {
      "application/vnd.jupyter.widget-view+json": {
       "model_id": "9c88ebf7598249d5928249840607a515",
       "version_major": 2,
       "version_minor": 0
      },
      "text/plain": [
       "Dask Apply:   0%|          | 0/64 [00:00<?, ?it/s]"
      ]
     },
     "metadata": {},
     "output_type": "display_data"
    },
    {
     "name": "stdout",
     "output_type": "stream",
     "text": [
      "inSession_Drive2_FL\n"
     ]
    },
    {
     "data": {
      "application/vnd.jupyter.widget-view+json": {
       "model_id": "ef69e892e341406aae27c91251efdb04",
       "version_major": 2,
       "version_minor": 0
      },
      "text/plain": [
       "Dask Apply:   0%|          | 0/64 [00:00<?, ?it/s]"
      ]
     },
     "metadata": {},
     "output_type": "display_data"
    },
    {
     "name": "stdout",
     "output_type": "stream",
     "text": [
      "inSession_Drive_CA\n"
     ]
    },
    {
     "data": {
      "application/vnd.jupyter.widget-view+json": {
       "model_id": "f505bbf63c20429aa565c2d979ef7df5",
       "version_major": 2,
       "version_minor": 0
      },
      "text/plain": [
       "Dask Apply:   0%|          | 0/64 [00:00<?, ?it/s]"
      ]
     },
     "metadata": {},
     "output_type": "display_data"
    },
    {
     "name": "stdout",
     "output_type": "stream",
     "text": [
      "inSession_Florida\n"
     ]
    },
    {
     "data": {
      "application/vnd.jupyter.widget-view+json": {
       "model_id": "ecd02e052d2b467e99444e56d6858503",
       "version_major": 2,
       "version_minor": 0
      },
      "text/plain": [
       "Dask Apply:   0%|          | 0/64 [00:00<?, ?it/s]"
      ]
     },
     "metadata": {},
     "output_type": "display_data"
    },
    {
     "name": "stdout",
     "output_type": "stream",
     "text": [
      "inSession_Mardi_Gras\n",
      "inSession_Midwest\n"
     ]
    },
    {
     "data": {
      "application/vnd.jupyter.widget-view+json": {
       "model_id": "69f114e96d8244559b2986752140cc62",
       "version_major": 2,
       "version_minor": 0
      },
      "text/plain": [
       "Dask Apply:   0%|          | 0/64 [00:00<?, ?it/s]"
      ]
     },
     "metadata": {},
     "output_type": "display_data"
    },
    {
     "name": "stdout",
     "output_type": "stream",
     "text": [
      "inSession_NY_NJ\n"
     ]
    },
    {
     "data": {
      "application/vnd.jupyter.widget-view+json": {
       "model_id": "f17816974b8c42ea8d9a0264e7904feb",
       "version_major": 2,
       "version_minor": 0
      },
      "text/plain": [
       "Dask Apply:   0%|          | 0/64 [00:00<?, ?it/s]"
      ]
     },
     "metadata": {},
     "output_type": "display_data"
    },
    {
     "name": "stdout",
     "output_type": "stream",
     "text": [
      "inSession_NY_NJ_PA\n"
     ]
    },
    {
     "data": {
      "application/vnd.jupyter.widget-view+json": {
       "model_id": "0626d4a44e0a471fbfd3fc584d7551f1",
       "version_major": 2,
       "version_minor": 0
      },
      "text/plain": [
       "Dask Apply:   0%|          | 0/64 [00:00<?, ?it/s]"
      ]
     },
     "metadata": {},
     "output_type": "display_data"
    },
    {
     "name": "stdout",
     "output_type": "stream",
     "text": [
      "inSession_New_England\n"
     ]
    },
    {
     "data": {
      "application/vnd.jupyter.widget-view+json": {
       "model_id": "fc9800340ebc480abde402b49dac0fdd",
       "version_major": 2,
       "version_minor": 0
      },
      "text/plain": [
       "Dask Apply:   0%|          | 0/64 [00:00<?, ?it/s]"
      ]
     },
     "metadata": {},
     "output_type": "display_data"
    },
    {
     "name": "stdout",
     "output_type": "stream",
     "text": [
      "inSession_New_Jersey\n"
     ]
    },
    {
     "data": {
      "application/vnd.jupyter.widget-view+json": {
       "model_id": "cf4699f383f745da89cf21bce875aabb",
       "version_major": 2,
       "version_minor": 0
      },
      "text/plain": [
       "Dask Apply:   0%|          | 0/64 [00:00<?, ?it/s]"
      ]
     },
     "metadata": {},
     "output_type": "display_data"
    },
    {
     "name": "stdout",
     "output_type": "stream",
     "text": [
      "inSession_Nothwest\n",
      "INSESSION_PLANES\n",
      "inSession_SoCal\n"
     ]
    },
    {
     "data": {
      "application/vnd.jupyter.widget-view+json": {
       "model_id": "fb5b6655f78442248694c7876b5ca994",
       "version_major": 2,
       "version_minor": 0
      },
      "text/plain": [
       "Dask Apply:   0%|          | 0/64 [00:00<?, ?it/s]"
      ]
     },
     "metadata": {},
     "output_type": "display_data"
    },
    {
     "name": "stdout",
     "output_type": "stream",
     "text": [
      "inSession_Southwest\n"
     ]
    },
    {
     "data": {
      "application/vnd.jupyter.widget-view+json": {
       "model_id": "188111c8b5f74a08a17e1a18b7b718e0",
       "version_major": 2,
       "version_minor": 0
      },
      "text/plain": [
       "Dask Apply:   0%|          | 0/64 [00:00<?, ?it/s]"
      ]
     },
     "metadata": {},
     "output_type": "display_data"
    },
    {
     "name": "stdout",
     "output_type": "stream",
     "text": [
      "MKEMHMORN\n",
      "MKEMHMYEST\n",
      "MKEMHMTOM\n",
      "MKEMHEVE\n",
      "MKHOURSEMH\n",
      "MKHOURSEMHYEST\n",
      "MKHOURSEMHTOM\n",
      "MKEMHEYEST\n",
      "MKEMHETOM\n",
      "EPEMHMORN\n",
      "EPEMHMYEST\n",
      "EPEMHMTOM\n",
      "EPEMHEVE\n",
      "EPEMHEYEST\n",
      "EPEMHETOM\n",
      "EPHOURSEMH\n",
      "EPHOURSEMHYEST\n",
      "EPHOURSEMHTOM\n",
      "HSEMHMORN\n",
      "HSEMHMYEST\n",
      "HSEMHMTOM\n",
      "HSEMHEVE\n",
      "HSEMHEYEST\n",
      "HSEMHETOM\n",
      "HSHOURSEMH\n",
      "HSHOURSEMHYEST\n",
      "HSHOURSEMHTOM\n",
      "AKEMHMORN\n",
      "AKEMHMYEST\n",
      "AKEMHMTOM\n",
      "AKHOURSEMH\n",
      "AKHOURSEMHYEST\n",
      "AKHOURSEMHTOM\n",
      "MKOPEN\n"
     ]
    },
    {
     "data": {
      "application/vnd.jupyter.widget-view+json": {
       "model_id": "223c23df52d445a18199f0d50a0214fa",
       "version_major": 2,
       "version_minor": 0
      },
      "text/plain": [
       "Dask Apply:   0%|          | 0/64 [00:00<?, ?it/s]"
      ]
     },
     "metadata": {},
     "output_type": "display_data"
    },
    {
     "name": "stdout",
     "output_type": "stream",
     "text": [
      "MKCLOSE\n"
     ]
    },
    {
     "data": {
      "application/vnd.jupyter.widget-view+json": {
       "model_id": "b92881053064498fa3d3adf7a6098e6c",
       "version_major": 2,
       "version_minor": 0
      },
      "text/plain": [
       "Dask Apply:   0%|          | 0/64 [00:00<?, ?it/s]"
      ]
     },
     "metadata": {},
     "output_type": "display_data"
    },
    {
     "name": "stdout",
     "output_type": "stream",
     "text": [
      "MKHOURS\n",
      "MKEMHOPEN\n",
      "MKEMHCLOSE\n",
      "MKOPENYEST\n"
     ]
    },
    {
     "data": {
      "application/vnd.jupyter.widget-view+json": {
       "model_id": "f95030625a4d48f789eb1f59e15bc630",
       "version_major": 2,
       "version_minor": 0
      },
      "text/plain": [
       "Dask Apply:   0%|          | 0/64 [00:00<?, ?it/s]"
      ]
     },
     "metadata": {},
     "output_type": "display_data"
    },
    {
     "name": "stdout",
     "output_type": "stream",
     "text": [
      "MKCLOSEYEST\n"
     ]
    },
    {
     "data": {
      "application/vnd.jupyter.widget-view+json": {
       "model_id": "35c671e7c23f46979cb86d3487e57dc5",
       "version_major": 2,
       "version_minor": 0
      },
      "text/plain": [
       "Dask Apply:   0%|          | 0/64 [00:00<?, ?it/s]"
      ]
     },
     "metadata": {},
     "output_type": "display_data"
    },
    {
     "name": "stdout",
     "output_type": "stream",
     "text": [
      "MKHOURSYEST\n",
      "MKOPENTOM\n"
     ]
    },
    {
     "data": {
      "application/vnd.jupyter.widget-view+json": {
       "model_id": "82e5dd1189b6471db7684f9105afdbc7",
       "version_major": 2,
       "version_minor": 0
      },
      "text/plain": [
       "Dask Apply:   0%|          | 0/64 [00:00<?, ?it/s]"
      ]
     },
     "metadata": {},
     "output_type": "display_data"
    },
    {
     "name": "stdout",
     "output_type": "stream",
     "text": [
      "MKCLOSETOM\n"
     ]
    },
    {
     "data": {
      "application/vnd.jupyter.widget-view+json": {
       "model_id": "a2155b4f64154b52be0d49df8666931f",
       "version_major": 2,
       "version_minor": 0
      },
      "text/plain": [
       "Dask Apply:   0%|          | 0/64 [00:00<?, ?it/s]"
      ]
     },
     "metadata": {},
     "output_type": "display_data"
    },
    {
     "name": "stdout",
     "output_type": "stream",
     "text": [
      "MKHOURSTOM\n",
      "EPOPEN\n"
     ]
    },
    {
     "data": {
      "application/vnd.jupyter.widget-view+json": {
       "model_id": "ddef1e6172824b40a47acae3f59fbe76",
       "version_major": 2,
       "version_minor": 0
      },
      "text/plain": [
       "Dask Apply:   0%|          | 0/64 [00:00<?, ?it/s]"
      ]
     },
     "metadata": {},
     "output_type": "display_data"
    },
    {
     "name": "stdout",
     "output_type": "stream",
     "text": [
      "EPCLOSE\n"
     ]
    },
    {
     "data": {
      "application/vnd.jupyter.widget-view+json": {
       "model_id": "6e792972394b46e9914f3f6c8c2767d5",
       "version_major": 2,
       "version_minor": 0
      },
      "text/plain": [
       "Dask Apply:   0%|          | 0/64 [00:00<?, ?it/s]"
      ]
     },
     "metadata": {},
     "output_type": "display_data"
    },
    {
     "name": "stdout",
     "output_type": "stream",
     "text": [
      "EPHOURS\n",
      "EPEMHOPEN\n"
     ]
    },
    {
     "data": {
      "application/vnd.jupyter.widget-view+json": {
       "model_id": "89ad7cbf84d64eff8fc97bec9374bc5e",
       "version_major": 2,
       "version_minor": 0
      },
      "text/plain": [
       "Dask Apply:   0%|          | 0/64 [00:00<?, ?it/s]"
      ]
     },
     "metadata": {},
     "output_type": "display_data"
    },
    {
     "name": "stdout",
     "output_type": "stream",
     "text": [
      "EPEMHCLOSE\n"
     ]
    },
    {
     "data": {
      "application/vnd.jupyter.widget-view+json": {
       "model_id": "f82fad7568d34b4bb036cac479174bbe",
       "version_major": 2,
       "version_minor": 0
      },
      "text/plain": [
       "Dask Apply:   0%|          | 0/64 [00:00<?, ?it/s]"
      ]
     },
     "metadata": {},
     "output_type": "display_data"
    },
    {
     "name": "stdout",
     "output_type": "stream",
     "text": [
      "EPOPENYEST\n"
     ]
    },
    {
     "data": {
      "application/vnd.jupyter.widget-view+json": {
       "model_id": "d1b37f5e75654a00881e41047f920fa5",
       "version_major": 2,
       "version_minor": 0
      },
      "text/plain": [
       "Dask Apply:   0%|          | 0/64 [00:00<?, ?it/s]"
      ]
     },
     "metadata": {},
     "output_type": "display_data"
    },
    {
     "name": "stdout",
     "output_type": "stream",
     "text": [
      "EPCLOSEYEST\n"
     ]
    },
    {
     "data": {
      "application/vnd.jupyter.widget-view+json": {
       "model_id": "ffbd6d3f6d0043a69cc0d4d3f6a3a134",
       "version_major": 2,
       "version_minor": 0
      },
      "text/plain": [
       "Dask Apply:   0%|          | 0/64 [00:00<?, ?it/s]"
      ]
     },
     "metadata": {},
     "output_type": "display_data"
    },
    {
     "name": "stdout",
     "output_type": "stream",
     "text": [
      "EPHOURSYEST\n",
      "EPOPENTOM\n"
     ]
    },
    {
     "data": {
      "application/vnd.jupyter.widget-view+json": {
       "model_id": "b188c11475224f8bbc02539a1cf097ab",
       "version_major": 2,
       "version_minor": 0
      },
      "text/plain": [
       "Dask Apply:   0%|          | 0/64 [00:00<?, ?it/s]"
      ]
     },
     "metadata": {},
     "output_type": "display_data"
    },
    {
     "name": "stdout",
     "output_type": "stream",
     "text": [
      "EPCLOSETOM\n"
     ]
    },
    {
     "data": {
      "application/vnd.jupyter.widget-view+json": {
       "model_id": "4b1554d7fd744f1fa90dc6365cfb0246",
       "version_major": 2,
       "version_minor": 0
      },
      "text/plain": [
       "Dask Apply:   0%|          | 0/64 [00:00<?, ?it/s]"
      ]
     },
     "metadata": {},
     "output_type": "display_data"
    },
    {
     "name": "stdout",
     "output_type": "stream",
     "text": [
      "EPHOURSTOM\n",
      "HSOPEN\n"
     ]
    },
    {
     "data": {
      "application/vnd.jupyter.widget-view+json": {
       "model_id": "957761e388d840abac4e519250d6070e",
       "version_major": 2,
       "version_minor": 0
      },
      "text/plain": [
       "Dask Apply:   0%|          | 0/64 [00:00<?, ?it/s]"
      ]
     },
     "metadata": {},
     "output_type": "display_data"
    },
    {
     "name": "stdout",
     "output_type": "stream",
     "text": [
      "HSCLOSE\n"
     ]
    },
    {
     "data": {
      "application/vnd.jupyter.widget-view+json": {
       "model_id": "cf7aef28053945cb8848420184bab1d8",
       "version_major": 2,
       "version_minor": 0
      },
      "text/plain": [
       "Dask Apply:   0%|          | 0/64 [00:00<?, ?it/s]"
      ]
     },
     "metadata": {},
     "output_type": "display_data"
    },
    {
     "name": "stdout",
     "output_type": "stream",
     "text": [
      "HSHOURS\n",
      "HSEMHOPEN\n"
     ]
    },
    {
     "data": {
      "application/vnd.jupyter.widget-view+json": {
       "model_id": "74b8a0c456454bf79348b6d66607045e",
       "version_major": 2,
       "version_minor": 0
      },
      "text/plain": [
       "Dask Apply:   0%|          | 0/64 [00:00<?, ?it/s]"
      ]
     },
     "metadata": {},
     "output_type": "display_data"
    },
    {
     "name": "stdout",
     "output_type": "stream",
     "text": [
      "HSEMHCLOSE\n"
     ]
    },
    {
     "data": {
      "application/vnd.jupyter.widget-view+json": {
       "model_id": "5fbb48b004e74c4388039d6f3d69eb75",
       "version_major": 2,
       "version_minor": 0
      },
      "text/plain": [
       "Dask Apply:   0%|          | 0/64 [00:00<?, ?it/s]"
      ]
     },
     "metadata": {},
     "output_type": "display_data"
    },
    {
     "name": "stdout",
     "output_type": "stream",
     "text": [
      "HSOPENYEST\n"
     ]
    },
    {
     "data": {
      "application/vnd.jupyter.widget-view+json": {
       "model_id": "c7a90bf0fd4b4ad7b3be6da60f8de18b",
       "version_major": 2,
       "version_minor": 0
      },
      "text/plain": [
       "Dask Apply:   0%|          | 0/64 [00:00<?, ?it/s]"
      ]
     },
     "metadata": {},
     "output_type": "display_data"
    },
    {
     "name": "stdout",
     "output_type": "stream",
     "text": [
      "HSCLOSEYEST\n"
     ]
    },
    {
     "data": {
      "application/vnd.jupyter.widget-view+json": {
       "model_id": "db4fd4b4f57e4885925b74dcef429dd4",
       "version_major": 2,
       "version_minor": 0
      },
      "text/plain": [
       "Dask Apply:   0%|          | 0/64 [00:00<?, ?it/s]"
      ]
     },
     "metadata": {},
     "output_type": "display_data"
    },
    {
     "name": "stdout",
     "output_type": "stream",
     "text": [
      "HSHOURSYEST\n",
      "HSOPENTOM\n"
     ]
    },
    {
     "data": {
      "application/vnd.jupyter.widget-view+json": {
       "model_id": "ec59ec25e2284162989960836821d016",
       "version_major": 2,
       "version_minor": 0
      },
      "text/plain": [
       "Dask Apply:   0%|          | 0/64 [00:00<?, ?it/s]"
      ]
     },
     "metadata": {},
     "output_type": "display_data"
    },
    {
     "name": "stdout",
     "output_type": "stream",
     "text": [
      "HSCLOSETOM\n"
     ]
    },
    {
     "data": {
      "application/vnd.jupyter.widget-view+json": {
       "model_id": "89fa482edecd484aa525c110647cb456",
       "version_major": 2,
       "version_minor": 0
      },
      "text/plain": [
       "Dask Apply:   0%|          | 0/64 [00:00<?, ?it/s]"
      ]
     },
     "metadata": {},
     "output_type": "display_data"
    },
    {
     "name": "stdout",
     "output_type": "stream",
     "text": [
      "HSHOURSTOM\n",
      "AKOPEN\n"
     ]
    },
    {
     "data": {
      "application/vnd.jupyter.widget-view+json": {
       "model_id": "dbe5595c5ebc4b7a90db05a746a5324c",
       "version_major": 2,
       "version_minor": 0
      },
      "text/plain": [
       "Dask Apply:   0%|          | 0/64 [00:00<?, ?it/s]"
      ]
     },
     "metadata": {},
     "output_type": "display_data"
    },
    {
     "name": "stdout",
     "output_type": "stream",
     "text": [
      "AKCLOSE\n"
     ]
    },
    {
     "data": {
      "application/vnd.jupyter.widget-view+json": {
       "model_id": "8171e7f6f6aa45b4bd12588bb0e50a18",
       "version_major": 2,
       "version_minor": 0
      },
      "text/plain": [
       "Dask Apply:   0%|          | 0/64 [00:00<?, ?it/s]"
      ]
     },
     "metadata": {},
     "output_type": "display_data"
    },
    {
     "name": "stdout",
     "output_type": "stream",
     "text": [
      "AKHOURS\n",
      "AKEMHOPEN\n",
      "AKEMHCLOSE\n",
      "AKOPENYEST\n"
     ]
    },
    {
     "data": {
      "application/vnd.jupyter.widget-view+json": {
       "model_id": "4a08eb690f4144599870ef3cbfa9f8f6",
       "version_major": 2,
       "version_minor": 0
      },
      "text/plain": [
       "Dask Apply:   0%|          | 0/64 [00:00<?, ?it/s]"
      ]
     },
     "metadata": {},
     "output_type": "display_data"
    },
    {
     "name": "stdout",
     "output_type": "stream",
     "text": [
      "AKCLOSEYEST\n"
     ]
    },
    {
     "data": {
      "application/vnd.jupyter.widget-view+json": {
       "model_id": "0cdb2d95652a4bf3823a65ec74c0696b",
       "version_major": 2,
       "version_minor": 0
      },
      "text/plain": [
       "Dask Apply:   0%|          | 0/64 [00:00<?, ?it/s]"
      ]
     },
     "metadata": {},
     "output_type": "display_data"
    },
    {
     "name": "stdout",
     "output_type": "stream",
     "text": [
      "AKHOURSYEST\n",
      "AKOPENTOM\n"
     ]
    },
    {
     "data": {
      "application/vnd.jupyter.widget-view+json": {
       "model_id": "8ae220b9e6ab434bab074a67f404cbd8",
       "version_major": 2,
       "version_minor": 0
      },
      "text/plain": [
       "Dask Apply:   0%|          | 0/64 [00:00<?, ?it/s]"
      ]
     },
     "metadata": {},
     "output_type": "display_data"
    },
    {
     "name": "stdout",
     "output_type": "stream",
     "text": [
      "AKCLOSETOM\n"
     ]
    },
    {
     "data": {
      "application/vnd.jupyter.widget-view+json": {
       "model_id": "949459207eca4359af0b0e605bf1322f",
       "version_major": 2,
       "version_minor": 0
      },
      "text/plain": [
       "Dask Apply:   0%|          | 0/64 [00:00<?, ?it/s]"
      ]
     },
     "metadata": {},
     "output_type": "display_data"
    },
    {
     "name": "stdout",
     "output_type": "stream",
     "text": [
      "AKHOURSTOM\n",
      "WEATHER_WDWHIGH\n",
      "WEATHER_WDWLOW\n",
      "CapacityLost_MK\n",
      "CapacityLost_EP\n",
      "CapacityLost_HS\n",
      "CapacityLost_AK\n",
      "CapacityLostWGT_MK\n",
      "CapacityLostWGT_EP\n",
      "CapacityLostWGT_HS\n",
      "CapacityLostWGT_AK\n",
      "MKPRDDAY\n"
     ]
    },
    {
     "data": {
      "application/vnd.jupyter.widget-view+json": {
       "model_id": "409148828b48482f85c6ef427cfb3ad8",
       "version_major": 2,
       "version_minor": 0
      },
      "text/plain": [
       "Dask Apply:   0%|          | 0/64 [00:00<?, ?it/s]"
      ]
     },
     "metadata": {},
     "output_type": "display_data"
    },
    {
     "name": "stdout",
     "output_type": "stream",
     "text": [
      "MKPRDDT1\n"
     ]
    },
    {
     "data": {
      "application/vnd.jupyter.widget-view+json": {
       "model_id": "9776d82104a342c5a1024431cdd37fe7",
       "version_major": 2,
       "version_minor": 0
      },
      "text/plain": [
       "Dask Apply:   0%|          | 0/64 [00:00<?, ?it/s]"
      ]
     },
     "metadata": {},
     "output_type": "display_data"
    },
    {
     "name": "stdout",
     "output_type": "stream",
     "text": [
      "MKPRDDT2\n"
     ]
    },
    {
     "data": {
      "application/vnd.jupyter.widget-view+json": {
       "model_id": "156042cb5b0c46ec83eeb93975a5ee4a",
       "version_major": 2,
       "version_minor": 0
      },
      "text/plain": [
       "Dask Apply:   0%|          | 0/64 [00:00<?, ?it/s]"
      ]
     },
     "metadata": {},
     "output_type": "display_data"
    },
    {
     "name": "stdout",
     "output_type": "stream",
     "text": [
      "MKPRDNGT\n",
      "MKPRDNT1\n",
      "MKPRDNT2\n"
     ]
    },
    {
     "data": {
      "application/vnd.jupyter.widget-view+json": {
       "model_id": "a13e7d27050b402baf64cc190de82bcd",
       "version_major": 2,
       "version_minor": 0
      },
      "text/plain": [
       "Dask Apply:   0%|          | 0/64 [00:00<?, ?it/s]"
      ]
     },
     "metadata": {},
     "output_type": "display_data"
    },
    {
     "name": "stdout",
     "output_type": "stream",
     "text": [
      "MKFIREWK\n"
     ]
    },
    {
     "data": {
      "application/vnd.jupyter.widget-view+json": {
       "model_id": "cc38cc921a024aebb227c8a0fdf65036",
       "version_major": 2,
       "version_minor": 0
      },
      "text/plain": [
       "Dask Apply:   0%|          | 0/64 [00:00<?, ?it/s]"
      ]
     },
     "metadata": {},
     "output_type": "display_data"
    },
    {
     "name": "stdout",
     "output_type": "stream",
     "text": [
      "MKFIRET1\n"
     ]
    },
    {
     "data": {
      "application/vnd.jupyter.widget-view+json": {
       "model_id": "56f4b92ee98e49aeb277622101ba3624",
       "version_major": 2,
       "version_minor": 0
      },
      "text/plain": [
       "Dask Apply:   0%|          | 0/64 [00:00<?, ?it/s]"
      ]
     },
     "metadata": {},
     "output_type": "display_data"
    },
    {
     "name": "stdout",
     "output_type": "stream",
     "text": [
      "MKFIRET2\n"
     ]
    },
    {
     "data": {
      "application/vnd.jupyter.widget-view+json": {
       "model_id": "4ec07c753a844181a854ac200a73c097",
       "version_major": 2,
       "version_minor": 0
      },
      "text/plain": [
       "Dask Apply:   0%|          | 0/64 [00:00<?, ?it/s]"
      ]
     },
     "metadata": {},
     "output_type": "display_data"
    },
    {
     "name": "stdout",
     "output_type": "stream",
     "text": [
      "EPFIREWK\n"
     ]
    },
    {
     "data": {
      "application/vnd.jupyter.widget-view+json": {
       "model_id": "36a55ed02651452b8b31c55968d4e53d",
       "version_major": 2,
       "version_minor": 0
      },
      "text/plain": [
       "Dask Apply:   0%|          | 0/64 [00:00<?, ?it/s]"
      ]
     },
     "metadata": {},
     "output_type": "display_data"
    },
    {
     "name": "stdout",
     "output_type": "stream",
     "text": [
      "EPFIRET1\n"
     ]
    },
    {
     "data": {
      "application/vnd.jupyter.widget-view+json": {
       "model_id": "e9a95deaf2064251bc390265465e4306",
       "version_major": 2,
       "version_minor": 0
      },
      "text/plain": [
       "Dask Apply:   0%|          | 0/64 [00:00<?, ?it/s]"
      ]
     },
     "metadata": {},
     "output_type": "display_data"
    },
    {
     "name": "stdout",
     "output_type": "stream",
     "text": [
      "EPFIRET2\n"
     ]
    },
    {
     "data": {
      "application/vnd.jupyter.widget-view+json": {
       "model_id": "44fe358d5b704dd086ea41f30dc2369c",
       "version_major": 2,
       "version_minor": 0
      },
      "text/plain": [
       "Dask Apply:   0%|          | 0/64 [00:00<?, ?it/s]"
      ]
     },
     "metadata": {},
     "output_type": "display_data"
    },
    {
     "name": "stdout",
     "output_type": "stream",
     "text": [
      "HSPRDDT1\n",
      "HSFIREWK\n",
      "HSFIRET1\n"
     ]
    },
    {
     "data": {
      "application/vnd.jupyter.widget-view+json": {
       "model_id": "9003fe11ec1841149bf1c6e7eb0d5d17",
       "version_major": 2,
       "version_minor": 0
      },
      "text/plain": [
       "Dask Apply:   0%|          | 0/64 [00:00<?, ?it/s]"
      ]
     },
     "metadata": {},
     "output_type": "display_data"
    },
    {
     "name": "stdout",
     "output_type": "stream",
     "text": [
      "HSFIRET2\n"
     ]
    },
    {
     "data": {
      "application/vnd.jupyter.widget-view+json": {
       "model_id": "c6b8b646e2f34714a122d88f3a7fada9",
       "version_major": 2,
       "version_minor": 0
      },
      "text/plain": [
       "Dask Apply:   0%|          | 0/64 [00:00<?, ?it/s]"
      ]
     },
     "metadata": {},
     "output_type": "display_data"
    },
    {
     "name": "stdout",
     "output_type": "stream",
     "text": [
      "HSSHWNGT\n",
      "HSSHWNT1\n"
     ]
    },
    {
     "data": {
      "application/vnd.jupyter.widget-view+json": {
       "model_id": "3ea50a909c9047b0946d1fce02aaa3e3",
       "version_major": 2,
       "version_minor": 0
      },
      "text/plain": [
       "Dask Apply:   0%|          | 0/64 [00:00<?, ?it/s]"
      ]
     },
     "metadata": {},
     "output_type": "display_data"
    },
    {
     "name": "stdout",
     "output_type": "stream",
     "text": [
      "HSSHWNT2\n",
      "AKPRDDT1\n",
      "AKPRDDT2\n",
      "AKSHWNGT\n",
      "AKSHWNT1\n",
      "AKSHWNT2\n",
      "new_case\n",
      "Wind Angle\n",
      "Wind Speed\n",
      "Cloud Height\n",
      "Visibility Distance (M)\n",
      "Temperature (C)\n",
      "Weather Type\n",
      "WDW_TICKET_SEASON_none\n",
      "WDW_TICKET_SEASON_peak\n",
      "WDW_TICKET_SEASON_regular\n",
      "WDW_TICKET_SEASON_value\n",
      "SEASON_christmas\n",
      "SEASON_christmas peak\n",
      "SEASON_columbus day\n",
      "SEASON_easter\n",
      "SEASON_fall\n",
      "SEASON_halloween\n",
      "SEASON_jersey week\n",
      "SEASON_july 4th\n",
      "SEASON_mardi gras\n",
      "SEASON_martin luther king junior day\n",
      "SEASON_memorial day\n",
      "SEASON_none\n",
      "SEASON_presidents week\n",
      "SEASON_september low\n",
      "SEASON_spring\n",
      "SEASON_summer break\n",
      "SEASON_thanksgiving\n",
      "SEASON_winter\n",
      "HOLIDAYN_ash\n",
      "HOLIDAYN_ash|val\n",
      "HOLIDAYN_cdm\n",
      "HOLIDAYN_chv\n",
      "HOLIDAYN_chv|pas\n",
      "HOLIDAYN_cmd\n",
      "HOLIDAYN_cmd|han\n",
      "HOLIDAYN_cme\n",
      "HOLIDAYN_col\n",
      "HOLIDAYN_col|suk\n",
      "HOLIDAYN_elc\n",
      "HOLIDAYN_esm\n",
      "HOLIDAYN_ess\n",
      "HOLIDAYN_fat\n",
      "HOLIDAYN_gfr\n",
      "HOLIDAYN_hal\n",
      "HOLIDAYN_hal|nvd\n",
      "HOLIDAYN_han\n",
      "HOLIDAYN_ind\n",
      "HOLIDAYN_lab\n",
      "HOLIDAYN_mem\n",
      "HOLIDAYN_mgs\n",
      "HOLIDAYN_mlk\n",
      "HOLIDAYN_mot\n",
      "HOLIDAYN_njc\n",
      "HOLIDAYN_njc|vet\n",
      "HOLIDAYN_none\n",
      "HOLIDAYN_nvd\n",
      "HOLIDAYN_nyd\n",
      "HOLIDAYN_nye\n",
      "HOLIDAYN_pas\n",
      "HOLIDAYN_prs\n",
      "HOLIDAYN_pur\n",
      "HOLIDAYN_rha\n",
      "HOLIDAYN_sbs\n",
      "HOLIDAYN_sha\n",
      "HOLIDAYN_stp\n",
      "HOLIDAYN_suk\n",
      "HOLIDAYN_svt\n",
      "HOLIDAYN_thk\n",
      "HOLIDAYN_utc\n",
      "HOLIDAYN_val\n",
      "HOLIDAYN_vet\n",
      "HOLIDAYN_ymk\n",
      "WDWRaceN_marwk\n",
      "WDWRaceN_none\n",
      "WDWRaceN_prhalf\n",
      "WDWRaceN_swhds\n",
      "WDWRaceN_swrr\n",
      "WDWRaceN_wdhalf\n",
      "WDWeventN_gdo\n",
      "WDWeventN_njwk\n",
      "WDWeventN_none\n",
      "WDWeventN_probowl\n",
      "WDWeventN_pwsb\n",
      "WDWeventN_pwsb|wdwhol\n",
      "WDWeventN_wdwdd\n",
      "WDWeventN_wdwdd|wdwhol\n",
      "WDWeventN_wdwhol\n",
      "WDWSEASON_christmas\n",
      "WDWSEASON_christmas peak\n",
      "WDWSEASON_columbus day\n",
      "WDWSEASON_easter\n",
      "WDWSEASON_fall\n",
      "WDWSEASON_halloween\n",
      "WDWSEASON_jersey week\n",
      "WDWSEASON_july 4th\n",
      "WDWSEASON_mardi gras\n",
      "WDWSEASON_martin luther king junior day\n",
      "WDWSEASON_memorial day\n",
      "WDWSEASON_none\n",
      "WDWSEASON_presidents week\n",
      "WDWSEASON_september low\n",
      "WDWSEASON_spring\n",
      "WDWSEASON_summer break\n",
      "WDWSEASON_thanksgiving\n",
      "WDWSEASON_winter\n",
      "MKeventN_dah\n",
      "MKeventN_dah|emm\n",
      "MKeventN_dvah\n",
      "MKeventN_emm\n",
      "MKeventN_emm|mnsshp\n",
      "MKeventN_emm|mvmcp\n",
      "MKeventN_mkhol\n",
      "MKeventN_mkhol|mvmcp\n",
      "MKeventN_mnsshp\n",
      "MKeventN_mvmcp\n",
      "MKeventN_none\n",
      "EPeventN_epfa\n",
      "EPeventN_epfg\n",
      "EPeventN_epfw\n",
      "EPeventN_ephol\n",
      "EPeventN_none\n",
      "HSeventN_clubv\n",
      "HSeventN_emmhs\n",
      "HSeventN_hsah\n",
      "HSeventN_none\n",
      "HSeventN_swgn\n",
      "HSeventN_wdwsotf\n",
      "AKeventN_akah\n",
      "AKeventN_none\n",
      "AKeventN_pftp\n",
      "HOLIDAYJ_hanukkah\n",
      "HOLIDAYJ_none\n",
      "HOLIDAYJ_passover\n",
      "HOLIDAYJ_purim\n",
      "HOLIDAYJ_rash hashanah\n",
      "HOLIDAYJ_shavuot\n",
      "HOLIDAYJ_shemini atzeret\n",
      "HOLIDAYJ_sukkot\n",
      "HOLIDAYJ_yom kippur\n",
      "Ride_name_astro orbiter\n",
      "Ride_name_big thunder mountain railroad\n",
      "Ride_name_buzz lightyear's space ranger spin\n",
      "Ride_name_dumbo the flying elephant\n",
      "Ride_name_haunted mansion\n",
      "Ride_name_it's a small world\n",
      "Ride_name_jungle cruise\n",
      "Ride_name_mad tea party\n",
      "Ride_name_peter pan's flight\n",
      "Ride_name_pirates of the caribbean\n",
      "Ride_name_prince charming regal carrousel\n",
      "Ride_name_seven dwarfs mine train\n",
      "Ride_name_space mountain\n",
      "Ride_name_splash mountain\n",
      "Ride_name_the barnstormer\n",
      "Ride_name_the magic carpets of aladdin\n",
      "Ride_name_the many adventures of winnie the pooh\n",
      "Ride_name_tomorrowland speedway\n",
      "Ride_name_tomorrowland transit authority peoplemover\n",
      "Ride_name_walt disney's carousel of progress\n",
      "Park_area_adventureland\n",
      "Park_area_fantasyland\n",
      "Park_area_frontierland\n",
      "Park_area_liberty square\n",
      "Park_area_tomorrowland\n",
      "MKPRDDN_disney festival of fantasy parade\n",
      "MKPRDDN_mickey's once upon a christmastime parade\n",
      "MKPRDDN_none\n",
      "MKPRDNN_main street electrical parade\n",
      "MKPRDNN_mickey's \"boo-to-you\" halloween parade\n",
      "MKPRDNN_none\n",
      "MKFIREN_disney's celebrate america! - a fourth of july concert in the sky\n",
      "MKFIREN_disney's not so spooky spectacular\n",
      "MKFIREN_fantasy in the sky fireworks\n",
      "MKFIREN_happily ever after\n",
      "MKFIREN_happy hallowishes fireworks\n",
      "MKFIREN_holiday wishes: celebrate the spirit of the season\n",
      "MKFIREN_minnie’s wonderful christmastime fireworks\n",
      "MKFIREN_none\n",
      "MKFIREN_wishes nighttime spectacular\n",
      "EPFIREN_epcot forever\n",
      "EPFIREN_illuminations: reflections of earth\n",
      "EPFIREN_none\n",
      "HSFIREN_disney's hollywood studios special july 4th fireworks presentation\n",
      "HSFIREN_frozen fireworks spectacular\n",
      "HSFIREN_jingle bell, jingle bam!\n",
      "HSFIREN_new year's eve fireworks\n",
      "HSFIREN_none\n",
      "HSFIREN_star wars: a galactic spectacular\n",
      "HSFIREN_symphony in the stars: a galactic spectacular\n",
      "HSSHWNN_fantasmic!\n",
      "HSSHWNN_none\n",
      "HSSHWNN_wonderful world of animation\n",
      "AKSHWNN_none\n",
      "AKSHWNN_rivers of light\n",
      "AKSHWNN_the jungle book: alive with magic\n",
      "Wind Quality Code_passed all quality control checks\n",
      "Wind Quality Code_passed all quality control checks, data originate from an ncei data source\n",
      "Wind Quality Code_passed gross limits check if element is present\n",
      "Wind Type Code_calm\n",
      "Wind Type Code_normal\n",
      "Wind Type Code_variable\n",
      "Wind Speed Quality_a\n",
      "Wind Speed Quality_p\n",
      "Wind Speed Quality_passed all quality control checks\n",
      "Wind Speed Quality_passed all quality control checks, data originate from an ncei data source\n",
      "Wind Speed Quality_passed gross limits check if element is present\n",
      "Cloud Quality Code_erroneous, data originate from an ncei data source\n",
      "Cloud Quality Code_passed all quality control checks\n",
      "Cloud Quality Code_passed all quality control checks, data originate from an ncei data source\n",
      "Cloud Quality Code_passed gross limits check if element is present\n",
      "Cloud Quality Code_suspect, data originate from an ncei data source\n",
      "Cloud Determination Code_measured\n",
      "Cloud Determination Code_missing\n",
      "Cloud Determination Code_obscured\n",
      "Cloud Determination Code_statistically derived\n",
      "Visibiliy Quality Code_a\n",
      "Visibiliy Quality Code_p\n",
      "Visibiliy Quality Code_passed all quality control checks\n",
      "Visibiliy Quality Code_passed all quality control checks, data originate from an ncei data source\n",
      "Visibility Variability Code_missing\n",
      "Visibility Variability Code_not variable\n",
      "Visibility Variability Code_variable\n",
      "Visibility Quality Variability Code_a\n",
      "Visibility Quality Variability Code_passed all quality control checks, data originate from an ncei data source\n",
      "Visibility Quality Variability Code_passed gross limits check if element is present\n",
      "Temperature Quality Code_data value flagged as suspect, but accepted as a good value\n",
      "Temperature Quality Code_passed all quality control checks\n",
      "Temperature Quality Code_passed all quality control checks, data originate from an ncei data source\n",
      "Temperature Quality Code_suspect, data originate from an ncei data source\n",
      "HOUROFDAY\n"
     ]
    }
   ],
   "source": [
    "pred = rf.predict(X_test_clean)"
   ]
  },
  {
   "cell_type": "code",
   "execution_count": 11,
   "id": "5ae4d015-c180-4088-aac5-7d06ce6c555c",
   "metadata": {},
   "outputs": [
    {
     "name": "stdout",
     "output_type": "stream",
     "text": [
      "MAE:  32.60092688790606\n",
      "MSE:  14949.657417195534\n",
      "RMSE:  122.26879167308203\n",
      "R-SQUARED:  0.8232275272328865\n"
     ]
    }
   ],
   "source": [
    "mae = metrics.mean_absolute_error(y_test, pred)\n",
    "mse = metrics.mean_squared_error(y_test, pred)\n",
    "rmse = np.sqrt(metrics.mean_squared_error(y_test, pred))\n",
    "r2 = metrics.r2_score(y_test, pred)\n",
    "\n",
    "print(\"MAE: \", mae)\n",
    "print(\"MSE: \", mse)\n",
    "print(\"RMSE: \", rmse)\n",
    "print(\"R-SQUARED: \", r2)"
   ]
  },
  {
   "cell_type": "code",
   "execution_count": 12,
   "id": "8b2eb086-2ced-4a27-a45c-cdd552d7695a",
   "metadata": {},
   "outputs": [
    {
     "name": "stdout",
     "output_type": "stream",
     "text": [
      "(PREDICTED, ACTUAL)\n",
      "(29.0, 30)\n",
      "(24.0, 30)\n",
      "(24.0, 30)\n",
      "(14.0, 20)\n",
      "(24.0, 20)\n",
      "(60.0, 70)\n",
      "(29.0, 30)\n",
      "(6.0, 5)\n",
      "(26.0, 20)\n",
      "(25.0, 30)\n",
      "(12.0, 20)\n",
      "(12.0, 20)\n",
      "(81.0, 95)\n",
      "(26.0, 30)\n",
      "(12.0, 10)\n",
      "(29.0, 25)\n",
      "(10.0, 10)\n",
      "(6.0, 5)\n",
      "(55.0, 55)\n",
      "(35.0, 40)\n"
     ]
    }
   ],
   "source": [
    "print(\"(PREDICTED, ACTUAL)\")\n",
    "for x in zip(np.round(pred[3000:3020], 0), y_test[3000:3020].values):\n",
    "    print(x)"
   ]
  },
  {
   "cell_type": "markdown",
   "id": "8dccd721-b54a-45f4-8245-7ded581768f4",
   "metadata": {},
   "source": [
    "# Regression Results Exploration"
   ]
  },
  {
   "cell_type": "code",
   "execution_count": 13,
   "id": "e2eaf94a-2532-41e4-9eaf-f94e944020b7",
   "metadata": {},
   "outputs": [],
   "source": [
    "original_features = X_test_impute.drop(columns=['date', 'datetime', 'Unnamed: 0'])\n",
    "\n",
    "all_test = pd.concat([original_features, pd.Series(pred)], axis = 1).rename(columns={0:\"PREDICTED_WAIT\"})"
   ]
  },
  {
   "cell_type": "markdown",
   "id": "37c8230a-63da-4fc5-b05e-2609f1ab689c",
   "metadata": {},
   "source": [
    "### Big Thunder Mountain Railroad\n",
    "\n",
    "\n",
    "This ride is predicted to be down significantly less after 10AM with wait times remaining fairly consistent after 10AM.\n",
    "\n",
    "The wait times are highly correlated with capacity metrics & whether there is a show/parade at Magic Kingdom."
   ]
  },
  {
   "cell_type": "code",
   "execution_count": 226,
   "id": "f37169d7-51b8-4a94-8d7c-5a334bcb9da5",
   "metadata": {
    "jupyter": {
     "source_hidden": true
    },
    "tags": []
   },
   "outputs": [
    {
     "data": {
      "text/html": [
       "\n",
       "<div id=\"altair-viz-f961fddce19b4529b7454105ba214ede\"></div>\n",
       "<script type=\"text/javascript\">\n",
       "  var VEGA_DEBUG = (typeof VEGA_DEBUG == \"undefined\") ? {} : VEGA_DEBUG;\n",
       "  (function(spec, embedOpt){\n",
       "    let outputDiv = document.currentScript.previousElementSibling;\n",
       "    if (outputDiv.id !== \"altair-viz-f961fddce19b4529b7454105ba214ede\") {\n",
       "      outputDiv = document.getElementById(\"altair-viz-f961fddce19b4529b7454105ba214ede\");\n",
       "    }\n",
       "    const paths = {\n",
       "      \"vega\": \"https://cdn.jsdelivr.net/npm//vega@5?noext\",\n",
       "      \"vega-lib\": \"https://cdn.jsdelivr.net/npm//vega-lib?noext\",\n",
       "      \"vega-lite\": \"https://cdn.jsdelivr.net/npm//vega-lite@4.17.0?noext\",\n",
       "      \"vega-embed\": \"https://cdn.jsdelivr.net/npm//vega-embed@6?noext\",\n",
       "    };\n",
       "\n",
       "    function maybeLoadScript(lib, version) {\n",
       "      var key = `${lib.replace(\"-\", \"\")}_version`;\n",
       "      return (VEGA_DEBUG[key] == version) ?\n",
       "        Promise.resolve(paths[lib]) :\n",
       "        new Promise(function(resolve, reject) {\n",
       "          var s = document.createElement('script');\n",
       "          document.getElementsByTagName(\"head\")[0].appendChild(s);\n",
       "          s.async = true;\n",
       "          s.onload = () => {\n",
       "            VEGA_DEBUG[key] = version;\n",
       "            return resolve(paths[lib]);\n",
       "          };\n",
       "          s.onerror = () => reject(`Error loading script: ${paths[lib]}`);\n",
       "          s.src = paths[lib];\n",
       "        });\n",
       "    }\n",
       "\n",
       "    function showError(err) {\n",
       "      outputDiv.innerHTML = `<div class=\"error\" style=\"color:red;\">${err}</div>`;\n",
       "      throw err;\n",
       "    }\n",
       "\n",
       "    function displayChart(vegaEmbed) {\n",
       "      vegaEmbed(outputDiv, spec, embedOpt)\n",
       "        .catch(err => showError(`Javascript Error: ${err.message}<br>This usually means there's a typo in your chart specification. See the javascript console for the full traceback.`));\n",
       "    }\n",
       "\n",
       "    if(typeof define === \"function\" && define.amd) {\n",
       "      requirejs.config({paths});\n",
       "      require([\"vega-embed\"], displayChart, err => showError(`Error loading script: ${err.message}`));\n",
       "    } else {\n",
       "      maybeLoadScript(\"vega\", \"5\")\n",
       "        .then(() => maybeLoadScript(\"vega-lite\", \"4.17.0\"))\n",
       "        .then(() => maybeLoadScript(\"vega-embed\", \"6\"))\n",
       "        .catch(showError)\n",
       "        .then(() => displayChart(vegaEmbed));\n",
       "    }\n",
       "  })({\"config\": {\"view\": {\"continuousWidth\": 400, \"continuousHeight\": 300}}, \"hconcat\": [{\"data\": {\"name\": \"data-2926187601fa0ef503a39189cec3ce8e\"}, \"mark\": \"line\", \"encoding\": {\"color\": {\"value\": \"#2C7AAF\"}, \"x\": {\"field\": \"HOUROFDAY\", \"type\": \"quantitative\"}, \"y\": {\"field\": \"PREDICTED PROB DOWN\", \"title\": \"Probability of being down (%)\", \"type\": \"quantitative\"}}, \"title\": {\"text\": [\"Predicted Probability that Ride will be Down by Hour\"], \"subtitle\": [\"Big Thunder Mountain Railroad\"]}}, {\"data\": {\"name\": \"data-fad9f76607b16d6f53f1949cf6aaaab0\"}, \"mark\": \"line\", \"encoding\": {\"color\": {\"value\": \"#2C7AAF\"}, \"x\": {\"field\": \"HOUROFDAY\", \"type\": \"quantitative\"}, \"y\": {\"field\": \"PREDICTED_WAIT\", \"title\": \"Predicted Wait Time (MINS)\", \"type\": \"quantitative\"}}, \"title\": {\"text\": [\"Avg Predicted Wait Time by Hour\"], \"subtitle\": [\"Big Thunder Mountain Railroad\", \"(If the ride is not predicted to be down)\"]}}], \"$schema\": \"https://vega.github.io/schema/vega-lite/v4.17.0.json\", \"datasets\": {\"data-2926187601fa0ef503a39189cec3ce8e\": [{\"HOUROFDAY\": 0, \"PREDICTED PROB DOWN\": 14.977477477477477}, {\"HOUROFDAY\": 1, \"PREDICTED PROB DOWN\": 16.954022988505745}, {\"HOUROFDAY\": 2, \"PREDICTED PROB DOWN\": 8.064516129032258}, {\"HOUROFDAY\": 3, \"PREDICTED PROB DOWN\": 25.0}, {\"HOUROFDAY\": 4, \"PREDICTED PROB DOWN\": null}, {\"HOUROFDAY\": 5, \"PREDICTED PROB DOWN\": 33.33333333333333}, {\"HOUROFDAY\": 6, \"PREDICTED PROB DOWN\": 26.436781609195403}, {\"HOUROFDAY\": 7, \"PREDICTED PROB DOWN\": 17.774851876234365}, {\"HOUROFDAY\": 8, \"PREDICTED PROB DOWN\": 15.17931609674729}, {\"HOUROFDAY\": 9, \"PREDICTED PROB DOWN\": 13.746737325001979}, {\"HOUROFDAY\": 10, \"PREDICTED PROB DOWN\": 12.838767090041259}, {\"HOUROFDAY\": 11, \"PREDICTED PROB DOWN\": 13.72286025651773}, {\"HOUROFDAY\": 12, \"PREDICTED PROB DOWN\": 13.253012048192772}, {\"HOUROFDAY\": 13, \"PREDICTED PROB DOWN\": 13.977752867120808}, {\"HOUROFDAY\": 14, \"PREDICTED PROB DOWN\": 13.701839639014231}, {\"HOUROFDAY\": 15, \"PREDICTED PROB DOWN\": 13.580888081017918}, {\"HOUROFDAY\": 16, \"PREDICTED PROB DOWN\": 13.166608574416172}, {\"HOUROFDAY\": 17, \"PREDICTED PROB DOWN\": 13.361731722159437}, {\"HOUROFDAY\": 18, \"PREDICTED PROB DOWN\": 13.012631943242775}, {\"HOUROFDAY\": 19, \"PREDICTED PROB DOWN\": 13.458692434926439}, {\"HOUROFDAY\": 20, \"PREDICTED PROB DOWN\": 13.013946748777395}, {\"HOUROFDAY\": 21, \"PREDICTED PROB DOWN\": 12.930862721657702}, {\"HOUROFDAY\": 22, \"PREDICTED PROB DOWN\": 12.923934108527133}, {\"HOUROFDAY\": 23, \"PREDICTED PROB DOWN\": 12.168344007319305}], \"data-fad9f76607b16d6f53f1949cf6aaaab0\": [{\"HOUROFDAY\": 0, \"PREDICTED_WAIT\": 36.0448087391428}, {\"HOUROFDAY\": 1, \"PREDICTED_WAIT\": 32.064876712901075}, {\"HOUROFDAY\": 2, \"PREDICTED_WAIT\": 35.44744411772936}, {\"HOUROFDAY\": 3, \"PREDICTED_WAIT\": 28.55482804232804}, {\"HOUROFDAY\": 4, \"PREDICTED_WAIT\": 42.286803444782166}, {\"HOUROFDAY\": 5, \"PREDICTED_WAIT\": 28.321497252747253}, {\"HOUROFDAY\": 6, \"PREDICTED_WAIT\": 37.27286847174422}, {\"HOUROFDAY\": 7, \"PREDICTED_WAIT\": 34.78100518459002}, {\"HOUROFDAY\": 8, \"PREDICTED_WAIT\": 33.81432617968381}, {\"HOUROFDAY\": 9, \"PREDICTED_WAIT\": 33.43282616320325}, {\"HOUROFDAY\": 10, \"PREDICTED_WAIT\": 33.666071951750936}, {\"HOUROFDAY\": 11, \"PREDICTED_WAIT\": 33.48351958539227}, {\"HOUROFDAY\": 12, \"PREDICTED_WAIT\": 33.930817424113535}, {\"HOUROFDAY\": 13, \"PREDICTED_WAIT\": 33.66521389390739}, {\"HOUROFDAY\": 14, \"PREDICTED_WAIT\": 34.038415241621216}, {\"HOUROFDAY\": 15, \"PREDICTED_WAIT\": 33.09117113822309}, {\"HOUROFDAY\": 16, \"PREDICTED_WAIT\": 33.669605865192054}, {\"HOUROFDAY\": 17, \"PREDICTED_WAIT\": 33.83787622091672}, {\"HOUROFDAY\": 18, \"PREDICTED_WAIT\": 33.405448051078466}, {\"HOUROFDAY\": 19, \"PREDICTED_WAIT\": 33.294377560976365}, {\"HOUROFDAY\": 20, \"PREDICTED_WAIT\": 33.803184757535355}, {\"HOUROFDAY\": 21, \"PREDICTED_WAIT\": 33.14925887721232}, {\"HOUROFDAY\": 22, \"PREDICTED_WAIT\": 33.16080401643636}, {\"HOUROFDAY\": 23, \"PREDICTED_WAIT\": 33.352275855137236}]}}, {\"mode\": \"vega-lite\"});\n",
       "</script>"
      ],
      "text/plain": [
       "alt.HConcatChart(...)"
      ]
     },
     "execution_count": 226,
     "metadata": {},
     "output_type": "execute_result"
    }
   ],
   "source": [
    "mean_time_btm = pd.DataFrame(all_test[(all_test[\"Ride_name_big thunder mountain railroad\"]==1) & \n",
    "                        (all_test[\"PREDICTED_WAIT\"]>=0)].groupby(\"HOUROFDAY\")[\"PREDICTED_WAIT\"].mean()).reset_index()\n",
    "\n",
    "\n",
    "mean_time_btm_chart = alt.Chart(mean_time_btm).mark_line().encode(\n",
    "    x=\"HOUROFDAY:Q\",\n",
    "    y=alt.Y(\"PREDICTED_WAIT:Q\", title=\"Predicted Wait Time (MINS)\"),\n",
    "    color = alt.value(\"#2C7AAF\")\n",
    ").properties(\n",
    "    title={\n",
    "      \"text\": [\"Avg Predicted Wait Time by Hour\"],\n",
    "      \"subtitle\": [\"Big Thunder Mountain Railroad\", \"(If the ride is not predicted to be down)\"]\n",
    "          }\n",
    ")  \n",
    "\n",
    "predicted_down = all_test[(all_test[\"Ride_name_big thunder mountain railroad\"]==1) & \n",
    "                        (all_test[\"PREDICTED_WAIT\"]<0)].groupby(\"HOUROFDAY\")[\"PREDICTED_WAIT\"].count()/\\\n",
    "                        all_test[(all_test[\"Ride_name_big thunder mountain railroad\"]==1)].groupby(\"HOUROFDAY\")[\"PREDICTED_WAIT\"].count()\n",
    "\n",
    "predicted_down_pct = pd.DataFrame(predicted_down)\n",
    "predicted_down_pct[\"PREDICTED_WAIT\"] = predicted_down_pct[\"PREDICTED_WAIT\"]*100\n",
    "predicted_down_pct = predicted_down_pct.rename(columns={\"PREDICTED_WAIT\":\"PREDICTED PROB DOWN\"}).reset_index()\n",
    "\n",
    "predictedDown_BTM = alt.Chart(predicted_down_pct).mark_line().encode(\n",
    "    x='HOUROFDAY',\n",
    "    y=alt.Y('PREDICTED PROB DOWN', title = \"Probability of being down (%)\"),\n",
    "    color = alt.value(\"#2C7AAF\")\n",
    ").properties(\n",
    "    title={\n",
    "      \"text\": [\"Predicted Probability that Ride will be Down by Hour\"],\n",
    "      \"subtitle\": [\"Big Thunder Mountain Railroad\"]\n",
    "    }\n",
    ")\n",
    "\n",
    "predictedDown_BTM | mean_time_btm_chart"
   ]
  },
  {
   "cell_type": "code",
   "execution_count": 231,
   "id": "e8c27dd1-df17-412d-9a08-7e27655892f1",
   "metadata": {
    "jupyter": {
     "source_hidden": true
    },
    "tags": []
   },
   "outputs": [
    {
     "data": {
      "text/html": [
       "\n",
       "<div id=\"altair-viz-55d30bf13bfb487797f7f8b98e8a9d2d\"></div>\n",
       "<script type=\"text/javascript\">\n",
       "  var VEGA_DEBUG = (typeof VEGA_DEBUG == \"undefined\") ? {} : VEGA_DEBUG;\n",
       "  (function(spec, embedOpt){\n",
       "    let outputDiv = document.currentScript.previousElementSibling;\n",
       "    if (outputDiv.id !== \"altair-viz-55d30bf13bfb487797f7f8b98e8a9d2d\") {\n",
       "      outputDiv = document.getElementById(\"altair-viz-55d30bf13bfb487797f7f8b98e8a9d2d\");\n",
       "    }\n",
       "    const paths = {\n",
       "      \"vega\": \"https://cdn.jsdelivr.net/npm//vega@5?noext\",\n",
       "      \"vega-lib\": \"https://cdn.jsdelivr.net/npm//vega-lib?noext\",\n",
       "      \"vega-lite\": \"https://cdn.jsdelivr.net/npm//vega-lite@4.17.0?noext\",\n",
       "      \"vega-embed\": \"https://cdn.jsdelivr.net/npm//vega-embed@6?noext\",\n",
       "    };\n",
       "\n",
       "    function maybeLoadScript(lib, version) {\n",
       "      var key = `${lib.replace(\"-\", \"\")}_version`;\n",
       "      return (VEGA_DEBUG[key] == version) ?\n",
       "        Promise.resolve(paths[lib]) :\n",
       "        new Promise(function(resolve, reject) {\n",
       "          var s = document.createElement('script');\n",
       "          document.getElementsByTagName(\"head\")[0].appendChild(s);\n",
       "          s.async = true;\n",
       "          s.onload = () => {\n",
       "            VEGA_DEBUG[key] = version;\n",
       "            return resolve(paths[lib]);\n",
       "          };\n",
       "          s.onerror = () => reject(`Error loading script: ${paths[lib]}`);\n",
       "          s.src = paths[lib];\n",
       "        });\n",
       "    }\n",
       "\n",
       "    function showError(err) {\n",
       "      outputDiv.innerHTML = `<div class=\"error\" style=\"color:red;\">${err}</div>`;\n",
       "      throw err;\n",
       "    }\n",
       "\n",
       "    function displayChart(vegaEmbed) {\n",
       "      vegaEmbed(outputDiv, spec, embedOpt)\n",
       "        .catch(err => showError(`Javascript Error: ${err.message}<br>This usually means there's a typo in your chart specification. See the javascript console for the full traceback.`));\n",
       "    }\n",
       "\n",
       "    if(typeof define === \"function\" && define.amd) {\n",
       "      requirejs.config({paths});\n",
       "      require([\"vega-embed\"], displayChart, err => showError(`Error loading script: ${err.message}`));\n",
       "    } else {\n",
       "      maybeLoadScript(\"vega\", \"5\")\n",
       "        .then(() => maybeLoadScript(\"vega-lite\", \"4.17.0\"))\n",
       "        .then(() => maybeLoadScript(\"vega-embed\", \"6\"))\n",
       "        .catch(showError)\n",
       "        .then(() => displayChart(vegaEmbed));\n",
       "    }\n",
       "  })({\"config\": {\"view\": {\"continuousWidth\": 400, \"continuousHeight\": 300}, \"axis\": {\"labelAngle\": 30}}, \"data\": {\"name\": \"data-c30bffb47dcc7c424782fe2ea7ebff13\"}, \"mark\": \"bar\", \"encoding\": {\"color\": {\"condition\": {\"value\": \"#EAC2B1\", \"test\": \"(datum.Correlation > 0)\"}, \"value\": \"#2C7AAF\"}, \"x\": {\"field\": \"Variable2\", \"sort\": \"y\", \"type\": \"nominal\"}, \"y\": {\"field\": \"Correlation\", \"type\": \"quantitative\"}}, \"title\": {\"text\": [\"Top Correlations Between Predicted Wait Time & Features\"], \"subtitle\": [\"Big Thunder Mountain Railroad\"]}, \"$schema\": \"https://vega.github.io/schema/vega-lite/v4.17.0.json\", \"datasets\": {\"data-c30bffb47dcc7c424782fe2ea7ebff13\": [{\"Variable1\": \"PREDICTED_WAIT\", \"Variable2\": \"CapacityLostWGT_MK\", \"Correlation\": -0.1433076328581728}, {\"Variable1\": \"PREDICTED_WAIT\", \"Variable2\": \"YEAR\", \"Correlation\": -0.14223220428561795}, {\"Variable1\": \"PREDICTED_WAIT\", \"Variable2\": \"CapacityLost_MK\", \"Correlation\": -0.14211689536242653}, {\"Variable1\": \"PREDICTED_WAIT\", \"Variable2\": \"Age_of_ride_years\", \"Correlation\": -0.14032118180160774}, {\"Variable1\": \"PREDICTED_WAIT\", \"Variable2\": \"Age_of_ride_days\", \"Correlation\": -0.1403211818016077}, {\"Variable1\": \"PREDICTED_WAIT\", \"Variable2\": \"CapacityLost_EP\", \"Correlation\": -0.13894830102974928}, {\"Variable1\": \"PREDICTED_WAIT\", \"Variable2\": \"CapacityLost_AK\", \"Correlation\": -0.13688227081675816}, {\"Variable1\": \"PREDICTED_WAIT\", \"Variable2\": \"CapacityLostWGT_AK\", \"Correlation\": -0.13633968355237872}, {\"Variable1\": \"PREDICTED_WAIT\", \"Variable2\": \"CapacityLostWGT_EP\", \"Correlation\": -0.13592603238323706}, {\"Variable1\": \"PREDICTED_WAIT\", \"Variable2\": \"CapacityLost_HS\", \"Correlation\": -0.12954215453988252}, {\"Variable1\": \"PREDICTED_WAIT\", \"Variable2\": \"CapacityLostWGT_HS\", \"Correlation\": -0.12850865811042583}, {\"Variable1\": \"PREDICTED_WAIT\", \"Variable2\": \"AKSHWNN_rivers of light\", \"Correlation\": -0.12244805153391514}, {\"Variable1\": \"PREDICTED_WAIT\", \"Variable2\": \"MKPRDNN_none\", \"Correlation\": -0.10985922274886448}, {\"Variable1\": \"PREDICTED_WAIT\", \"Variable2\": \"MKFIREN_happily ever after\", \"Correlation\": -0.10528633050479234}, {\"Variable1\": \"PREDICTED_WAIT\", \"Variable2\": \"AKSHWNGT\", \"Correlation\": -0.10095435239373479}, {\"Variable1\": \"PREDICTED_WAIT\", \"Variable2\": \"HSFIREN_star wars: a galactic spectacular\", \"Correlation\": -0.08758190392011724}, {\"Variable1\": \"PREDICTED_WAIT\", \"Variable2\": \"AKHOURS\", \"Correlation\": -0.07094132629444948}, {\"Variable1\": \"PREDICTED_WAIT\", \"Variable2\": \"AKHOURSYEST\", \"Correlation\": -0.07023934717047685}, {\"Variable1\": \"PREDICTED_WAIT\", \"Variable2\": \"AKHOURSEMHYEST\", \"Correlation\": -0.06991178839686625}, {\"Variable1\": \"PREDICTED_WAIT\", \"Variable2\": \"AKHOURSEMH\", \"Correlation\": -0.06925500856308574}, {\"Variable1\": \"PREDICTED_WAIT\", \"Variable2\": \"AKHOURSTOM\", \"Correlation\": -0.06839986411175379}, {\"Variable1\": \"PREDICTED_WAIT\", \"Variable2\": \"AKHOURSEMHTOM\", \"Correlation\": -0.06783716165413987}, {\"Variable1\": \"PREDICTED_WAIT\", \"Variable2\": \"EPFIREN_epcot forever\", \"Correlation\": -0.05158355850956271}, {\"Variable1\": \"PREDICTED_WAIT\", \"Variable2\": \"MKHOURS\", \"Correlation\": 0.052865158674206485}, {\"Variable1\": \"PREDICTED_WAIT\", \"Variable2\": \"EPFIREN_illuminations: reflections of earth\", \"Correlation\": 0.05741306860508653}, {\"Variable1\": \"PREDICTED_WAIT\", \"Variable2\": \"HSFIREN_none\", \"Correlation\": 0.05815429432452257}, {\"Variable1\": \"PREDICTED_WAIT\", \"Variable2\": \"HSFIREN_symphony in the stars: a galactic spectacular\", \"Correlation\": 0.05887903769857442}, {\"Variable1\": \"PREDICTED_WAIT\", \"Variable2\": \"MKPRDNGT\", \"Correlation\": 0.10464161896259437}, {\"Variable1\": \"PREDICTED_WAIT\", \"Variable2\": \"AKSHWNN_none\", \"Correlation\": 0.1103527632380375}, {\"Variable1\": \"PREDICTED_WAIT\", \"Variable2\": \"MKPRDNN_main street electrical parade\", \"Correlation\": 0.12407411630320042}, {\"Variable1\": \"PREDICTED_WAIT\", \"Variable2\": \"MKFIREN_wishes nighttime spectacular\", \"Correlation\": 0.12850556710458325}]}}, {\"mode\": \"vega-lite\"});\n",
       "</script>"
      ],
      "text/plain": [
       "alt.Chart(...)"
      ]
     },
     "execution_count": 231,
     "metadata": {},
     "output_type": "execute_result"
    }
   ],
   "source": [
    "btm = all_test[(all_test[\"Ride_name_big thunder mountain railroad\"]==1)]\n",
    "\n",
    "# Create correlation matrix\n",
    "corr_mat = btm.corr(method='pearson')\n",
    "  \n",
    "# Convert correlation matrix to 1-D Series and sort\n",
    "sorted_mat = corr_mat.unstack().sort_values()\n",
    "\n",
    "btm_corr = pd.DataFrame(sorted_mat).reset_index().rename(columns={\"level_0\":\"Variable1\", \"level_1\":\"Variable2\", 0:\"Correlation\"}) \n",
    "pred_wait_corr = btm_corr[(btm_corr[\"Variable1\"]==\"PREDICTED_WAIT\") & (btm_corr[\"Variable2\"]!=\"PREDICTED_WAIT\") &\n",
    "                         ((btm_corr[\"Correlation\"]>=0.05)|(btm_corr[\"Correlation\"]<=-0.05))]\n",
    "\n",
    "pred_wait_corr = pred_wait_corr.sort_values(by=\"Correlation\")\n",
    "\n",
    "bars = alt.Chart(pred_wait_corr).mark_bar().encode(\n",
    "    x=alt.X('Variable2:N', sort='y'),\n",
    "    y='Correlation:Q',\n",
    "    color=alt.condition(\n",
    "        alt.datum.Correlation > 0,\n",
    "        alt.value(\"#EAC2B1\"),  # The positive color\n",
    "        alt.value(\"#2C7AAF\")  # The negative color\n",
    "    )\n",
    ").properties(\n",
    "    title={\n",
    "    \"text\": [\"Top Correlations Between Predicted Wait Time & Features\"],\n",
    "      \"subtitle\": [\"Big Thunder Mountain Railroad\"]\n",
    "    }\n",
    ").configure_axis(labelAngle=30)\n",
    "\n",
    "bars"
   ]
  },
  {
   "cell_type": "code",
   "execution_count": null,
   "id": "31be9279-e96f-4dc4-946d-573655657c2e",
   "metadata": {},
   "outputs": [],
   "source": []
  }
 ],
 "metadata": {
  "environment": {
   "kernel": "python3",
   "name": "pytorch-gpu.1-11.m94",
   "type": "gcloud",
   "uri": "gcr.io/deeplearning-platform-release/pytorch-gpu.1-11:m94"
  },
  "kernelspec": {
   "display_name": "Python 3",
   "language": "python",
   "name": "python3"
  },
  "language_info": {
   "codemirror_mode": {
    "name": "ipython",
    "version": 3
   },
   "file_extension": ".py",
   "mimetype": "text/x-python",
   "name": "python",
   "nbconvert_exporter": "python",
   "pygments_lexer": "ipython3",
   "version": "3.7.12"
  }
 },
 "nbformat": 4,
 "nbformat_minor": 5
}
